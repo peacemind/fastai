{
  "nbformat": 4,
  "nbformat_minor": 0,
  "metadata": {
    "colab": {
      "name": "fastai-l3-imdb.ipynb",
      "version": "0.3.2",
      "provenance": [],
      "collapsed_sections": []
    },
    "kernelspec": {
      "name": "python3",
      "display_name": "Python 3"
    },
    "accelerator": "GPU"
  },
  "cells": [
    {
      "cell_type": "code",
      "metadata": {
        "id": "p0ZITMz9KgxH",
        "colab_type": "code",
        "outputId": "ea16defd-7613-4867-9694-cac8cbd57fac",
        "colab": {
          "base_uri": "https://localhost:8080/",
          "height": 110
        }
      },
      "source": [
        "!curl https://course.fast.ai/setup/colab | bash"
      ],
      "execution_count": 0,
      "outputs": [
        {
          "output_type": "stream",
          "text": [
            "  % Total    % Received % Xferd  Average Speed   Time    Time     Time  Current\n",
            "                                 Dload  Upload   Total   Spent    Left  Speed\n",
            "\r  0     0    0     0    0     0      0      0 --:--:-- --:--:-- --:--:--     0\r100   321  100   321    0     0   1735      0 --:--:-- --:--:-- --:--:--  1735\n",
            "Updating fastai...\n",
            "Done.\n"
          ],
          "name": "stdout"
        }
      ]
    },
    {
      "cell_type": "code",
      "metadata": {
        "id": "ujzZ8NSbLCfm",
        "colab_type": "code",
        "colab": {}
      },
      "source": [
        "%reload_ext autoreload\n",
        "%autoreload 2\n",
        "%matplotlib inline"
      ],
      "execution_count": 0,
      "outputs": []
    },
    {
      "cell_type": "code",
      "metadata": {
        "id": "YBxlUfiRLLrk",
        "colab_type": "code",
        "colab": {}
      },
      "source": [
        "from fastai.text import *"
      ],
      "execution_count": 0,
      "outputs": []
    },
    {
      "cell_type": "code",
      "metadata": {
        "id": "ORxalIfuLY6O",
        "colab_type": "code",
        "outputId": "c9557a7f-db85-4f39-e0e6-34ffdf084ff5",
        "colab": {
          "base_uri": "https://localhost:8080/",
          "height": 130
        }
      },
      "source": [
        "from google.colab import drive\n",
        "drive.mount('/content/gdrive', force_remount=True)\n",
        "root_dir = \"/content/gdrive/My Drive/\"\n",
        "base_dir = root_dir + 'fastai-v3/'"
      ],
      "execution_count": 0,
      "outputs": [
        {
          "output_type": "stream",
          "text": [
            "Go to this URL in a browser: https://accounts.google.com/o/oauth2/auth?client_id=947318989803-6bn6qk8qdgf4n4g3pfee6491hc0brc4i.apps.googleusercontent.com&redirect_uri=urn%3Aietf%3Awg%3Aoauth%3A2.0%3Aoob&scope=email%20https%3A%2F%2Fwww.googleapis.com%2Fauth%2Fdocs.test%20https%3A%2F%2Fwww.googleapis.com%2Fauth%2Fdrive%20https%3A%2F%2Fwww.googleapis.com%2Fauth%2Fdrive.photos.readonly%20https%3A%2F%2Fwww.googleapis.com%2Fauth%2Fpeopleapi.readonly&response_type=code\n",
            "\n",
            "Enter your authorization code:\n",
            "··········\n",
            "Mounted at /content/gdrive\n"
          ],
          "name": "stdout"
        }
      ]
    },
    {
      "cell_type": "code",
      "metadata": {
        "id": "Xl9rMj3UL5ei",
        "colab_type": "code",
        "colab": {}
      },
      "source": [
        "path = Path(base_dir + 'l3-imdb')\n",
        "dest = path\n",
        "dest.mkdir(parents=True, exist_ok=True)"
      ],
      "execution_count": 0,
      "outputs": []
    },
    {
      "cell_type": "code",
      "metadata": {
        "id": "ttZop4k5MRyr",
        "colab_type": "code",
        "outputId": "1c3c9a33-6965-43df-b27e-a2722dcc818d",
        "colab": {
          "base_uri": "https://localhost:8080/",
          "height": 74
        }
      },
      "source": [
        "path = untar_data(URLs.IMDB_SAMPLE, dest=dest)\n",
        "path.ls()"
      ],
      "execution_count": 0,
      "outputs": [
        {
          "output_type": "execute_result",
          "data": {
            "text/plain": [
              "[PosixPath('/content/gdrive/My Drive/fastai-v3/l3-imdb/imdb_sample/texts.csv'),\n",
              " PosixPath('/content/gdrive/My Drive/fastai-v3/l3-imdb/imdb_sample/data_save.pkl')]"
            ]
          },
          "metadata": {
            "tags": []
          },
          "execution_count": 6
        }
      ]
    },
    {
      "cell_type": "code",
      "metadata": {
        "id": "g88im4nHDCjw",
        "colab_type": "code",
        "outputId": "41acb472-6b27-456e-9336-7bb4e3bec9b8",
        "colab": {
          "base_uri": "https://localhost:8080/",
          "height": 206
        }
      },
      "source": [
        "df = pd.read_csv(path/'texts.csv')\n",
        "df.head()"
      ],
      "execution_count": 0,
      "outputs": [
        {
          "output_type": "execute_result",
          "data": {
            "text/html": [
              "<div>\n",
              "<style scoped>\n",
              "    .dataframe tbody tr th:only-of-type {\n",
              "        vertical-align: middle;\n",
              "    }\n",
              "\n",
              "    .dataframe tbody tr th {\n",
              "        vertical-align: top;\n",
              "    }\n",
              "\n",
              "    .dataframe thead th {\n",
              "        text-align: right;\n",
              "    }\n",
              "</style>\n",
              "<table border=\"1\" class=\"dataframe\">\n",
              "  <thead>\n",
              "    <tr style=\"text-align: right;\">\n",
              "      <th></th>\n",
              "      <th>label</th>\n",
              "      <th>text</th>\n",
              "      <th>is_valid</th>\n",
              "    </tr>\n",
              "  </thead>\n",
              "  <tbody>\n",
              "    <tr>\n",
              "      <th>0</th>\n",
              "      <td>negative</td>\n",
              "      <td>Un-bleeping-believable! Meg Ryan doesn't even ...</td>\n",
              "      <td>False</td>\n",
              "    </tr>\n",
              "    <tr>\n",
              "      <th>1</th>\n",
              "      <td>positive</td>\n",
              "      <td>This is a extremely well-made film. The acting...</td>\n",
              "      <td>False</td>\n",
              "    </tr>\n",
              "    <tr>\n",
              "      <th>2</th>\n",
              "      <td>negative</td>\n",
              "      <td>Every once in a long while a movie will come a...</td>\n",
              "      <td>False</td>\n",
              "    </tr>\n",
              "    <tr>\n",
              "      <th>3</th>\n",
              "      <td>positive</td>\n",
              "      <td>Name just says it all. I watched this movie wi...</td>\n",
              "      <td>False</td>\n",
              "    </tr>\n",
              "    <tr>\n",
              "      <th>4</th>\n",
              "      <td>negative</td>\n",
              "      <td>This movie succeeds at being one of the most u...</td>\n",
              "      <td>False</td>\n",
              "    </tr>\n",
              "  </tbody>\n",
              "</table>\n",
              "</div>"
            ],
            "text/plain": [
              "      label                                               text  is_valid\n",
              "0  negative  Un-bleeping-believable! Meg Ryan doesn't even ...     False\n",
              "1  positive  This is a extremely well-made film. The acting...     False\n",
              "2  negative  Every once in a long while a movie will come a...     False\n",
              "3  positive  Name just says it all. I watched this movie wi...     False\n",
              "4  negative  This movie succeeds at being one of the most u...     False"
            ]
          },
          "metadata": {
            "tags": []
          },
          "execution_count": 7
        }
      ]
    },
    {
      "cell_type": "code",
      "metadata": {
        "id": "qowEKB50DOUc",
        "colab_type": "code",
        "outputId": "6c2b1a99-115d-4ccf-d873-a7b802ab7cd7",
        "colab": {
          "base_uri": "https://localhost:8080/",
          "height": 56
        }
      },
      "source": [
        "df['text'][1]"
      ],
      "execution_count": 0,
      "outputs": [
        {
          "output_type": "execute_result",
          "data": {
            "text/plain": [
              "'This is a extremely well-made film. The acting, script and camera-work are all first-rate. The music is good, too, though it is mostly early in the film, when things are still relatively cheery. There are no really superstars in the cast, though several faces will be familiar. The entire cast does an excellent job with the script.<br /><br />But it is hard to watch, because there is no good end to a situation like the one presented. It is now fashionable to blame the British for setting Hindus and Muslims against each other, and then cruelly separating them into two countries. There is some merit in this view, but it\\'s also true that no one forced Hindus and Muslims in the region to mistreat each other as they did around the time of partition. It seems more likely that the British simply saw the tensions between the religions and were clever enough to exploit them to their own ends.<br /><br />The result is that there is much cruelty and inhumanity in the situation and this is very unpleasant to remember and to see on the screen. But it is never painted as a black-and-white case. There is baseness and nobility on both sides, and also the hope for change in the younger generation.<br /><br />There is redemption of a sort, in the end, when Puro has to make a hard choice between a man who has ruined her life, but also truly loved her, and her family which has disowned her, then later come looking for her. But by that point, she has no option that is without great pain for her.<br /><br />This film carries the message that both Muslims and Hindus have their grave faults, and also that both can be dignified and caring people. The reality of partition makes that realisation all the more wrenching, since there can never be real reconciliation across the India/Pakistan border. In that sense, it is similar to \"Mr & Mrs Iyer\".<br /><br />In the end, we were glad to have seen the film, even though the resolution was heartbreaking. If the UK and US could deal with their own histories of racism with this kind of frankness, they would certainly be better off.'"
            ]
          },
          "metadata": {
            "tags": []
          },
          "execution_count": 8
        }
      ]
    },
    {
      "cell_type": "code",
      "metadata": {
        "id": "I_gCJo_MDg00",
        "colab_type": "code",
        "colab": {}
      },
      "source": [
        "data_lm = TextDataBunch.from_csv(path, 'texts.csv')"
      ],
      "execution_count": 0,
      "outputs": []
    },
    {
      "cell_type": "code",
      "metadata": {
        "id": "S-ARQ5f9D1Jq",
        "colab_type": "code",
        "colab": {}
      },
      "source": [
        "data_lm.save()"
      ],
      "execution_count": 0,
      "outputs": []
    },
    {
      "cell_type": "code",
      "metadata": {
        "id": "wo2NbENnD8Z2",
        "colab_type": "code",
        "colab": {}
      },
      "source": [
        "data = load_data(path)"
      ],
      "execution_count": 0,
      "outputs": []
    },
    {
      "cell_type": "code",
      "metadata": {
        "id": "6hNXjHdJELLC",
        "colab_type": "code",
        "outputId": "e26bc550-cf02-4980-ef08-d0b6467ee964",
        "colab": {
          "base_uri": "https://localhost:8080/",
          "height": 518
        }
      },
      "source": [
        "data = TextClasDataBunch.from_csv(path, 'texts.csv')\n",
        "data.show_batch()"
      ],
      "execution_count": 0,
      "outputs": [
        {
          "output_type": "display_data",
          "data": {
            "text/html": [
              "<table border=\"1\" class=\"dataframe\">\n",
              "  <thead>\n",
              "    <tr style=\"text-align: right;\">\n",
              "      <th>text</th>\n",
              "      <th>target</th>\n",
              "    </tr>\n",
              "  </thead>\n",
              "  <tbody>\n",
              "    <tr>\n",
              "      <td>xxbos xxmaj now that xxmaj che(2008 ) has finished its relatively short xxmaj australian cinema run ( extremely limited xxunk screen in xxmaj sydney , after xxunk ) , i can xxunk join both xxunk of \" xxmaj at xxmaj the xxmaj movies \" in taking xxmaj steven xxmaj soderbergh to task . \\n \\n  xxmaj it 's usually satisfying to watch a film director change his style /</td>\n",
              "      <td>negative</td>\n",
              "    </tr>\n",
              "    <tr>\n",
              "      <td>xxbos xxmaj this film sat on my xxmaj tivo for weeks before i watched it . i xxunk a self - indulgent xxunk flick about relationships gone bad . i was wrong ; this was an xxunk xxunk into the screwed - up xxunk of xxmaj new xxmaj yorkers . \\n \\n  xxmaj the format is the same as xxmaj max xxmaj xxunk ' \" xxmaj la xxmaj ronde</td>\n",
              "      <td>positive</td>\n",
              "    </tr>\n",
              "    <tr>\n",
              "      <td>xxbos i really wanted to love this show . i truly , honestly did . \\n \\n  xxmaj for the first time , gay viewers get their own version of the \" xxmaj the xxmaj bachelor \" . xxmaj with the help of his obligatory \" hag \" xxmaj xxunk , xxmaj james , a good looking , well - to - do thirty - something has the chance</td>\n",
              "      <td>negative</td>\n",
              "    </tr>\n",
              "    <tr>\n",
              "      <td>xxbos \\n \\n  i 'm sure things did n't exactly go the same way in the real life of xxmaj homer xxmaj hickam as they did in the film adaptation of his book , xxmaj rocket xxmaj boys , but the movie \" xxmaj october xxmaj sky \" ( an xxunk of the book 's title ) is good enough to stand alone . i have not read xxmaj</td>\n",
              "      <td>positive</td>\n",
              "    </tr>\n",
              "    <tr>\n",
              "      <td>xxbos xxmaj to review this movie , i without any doubt would have to quote that memorable scene in xxmaj tarantino 's \" xxmaj pulp xxmaj fiction \" ( xxunk ) when xxmaj jules and xxmaj vincent are talking about xxmaj mia xxmaj wallace and what she does for a living . xxmaj jules tells xxmaj vincent that the \" xxmaj only thing she did worthwhile was pilot \" .</td>\n",
              "      <td>negative</td>\n",
              "    </tr>\n",
              "  </tbody>\n",
              "</table>"
            ],
            "text/plain": [
              "<IPython.core.display.HTML object>"
            ]
          },
          "metadata": {
            "tags": []
          }
        }
      ]
    },
    {
      "cell_type": "code",
      "metadata": {
        "id": "O2NARlCTGkq6",
        "colab_type": "code",
        "outputId": "5f8ae51d-2dfd-4295-c88a-cb1421cb103e",
        "colab": {
          "base_uri": "https://localhost:8080/",
          "height": 202
        }
      },
      "source": [
        "data.vocab.itos[:10]"
      ],
      "execution_count": 0,
      "outputs": [
        {
          "output_type": "execute_result",
          "data": {
            "text/plain": [
              "['xxunk',\n",
              " 'xxpad',\n",
              " 'xxbos',\n",
              " 'xxeos',\n",
              " 'xxfld',\n",
              " 'xxmaj',\n",
              " 'xxup',\n",
              " 'xxrep',\n",
              " 'xxwrep',\n",
              " 'the']"
            ]
          },
          "metadata": {
            "tags": []
          },
          "execution_count": 14
        }
      ]
    },
    {
      "cell_type": "code",
      "metadata": {
        "id": "-stprGX5Hn9A",
        "colab_type": "code",
        "outputId": "fd94b14a-d084-41b0-f689-62af3a366bdc",
        "colab": {
          "base_uri": "https://localhost:8080/",
          "height": 93
        }
      },
      "source": [
        "data.train_ds[0][0]"
      ],
      "execution_count": 0,
      "outputs": [
        {
          "output_type": "execute_result",
          "data": {
            "text/plain": [
              "Text xxbos xxunk is normally exploitive , and it 's never really bothered me before -- i loved \" xxunk 2 \" , but i really do n't like pseudo xxunk or playing on xxunk . the whole movie is based on a man with esp caused by an electrical accident and a witch . i 'm not opposed to witches , and i liked \" carrie \" ( the novel and the movie ) but this one bothered me . i think it 's because of the main character developing esp from an electric line . also the university professor wasting his time studying esp cases . i was n't alive in the 60s to know first hand whether or not esp was a common xxunk then , but i assume that any theory of such nature would simply be xxunk . what really bothered me was the way the police were describing xxunk as ruthless , unpredictable villains who can seem like normal people 99 % of the time and then just snap . nothing could be further from the truth . i detest such concepts because they add to public idiocy . many people still think that xxunk is xxunk identity disorder . whoever wrote this script did n't know much about xxunk . \n",
              " \n",
              "  there were some decent concepts to the movie . i liked the way the witch used men ; it was a nice change . i liked how she could make herself attractive , but did n't when she was around her forced lovers . i found it interesting how her second lover also burned his face . had the script been touched up for a few weeks before production and not focused solely on making its audience dumber , this may have been a decent movie ."
            ]
          },
          "metadata": {
            "tags": []
          },
          "execution_count": 15
        }
      ]
    },
    {
      "cell_type": "code",
      "metadata": {
        "id": "aCmz43P6IG-f",
        "colab_type": "code",
        "outputId": "78828f25-c714-4748-d4a4-f04bb03d09bd",
        "colab": {
          "base_uri": "https://localhost:8080/",
          "height": 36
        }
      },
      "source": [
        "data.train_ds[0][0].data[:10]"
      ],
      "execution_count": 0,
      "outputs": [
        {
          "output_type": "execute_result",
          "data": {
            "text/plain": [
              "array([   2,    0,   16, 2201, 6092,   10,   12,   17,   23,  123])"
            ]
          },
          "metadata": {
            "tags": []
          },
          "execution_count": 16
        }
      ]
    },
    {
      "cell_type": "code",
      "metadata": {
        "id": "uI4BMCAIJN1i",
        "colab_type": "code",
        "colab": {}
      },
      "source": [
        "data = (TextList.from_csv(path, 'texts.csv', cols='text')\n",
        "        .split_from_df(col=2)\n",
        "        .label_from_df(cols=0)\n",
        "        .databunch()\n",
        "       )"
      ],
      "execution_count": 0,
      "outputs": []
    },
    {
      "cell_type": "code",
      "metadata": {
        "id": "IubM8RrpJrrz",
        "colab_type": "code",
        "colab": {}
      },
      "source": [
        "bs=48"
      ],
      "execution_count": 0,
      "outputs": []
    },
    {
      "cell_type": "code",
      "metadata": {
        "id": "9LxLcfCAJteQ",
        "colab_type": "code",
        "outputId": "36c6c60d-2b79-4302-eab1-c3f15d6b9e7b",
        "colab": {
          "base_uri": "https://localhost:8080/",
          "height": 202
        }
      },
      "source": [
        "path = untar_data(URLs.IMDB, dest=dest)\n",
        "path.ls()"
      ],
      "execution_count": 0,
      "outputs": [
        {
          "output_type": "execute_result",
          "data": {
            "text/plain": [
              "[PosixPath('/content/gdrive/My Drive/fastai-v3/l3-imdb/imdb/imdb.vocab'),\n",
              " PosixPath('/content/gdrive/My Drive/fastai-v3/l3-imdb/imdb/README'),\n",
              " PosixPath('/content/gdrive/My Drive/fastai-v3/l3-imdb/imdb/train'),\n",
              " PosixPath('/content/gdrive/My Drive/fastai-v3/l3-imdb/imdb/tmp_lm'),\n",
              " PosixPath('/content/gdrive/My Drive/fastai-v3/l3-imdb/imdb/test'),\n",
              " PosixPath('/content/gdrive/My Drive/fastai-v3/l3-imdb/imdb/tmp_clas'),\n",
              " PosixPath('/content/gdrive/My Drive/fastai-v3/l3-imdb/imdb/unsup'),\n",
              " PosixPath('/content/gdrive/My Drive/fastai-v3/l3-imdb/imdb/data_lm.pkl'),\n",
              " PosixPath('/content/gdrive/My Drive/fastai-v3/l3-imdb/imdb/models'),\n",
              " PosixPath('/content/gdrive/My Drive/fastai-v3/l3-imdb/imdb/data_clas.pkl')]"
            ]
          },
          "metadata": {
            "tags": []
          },
          "execution_count": 19
        }
      ]
    },
    {
      "cell_type": "code",
      "metadata": {
        "id": "uuCB1UmKRpyE",
        "colab_type": "code",
        "outputId": "988042cd-b622-4e07-ef40-e0fab7db89e9",
        "colab": {
          "base_uri": "https://localhost:8080/",
          "height": 111
        }
      },
      "source": [
        "(path/'train').ls()"
      ],
      "execution_count": 0,
      "outputs": [
        {
          "output_type": "execute_result",
          "data": {
            "text/plain": [
              "[PosixPath('/content/gdrive/My Drive/fastai-v3/l3-imdb/imdb/train/labeledBow.feat'),\n",
              " PosixPath('/content/gdrive/My Drive/fastai-v3/l3-imdb/imdb/train/unsupBow.feat'),\n",
              " PosixPath('/content/gdrive/My Drive/fastai-v3/l3-imdb/imdb/train/neg'),\n",
              " PosixPath('/content/gdrive/My Drive/fastai-v3/l3-imdb/imdb/train/pos')]"
            ]
          },
          "metadata": {
            "tags": []
          },
          "execution_count": 20
        }
      ]
    },
    {
      "cell_type": "code",
      "metadata": {
        "id": "9AhOn7qPSsyl",
        "colab_type": "code",
        "colab": {}
      },
      "source": [
        "data_lm = (TextList.from_folder(path)\n",
        "           .filter_by_folder(include=['train','test','unsup'])\n",
        "           .split_by_rand_pct(0.1)\n",
        "           .label_for_lm()\n",
        "           .databunch(bs=bs)\n",
        "          )\n",
        "data_lm.save('data_lm.pkl')"
      ],
      "execution_count": 0,
      "outputs": []
    },
    {
      "cell_type": "code",
      "metadata": {
        "id": "mWbC4QeNaop7",
        "colab_type": "code",
        "colab": {}
      },
      "source": [
        "data_lm = load_data(path, 'data_lm.pkl', bs=bs)"
      ],
      "execution_count": 0,
      "outputs": []
    },
    {
      "cell_type": "code",
      "metadata": {
        "id": "KzEMeFcQa3ll",
        "colab_type": "code",
        "outputId": "98cd8d40-09b8-43fd-b84d-883d5f9824ae",
        "colab": {
          "base_uri": "https://localhost:8080/",
          "height": 501
        }
      },
      "source": [
        "data_lm.show_batch()"
      ],
      "execution_count": 0,
      "outputs": [
        {
          "output_type": "display_data",
          "data": {
            "text/html": [
              "<table border=\"1\" class=\"dataframe\">\n",
              "  <thead>\n",
              "    <tr style=\"text-align: right;\">\n",
              "      <th>idx</th>\n",
              "      <th>text</th>\n",
              "    </tr>\n",
              "  </thead>\n",
              "  <tbody>\n",
              "    <tr>\n",
              "      <td>0</td>\n",
              "      <td>action packed , though absurd in the premise , and then it deteriorated into a slow , painful , sophomoric dissolution of the series . xxmaj unbelievable how slow and drawn out that last hour was . xxmaj were we to think more deeply ? xxmaj if i wanted a lesson in a - materialism , i would reread xxmaj daniel xxmaj quinn 's xxmaj ishmael . xxmaj absurd to</td>\n",
              "    </tr>\n",
              "    <tr>\n",
              "      <td>1</td>\n",
              "      <td>. xxmaj there are some good parts through the movie , the first half starts off slow and then in the last half the pace picks up . xxmaj all up the movie is enjoyable . xxmaj the story is 22 years after the events that occured in the first film , xxmaj norman xxmaj bates is out of an asylum and back to the xxmaj bates motel , but</td>\n",
              "    </tr>\n",
              "    <tr>\n",
              "      <td>2</td>\n",
              "      <td>after his relation with her many years ago , despite her remarrying and setting up home in xxmaj morocco . xxmaj as builder he now rebuilds his own life and recovers hers by taking the mask of xxmaj cécile 's marriage . xxmaj having accomplished this , he is buried after a freak accident ( literally ) and becomes a comatose . xxmaj he wakes only after she has burned</td>\n",
              "    </tr>\n",
              "    <tr>\n",
              "      <td>3</td>\n",
              "      <td>pretty hilarious how they all talk about how this movie was so great and so scary . i mean how do you not realize that the movies is a cheap rip off of \" xxmaj scary xxmaj movie \" for example . xxmaj at least get some good actors in there and then maybe it would have been pulled off as a good horror movie . xxbos xxmaj other than</td>\n",
              "    </tr>\n",
              "    <tr>\n",
              "      <td>4</td>\n",
              "      <td>some of the actors give it their best shot . xxmaj michael xxmaj des xxmaj barres does okay with what he is given to do , which is to act like a sex addict out of control . i ca n't say that it is pleasant to watch . \\n \\n  xxmaj nastassja xxmaj kinski as the therapist sits in a chair for practically the entire film , with</td>\n",
              "    </tr>\n",
              "  </tbody>\n",
              "</table>"
            ],
            "text/plain": [
              "<IPython.core.display.HTML object>"
            ]
          },
          "metadata": {
            "tags": []
          }
        }
      ]
    },
    {
      "cell_type": "code",
      "metadata": {
        "id": "wkZlj3_KLsmq",
        "colab_type": "code",
        "colab": {}
      },
      "source": [
        "learn = language_model_learner(data_lm, AWD_LSTM, drop_mult=0.3)"
      ],
      "execution_count": 0,
      "outputs": []
    },
    {
      "cell_type": "code",
      "metadata": {
        "id": "uatlmFMnMW1N",
        "colab_type": "code",
        "outputId": "d3b20d23-a324-4408-d068-47d8b7706d57",
        "colab": {
          "base_uri": "https://localhost:8080/",
          "height": 36
        }
      },
      "source": [
        "learn.lr_find()"
      ],
      "execution_count": 0,
      "outputs": [
        {
          "output_type": "display_data",
          "data": {
            "text/html": [
              ""
            ],
            "text/plain": [
              "<IPython.core.display.HTML object>"
            ]
          },
          "metadata": {
            "tags": []
          }
        },
        {
          "output_type": "stream",
          "text": [
            "LR Finder is complete, type {learner_name}.recorder.plot() to see the graph.\n"
          ],
          "name": "stdout"
        }
      ]
    },
    {
      "cell_type": "code",
      "metadata": {
        "id": "UKv0wGdfN7R0",
        "colab_type": "code",
        "outputId": "5f9b25ed-be9a-4019-8a64-36839759b691",
        "colab": {
          "base_uri": "https://localhost:8080/",
          "height": 283
        }
      },
      "source": [
        "learn.recorder.plot(skip_end=15)"
      ],
      "execution_count": 0,
      "outputs": [
        {
          "output_type": "display_data",
          "data": {
            "image/png": "[encoded data removed]",
            "text/plain": [
              "<Figure size 432x288 with 1 Axes>"
            ]
          },
          "metadata": {
            "tags": []
          }
        }
      ]
    },
    {
      "cell_type": "code",
      "metadata": {
        "id": "GL6AYWb7OCxv",
        "colab_type": "code",
        "outputId": "035b3364-6ce5-475e-c2a1-79bd45639e8e",
        "colab": {
          "base_uri": "https://localhost:8080/",
          "height": 80
        }
      },
      "source": [
        "learn.fit_one_cycle(1, 1e-2, moms=(0.8,0.7))"
      ],
      "execution_count": 0,
      "outputs": [
        {
          "output_type": "display_data",
          "data": {
            "text/html": [
              "<table border=\"1\" class=\"dataframe\">\n",
              "  <thead>\n",
              "    <tr style=\"text-align: left;\">\n",
              "      <th>epoch</th>\n",
              "      <th>train_loss</th>\n",
              "      <th>valid_loss</th>\n",
              "      <th>accuracy</th>\n",
              "      <th>time</th>\n",
              "    </tr>\n",
              "  </thead>\n",
              "  <tbody>\n",
              "    <tr>\n",
              "      <td>0</td>\n",
              "      <td>4.204920</td>\n",
              "      <td>4.036645</td>\n",
              "      <td>0.290470</td>\n",
              "      <td>10:54</td>\n",
              "    </tr>\n",
              "  </tbody>\n",
              "</table>"
            ],
            "text/plain": [
              "<IPython.core.display.HTML object>"
            ]
          },
          "metadata": {
            "tags": []
          }
        }
      ]
    },
    {
      "cell_type": "code",
      "metadata": {
        "id": "TbT2tlA5Q61S",
        "colab_type": "code",
        "colab": {}
      },
      "source": [
        "learn.save('fit_head')"
      ],
      "execution_count": 0,
      "outputs": []
    },
    {
      "cell_type": "code",
      "metadata": {
        "id": "lIy0Di9FRAoY",
        "colab_type": "code",
        "outputId": "78fa2a9e-d255-4ec1-f0f7-6216ac2ad532",
        "colab": {
          "base_uri": "https://localhost:8080/",
          "height": 3521
        }
      },
      "source": [
        "learn.load('fit_head')"
      ],
      "execution_count": 0,
      "outputs": [
        {
          "output_type": "execute_result",
          "data": {
            "text/plain": [
              "LanguageLearner(data=TextLMDataBunch;\n",
              "\n",
              "Train: LabelList (27454 items)\n",
              "x: LMTextList\n",
              "xxbos xxmaj horrible ending - and i ca n't believe xxmaj moore spent a year coming up with it . xxmaj smacks of xxup l. xxmaj ron xxmaj hubbard and xxmaj xxunk , which xxmaj hubbard claimed to pen in just three weeks . xxmaj this was actually disappointing enough for me to toss my discs from the first 3.5 years . xxmaj now , the first 1.5 hours were action packed , though absurd in the premise , and then it deteriorated into a slow , painful , sophomoric dissolution of the series . xxmaj unbelievable how slow and drawn out that last hour was . xxmaj were we to think more deeply ? xxmaj if i wanted a lesson in a - materialism , i would reread xxmaj daniel xxmaj quinn 's xxmaj ishmael . xxmaj absurd to think 38 k people would give up everything for a \" fresh start \" . xxmaj absurd to throw in a disappearing xxmaj kara , and a reappearing xxmaj xxunk and xxmaj six . xxmaj absurd to throw in the xxmaj xxunk xxmaj eve . xxmaj just absurd .,xxbos \" xxmaj ghost of xxmaj xxunk xxmaj hollow \" appears to take place in a spotless netherworld , an era long gone by , where the biggest sin a kid could commit would be in defying the law and getting a traffic ticket . xxmaj it opens with a young female auto fanatic getting the business from her arch rival , who pressures her into a car race . xxmaj that 's about it for the drag - racing -- this b - flick is mostly concerned with rock ' n roll , man ! xxmaj the folks at xxmaj american xxmaj international were obviously fond of decent , square teens who liked to party and yet did n't mind an adult xxunk . xxmaj there are a few amusing double entendres and fruity exchanges ( xxmaj necking xxmaj kid : \" xxmaj we thought we 'd come out for some fresh xxunk ... xxmaj dad : \" xxmaj where did you think you 'd find it , down her throat ? \" ) , but the ghost is a little late in arriving . xxmaj brief at 65 minutes , the movie cheats us with a climactic car race that actually takes place off - screen and a xxunk xxmaj doo \"- styled unmasking which makes no sense . xxmaj however , for nostalgia buffs , some mindless fun . * * from xxrep 4 *,xxbos i only hope that no xxunk / ancient historians saw \" xxmaj cleopatra \" , or , if they did , that they took it as a laugh . xxmaj the movie is horrendously inaccurate , more laughably , even , than \" xxmaj gladiator \" ( which is at least a well - written script whose historical errors are articulate and correspond well to the story ) . xxmaj most blatant is xxmaj xxunk , xxmaj caesar 's heir , in the xxmaj senate before xxmaj caesar 's assassination : at the ripe old age of 19 ! \n",
              " \n",
              "  xxmaj besides this , the acting is mediocre . xxmaj timothy xxmaj dalton has more than a hint of xxmaj james xxmaj bond in him when he says , \" xxmaj caesar . xxmaj julius xxmaj caesar . \" xxmaj billy xxmaj zane is a laughably dense xxmaj marc xxmaj antony . xxmaj and xxmaj leonor xxmaj xxunk tries her best to be the seductive xxmaj pharaoh ( who in real life was not good - looking at all ) but comes off as unbelievable . \n",
              " \n",
              "  xxmaj so this is a warning for all historians -- this movie is not true to life !,xxbos i just watched the 30th xxmaj anniversary edition of xxmaj blazing xxmaj saddles , one of my all time xxmaj favorites ! ! xxmaj the xxup tv xxmaj pilot for xxmaj black xxmaj bart stunk . xxmaj the plot was non - existent and the acting was not good . xxmaj it was obviously an attempt to profit off of the success of xxmaj blazing xxmaj saddles and there have been xxup tv shows that have succeeded in doing take - offs of big movies , but this one would never have worked . xxmaj considering that for so many years xxup tv would not even play the farting noises when they televised the movie , it is inconceivable that they thought they could put a show on xxup tv with the \" n \" word thrown around . xxmaj on the other hand , i enjoyed seeing a lot of familiar faces ! ! ! xxmaj there were quite a few actors / actresses that i recognized from other shows over the years . i had to write down all the names and do a few searches . xxmaj that was fun . i was arguing with my mother if xxmaj steve xxmaj xxunk was from xxmaj barney xxmaj miller or xxmaj mash . i won ! :),xxbos xxmaj to review this movie , i without any doubt would have to quote that memorable scene in xxmaj tarantino 's \" xxmaj pulp xxmaj fiction \" ( 1994 ) when xxmaj jules and xxmaj vincent are talking about xxmaj mia xxmaj wallace and what she does for a living . xxmaj jules tells xxmaj vincent that the \" xxmaj only thing she did worthwhile was pilot \" . xxmaj vincent asks \" xxmaj what the hell is a pilot ? \" and xxmaj jules goes into a very well description of what a xxup tv pilot is : \" xxmaj well , the way they make shows is , they make one show . xxmaj that show 's called a ' pilot ' . xxmaj then they show that show to the people who make shows , and on the strength of that one show they decide if they 're going to make more shows . xxmaj some pilots get picked and become television programs . xxmaj some do n't , become nothing . xxmaj she starred in one of the ones that became nothing . \" xxmaj now to stretch on what xxmaj jules was talking about , there are xxup billions of television shows / pilots that were never aired because they simply were not ... well , good . xxmaj probably the most notorious pilot that comes to mind is \" xxup xxunk \" , a spin - off to \" xxup m*a*s*h \" with xxmaj gary \" xxmaj radar \" xxmaj xxunk as the lead . xxmaj hmmm , would somebody really want to be watching xxmaj radar for a half - hour trying to solve crimes ? xxmaj hence , the show was never picked up . xxmaj what many people do n't know ( or what they thought they knew ) is that pilots are hardly ever shown on the air , for they are made strictly for the xxmaj television networks for them to decide . xxmaj some have made they 're way past and got onto the air ( xxmaj the pilot for the animated series \" xxmaj american xxmaj dad \" comes to mind , as the show 's serial itself did n't begin until nearly four months later . xxmaj however , there are times were we should all be glad pilots never make it to air , and this here is why . \n",
              " \n",
              "  \" xxmaj black xxmaj bart \" , a supposed tie - in with the xxmaj mel xxmaj brooks comedy classic , \" xxmaj blazing xxmaj saddles \" , is a stale and bland \" sitcom \" with little heart and no soul . \" xxmaj saddles \" was a controversial comedy , nevertheless , with it 's racist humor and vulgar comedy , which comes to mind \" what idiot decided this would make a great television show xxup for xxup prime xxup time xxup tv ? ! ? \" i say \" supposed \" , because none of the memorable characters from the movie , aside from xxmaj bart , on in this mess of a xxup tv show . xxmaj mel xxmaj brooks was n't even involved with the production of the serial and this was the first mistake in a long line ( xxmaj in a related story , i recently found out about an xxunk xxup tv pilot for a series based on the movie \" xxmaj clerks . \" that xxmaj kevin xxmaj smith was no involved in xxrep 4 . you see what happens ? ! ? ) . \n",
              " \n",
              "  xxmaj set somewhere around the same time as the movie ( or at all ) , the story circles around the only xxmaj black sheriff in the wild west , named appropriately ' xxmaj black ' xxmaj bart , who is this time played by future xxmaj academy xxmaj award winner xxmaj louis xxmaj gossett xxmaj jr. , obviously before his stint in \" real \" acting , whereas in this he is playing a \" g - rated \" xxmaj richard xxmaj pryor . xxmaj most of the other characters are carbon ( if not , really bad ) copies of the characters in the movie : xxmaj jim , xxmaj the xxmaj waco xxmaj kid is replaced by a similar looking character named xxmaj reb xxmaj jordan , a former xxmaj confederate soldier who is quick with the gun . xxmaj lilian xxmaj von xxmaj xxunk is now xxmaj belle xxmaj xxunk , a more of a ripoff of the character being that she 's a show dancer and a xxmaj german with a xxmaj marlene xxmaj dietrich - type accent and personality . xxmaj while that 's pretty much the end in similarities , xxmaj the lead \" bad guy \" in the story is xxmaj fern xxmaj xxunk , played by xxmaj noble xxmaj willingham , who i assumed would 've been xxmaj xxunk xxmaj lamar if xxmaj warner xxmaj bros. secured the rights to the name ( xxmaj see trivia for \" xxmaj blazing xxmaj saddles \" ) and his son xxmaj curley ... i dunno , xxmaj xxunk i suppose ? xxmaj the story is a poor excuse for a sitcom , much less a pilot . xxmaj bart deals with the mayor 's drunk son and he 's out - of - control behavior which has caused the town to spin . xxmaj really , it 's a story that tries to introduce all the characters in the \" series \" and does n't focus on the variety and context that would make this an \" alright \" show . i ca n't really call it a sitcom ( and even if i wanted to ) and that 's primarily the fact it was shot on the backlot at xxmaj warner xxmaj bros. xxmaj studios and later added a laugh track , so the show is set up almost exactly like \" xxup m*a*s*h \" ( complete with a bland and dull \" laughing \" that is identical to the series ) . xxmaj the acting is so - so , but there 's one part that always make me laugh , and that 's when the actor playing xxmaj reb xxmaj jordan almost seems to forget his lines and tries really hard to remember them while trying to sputter out a piece of dialogue . xxup ha ! xxmaj the script is rather dull and is attempts to make racism more humorous than it was in the movie ( xxmaj surprisingly , they use the word \" xxmaj xxunk \" numerous amount of times through a xxunk episode , rather touchy for it 's time period and even for today ) and it gets repetitive . \n",
              " \n",
              "  xxmaj if you ever get your hands on this unseen piece of xxrep 5 s ... surly interesting novelty item , watch it just for the sake of the feeling for watching pilots ( xxmaj it 's on the collector 's edition of \" xxmaj blazing xxmaj saddles \" , xxmaj god knows why ) . xxmaj there , yourself get a first hand chance for the reason why many movie tie - in pilots never air .\n",
              "y: LMLabelList\n",
              ",,,,\n",
              "Path: /content/gdrive/My Drive/fastai-v3/l3-imdb/imdb;\n",
              "\n",
              "Valid: LabelList (3050 items)\n",
              "x: LMTextList\n",
              "xxbos xxup warning - xxup possible xxup spoilers ! \n",
              " \n",
              "  ' xxmaj rock xxmaj star ' is one of the solid rock movies i have ever seen . xxmaj the original idea of the script focuses on a young singer in the 80s , leading a tribute band of one of the most famous hard rock bands of the period . xxmaj he is not only playing their music to the note , but also living the life of his idols . xxmaj when his friends in the tribute band xxunk him , in search of some originality , the destiny plays him a good turn , and gets hired to replace the lead singer of the idols band . a dream came true ? xxmaj well , almost . xxmaj while starting to live the life of the famous , including the drug and sex excesses of the rock scene of the 80s , he will also have to face the problems in relationship with his supportive girlfriend , and will be eventually need to answer questions about creativity and having a saying in the music of the band . \n",
              " \n",
              "  i liked the film , one of the reasons being that it is one of the first times that the life and music of the hard metal rock bands is shown in a realistic manner . xxmaj fans of the music genre will be satisfied by the soundtrack . xxmaj the overall idea is original , and the issues of how an artist lives his life and creates his art are being rendered in a sensible and balanced manner . xxmaj acting is quite good , with xxmaj mark xxmaj wahlberg better than in most of the other action flics i saw him lately , and xxmaj jennifer xxmaj aniston in tune with the nice - girl - who - knows - a - lot - about - life role . xxmaj more problematic is the ending , which is quite conventional , and may disappoint . xxmaj it looks like the main character after xxunk the big and famous band has found his own creative path . xxmaj however , in an ironical twist the music he is playing in the club at the end is the worst in the whole movie ! \n",
              " \n",
              "  8 / 10 on my personal scale . xxmaj worth seeing - however , expect exposure to a high dose of metal . xxmaj if you do not like this kind of music , you may chose to avoid this film .,xxbos xxmaj this is a pale imitation of ' xxmaj officer and a xxmaj gentleman . ' xxmaj there is xxup no chemistry between xxmaj kutcher and the unknown woman who plays his love interest . xxmaj the dialog is wooden , the situations hackneyed . xxmaj it 's too long and the climax is anti - climactic ( ! ) . i love the xxup uscg , its men and women are fearless and tough . xxmaj the action scenes are awesome , but this movie does n't do much for recruiting , i fear . xxmaj the script is formulaic , but confusing . xxmaj kutcher 's character is trying to redeem himself for an accident that was n't his fault ? xxmaj costner 's is raging against the dying of the light , but why ? xxmaj his ' conflict ' with his wife is about as deep as a mud puddle . i saw this sneak preview for free and certainly felt i got my money 's worth .,xxbos xxmaj the three shorts included on this compilation issued in 1959 are timeless xxmaj chaplin classics , nothing wrong with them and nothing to criticize either . xxmaj chaplin 's score for these films and the framework added as xxunk sections between the shorts are also well done . xxmaj the problem with this compilation is a minor one , yet annoying . xxmaj the shorts have been stretch - printed to fit the 24 frame p.s . speed of contemporary films whereas the shorts themselves where shot at 20 frames p.s . xxmaj this results is jerky motion that does n't look very attractive , and yet this was an excusable solution given the limitations of optical printing technology at the time , it 's just not excusable that the current xxup dvd version is xxunk , the films look dirty as they did in 1959 and are still stretch printed . xxmaj there are separate restored versions of these classics available , even on xxup dvd , and it would not be a problem to restore the image , but alas this has not been done . \n",
              " \n",
              "  a minor quibble has taken up a lot of space in my article , but i say again a minor quibble , it should not detract all that much from the experience although it detracted one point from my rating . xxmaj the shorts are still worth ' 10 ' .,xxbos xxmaj horror - genius xxmaj dario xxmaj argento is one of my personal favorite directors , and his films \" xxmaj suspiria \" , \" xxmaj phenomena \" and \" xxmaj xxunk xxmaj rosso \" range high on my personal all - time favorite list . \" xxmaj opera \" of 1987 is yet another tantalizing and brilliant film that no xxmaj horror lover can afford to miss , and that will keep you on the edge of your chair from the beginning to the end . xxmaj this stunning and ultra - violent xxmaj giallo could well be described as the master 's nastiest film , which is quite something considering that xxmaj argento 's films are not exactly known for the xxunk of their violence . xxmaj the violence is extreme and very stylized in a brilliant way that makes xxmaj opera a film censor 's nightmare . \n",
              " \n",
              "  - xxmaj warning ! xxup spoilers ahead ! - \n",
              " \n",
              "  xxmaj just when xxmaj betty ( xxmaj christina xxmaj marsillach ) , a young opera singer , is becoming successful , a murderous and incredibly sadistic psychopath starts stalking her ... xxmaj the murders are truly brutal , and of particularly sadistic nature . xxmaj the killer attaches needles to the tied up xxmaj betty 's eyelids , so she has to keep them open and watch while he brutally murders people close to her in abhorrent ways . xxmaj when done with the butchering , the killer releases xxmaj betty and leaves , just to come back for other friends of hers ... \n",
              " \n",
              "  xxmaj as usual for xxmaj argento 's films , the violence is extremely graphic and very stylized . \" xxmaj opera \" truly is a brutal film , and what a stylish and atmospheric film it is . xxmaj this film is absolutely tantalizing and pure suspense from the beginning to the end . xxmaj the performances are entirely very good , especially xxmaj christina xxmaj marsillach is brilliant in the lead . a stunning beauty and great actress alike , xxmaj marsillach fits perfectly in her role of the talented singer , whose fear and horrid experiences are slowly making her crazy . xxmaj other great performances include those of xxmaj ian xxmaj charleston as a xxmaj horror film director who is directing an xxmaj opera , and director xxmaj argento 's real - life girlfriend xxmaj daria xxmaj nicolodi , who has a role in many of his movies . xxmaj the camera work is excellent as in all xxmaj argento films and xxmaj the huge xxmaj opera xxmaj house is an excellent setting that contributes a lot both to the film 's beauty and its permanently creepy atmosphere . xxmaj the score , which is partly classical music and partly heavy metal is great too , even though i slightly missed xxmaj goblin 's brilliant xxmaj progressive xxmaj rock xxmaj soundtracks that are such a distinguishing element of most other xxmaj argento movies . \" xxmaj opera \" truly is a terrifying and absolutely breathtaking xxmaj giallo experience . xxmaj this is an absolute must - see for any xxmaj horror lover , and i highly recommend it to any other film - fan who is not too sensitive when it comes to extreme violence . xxmaj excellent and absolutely tantalizing !,xxbos i had no expectations when seeing the movie because i was seeing it with a bunch of friends and had no idea what it was . xxmaj some parts were silly and some parts were lame , but overall the movie was worth watching . i like goth looking women ; this movie has plenty of it . xxmaj the fangs do look really lame though .\n",
              "y: LMLabelList\n",
              ",,,,\n",
              "Path: /content/gdrive/My Drive/fastai-v3/l3-imdb/imdb;\n",
              "\n",
              "Test: None, model=SequentialRNN(\n",
              "  (0): AWD_LSTM(\n",
              "    (encoder): Embedding(39619, 400, padding_idx=1)\n",
              "    (encoder_dp): EmbeddingDropout(\n",
              "      (emb): Embedding(39619, 400, padding_idx=1)\n",
              "    )\n",
              "    (rnns): ModuleList(\n",
              "      (0): WeightDropout(\n",
              "        (module): LSTM(400, 1150, batch_first=True)\n",
              "      )\n",
              "      (1): WeightDropout(\n",
              "        (module): LSTM(1150, 1150, batch_first=True)\n",
              "      )\n",
              "      (2): WeightDropout(\n",
              "        (module): LSTM(1150, 400, batch_first=True)\n",
              "      )\n",
              "    )\n",
              "    (input_dp): RNNDropout()\n",
              "    (hidden_dps): ModuleList(\n",
              "      (0): RNNDropout()\n",
              "      (1): RNNDropout()\n",
              "      (2): RNNDropout()\n",
              "    )\n",
              "  )\n",
              "  (1): LinearDecoder(\n",
              "    (decoder): Linear(in_features=400, out_features=39619, bias=True)\n",
              "    (output_dp): RNNDropout()\n",
              "  )\n",
              "), opt_func=functools.partial(<class 'torch.optim.adam.Adam'>, betas=(0.9, 0.99)), loss_func=FlattenedLoss of CrossEntropyLoss(), metrics=[<function accuracy at 0x7f74d926dd08>], true_wd=True, bn_wd=True, wd=0.01, train_bn=True, path=PosixPath('/content/gdrive/My Drive/fastai-v3/l3-imdb/imdb'), model_dir='models', callback_fns=[functools.partial(<class 'fastai.basic_train.Recorder'>, add_time=True, silent=False)], callbacks=[RNNTrainer\n",
              "learn: LanguageLearner(data=TextLMDataBunch;\n",
              "\n",
              "Train: LabelList (27454 items)\n",
              "x: LMTextList\n",
              "xxbos xxmaj horrible ending - and i ca n't believe xxmaj moore spent a year coming up with it . xxmaj smacks of xxup l. xxmaj ron xxmaj hubbard and xxmaj xxunk , which xxmaj hubbard claimed to pen in just three weeks . xxmaj this was actually disappointing enough for me to toss my discs from the first 3.5 years . xxmaj now , the first 1.5 hours were action packed , though absurd in the premise , and then it deteriorated into a slow , painful , sophomoric dissolution of the series . xxmaj unbelievable how slow and drawn out that last hour was . xxmaj were we to think more deeply ? xxmaj if i wanted a lesson in a - materialism , i would reread xxmaj daniel xxmaj quinn 's xxmaj ishmael . xxmaj absurd to think 38 k people would give up everything for a \" fresh start \" . xxmaj absurd to throw in a disappearing xxmaj kara , and a reappearing xxmaj xxunk and xxmaj six . xxmaj absurd to throw in the xxmaj xxunk xxmaj eve . xxmaj just absurd .,xxbos \" xxmaj ghost of xxmaj xxunk xxmaj hollow \" appears to take place in a spotless netherworld , an era long gone by , where the biggest sin a kid could commit would be in defying the law and getting a traffic ticket . xxmaj it opens with a young female auto fanatic getting the business from her arch rival , who pressures her into a car race . xxmaj that 's about it for the drag - racing -- this b - flick is mostly concerned with rock ' n roll , man ! xxmaj the folks at xxmaj american xxmaj international were obviously fond of decent , square teens who liked to party and yet did n't mind an adult xxunk . xxmaj there are a few amusing double entendres and fruity exchanges ( xxmaj necking xxmaj kid : \" xxmaj we thought we 'd come out for some fresh xxunk ... xxmaj dad : \" xxmaj where did you think you 'd find it , down her throat ? \" ) , but the ghost is a little late in arriving . xxmaj brief at 65 minutes , the movie cheats us with a climactic car race that actually takes place off - screen and a xxunk xxmaj doo \"- styled unmasking which makes no sense . xxmaj however , for nostalgia buffs , some mindless fun . * * from xxrep 4 *,xxbos i only hope that no xxunk / ancient historians saw \" xxmaj cleopatra \" , or , if they did , that they took it as a laugh . xxmaj the movie is horrendously inaccurate , more laughably , even , than \" xxmaj gladiator \" ( which is at least a well - written script whose historical errors are articulate and correspond well to the story ) . xxmaj most blatant is xxmaj xxunk , xxmaj caesar 's heir , in the xxmaj senate before xxmaj caesar 's assassination : at the ripe old age of 19 ! \n",
              " \n",
              "  xxmaj besides this , the acting is mediocre . xxmaj timothy xxmaj dalton has more than a hint of xxmaj james xxmaj bond in him when he says , \" xxmaj caesar . xxmaj julius xxmaj caesar . \" xxmaj billy xxmaj zane is a laughably dense xxmaj marc xxmaj antony . xxmaj and xxmaj leonor xxmaj xxunk tries her best to be the seductive xxmaj pharaoh ( who in real life was not good - looking at all ) but comes off as unbelievable . \n",
              " \n",
              "  xxmaj so this is a warning for all historians -- this movie is not true to life !,xxbos i just watched the 30th xxmaj anniversary edition of xxmaj blazing xxmaj saddles , one of my all time xxmaj favorites ! ! xxmaj the xxup tv xxmaj pilot for xxmaj black xxmaj bart stunk . xxmaj the plot was non - existent and the acting was not good . xxmaj it was obviously an attempt to profit off of the success of xxmaj blazing xxmaj saddles and there have been xxup tv shows that have succeeded in doing take - offs of big movies , but this one would never have worked . xxmaj considering that for so many years xxup tv would not even play the farting noises when they televised the movie , it is inconceivable that they thought they could put a show on xxup tv with the \" n \" word thrown around . xxmaj on the other hand , i enjoyed seeing a lot of familiar faces ! ! ! xxmaj there were quite a few actors / actresses that i recognized from other shows over the years . i had to write down all the names and do a few searches . xxmaj that was fun . i was arguing with my mother if xxmaj steve xxmaj xxunk was from xxmaj barney xxmaj miller or xxmaj mash . i won ! :),xxbos xxmaj to review this movie , i without any doubt would have to quote that memorable scene in xxmaj tarantino 's \" xxmaj pulp xxmaj fiction \" ( 1994 ) when xxmaj jules and xxmaj vincent are talking about xxmaj mia xxmaj wallace and what she does for a living . xxmaj jules tells xxmaj vincent that the \" xxmaj only thing she did worthwhile was pilot \" . xxmaj vincent asks \" xxmaj what the hell is a pilot ? \" and xxmaj jules goes into a very well description of what a xxup tv pilot is : \" xxmaj well , the way they make shows is , they make one show . xxmaj that show 's called a ' pilot ' . xxmaj then they show that show to the people who make shows , and on the strength of that one show they decide if they 're going to make more shows . xxmaj some pilots get picked and become television programs . xxmaj some do n't , become nothing . xxmaj she starred in one of the ones that became nothing . \" xxmaj now to stretch on what xxmaj jules was talking about , there are xxup billions of television shows / pilots that were never aired because they simply were not ... well , good . xxmaj probably the most notorious pilot that comes to mind is \" xxup xxunk \" , a spin - off to \" xxup m*a*s*h \" with xxmaj gary \" xxmaj radar \" xxmaj xxunk as the lead . xxmaj hmmm , would somebody really want to be watching xxmaj radar for a half - hour trying to solve crimes ? xxmaj hence , the show was never picked up . xxmaj what many people do n't know ( or what they thought they knew ) is that pilots are hardly ever shown on the air , for they are made strictly for the xxmaj television networks for them to decide . xxmaj some have made they 're way past and got onto the air ( xxmaj the pilot for the animated series \" xxmaj american xxmaj dad \" comes to mind , as the show 's serial itself did n't begin until nearly four months later . xxmaj however , there are times were we should all be glad pilots never make it to air , and this here is why . \n",
              " \n",
              "  \" xxmaj black xxmaj bart \" , a supposed tie - in with the xxmaj mel xxmaj brooks comedy classic , \" xxmaj blazing xxmaj saddles \" , is a stale and bland \" sitcom \" with little heart and no soul . \" xxmaj saddles \" was a controversial comedy , nevertheless , with it 's racist humor and vulgar comedy , which comes to mind \" what idiot decided this would make a great television show xxup for xxup prime xxup time xxup tv ? ! ? \" i say \" supposed \" , because none of the memorable characters from the movie , aside from xxmaj bart , on in this mess of a xxup tv show . xxmaj mel xxmaj brooks was n't even involved with the production of the serial and this was the first mistake in a long line ( xxmaj in a related story , i recently found out about an xxunk xxup tv pilot for a series based on the movie \" xxmaj clerks . \" that xxmaj kevin xxmaj smith was no involved in xxrep 4 . you see what happens ? ! ? ) . \n",
              " \n",
              "  xxmaj set somewhere around the same time as the movie ( or at all ) , the story circles around the only xxmaj black sheriff in the wild west , named appropriately ' xxmaj black ' xxmaj bart , who is this time played by future xxmaj academy xxmaj award winner xxmaj louis xxmaj gossett xxmaj jr. , obviously before his stint in \" real \" acting , whereas in this he is playing a \" g - rated \" xxmaj richard xxmaj pryor . xxmaj most of the other characters are carbon ( if not , really bad ) copies of the characters in the movie : xxmaj jim , xxmaj the xxmaj waco xxmaj kid is replaced by a similar looking character named xxmaj reb xxmaj jordan , a former xxmaj confederate soldier who is quick with the gun . xxmaj lilian xxmaj von xxmaj xxunk is now xxmaj belle xxmaj xxunk , a more of a ripoff of the character being that she 's a show dancer and a xxmaj german with a xxmaj marlene xxmaj dietrich - type accent and personality . xxmaj while that 's pretty much the end in similarities , xxmaj the lead \" bad guy \" in the story is xxmaj fern xxmaj xxunk , played by xxmaj noble xxmaj willingham , who i assumed would 've been xxmaj xxunk xxmaj lamar if xxmaj warner xxmaj bros. secured the rights to the name ( xxmaj see trivia for \" xxmaj blazing xxmaj saddles \" ) and his son xxmaj curley ... i dunno , xxmaj xxunk i suppose ? xxmaj the story is a poor excuse for a sitcom , much less a pilot . xxmaj bart deals with the mayor 's drunk son and he 's out - of - control behavior which has caused the town to spin . xxmaj really , it 's a story that tries to introduce all the characters in the \" series \" and does n't focus on the variety and context that would make this an \" alright \" show . i ca n't really call it a sitcom ( and even if i wanted to ) and that 's primarily the fact it was shot on the backlot at xxmaj warner xxmaj bros. xxmaj studios and later added a laugh track , so the show is set up almost exactly like \" xxup m*a*s*h \" ( complete with a bland and dull \" laughing \" that is identical to the series ) . xxmaj the acting is so - so , but there 's one part that always make me laugh , and that 's when the actor playing xxmaj reb xxmaj jordan almost seems to forget his lines and tries really hard to remember them while trying to sputter out a piece of dialogue . xxup ha ! xxmaj the script is rather dull and is attempts to make racism more humorous than it was in the movie ( xxmaj surprisingly , they use the word \" xxmaj xxunk \" numerous amount of times through a xxunk episode , rather touchy for it 's time period and even for today ) and it gets repetitive . \n",
              " \n",
              "  xxmaj if you ever get your hands on this unseen piece of xxrep 5 s ... surly interesting novelty item , watch it just for the sake of the feeling for watching pilots ( xxmaj it 's on the collector 's edition of \" xxmaj blazing xxmaj saddles \" , xxmaj god knows why ) . xxmaj there , yourself get a first hand chance for the reason why many movie tie - in pilots never air .\n",
              "y: LMLabelList\n",
              ",,,,\n",
              "Path: /content/gdrive/My Drive/fastai-v3/l3-imdb/imdb;\n",
              "\n",
              "Valid: LabelList (3050 items)\n",
              "x: LMTextList\n",
              "xxbos xxup warning - xxup possible xxup spoilers ! \n",
              " \n",
              "  ' xxmaj rock xxmaj star ' is one of the solid rock movies i have ever seen . xxmaj the original idea of the script focuses on a young singer in the 80s , leading a tribute band of one of the most famous hard rock bands of the period . xxmaj he is not only playing their music to the note , but also living the life of his idols . xxmaj when his friends in the tribute band xxunk him , in search of some originality , the destiny plays him a good turn , and gets hired to replace the lead singer of the idols band . a dream came true ? xxmaj well , almost . xxmaj while starting to live the life of the famous , including the drug and sex excesses of the rock scene of the 80s , he will also have to face the problems in relationship with his supportive girlfriend , and will be eventually need to answer questions about creativity and having a saying in the music of the band . \n",
              " \n",
              "  i liked the film , one of the reasons being that it is one of the first times that the life and music of the hard metal rock bands is shown in a realistic manner . xxmaj fans of the music genre will be satisfied by the soundtrack . xxmaj the overall idea is original , and the issues of how an artist lives his life and creates his art are being rendered in a sensible and balanced manner . xxmaj acting is quite good , with xxmaj mark xxmaj wahlberg better than in most of the other action flics i saw him lately , and xxmaj jennifer xxmaj aniston in tune with the nice - girl - who - knows - a - lot - about - life role . xxmaj more problematic is the ending , which is quite conventional , and may disappoint . xxmaj it looks like the main character after xxunk the big and famous band has found his own creative path . xxmaj however , in an ironical twist the music he is playing in the club at the end is the worst in the whole movie ! \n",
              " \n",
              "  8 / 10 on my personal scale . xxmaj worth seeing - however , expect exposure to a high dose of metal . xxmaj if you do not like this kind of music , you may chose to avoid this film .,xxbos xxmaj this is a pale imitation of ' xxmaj officer and a xxmaj gentleman . ' xxmaj there is xxup no chemistry between xxmaj kutcher and the unknown woman who plays his love interest . xxmaj the dialog is wooden , the situations hackneyed . xxmaj it 's too long and the climax is anti - climactic ( ! ) . i love the xxup uscg , its men and women are fearless and tough . xxmaj the action scenes are awesome , but this movie does n't do much for recruiting , i fear . xxmaj the script is formulaic , but confusing . xxmaj kutcher 's character is trying to redeem himself for an accident that was n't his fault ? xxmaj costner 's is raging against the dying of the light , but why ? xxmaj his ' conflict ' with his wife is about as deep as a mud puddle . i saw this sneak preview for free and certainly felt i got my money 's worth .,xxbos xxmaj the three shorts included on this compilation issued in 1959 are timeless xxmaj chaplin classics , nothing wrong with them and nothing to criticize either . xxmaj chaplin 's score for these films and the framework added as xxunk sections between the shorts are also well done . xxmaj the problem with this compilation is a minor one , yet annoying . xxmaj the shorts have been stretch - printed to fit the 24 frame p.s . speed of contemporary films whereas the shorts themselves where shot at 20 frames p.s . xxmaj this results is jerky motion that does n't look very attractive , and yet this was an excusable solution given the limitations of optical printing technology at the time , it 's just not excusable that the current xxup dvd version is xxunk , the films look dirty as they did in 1959 and are still stretch printed . xxmaj there are separate restored versions of these classics available , even on xxup dvd , and it would not be a problem to restore the image , but alas this has not been done . \n",
              " \n",
              "  a minor quibble has taken up a lot of space in my article , but i say again a minor quibble , it should not detract all that much from the experience although it detracted one point from my rating . xxmaj the shorts are still worth ' 10 ' .,xxbos xxmaj horror - genius xxmaj dario xxmaj argento is one of my personal favorite directors , and his films \" xxmaj suspiria \" , \" xxmaj phenomena \" and \" xxmaj xxunk xxmaj rosso \" range high on my personal all - time favorite list . \" xxmaj opera \" of 1987 is yet another tantalizing and brilliant film that no xxmaj horror lover can afford to miss , and that will keep you on the edge of your chair from the beginning to the end . xxmaj this stunning and ultra - violent xxmaj giallo could well be described as the master 's nastiest film , which is quite something considering that xxmaj argento 's films are not exactly known for the xxunk of their violence . xxmaj the violence is extreme and very stylized in a brilliant way that makes xxmaj opera a film censor 's nightmare . \n",
              " \n",
              "  - xxmaj warning ! xxup spoilers ahead ! - \n",
              " \n",
              "  xxmaj just when xxmaj betty ( xxmaj christina xxmaj marsillach ) , a young opera singer , is becoming successful , a murderous and incredibly sadistic psychopath starts stalking her ... xxmaj the murders are truly brutal , and of particularly sadistic nature . xxmaj the killer attaches needles to the tied up xxmaj betty 's eyelids , so she has to keep them open and watch while he brutally murders people close to her in abhorrent ways . xxmaj when done with the butchering , the killer releases xxmaj betty and leaves , just to come back for other friends of hers ... \n",
              " \n",
              "  xxmaj as usual for xxmaj argento 's films , the violence is extremely graphic and very stylized . \" xxmaj opera \" truly is a brutal film , and what a stylish and atmospheric film it is . xxmaj this film is absolutely tantalizing and pure suspense from the beginning to the end . xxmaj the performances are entirely very good , especially xxmaj christina xxmaj marsillach is brilliant in the lead . a stunning beauty and great actress alike , xxmaj marsillach fits perfectly in her role of the talented singer , whose fear and horrid experiences are slowly making her crazy . xxmaj other great performances include those of xxmaj ian xxmaj charleston as a xxmaj horror film director who is directing an xxmaj opera , and director xxmaj argento 's real - life girlfriend xxmaj daria xxmaj nicolodi , who has a role in many of his movies . xxmaj the camera work is excellent as in all xxmaj argento films and xxmaj the huge xxmaj opera xxmaj house is an excellent setting that contributes a lot both to the film 's beauty and its permanently creepy atmosphere . xxmaj the score , which is partly classical music and partly heavy metal is great too , even though i slightly missed xxmaj goblin 's brilliant xxmaj progressive xxmaj rock xxmaj soundtracks that are such a distinguishing element of most other xxmaj argento movies . \" xxmaj opera \" truly is a terrifying and absolutely breathtaking xxmaj giallo experience . xxmaj this is an absolute must - see for any xxmaj horror lover , and i highly recommend it to any other film - fan who is not too sensitive when it comes to extreme violence . xxmaj excellent and absolutely tantalizing !,xxbos i had no expectations when seeing the movie because i was seeing it with a bunch of friends and had no idea what it was . xxmaj some parts were silly and some parts were lame , but overall the movie was worth watching . i like goth looking women ; this movie has plenty of it . xxmaj the fangs do look really lame though .\n",
              "y: LMLabelList\n",
              ",,,,\n",
              "Path: /content/gdrive/My Drive/fastai-v3/l3-imdb/imdb;\n",
              "\n",
              "Test: None, model=SequentialRNN(\n",
              "  (0): AWD_LSTM(\n",
              "    (encoder): Embedding(39619, 400, padding_idx=1)\n",
              "    (encoder_dp): EmbeddingDropout(\n",
              "      (emb): Embedding(39619, 400, padding_idx=1)\n",
              "    )\n",
              "    (rnns): ModuleList(\n",
              "      (0): WeightDropout(\n",
              "        (module): LSTM(400, 1150, batch_first=True)\n",
              "      )\n",
              "      (1): WeightDropout(\n",
              "        (module): LSTM(1150, 1150, batch_first=True)\n",
              "      )\n",
              "      (2): WeightDropout(\n",
              "        (module): LSTM(1150, 400, batch_first=True)\n",
              "      )\n",
              "    )\n",
              "    (input_dp): RNNDropout()\n",
              "    (hidden_dps): ModuleList(\n",
              "      (0): RNNDropout()\n",
              "      (1): RNNDropout()\n",
              "      (2): RNNDropout()\n",
              "    )\n",
              "  )\n",
              "  (1): LinearDecoder(\n",
              "    (decoder): Linear(in_features=400, out_features=39619, bias=True)\n",
              "    (output_dp): RNNDropout()\n",
              "  )\n",
              "), opt_func=functools.partial(<class 'torch.optim.adam.Adam'>, betas=(0.9, 0.99)), loss_func=FlattenedLoss of CrossEntropyLoss(), metrics=[<function accuracy at 0x7f74d926dd08>], true_wd=True, bn_wd=True, wd=0.01, train_bn=True, path=PosixPath('/content/gdrive/My Drive/fastai-v3/l3-imdb/imdb'), model_dir='models', callback_fns=[functools.partial(<class 'fastai.basic_train.Recorder'>, add_time=True, silent=False)], callbacks=[...], layer_groups=[Sequential(\n",
              "  (0): WeightDropout(\n",
              "    (module): LSTM(400, 1150, batch_first=True)\n",
              "  )\n",
              "  (1): RNNDropout()\n",
              "), Sequential(\n",
              "  (0): WeightDropout(\n",
              "    (module): LSTM(1150, 1150, batch_first=True)\n",
              "  )\n",
              "  (1): RNNDropout()\n",
              "), Sequential(\n",
              "  (0): WeightDropout(\n",
              "    (module): LSTM(1150, 400, batch_first=True)\n",
              "  )\n",
              "  (1): RNNDropout()\n",
              "), Sequential(\n",
              "  (0): Embedding(39619, 400, padding_idx=1)\n",
              "  (1): EmbeddingDropout(\n",
              "    (emb): Embedding(39619, 400, padding_idx=1)\n",
              "  )\n",
              "  (2): LinearDecoder(\n",
              "    (decoder): Linear(in_features=400, out_features=39619, bias=True)\n",
              "    (output_dp): RNNDropout()\n",
              "  )\n",
              ")], add_time=True, silent=None)\n",
              "alpha: 2.0\n",
              "beta: 1.0], layer_groups=[Sequential(\n",
              "  (0): WeightDropout(\n",
              "    (module): LSTM(400, 1150, batch_first=True)\n",
              "  )\n",
              "  (1): RNNDropout()\n",
              "), Sequential(\n",
              "  (0): WeightDropout(\n",
              "    (module): LSTM(1150, 1150, batch_first=True)\n",
              "  )\n",
              "  (1): RNNDropout()\n",
              "), Sequential(\n",
              "  (0): WeightDropout(\n",
              "    (module): LSTM(1150, 400, batch_first=True)\n",
              "  )\n",
              "  (1): RNNDropout()\n",
              "), Sequential(\n",
              "  (0): Embedding(39619, 400, padding_idx=1)\n",
              "  (1): EmbeddingDropout(\n",
              "    (emb): Embedding(39619, 400, padding_idx=1)\n",
              "  )\n",
              "  (2): LinearDecoder(\n",
              "    (decoder): Linear(in_features=400, out_features=39619, bias=True)\n",
              "    (output_dp): RNNDropout()\n",
              "  )\n",
              ")], add_time=True, silent=None)"
            ]
          },
          "metadata": {
            "tags": []
          },
          "execution_count": 33
        }
      ]
    },
    {
      "cell_type": "code",
      "metadata": {
        "id": "TYqF2hryRGYd",
        "colab_type": "code",
        "colab": {}
      },
      "source": [
        "learn.unfreeze()"
      ],
      "execution_count": 0,
      "outputs": []
    },
    {
      "cell_type": "code",
      "metadata": {
        "id": "tKbJG-9DRKJu",
        "colab_type": "code",
        "outputId": "ad542893-48dc-4963-be2f-a67af7addf7e",
        "colab": {
          "base_uri": "https://localhost:8080/",
          "height": 363
        }
      },
      "source": [
        "learn.fit_one_cycle(10, 1e-3, moms=(0.8,0.7))"
      ],
      "execution_count": 0,
      "outputs": [
        {
          "output_type": "display_data",
          "data": {
            "text/html": [
              "<table border=\"1\" class=\"dataframe\">\n",
              "  <thead>\n",
              "    <tr style=\"text-align: left;\">\n",
              "      <th>epoch</th>\n",
              "      <th>train_loss</th>\n",
              "      <th>valid_loss</th>\n",
              "      <th>accuracy</th>\n",
              "      <th>time</th>\n",
              "    </tr>\n",
              "  </thead>\n",
              "  <tbody>\n",
              "    <tr>\n",
              "      <td>0</td>\n",
              "      <td>3.940291</td>\n",
              "      <td>3.935361</td>\n",
              "      <td>0.301197</td>\n",
              "      <td>12:38</td>\n",
              "    </tr>\n",
              "    <tr>\n",
              "      <td>1</td>\n",
              "      <td>3.840852</td>\n",
              "      <td>3.869266</td>\n",
              "      <td>0.308520</td>\n",
              "      <td>12:38</td>\n",
              "    </tr>\n",
              "    <tr>\n",
              "      <td>2</td>\n",
              "      <td>3.804961</td>\n",
              "      <td>3.825590</td>\n",
              "      <td>0.313334</td>\n",
              "      <td>12:36</td>\n",
              "    </tr>\n",
              "    <tr>\n",
              "      <td>3</td>\n",
              "      <td>3.713791</td>\n",
              "      <td>3.794418</td>\n",
              "      <td>0.317082</td>\n",
              "      <td>12:36</td>\n",
              "    </tr>\n",
              "    <tr>\n",
              "      <td>4</td>\n",
              "      <td>3.631890</td>\n",
              "      <td>3.775974</td>\n",
              "      <td>0.319841</td>\n",
              "      <td>12:35</td>\n",
              "    </tr>\n",
              "    <tr>\n",
              "      <td>5</td>\n",
              "      <td>3.547179</td>\n",
              "      <td>3.765615</td>\n",
              "      <td>0.321563</td>\n",
              "      <td>12:37</td>\n",
              "    </tr>\n",
              "    <tr>\n",
              "      <td>6</td>\n",
              "      <td>3.469834</td>\n",
              "      <td>3.760686</td>\n",
              "      <td>0.322648</td>\n",
              "      <td>12:37</td>\n",
              "    </tr>\n",
              "    <tr>\n",
              "      <td>7</td>\n",
              "      <td>3.382077</td>\n",
              "      <td>3.762065</td>\n",
              "      <td>0.322997</td>\n",
              "      <td>12:38</td>\n",
              "    </tr>\n",
              "    <tr>\n",
              "      <td>8</td>\n",
              "      <td>3.327897</td>\n",
              "      <td>3.767230</td>\n",
              "      <td>0.322655</td>\n",
              "      <td>12:40</td>\n",
              "    </tr>\n",
              "    <tr>\n",
              "      <td>9</td>\n",
              "      <td>3.305606</td>\n",
              "      <td>3.771553</td>\n",
              "      <td>0.322519</td>\n",
              "      <td>12:39</td>\n",
              "    </tr>\n",
              "  </tbody>\n",
              "</table>"
            ],
            "text/plain": [
              "<IPython.core.display.HTML object>"
            ]
          },
          "metadata": {
            "tags": []
          }
        }
      ]
    },
    {
      "cell_type": "code",
      "metadata": {
        "id": "iskD0TtDXKuH",
        "colab_type": "code",
        "colab": {}
      },
      "source": [
        "learn.save('fine_tuned')"
      ],
      "execution_count": 0,
      "outputs": []
    },
    {
      "cell_type": "code",
      "metadata": {
        "id": "tksVHNpUxc6v",
        "colab_type": "code",
        "outputId": "9e6cfb3f-0143-4a00-a98b-b21a8bc9da38",
        "colab": {
          "base_uri": "https://localhost:8080/",
          "height": 3521
        }
      },
      "source": [
        "learn.load('fine_tuned')"
      ],
      "execution_count": 0,
      "outputs": [
        {
          "output_type": "execute_result",
          "data": {
            "text/plain": [
              "LanguageLearner(data=TextLMDataBunch;\n",
              "\n",
              "Train: LabelList (27454 items)\n",
              "x: LMTextList\n",
              "xxbos xxmaj horrible ending - and i ca n't believe xxmaj moore spent a year coming up with it . xxmaj smacks of xxup l. xxmaj ron xxmaj hubbard and xxmaj xxunk , which xxmaj hubbard claimed to pen in just three weeks . xxmaj this was actually disappointing enough for me to toss my discs from the first 3.5 years . xxmaj now , the first 1.5 hours were action packed , though absurd in the premise , and then it deteriorated into a slow , painful , sophomoric dissolution of the series . xxmaj unbelievable how slow and drawn out that last hour was . xxmaj were we to think more deeply ? xxmaj if i wanted a lesson in a - materialism , i would reread xxmaj daniel xxmaj quinn 's xxmaj ishmael . xxmaj absurd to think 38 k people would give up everything for a \" fresh start \" . xxmaj absurd to throw in a disappearing xxmaj kara , and a reappearing xxmaj xxunk and xxmaj six . xxmaj absurd to throw in the xxmaj xxunk xxmaj eve . xxmaj just absurd .,xxbos \" xxmaj ghost of xxmaj xxunk xxmaj hollow \" appears to take place in a spotless netherworld , an era long gone by , where the biggest sin a kid could commit would be in defying the law and getting a traffic ticket . xxmaj it opens with a young female auto fanatic getting the business from her arch rival , who pressures her into a car race . xxmaj that 's about it for the drag - racing -- this b - flick is mostly concerned with rock ' n roll , man ! xxmaj the folks at xxmaj american xxmaj international were obviously fond of decent , square teens who liked to party and yet did n't mind an adult xxunk . xxmaj there are a few amusing double entendres and fruity exchanges ( xxmaj necking xxmaj kid : \" xxmaj we thought we 'd come out for some fresh xxunk ... xxmaj dad : \" xxmaj where did you think you 'd find it , down her throat ? \" ) , but the ghost is a little late in arriving . xxmaj brief at 65 minutes , the movie cheats us with a climactic car race that actually takes place off - screen and a xxunk xxmaj doo \"- styled unmasking which makes no sense . xxmaj however , for nostalgia buffs , some mindless fun . * * from xxrep 4 *,xxbos i only hope that no xxunk / ancient historians saw \" xxmaj cleopatra \" , or , if they did , that they took it as a laugh . xxmaj the movie is horrendously inaccurate , more laughably , even , than \" xxmaj gladiator \" ( which is at least a well - written script whose historical errors are articulate and correspond well to the story ) . xxmaj most blatant is xxmaj xxunk , xxmaj caesar 's heir , in the xxmaj senate before xxmaj caesar 's assassination : at the ripe old age of 19 ! \n",
              " \n",
              "  xxmaj besides this , the acting is mediocre . xxmaj timothy xxmaj dalton has more than a hint of xxmaj james xxmaj bond in him when he says , \" xxmaj caesar . xxmaj julius xxmaj caesar . \" xxmaj billy xxmaj zane is a laughably dense xxmaj marc xxmaj antony . xxmaj and xxmaj leonor xxmaj xxunk tries her best to be the seductive xxmaj pharaoh ( who in real life was not good - looking at all ) but comes off as unbelievable . \n",
              " \n",
              "  xxmaj so this is a warning for all historians -- this movie is not true to life !,xxbos i just watched the 30th xxmaj anniversary edition of xxmaj blazing xxmaj saddles , one of my all time xxmaj favorites ! ! xxmaj the xxup tv xxmaj pilot for xxmaj black xxmaj bart stunk . xxmaj the plot was non - existent and the acting was not good . xxmaj it was obviously an attempt to profit off of the success of xxmaj blazing xxmaj saddles and there have been xxup tv shows that have succeeded in doing take - offs of big movies , but this one would never have worked . xxmaj considering that for so many years xxup tv would not even play the farting noises when they televised the movie , it is inconceivable that they thought they could put a show on xxup tv with the \" n \" word thrown around . xxmaj on the other hand , i enjoyed seeing a lot of familiar faces ! ! ! xxmaj there were quite a few actors / actresses that i recognized from other shows over the years . i had to write down all the names and do a few searches . xxmaj that was fun . i was arguing with my mother if xxmaj steve xxmaj xxunk was from xxmaj barney xxmaj miller or xxmaj mash . i won ! :),xxbos xxmaj to review this movie , i without any doubt would have to quote that memorable scene in xxmaj tarantino 's \" xxmaj pulp xxmaj fiction \" ( 1994 ) when xxmaj jules and xxmaj vincent are talking about xxmaj mia xxmaj wallace and what she does for a living . xxmaj jules tells xxmaj vincent that the \" xxmaj only thing she did worthwhile was pilot \" . xxmaj vincent asks \" xxmaj what the hell is a pilot ? \" and xxmaj jules goes into a very well description of what a xxup tv pilot is : \" xxmaj well , the way they make shows is , they make one show . xxmaj that show 's called a ' pilot ' . xxmaj then they show that show to the people who make shows , and on the strength of that one show they decide if they 're going to make more shows . xxmaj some pilots get picked and become television programs . xxmaj some do n't , become nothing . xxmaj she starred in one of the ones that became nothing . \" xxmaj now to stretch on what xxmaj jules was talking about , there are xxup billions of television shows / pilots that were never aired because they simply were not ... well , good . xxmaj probably the most notorious pilot that comes to mind is \" xxup xxunk \" , a spin - off to \" xxup m*a*s*h \" with xxmaj gary \" xxmaj radar \" xxmaj xxunk as the lead . xxmaj hmmm , would somebody really want to be watching xxmaj radar for a half - hour trying to solve crimes ? xxmaj hence , the show was never picked up . xxmaj what many people do n't know ( or what they thought they knew ) is that pilots are hardly ever shown on the air , for they are made strictly for the xxmaj television networks for them to decide . xxmaj some have made they 're way past and got onto the air ( xxmaj the pilot for the animated series \" xxmaj american xxmaj dad \" comes to mind , as the show 's serial itself did n't begin until nearly four months later . xxmaj however , there are times were we should all be glad pilots never make it to air , and this here is why . \n",
              " \n",
              "  \" xxmaj black xxmaj bart \" , a supposed tie - in with the xxmaj mel xxmaj brooks comedy classic , \" xxmaj blazing xxmaj saddles \" , is a stale and bland \" sitcom \" with little heart and no soul . \" xxmaj saddles \" was a controversial comedy , nevertheless , with it 's racist humor and vulgar comedy , which comes to mind \" what idiot decided this would make a great television show xxup for xxup prime xxup time xxup tv ? ! ? \" i say \" supposed \" , because none of the memorable characters from the movie , aside from xxmaj bart , on in this mess of a xxup tv show . xxmaj mel xxmaj brooks was n't even involved with the production of the serial and this was the first mistake in a long line ( xxmaj in a related story , i recently found out about an xxunk xxup tv pilot for a series based on the movie \" xxmaj clerks . \" that xxmaj kevin xxmaj smith was no involved in xxrep 4 . you see what happens ? ! ? ) . \n",
              " \n",
              "  xxmaj set somewhere around the same time as the movie ( or at all ) , the story circles around the only xxmaj black sheriff in the wild west , named appropriately ' xxmaj black ' xxmaj bart , who is this time played by future xxmaj academy xxmaj award winner xxmaj louis xxmaj gossett xxmaj jr. , obviously before his stint in \" real \" acting , whereas in this he is playing a \" g - rated \" xxmaj richard xxmaj pryor . xxmaj most of the other characters are carbon ( if not , really bad ) copies of the characters in the movie : xxmaj jim , xxmaj the xxmaj waco xxmaj kid is replaced by a similar looking character named xxmaj reb xxmaj jordan , a former xxmaj confederate soldier who is quick with the gun . xxmaj lilian xxmaj von xxmaj xxunk is now xxmaj belle xxmaj xxunk , a more of a ripoff of the character being that she 's a show dancer and a xxmaj german with a xxmaj marlene xxmaj dietrich - type accent and personality . xxmaj while that 's pretty much the end in similarities , xxmaj the lead \" bad guy \" in the story is xxmaj fern xxmaj xxunk , played by xxmaj noble xxmaj willingham , who i assumed would 've been xxmaj xxunk xxmaj lamar if xxmaj warner xxmaj bros. secured the rights to the name ( xxmaj see trivia for \" xxmaj blazing xxmaj saddles \" ) and his son xxmaj curley ... i dunno , xxmaj xxunk i suppose ? xxmaj the story is a poor excuse for a sitcom , much less a pilot . xxmaj bart deals with the mayor 's drunk son and he 's out - of - control behavior which has caused the town to spin . xxmaj really , it 's a story that tries to introduce all the characters in the \" series \" and does n't focus on the variety and context that would make this an \" alright \" show . i ca n't really call it a sitcom ( and even if i wanted to ) and that 's primarily the fact it was shot on the backlot at xxmaj warner xxmaj bros. xxmaj studios and later added a laugh track , so the show is set up almost exactly like \" xxup m*a*s*h \" ( complete with a bland and dull \" laughing \" that is identical to the series ) . xxmaj the acting is so - so , but there 's one part that always make me laugh , and that 's when the actor playing xxmaj reb xxmaj jordan almost seems to forget his lines and tries really hard to remember them while trying to sputter out a piece of dialogue . xxup ha ! xxmaj the script is rather dull and is attempts to make racism more humorous than it was in the movie ( xxmaj surprisingly , they use the word \" xxmaj xxunk \" numerous amount of times through a xxunk episode , rather touchy for it 's time period and even for today ) and it gets repetitive . \n",
              " \n",
              "  xxmaj if you ever get your hands on this unseen piece of xxrep 5 s ... surly interesting novelty item , watch it just for the sake of the feeling for watching pilots ( xxmaj it 's on the collector 's edition of \" xxmaj blazing xxmaj saddles \" , xxmaj god knows why ) . xxmaj there , yourself get a first hand chance for the reason why many movie tie - in pilots never air .\n",
              "y: LMLabelList\n",
              ",,,,\n",
              "Path: /content/gdrive/My Drive/fastai-v3/l3-imdb/imdb;\n",
              "\n",
              "Valid: LabelList (3050 items)\n",
              "x: LMTextList\n",
              "xxbos xxup warning - xxup possible xxup spoilers ! \n",
              " \n",
              "  ' xxmaj rock xxmaj star ' is one of the solid rock movies i have ever seen . xxmaj the original idea of the script focuses on a young singer in the 80s , leading a tribute band of one of the most famous hard rock bands of the period . xxmaj he is not only playing their music to the note , but also living the life of his idols . xxmaj when his friends in the tribute band xxunk him , in search of some originality , the destiny plays him a good turn , and gets hired to replace the lead singer of the idols band . a dream came true ? xxmaj well , almost . xxmaj while starting to live the life of the famous , including the drug and sex excesses of the rock scene of the 80s , he will also have to face the problems in relationship with his supportive girlfriend , and will be eventually need to answer questions about creativity and having a saying in the music of the band . \n",
              " \n",
              "  i liked the film , one of the reasons being that it is one of the first times that the life and music of the hard metal rock bands is shown in a realistic manner . xxmaj fans of the music genre will be satisfied by the soundtrack . xxmaj the overall idea is original , and the issues of how an artist lives his life and creates his art are being rendered in a sensible and balanced manner . xxmaj acting is quite good , with xxmaj mark xxmaj wahlberg better than in most of the other action flics i saw him lately , and xxmaj jennifer xxmaj aniston in tune with the nice - girl - who - knows - a - lot - about - life role . xxmaj more problematic is the ending , which is quite conventional , and may disappoint . xxmaj it looks like the main character after xxunk the big and famous band has found his own creative path . xxmaj however , in an ironical twist the music he is playing in the club at the end is the worst in the whole movie ! \n",
              " \n",
              "  8 / 10 on my personal scale . xxmaj worth seeing - however , expect exposure to a high dose of metal . xxmaj if you do not like this kind of music , you may chose to avoid this film .,xxbos xxmaj this is a pale imitation of ' xxmaj officer and a xxmaj gentleman . ' xxmaj there is xxup no chemistry between xxmaj kutcher and the unknown woman who plays his love interest . xxmaj the dialog is wooden , the situations hackneyed . xxmaj it 's too long and the climax is anti - climactic ( ! ) . i love the xxup uscg , its men and women are fearless and tough . xxmaj the action scenes are awesome , but this movie does n't do much for recruiting , i fear . xxmaj the script is formulaic , but confusing . xxmaj kutcher 's character is trying to redeem himself for an accident that was n't his fault ? xxmaj costner 's is raging against the dying of the light , but why ? xxmaj his ' conflict ' with his wife is about as deep as a mud puddle . i saw this sneak preview for free and certainly felt i got my money 's worth .,xxbos xxmaj the three shorts included on this compilation issued in 1959 are timeless xxmaj chaplin classics , nothing wrong with them and nothing to criticize either . xxmaj chaplin 's score for these films and the framework added as xxunk sections between the shorts are also well done . xxmaj the problem with this compilation is a minor one , yet annoying . xxmaj the shorts have been stretch - printed to fit the 24 frame p.s . speed of contemporary films whereas the shorts themselves where shot at 20 frames p.s . xxmaj this results is jerky motion that does n't look very attractive , and yet this was an excusable solution given the limitations of optical printing technology at the time , it 's just not excusable that the current xxup dvd version is xxunk , the films look dirty as they did in 1959 and are still stretch printed . xxmaj there are separate restored versions of these classics available , even on xxup dvd , and it would not be a problem to restore the image , but alas this has not been done . \n",
              " \n",
              "  a minor quibble has taken up a lot of space in my article , but i say again a minor quibble , it should not detract all that much from the experience although it detracted one point from my rating . xxmaj the shorts are still worth ' 10 ' .,xxbos xxmaj horror - genius xxmaj dario xxmaj argento is one of my personal favorite directors , and his films \" xxmaj suspiria \" , \" xxmaj phenomena \" and \" xxmaj xxunk xxmaj rosso \" range high on my personal all - time favorite list . \" xxmaj opera \" of 1987 is yet another tantalizing and brilliant film that no xxmaj horror lover can afford to miss , and that will keep you on the edge of your chair from the beginning to the end . xxmaj this stunning and ultra - violent xxmaj giallo could well be described as the master 's nastiest film , which is quite something considering that xxmaj argento 's films are not exactly known for the xxunk of their violence . xxmaj the violence is extreme and very stylized in a brilliant way that makes xxmaj opera a film censor 's nightmare . \n",
              " \n",
              "  - xxmaj warning ! xxup spoilers ahead ! - \n",
              " \n",
              "  xxmaj just when xxmaj betty ( xxmaj christina xxmaj marsillach ) , a young opera singer , is becoming successful , a murderous and incredibly sadistic psychopath starts stalking her ... xxmaj the murders are truly brutal , and of particularly sadistic nature . xxmaj the killer attaches needles to the tied up xxmaj betty 's eyelids , so she has to keep them open and watch while he brutally murders people close to her in abhorrent ways . xxmaj when done with the butchering , the killer releases xxmaj betty and leaves , just to come back for other friends of hers ... \n",
              " \n",
              "  xxmaj as usual for xxmaj argento 's films , the violence is extremely graphic and very stylized . \" xxmaj opera \" truly is a brutal film , and what a stylish and atmospheric film it is . xxmaj this film is absolutely tantalizing and pure suspense from the beginning to the end . xxmaj the performances are entirely very good , especially xxmaj christina xxmaj marsillach is brilliant in the lead . a stunning beauty and great actress alike , xxmaj marsillach fits perfectly in her role of the talented singer , whose fear and horrid experiences are slowly making her crazy . xxmaj other great performances include those of xxmaj ian xxmaj charleston as a xxmaj horror film director who is directing an xxmaj opera , and director xxmaj argento 's real - life girlfriend xxmaj daria xxmaj nicolodi , who has a role in many of his movies . xxmaj the camera work is excellent as in all xxmaj argento films and xxmaj the huge xxmaj opera xxmaj house is an excellent setting that contributes a lot both to the film 's beauty and its permanently creepy atmosphere . xxmaj the score , which is partly classical music and partly heavy metal is great too , even though i slightly missed xxmaj goblin 's brilliant xxmaj progressive xxmaj rock xxmaj soundtracks that are such a distinguishing element of most other xxmaj argento movies . \" xxmaj opera \" truly is a terrifying and absolutely breathtaking xxmaj giallo experience . xxmaj this is an absolute must - see for any xxmaj horror lover , and i highly recommend it to any other film - fan who is not too sensitive when it comes to extreme violence . xxmaj excellent and absolutely tantalizing !,xxbos i had no expectations when seeing the movie because i was seeing it with a bunch of friends and had no idea what it was . xxmaj some parts were silly and some parts were lame , but overall the movie was worth watching . i like goth looking women ; this movie has plenty of it . xxmaj the fangs do look really lame though .\n",
              "y: LMLabelList\n",
              ",,,,\n",
              "Path: /content/gdrive/My Drive/fastai-v3/l3-imdb/imdb;\n",
              "\n",
              "Test: None, model=SequentialRNN(\n",
              "  (0): AWD_LSTM(\n",
              "    (encoder): Embedding(39619, 400, padding_idx=1)\n",
              "    (encoder_dp): EmbeddingDropout(\n",
              "      (emb): Embedding(39619, 400, padding_idx=1)\n",
              "    )\n",
              "    (rnns): ModuleList(\n",
              "      (0): WeightDropout(\n",
              "        (module): LSTM(400, 1150, batch_first=True)\n",
              "      )\n",
              "      (1): WeightDropout(\n",
              "        (module): LSTM(1150, 1150, batch_first=True)\n",
              "      )\n",
              "      (2): WeightDropout(\n",
              "        (module): LSTM(1150, 400, batch_first=True)\n",
              "      )\n",
              "    )\n",
              "    (input_dp): RNNDropout()\n",
              "    (hidden_dps): ModuleList(\n",
              "      (0): RNNDropout()\n",
              "      (1): RNNDropout()\n",
              "      (2): RNNDropout()\n",
              "    )\n",
              "  )\n",
              "  (1): LinearDecoder(\n",
              "    (decoder): Linear(in_features=400, out_features=39619, bias=True)\n",
              "    (output_dp): RNNDropout()\n",
              "  )\n",
              "), opt_func=functools.partial(<class 'torch.optim.adam.Adam'>, betas=(0.9, 0.99)), loss_func=FlattenedLoss of CrossEntropyLoss(), metrics=[<function accuracy at 0x7f74d926dd08>], true_wd=True, bn_wd=True, wd=0.01, train_bn=True, path=PosixPath('/content/gdrive/My Drive/fastai-v3/l3-imdb/imdb'), model_dir='models', callback_fns=[functools.partial(<class 'fastai.basic_train.Recorder'>, add_time=True, silent=False)], callbacks=[RNNTrainer\n",
              "learn: LanguageLearner(data=TextLMDataBunch;\n",
              "\n",
              "Train: LabelList (27454 items)\n",
              "x: LMTextList\n",
              "xxbos xxmaj horrible ending - and i ca n't believe xxmaj moore spent a year coming up with it . xxmaj smacks of xxup l. xxmaj ron xxmaj hubbard and xxmaj xxunk , which xxmaj hubbard claimed to pen in just three weeks . xxmaj this was actually disappointing enough for me to toss my discs from the first 3.5 years . xxmaj now , the first 1.5 hours were action packed , though absurd in the premise , and then it deteriorated into a slow , painful , sophomoric dissolution of the series . xxmaj unbelievable how slow and drawn out that last hour was . xxmaj were we to think more deeply ? xxmaj if i wanted a lesson in a - materialism , i would reread xxmaj daniel xxmaj quinn 's xxmaj ishmael . xxmaj absurd to think 38 k people would give up everything for a \" fresh start \" . xxmaj absurd to throw in a disappearing xxmaj kara , and a reappearing xxmaj xxunk and xxmaj six . xxmaj absurd to throw in the xxmaj xxunk xxmaj eve . xxmaj just absurd .,xxbos \" xxmaj ghost of xxmaj xxunk xxmaj hollow \" appears to take place in a spotless netherworld , an era long gone by , where the biggest sin a kid could commit would be in defying the law and getting a traffic ticket . xxmaj it opens with a young female auto fanatic getting the business from her arch rival , who pressures her into a car race . xxmaj that 's about it for the drag - racing -- this b - flick is mostly concerned with rock ' n roll , man ! xxmaj the folks at xxmaj american xxmaj international were obviously fond of decent , square teens who liked to party and yet did n't mind an adult xxunk . xxmaj there are a few amusing double entendres and fruity exchanges ( xxmaj necking xxmaj kid : \" xxmaj we thought we 'd come out for some fresh xxunk ... xxmaj dad : \" xxmaj where did you think you 'd find it , down her throat ? \" ) , but the ghost is a little late in arriving . xxmaj brief at 65 minutes , the movie cheats us with a climactic car race that actually takes place off - screen and a xxunk xxmaj doo \"- styled unmasking which makes no sense . xxmaj however , for nostalgia buffs , some mindless fun . * * from xxrep 4 *,xxbos i only hope that no xxunk / ancient historians saw \" xxmaj cleopatra \" , or , if they did , that they took it as a laugh . xxmaj the movie is horrendously inaccurate , more laughably , even , than \" xxmaj gladiator \" ( which is at least a well - written script whose historical errors are articulate and correspond well to the story ) . xxmaj most blatant is xxmaj xxunk , xxmaj caesar 's heir , in the xxmaj senate before xxmaj caesar 's assassination : at the ripe old age of 19 ! \n",
              " \n",
              "  xxmaj besides this , the acting is mediocre . xxmaj timothy xxmaj dalton has more than a hint of xxmaj james xxmaj bond in him when he says , \" xxmaj caesar . xxmaj julius xxmaj caesar . \" xxmaj billy xxmaj zane is a laughably dense xxmaj marc xxmaj antony . xxmaj and xxmaj leonor xxmaj xxunk tries her best to be the seductive xxmaj pharaoh ( who in real life was not good - looking at all ) but comes off as unbelievable . \n",
              " \n",
              "  xxmaj so this is a warning for all historians -- this movie is not true to life !,xxbos i just watched the 30th xxmaj anniversary edition of xxmaj blazing xxmaj saddles , one of my all time xxmaj favorites ! ! xxmaj the xxup tv xxmaj pilot for xxmaj black xxmaj bart stunk . xxmaj the plot was non - existent and the acting was not good . xxmaj it was obviously an attempt to profit off of the success of xxmaj blazing xxmaj saddles and there have been xxup tv shows that have succeeded in doing take - offs of big movies , but this one would never have worked . xxmaj considering that for so many years xxup tv would not even play the farting noises when they televised the movie , it is inconceivable that they thought they could put a show on xxup tv with the \" n \" word thrown around . xxmaj on the other hand , i enjoyed seeing a lot of familiar faces ! ! ! xxmaj there were quite a few actors / actresses that i recognized from other shows over the years . i had to write down all the names and do a few searches . xxmaj that was fun . i was arguing with my mother if xxmaj steve xxmaj xxunk was from xxmaj barney xxmaj miller or xxmaj mash . i won ! :),xxbos xxmaj to review this movie , i without any doubt would have to quote that memorable scene in xxmaj tarantino 's \" xxmaj pulp xxmaj fiction \" ( 1994 ) when xxmaj jules and xxmaj vincent are talking about xxmaj mia xxmaj wallace and what she does for a living . xxmaj jules tells xxmaj vincent that the \" xxmaj only thing she did worthwhile was pilot \" . xxmaj vincent asks \" xxmaj what the hell is a pilot ? \" and xxmaj jules goes into a very well description of what a xxup tv pilot is : \" xxmaj well , the way they make shows is , they make one show . xxmaj that show 's called a ' pilot ' . xxmaj then they show that show to the people who make shows , and on the strength of that one show they decide if they 're going to make more shows . xxmaj some pilots get picked and become television programs . xxmaj some do n't , become nothing . xxmaj she starred in one of the ones that became nothing . \" xxmaj now to stretch on what xxmaj jules was talking about , there are xxup billions of television shows / pilots that were never aired because they simply were not ... well , good . xxmaj probably the most notorious pilot that comes to mind is \" xxup xxunk \" , a spin - off to \" xxup m*a*s*h \" with xxmaj gary \" xxmaj radar \" xxmaj xxunk as the lead . xxmaj hmmm , would somebody really want to be watching xxmaj radar for a half - hour trying to solve crimes ? xxmaj hence , the show was never picked up . xxmaj what many people do n't know ( or what they thought they knew ) is that pilots are hardly ever shown on the air , for they are made strictly for the xxmaj television networks for them to decide . xxmaj some have made they 're way past and got onto the air ( xxmaj the pilot for the animated series \" xxmaj american xxmaj dad \" comes to mind , as the show 's serial itself did n't begin until nearly four months later . xxmaj however , there are times were we should all be glad pilots never make it to air , and this here is why . \n",
              " \n",
              "  \" xxmaj black xxmaj bart \" , a supposed tie - in with the xxmaj mel xxmaj brooks comedy classic , \" xxmaj blazing xxmaj saddles \" , is a stale and bland \" sitcom \" with little heart and no soul . \" xxmaj saddles \" was a controversial comedy , nevertheless , with it 's racist humor and vulgar comedy , which comes to mind \" what idiot decided this would make a great television show xxup for xxup prime xxup time xxup tv ? ! ? \" i say \" supposed \" , because none of the memorable characters from the movie , aside from xxmaj bart , on in this mess of a xxup tv show . xxmaj mel xxmaj brooks was n't even involved with the production of the serial and this was the first mistake in a long line ( xxmaj in a related story , i recently found out about an xxunk xxup tv pilot for a series based on the movie \" xxmaj clerks . \" that xxmaj kevin xxmaj smith was no involved in xxrep 4 . you see what happens ? ! ? ) . \n",
              " \n",
              "  xxmaj set somewhere around the same time as the movie ( or at all ) , the story circles around the only xxmaj black sheriff in the wild west , named appropriately ' xxmaj black ' xxmaj bart , who is this time played by future xxmaj academy xxmaj award winner xxmaj louis xxmaj gossett xxmaj jr. , obviously before his stint in \" real \" acting , whereas in this he is playing a \" g - rated \" xxmaj richard xxmaj pryor . xxmaj most of the other characters are carbon ( if not , really bad ) copies of the characters in the movie : xxmaj jim , xxmaj the xxmaj waco xxmaj kid is replaced by a similar looking character named xxmaj reb xxmaj jordan , a former xxmaj confederate soldier who is quick with the gun . xxmaj lilian xxmaj von xxmaj xxunk is now xxmaj belle xxmaj xxunk , a more of a ripoff of the character being that she 's a show dancer and a xxmaj german with a xxmaj marlene xxmaj dietrich - type accent and personality . xxmaj while that 's pretty much the end in similarities , xxmaj the lead \" bad guy \" in the story is xxmaj fern xxmaj xxunk , played by xxmaj noble xxmaj willingham , who i assumed would 've been xxmaj xxunk xxmaj lamar if xxmaj warner xxmaj bros. secured the rights to the name ( xxmaj see trivia for \" xxmaj blazing xxmaj saddles \" ) and his son xxmaj curley ... i dunno , xxmaj xxunk i suppose ? xxmaj the story is a poor excuse for a sitcom , much less a pilot . xxmaj bart deals with the mayor 's drunk son and he 's out - of - control behavior which has caused the town to spin . xxmaj really , it 's a story that tries to introduce all the characters in the \" series \" and does n't focus on the variety and context that would make this an \" alright \" show . i ca n't really call it a sitcom ( and even if i wanted to ) and that 's primarily the fact it was shot on the backlot at xxmaj warner xxmaj bros. xxmaj studios and later added a laugh track , so the show is set up almost exactly like \" xxup m*a*s*h \" ( complete with a bland and dull \" laughing \" that is identical to the series ) . xxmaj the acting is so - so , but there 's one part that always make me laugh , and that 's when the actor playing xxmaj reb xxmaj jordan almost seems to forget his lines and tries really hard to remember them while trying to sputter out a piece of dialogue . xxup ha ! xxmaj the script is rather dull and is attempts to make racism more humorous than it was in the movie ( xxmaj surprisingly , they use the word \" xxmaj xxunk \" numerous amount of times through a xxunk episode , rather touchy for it 's time period and even for today ) and it gets repetitive . \n",
              " \n",
              "  xxmaj if you ever get your hands on this unseen piece of xxrep 5 s ... surly interesting novelty item , watch it just for the sake of the feeling for watching pilots ( xxmaj it 's on the collector 's edition of \" xxmaj blazing xxmaj saddles \" , xxmaj god knows why ) . xxmaj there , yourself get a first hand chance for the reason why many movie tie - in pilots never air .\n",
              "y: LMLabelList\n",
              ",,,,\n",
              "Path: /content/gdrive/My Drive/fastai-v3/l3-imdb/imdb;\n",
              "\n",
              "Valid: LabelList (3050 items)\n",
              "x: LMTextList\n",
              "xxbos xxup warning - xxup possible xxup spoilers ! \n",
              " \n",
              "  ' xxmaj rock xxmaj star ' is one of the solid rock movies i have ever seen . xxmaj the original idea of the script focuses on a young singer in the 80s , leading a tribute band of one of the most famous hard rock bands of the period . xxmaj he is not only playing their music to the note , but also living the life of his idols . xxmaj when his friends in the tribute band xxunk him , in search of some originality , the destiny plays him a good turn , and gets hired to replace the lead singer of the idols band . a dream came true ? xxmaj well , almost . xxmaj while starting to live the life of the famous , including the drug and sex excesses of the rock scene of the 80s , he will also have to face the problems in relationship with his supportive girlfriend , and will be eventually need to answer questions about creativity and having a saying in the music of the band . \n",
              " \n",
              "  i liked the film , one of the reasons being that it is one of the first times that the life and music of the hard metal rock bands is shown in a realistic manner . xxmaj fans of the music genre will be satisfied by the soundtrack . xxmaj the overall idea is original , and the issues of how an artist lives his life and creates his art are being rendered in a sensible and balanced manner . xxmaj acting is quite good , with xxmaj mark xxmaj wahlberg better than in most of the other action flics i saw him lately , and xxmaj jennifer xxmaj aniston in tune with the nice - girl - who - knows - a - lot - about - life role . xxmaj more problematic is the ending , which is quite conventional , and may disappoint . xxmaj it looks like the main character after xxunk the big and famous band has found his own creative path . xxmaj however , in an ironical twist the music he is playing in the club at the end is the worst in the whole movie ! \n",
              " \n",
              "  8 / 10 on my personal scale . xxmaj worth seeing - however , expect exposure to a high dose of metal . xxmaj if you do not like this kind of music , you may chose to avoid this film .,xxbos xxmaj this is a pale imitation of ' xxmaj officer and a xxmaj gentleman . ' xxmaj there is xxup no chemistry between xxmaj kutcher and the unknown woman who plays his love interest . xxmaj the dialog is wooden , the situations hackneyed . xxmaj it 's too long and the climax is anti - climactic ( ! ) . i love the xxup uscg , its men and women are fearless and tough . xxmaj the action scenes are awesome , but this movie does n't do much for recruiting , i fear . xxmaj the script is formulaic , but confusing . xxmaj kutcher 's character is trying to redeem himself for an accident that was n't his fault ? xxmaj costner 's is raging against the dying of the light , but why ? xxmaj his ' conflict ' with his wife is about as deep as a mud puddle . i saw this sneak preview for free and certainly felt i got my money 's worth .,xxbos xxmaj the three shorts included on this compilation issued in 1959 are timeless xxmaj chaplin classics , nothing wrong with them and nothing to criticize either . xxmaj chaplin 's score for these films and the framework added as xxunk sections between the shorts are also well done . xxmaj the problem with this compilation is a minor one , yet annoying . xxmaj the shorts have been stretch - printed to fit the 24 frame p.s . speed of contemporary films whereas the shorts themselves where shot at 20 frames p.s . xxmaj this results is jerky motion that does n't look very attractive , and yet this was an excusable solution given the limitations of optical printing technology at the time , it 's just not excusable that the current xxup dvd version is xxunk , the films look dirty as they did in 1959 and are still stretch printed . xxmaj there are separate restored versions of these classics available , even on xxup dvd , and it would not be a problem to restore the image , but alas this has not been done . \n",
              " \n",
              "  a minor quibble has taken up a lot of space in my article , but i say again a minor quibble , it should not detract all that much from the experience although it detracted one point from my rating . xxmaj the shorts are still worth ' 10 ' .,xxbos xxmaj horror - genius xxmaj dario xxmaj argento is one of my personal favorite directors , and his films \" xxmaj suspiria \" , \" xxmaj phenomena \" and \" xxmaj xxunk xxmaj rosso \" range high on my personal all - time favorite list . \" xxmaj opera \" of 1987 is yet another tantalizing and brilliant film that no xxmaj horror lover can afford to miss , and that will keep you on the edge of your chair from the beginning to the end . xxmaj this stunning and ultra - violent xxmaj giallo could well be described as the master 's nastiest film , which is quite something considering that xxmaj argento 's films are not exactly known for the xxunk of their violence . xxmaj the violence is extreme and very stylized in a brilliant way that makes xxmaj opera a film censor 's nightmare . \n",
              " \n",
              "  - xxmaj warning ! xxup spoilers ahead ! - \n",
              " \n",
              "  xxmaj just when xxmaj betty ( xxmaj christina xxmaj marsillach ) , a young opera singer , is becoming successful , a murderous and incredibly sadistic psychopath starts stalking her ... xxmaj the murders are truly brutal , and of particularly sadistic nature . xxmaj the killer attaches needles to the tied up xxmaj betty 's eyelids , so she has to keep them open and watch while he brutally murders people close to her in abhorrent ways . xxmaj when done with the butchering , the killer releases xxmaj betty and leaves , just to come back for other friends of hers ... \n",
              " \n",
              "  xxmaj as usual for xxmaj argento 's films , the violence is extremely graphic and very stylized . \" xxmaj opera \" truly is a brutal film , and what a stylish and atmospheric film it is . xxmaj this film is absolutely tantalizing and pure suspense from the beginning to the end . xxmaj the performances are entirely very good , especially xxmaj christina xxmaj marsillach is brilliant in the lead . a stunning beauty and great actress alike , xxmaj marsillach fits perfectly in her role of the talented singer , whose fear and horrid experiences are slowly making her crazy . xxmaj other great performances include those of xxmaj ian xxmaj charleston as a xxmaj horror film director who is directing an xxmaj opera , and director xxmaj argento 's real - life girlfriend xxmaj daria xxmaj nicolodi , who has a role in many of his movies . xxmaj the camera work is excellent as in all xxmaj argento films and xxmaj the huge xxmaj opera xxmaj house is an excellent setting that contributes a lot both to the film 's beauty and its permanently creepy atmosphere . xxmaj the score , which is partly classical music and partly heavy metal is great too , even though i slightly missed xxmaj goblin 's brilliant xxmaj progressive xxmaj rock xxmaj soundtracks that are such a distinguishing element of most other xxmaj argento movies . \" xxmaj opera \" truly is a terrifying and absolutely breathtaking xxmaj giallo experience . xxmaj this is an absolute must - see for any xxmaj horror lover , and i highly recommend it to any other film - fan who is not too sensitive when it comes to extreme violence . xxmaj excellent and absolutely tantalizing !,xxbos i had no expectations when seeing the movie because i was seeing it with a bunch of friends and had no idea what it was . xxmaj some parts were silly and some parts were lame , but overall the movie was worth watching . i like goth looking women ; this movie has plenty of it . xxmaj the fangs do look really lame though .\n",
              "y: LMLabelList\n",
              ",,,,\n",
              "Path: /content/gdrive/My Drive/fastai-v3/l3-imdb/imdb;\n",
              "\n",
              "Test: None, model=SequentialRNN(\n",
              "  (0): AWD_LSTM(\n",
              "    (encoder): Embedding(39619, 400, padding_idx=1)\n",
              "    (encoder_dp): EmbeddingDropout(\n",
              "      (emb): Embedding(39619, 400, padding_idx=1)\n",
              "    )\n",
              "    (rnns): ModuleList(\n",
              "      (0): WeightDropout(\n",
              "        (module): LSTM(400, 1150, batch_first=True)\n",
              "      )\n",
              "      (1): WeightDropout(\n",
              "        (module): LSTM(1150, 1150, batch_first=True)\n",
              "      )\n",
              "      (2): WeightDropout(\n",
              "        (module): LSTM(1150, 400, batch_first=True)\n",
              "      )\n",
              "    )\n",
              "    (input_dp): RNNDropout()\n",
              "    (hidden_dps): ModuleList(\n",
              "      (0): RNNDropout()\n",
              "      (1): RNNDropout()\n",
              "      (2): RNNDropout()\n",
              "    )\n",
              "  )\n",
              "  (1): LinearDecoder(\n",
              "    (decoder): Linear(in_features=400, out_features=39619, bias=True)\n",
              "    (output_dp): RNNDropout()\n",
              "  )\n",
              "), opt_func=functools.partial(<class 'torch.optim.adam.Adam'>, betas=(0.9, 0.99)), loss_func=FlattenedLoss of CrossEntropyLoss(), metrics=[<function accuracy at 0x7f74d926dd08>], true_wd=True, bn_wd=True, wd=0.01, train_bn=True, path=PosixPath('/content/gdrive/My Drive/fastai-v3/l3-imdb/imdb'), model_dir='models', callback_fns=[functools.partial(<class 'fastai.basic_train.Recorder'>, add_time=True, silent=False)], callbacks=[...], layer_groups=[Sequential(\n",
              "  (0): WeightDropout(\n",
              "    (module): LSTM(400, 1150, batch_first=True)\n",
              "  )\n",
              "  (1): RNNDropout()\n",
              "), Sequential(\n",
              "  (0): WeightDropout(\n",
              "    (module): LSTM(1150, 1150, batch_first=True)\n",
              "  )\n",
              "  (1): RNNDropout()\n",
              "), Sequential(\n",
              "  (0): WeightDropout(\n",
              "    (module): LSTM(1150, 400, batch_first=True)\n",
              "  )\n",
              "  (1): RNNDropout()\n",
              "), Sequential(\n",
              "  (0): Embedding(39619, 400, padding_idx=1)\n",
              "  (1): EmbeddingDropout(\n",
              "    (emb): Embedding(39619, 400, padding_idx=1)\n",
              "  )\n",
              "  (2): LinearDecoder(\n",
              "    (decoder): Linear(in_features=400, out_features=39619, bias=True)\n",
              "    (output_dp): RNNDropout()\n",
              "  )\n",
              ")], add_time=True, silent=None)\n",
              "alpha: 2.0\n",
              "beta: 1.0], layer_groups=[Sequential(\n",
              "  (0): WeightDropout(\n",
              "    (module): LSTM(400, 1150, batch_first=True)\n",
              "  )\n",
              "  (1): RNNDropout()\n",
              "), Sequential(\n",
              "  (0): WeightDropout(\n",
              "    (module): LSTM(1150, 1150, batch_first=True)\n",
              "  )\n",
              "  (1): RNNDropout()\n",
              "), Sequential(\n",
              "  (0): WeightDropout(\n",
              "    (module): LSTM(1150, 400, batch_first=True)\n",
              "  )\n",
              "  (1): RNNDropout()\n",
              "), Sequential(\n",
              "  (0): Embedding(39619, 400, padding_idx=1)\n",
              "  (1): EmbeddingDropout(\n",
              "    (emb): Embedding(39619, 400, padding_idx=1)\n",
              "  )\n",
              "  (2): LinearDecoder(\n",
              "    (decoder): Linear(in_features=400, out_features=39619, bias=True)\n",
              "    (output_dp): RNNDropout()\n",
              "  )\n",
              ")], add_time=True, silent=None)"
            ]
          },
          "metadata": {
            "tags": []
          },
          "execution_count": 35
        }
      ]
    },
    {
      "cell_type": "code",
      "metadata": {
        "id": "FeQvu4VCxirZ",
        "colab_type": "code",
        "colab": {}
      },
      "source": [
        "TEXT = \"I like this movie because\"\n",
        "N_WORDS = 40\n",
        "N_SENTENCES = 2"
      ],
      "execution_count": 0,
      "outputs": []
    },
    {
      "cell_type": "code",
      "metadata": {
        "id": "8T0Lq-RFxxZ9",
        "colab_type": "code",
        "outputId": "293a06e9-3cb8-4bf9-8903-b3f1e36614b9",
        "colab": {
          "base_uri": "https://localhost:8080/",
          "height": 74
        }
      },
      "source": [
        "print(\"\\n\".join(learn.predict(TEXT, N_WORDS, temperature=0.75) for _ in range(N_SENTENCES)))"
      ],
      "execution_count": 0,
      "outputs": [
        {
          "output_type": "stream",
          "text": [
            "I like this movie because during the whole movie i felt like i was watching an episode of Alien . i thought it was a very interesting family movie . It had an extremely slow pace and the acting was n't bad .\n",
            "I like this movie because it is one of the best movies ever , and i highly recommend it to everyone . The movie is \" great \" , and that 's because the movie is about the true nature of the world .\n"
          ],
          "name": "stdout"
        }
      ]
    },
    {
      "cell_type": "code",
      "metadata": {
        "id": "JnCdmv9Rx2NY",
        "colab_type": "code",
        "colab": {}
      },
      "source": [
        "learn.save_encoder('fine_tuned_enc')"
      ],
      "execution_count": 0,
      "outputs": []
    },
    {
      "cell_type": "markdown",
      "metadata": {
        "id": "A_L8XemQWqR6",
        "colab_type": "text"
      },
      "source": [
        "\n",
        "Classifier\n",
        "\n",
        "Now, we'll create a new data object that only grabs the labelled data and keeps those labels. Again, this line takes a bit of time.\n"
      ]
    },
    {
      "cell_type": "code",
      "metadata": {
        "id": "1DHqdPV9yApG",
        "colab_type": "code",
        "colab": {}
      },
      "source": [
        "path = untar_data(URLs.IMDB, dest=dest)"
      ],
      "execution_count": 0,
      "outputs": []
    },
    {
      "cell_type": "code",
      "metadata": {
        "id": "-I2WH1rAyLiv",
        "colab_type": "code",
        "outputId": "44cc8ab5-0491-433e-b1b2-2da168e0e8ae",
        "colab": {
          "base_uri": "https://localhost:8080/",
          "height": 477
        }
      },
      "source": [
        "data_class = (TextList.from_folder(path, vocab=data_lm.vocab)\n",
        "              .split_by_folder(valid='test')\n",
        "              .label_from_folder(classes=['neg','pos'])\n",
        "              .databunch(bs=bs)\n",
        "             )\n",
        "data_class.save('data_clas.pkl')"
      ],
      "execution_count": 0,
      "outputs": [
        {
          "output_type": "stream",
          "text": [
            "/usr/local/lib/python3.6/dist-packages/fastai/data_block.py:445: UserWarning: Your validation set is empty. If this is by design, use `split_none()`\n",
            "                 or pass `ignore_empty=True` when labelling to remove this warning.\n",
            "  or pass `ignore_empty=True` when labelling to remove this warning.\"\"\")\n"
          ],
          "name": "stderr"
        },
        {
          "output_type": "error",
          "ename": "KeyboardInterrupt",
          "evalue": "ignored",
          "traceback": [
            "\u001b[0;31m---------------------------------------------------------------------------\u001b[0m",
            "\u001b[0;31mKeyboardInterrupt\u001b[0m                         Traceback (most recent call last)",
            "\u001b[0;32m<ipython-input-43-06513616eab5>\u001b[0m in \u001b[0;36m<module>\u001b[0;34m()\u001b[0m\n\u001b[1;32m      1\u001b[0m data_class = (TextList.from_folder(path, vocab=data_lm.vocab)\n\u001b[1;32m      2\u001b[0m               \u001b[0;34m.\u001b[0m\u001b[0msplit_by_folder\u001b[0m\u001b[0;34m(\u001b[0m\u001b[0mvalid\u001b[0m\u001b[0;34m=\u001b[0m\u001b[0;34m'test'\u001b[0m\u001b[0;34m)\u001b[0m\u001b[0;34m\u001b[0m\u001b[0;34m\u001b[0m\u001b[0m\n\u001b[0;32m----> 3\u001b[0;31m               \u001b[0;34m.\u001b[0m\u001b[0mlabel_from_folder\u001b[0m\u001b[0;34m(\u001b[0m\u001b[0mclasses\u001b[0m\u001b[0;34m=\u001b[0m\u001b[0;34m[\u001b[0m\u001b[0;34m'neg'\u001b[0m\u001b[0;34m,\u001b[0m\u001b[0;34m'pos'\u001b[0m\u001b[0;34m]\u001b[0m\u001b[0;34m)\u001b[0m\u001b[0;34m\u001b[0m\u001b[0;34m\u001b[0m\u001b[0m\n\u001b[0m\u001b[1;32m      4\u001b[0m               \u001b[0;34m.\u001b[0m\u001b[0mdatabunch\u001b[0m\u001b[0;34m(\u001b[0m\u001b[0mbs\u001b[0m\u001b[0;34m=\u001b[0m\u001b[0mbs\u001b[0m\u001b[0;34m)\u001b[0m\u001b[0;34m\u001b[0m\u001b[0;34m\u001b[0m\u001b[0m\n\u001b[1;32m      5\u001b[0m              )\n",
            "\u001b[0;32m/usr/local/lib/python3.6/dist-packages/fastai/data_block.py\u001b[0m in \u001b[0;36m_inner\u001b[0;34m(*args, **kwargs)\u001b[0m\n\u001b[1;32m    466\u001b[0m             \u001b[0mself\u001b[0m\u001b[0;34m.\u001b[0m\u001b[0mvalid\u001b[0m \u001b[0;34m=\u001b[0m \u001b[0mfv\u001b[0m\u001b[0;34m(\u001b[0m\u001b[0;34m*\u001b[0m\u001b[0margs\u001b[0m\u001b[0;34m,\u001b[0m \u001b[0mfrom_item_lists\u001b[0m\u001b[0;34m=\u001b[0m\u001b[0;32mTrue\u001b[0m\u001b[0;34m,\u001b[0m \u001b[0;34m**\u001b[0m\u001b[0mkwargs\u001b[0m\u001b[0;34m)\u001b[0m\u001b[0;34m\u001b[0m\u001b[0;34m\u001b[0m\u001b[0m\n\u001b[1;32m    467\u001b[0m             \u001b[0mself\u001b[0m\u001b[0;34m.\u001b[0m\u001b[0m__class__\u001b[0m \u001b[0;34m=\u001b[0m \u001b[0mLabelLists\u001b[0m\u001b[0;34m\u001b[0m\u001b[0;34m\u001b[0m\u001b[0m\n\u001b[0;32m--> 468\u001b[0;31m             \u001b[0mself\u001b[0m\u001b[0;34m.\u001b[0m\u001b[0mprocess\u001b[0m\u001b[0;34m(\u001b[0m\u001b[0;34m)\u001b[0m\u001b[0;34m\u001b[0m\u001b[0;34m\u001b[0m\u001b[0m\n\u001b[0m\u001b[1;32m    469\u001b[0m             \u001b[0;32mreturn\u001b[0m \u001b[0mself\u001b[0m\u001b[0;34m\u001b[0m\u001b[0;34m\u001b[0m\u001b[0m\n\u001b[1;32m    470\u001b[0m         \u001b[0;32mreturn\u001b[0m \u001b[0m_inner\u001b[0m\u001b[0;34m\u001b[0m\u001b[0;34m\u001b[0m\u001b[0m\n",
            "\u001b[0;32m/usr/local/lib/python3.6/dist-packages/fastai/data_block.py\u001b[0m in \u001b[0;36mprocess\u001b[0;34m(self)\u001b[0m\n\u001b[1;32m    520\u001b[0m         \u001b[0;34m\"Process the inner datasets.\"\u001b[0m\u001b[0;34m\u001b[0m\u001b[0;34m\u001b[0m\u001b[0m\n\u001b[1;32m    521\u001b[0m         \u001b[0mxp\u001b[0m\u001b[0;34m,\u001b[0m\u001b[0myp\u001b[0m \u001b[0;34m=\u001b[0m \u001b[0mself\u001b[0m\u001b[0;34m.\u001b[0m\u001b[0mget_processors\u001b[0m\u001b[0;34m(\u001b[0m\u001b[0;34m)\u001b[0m\u001b[0;34m\u001b[0m\u001b[0;34m\u001b[0m\u001b[0m\n\u001b[0;32m--> 522\u001b[0;31m         \u001b[0;32mfor\u001b[0m \u001b[0mds\u001b[0m\u001b[0;34m,\u001b[0m\u001b[0mn\u001b[0m \u001b[0;32min\u001b[0m \u001b[0mzip\u001b[0m\u001b[0;34m(\u001b[0m\u001b[0mself\u001b[0m\u001b[0;34m.\u001b[0m\u001b[0mlists\u001b[0m\u001b[0;34m,\u001b[0m \u001b[0;34m[\u001b[0m\u001b[0;34m'train'\u001b[0m\u001b[0;34m,\u001b[0m\u001b[0;34m'valid'\u001b[0m\u001b[0;34m,\u001b[0m\u001b[0;34m'test'\u001b[0m\u001b[0;34m]\u001b[0m\u001b[0;34m)\u001b[0m\u001b[0;34m:\u001b[0m \u001b[0mds\u001b[0m\u001b[0;34m.\u001b[0m\u001b[0mprocess\u001b[0m\u001b[0;34m(\u001b[0m\u001b[0mxp\u001b[0m\u001b[0;34m,\u001b[0m \u001b[0myp\u001b[0m\u001b[0;34m,\u001b[0m \u001b[0mname\u001b[0m\u001b[0;34m=\u001b[0m\u001b[0mn\u001b[0m\u001b[0;34m)\u001b[0m\u001b[0;34m\u001b[0m\u001b[0;34m\u001b[0m\u001b[0m\n\u001b[0m\u001b[1;32m    523\u001b[0m         \u001b[0;31m#progress_bar clear the outputs so in some case warnings issued during processing disappear.\u001b[0m\u001b[0;34m\u001b[0m\u001b[0;34m\u001b[0m\u001b[0;34m\u001b[0m\u001b[0m\n\u001b[1;32m    524\u001b[0m         \u001b[0;32mfor\u001b[0m \u001b[0mds\u001b[0m \u001b[0;32min\u001b[0m \u001b[0mself\u001b[0m\u001b[0;34m.\u001b[0m\u001b[0mlists\u001b[0m\u001b[0;34m:\u001b[0m\u001b[0;34m\u001b[0m\u001b[0;34m\u001b[0m\u001b[0m\n",
            "\u001b[0;32m/usr/local/lib/python3.6/dist-packages/fastai/data_block.py\u001b[0m in \u001b[0;36mprocess\u001b[0;34m(self, xp, yp, name)\u001b[0m\n\u001b[1;32m    697\u001b[0m                     \u001b[0mp\u001b[0m\u001b[0;34m.\u001b[0m\u001b[0mwarns\u001b[0m \u001b[0;34m=\u001b[0m \u001b[0;34m[\u001b[0m\u001b[0;34m]\u001b[0m\u001b[0;34m\u001b[0m\u001b[0;34m\u001b[0m\u001b[0m\n\u001b[1;32m    698\u001b[0m                 \u001b[0mself\u001b[0m\u001b[0;34m.\u001b[0m\u001b[0mx\u001b[0m\u001b[0;34m,\u001b[0m\u001b[0mself\u001b[0m\u001b[0;34m.\u001b[0m\u001b[0my\u001b[0m \u001b[0;34m=\u001b[0m \u001b[0mself\u001b[0m\u001b[0;34m.\u001b[0m\u001b[0mx\u001b[0m\u001b[0;34m[\u001b[0m\u001b[0;34m~\u001b[0m\u001b[0mfilt\u001b[0m\u001b[0;34m]\u001b[0m\u001b[0;34m,\u001b[0m\u001b[0mself\u001b[0m\u001b[0;34m.\u001b[0m\u001b[0my\u001b[0m\u001b[0;34m[\u001b[0m\u001b[0;34m~\u001b[0m\u001b[0mfilt\u001b[0m\u001b[0;34m]\u001b[0m\u001b[0;34m\u001b[0m\u001b[0;34m\u001b[0m\u001b[0m\n\u001b[0;32m--> 699\u001b[0;31m         \u001b[0mself\u001b[0m\u001b[0;34m.\u001b[0m\u001b[0mx\u001b[0m\u001b[0;34m.\u001b[0m\u001b[0mprocess\u001b[0m\u001b[0;34m(\u001b[0m\u001b[0mxp\u001b[0m\u001b[0;34m)\u001b[0m\u001b[0;34m\u001b[0m\u001b[0;34m\u001b[0m\u001b[0m\n\u001b[0m\u001b[1;32m    700\u001b[0m         \u001b[0;32mreturn\u001b[0m \u001b[0mself\u001b[0m\u001b[0;34m\u001b[0m\u001b[0;34m\u001b[0m\u001b[0m\n\u001b[1;32m    701\u001b[0m \u001b[0;34m\u001b[0m\u001b[0m\n",
            "\u001b[0;32m/usr/local/lib/python3.6/dist-packages/fastai/data_block.py\u001b[0m in \u001b[0;36mprocess\u001b[0;34m(self, processor)\u001b[0m\n\u001b[1;32m     73\u001b[0m         \u001b[0;32mif\u001b[0m \u001b[0mprocessor\u001b[0m \u001b[0;32mis\u001b[0m \u001b[0;32mnot\u001b[0m \u001b[0;32mNone\u001b[0m\u001b[0;34m:\u001b[0m \u001b[0mself\u001b[0m\u001b[0;34m.\u001b[0m\u001b[0mprocessor\u001b[0m \u001b[0;34m=\u001b[0m \u001b[0mprocessor\u001b[0m\u001b[0;34m\u001b[0m\u001b[0;34m\u001b[0m\u001b[0m\n\u001b[1;32m     74\u001b[0m         \u001b[0mself\u001b[0m\u001b[0;34m.\u001b[0m\u001b[0mprocessor\u001b[0m \u001b[0;34m=\u001b[0m \u001b[0mlistify\u001b[0m\u001b[0;34m(\u001b[0m\u001b[0mself\u001b[0m\u001b[0;34m.\u001b[0m\u001b[0mprocessor\u001b[0m\u001b[0;34m)\u001b[0m\u001b[0;34m\u001b[0m\u001b[0;34m\u001b[0m\u001b[0m\n\u001b[0;32m---> 75\u001b[0;31m         \u001b[0;32mfor\u001b[0m \u001b[0mp\u001b[0m \u001b[0;32min\u001b[0m \u001b[0mself\u001b[0m\u001b[0;34m.\u001b[0m\u001b[0mprocessor\u001b[0m\u001b[0;34m:\u001b[0m \u001b[0mp\u001b[0m\u001b[0;34m.\u001b[0m\u001b[0mprocess\u001b[0m\u001b[0;34m(\u001b[0m\u001b[0mself\u001b[0m\u001b[0;34m)\u001b[0m\u001b[0;34m\u001b[0m\u001b[0;34m\u001b[0m\u001b[0m\n\u001b[0m\u001b[1;32m     76\u001b[0m         \u001b[0;32mreturn\u001b[0m \u001b[0mself\u001b[0m\u001b[0;34m\u001b[0m\u001b[0;34m\u001b[0m\u001b[0m\n\u001b[1;32m     77\u001b[0m \u001b[0;34m\u001b[0m\u001b[0m\n",
            "\u001b[0;32m/usr/local/lib/python3.6/dist-packages/fastai/data_block.py\u001b[0m in \u001b[0;36mprocess\u001b[0;34m(self, ds)\u001b[0m\n\u001b[1;32m     40\u001b[0m     \u001b[0;32mdef\u001b[0m \u001b[0m__init__\u001b[0m\u001b[0;34m(\u001b[0m\u001b[0mself\u001b[0m\u001b[0;34m,\u001b[0m \u001b[0mds\u001b[0m\u001b[0;34m:\u001b[0m\u001b[0mCollection\u001b[0m\u001b[0;34m=\u001b[0m\u001b[0;32mNone\u001b[0m\u001b[0;34m)\u001b[0m\u001b[0;34m:\u001b[0m  \u001b[0mself\u001b[0m\u001b[0;34m.\u001b[0m\u001b[0mref_ds\u001b[0m \u001b[0;34m=\u001b[0m \u001b[0mds\u001b[0m\u001b[0;34m\u001b[0m\u001b[0;34m\u001b[0m\u001b[0m\n\u001b[1;32m     41\u001b[0m     \u001b[0;32mdef\u001b[0m \u001b[0mprocess_one\u001b[0m\u001b[0;34m(\u001b[0m\u001b[0mself\u001b[0m\u001b[0;34m,\u001b[0m \u001b[0mitem\u001b[0m\u001b[0;34m:\u001b[0m\u001b[0mAny\u001b[0m\u001b[0;34m)\u001b[0m\u001b[0;34m:\u001b[0m         \u001b[0;32mreturn\u001b[0m \u001b[0mitem\u001b[0m\u001b[0;34m\u001b[0m\u001b[0;34m\u001b[0m\u001b[0m\n\u001b[0;32m---> 42\u001b[0;31m     \u001b[0;32mdef\u001b[0m \u001b[0mprocess\u001b[0m\u001b[0;34m(\u001b[0m\u001b[0mself\u001b[0m\u001b[0;34m,\u001b[0m \u001b[0mds\u001b[0m\u001b[0;34m:\u001b[0m\u001b[0mCollection\u001b[0m\u001b[0;34m)\u001b[0m\u001b[0;34m:\u001b[0m        \u001b[0mds\u001b[0m\u001b[0;34m.\u001b[0m\u001b[0mitems\u001b[0m \u001b[0;34m=\u001b[0m \u001b[0marray\u001b[0m\u001b[0;34m(\u001b[0m\u001b[0;34m[\u001b[0m\u001b[0mself\u001b[0m\u001b[0;34m.\u001b[0m\u001b[0mprocess_one\u001b[0m\u001b[0;34m(\u001b[0m\u001b[0mitem\u001b[0m\u001b[0;34m)\u001b[0m \u001b[0;32mfor\u001b[0m \u001b[0mitem\u001b[0m \u001b[0;32min\u001b[0m \u001b[0mds\u001b[0m\u001b[0;34m.\u001b[0m\u001b[0mitems\u001b[0m\u001b[0;34m]\u001b[0m\u001b[0;34m)\u001b[0m\u001b[0;34m\u001b[0m\u001b[0;34m\u001b[0m\u001b[0m\n\u001b[0m\u001b[1;32m     43\u001b[0m \u001b[0;34m\u001b[0m\u001b[0m\n\u001b[1;32m     44\u001b[0m \u001b[0mPreProcessors\u001b[0m \u001b[0;34m=\u001b[0m \u001b[0mUnion\u001b[0m\u001b[0;34m[\u001b[0m\u001b[0mPreProcessor\u001b[0m\u001b[0;34m,\u001b[0m \u001b[0mCollection\u001b[0m\u001b[0;34m[\u001b[0m\u001b[0mPreProcessor\u001b[0m\u001b[0;34m]\u001b[0m\u001b[0;34m]\u001b[0m\u001b[0;34m\u001b[0m\u001b[0;34m\u001b[0m\u001b[0m\n",
            "\u001b[0;32m/usr/local/lib/python3.6/dist-packages/fastai/data_block.py\u001b[0m in \u001b[0;36m<listcomp>\u001b[0;34m(.0)\u001b[0m\n\u001b[1;32m     40\u001b[0m     \u001b[0;32mdef\u001b[0m \u001b[0m__init__\u001b[0m\u001b[0;34m(\u001b[0m\u001b[0mself\u001b[0m\u001b[0;34m,\u001b[0m \u001b[0mds\u001b[0m\u001b[0;34m:\u001b[0m\u001b[0mCollection\u001b[0m\u001b[0;34m=\u001b[0m\u001b[0;32mNone\u001b[0m\u001b[0;34m)\u001b[0m\u001b[0;34m:\u001b[0m  \u001b[0mself\u001b[0m\u001b[0;34m.\u001b[0m\u001b[0mref_ds\u001b[0m \u001b[0;34m=\u001b[0m \u001b[0mds\u001b[0m\u001b[0;34m\u001b[0m\u001b[0;34m\u001b[0m\u001b[0m\n\u001b[1;32m     41\u001b[0m     \u001b[0;32mdef\u001b[0m \u001b[0mprocess_one\u001b[0m\u001b[0;34m(\u001b[0m\u001b[0mself\u001b[0m\u001b[0;34m,\u001b[0m \u001b[0mitem\u001b[0m\u001b[0;34m:\u001b[0m\u001b[0mAny\u001b[0m\u001b[0;34m)\u001b[0m\u001b[0;34m:\u001b[0m         \u001b[0;32mreturn\u001b[0m \u001b[0mitem\u001b[0m\u001b[0;34m\u001b[0m\u001b[0;34m\u001b[0m\u001b[0m\n\u001b[0;32m---> 42\u001b[0;31m     \u001b[0;32mdef\u001b[0m \u001b[0mprocess\u001b[0m\u001b[0;34m(\u001b[0m\u001b[0mself\u001b[0m\u001b[0;34m,\u001b[0m \u001b[0mds\u001b[0m\u001b[0;34m:\u001b[0m\u001b[0mCollection\u001b[0m\u001b[0;34m)\u001b[0m\u001b[0;34m:\u001b[0m        \u001b[0mds\u001b[0m\u001b[0;34m.\u001b[0m\u001b[0mitems\u001b[0m \u001b[0;34m=\u001b[0m \u001b[0marray\u001b[0m\u001b[0;34m(\u001b[0m\u001b[0;34m[\u001b[0m\u001b[0mself\u001b[0m\u001b[0;34m.\u001b[0m\u001b[0mprocess_one\u001b[0m\u001b[0;34m(\u001b[0m\u001b[0mitem\u001b[0m\u001b[0;34m)\u001b[0m \u001b[0;32mfor\u001b[0m \u001b[0mitem\u001b[0m \u001b[0;32min\u001b[0m \u001b[0mds\u001b[0m\u001b[0;34m.\u001b[0m\u001b[0mitems\u001b[0m\u001b[0;34m]\u001b[0m\u001b[0;34m)\u001b[0m\u001b[0;34m\u001b[0m\u001b[0;34m\u001b[0m\u001b[0m\n\u001b[0m\u001b[1;32m     43\u001b[0m \u001b[0;34m\u001b[0m\u001b[0m\n\u001b[1;32m     44\u001b[0m \u001b[0mPreProcessors\u001b[0m \u001b[0;34m=\u001b[0m \u001b[0mUnion\u001b[0m\u001b[0;34m[\u001b[0m\u001b[0mPreProcessor\u001b[0m\u001b[0;34m,\u001b[0m \u001b[0mCollection\u001b[0m\u001b[0;34m[\u001b[0m\u001b[0mPreProcessor\u001b[0m\u001b[0;34m]\u001b[0m\u001b[0;34m]\u001b[0m\u001b[0;34m\u001b[0m\u001b[0;34m\u001b[0m\u001b[0m\n",
            "\u001b[0;32m/usr/local/lib/python3.6/dist-packages/fastai/text/data.py\u001b[0m in \u001b[0;36mprocess_one\u001b[0;34m(self, item)\u001b[0m\n\u001b[1;32m    311\u001b[0m     \u001b[0;34m\"`PreProcessor` that opens the filenames and read the texts.\"\u001b[0m\u001b[0;34m\u001b[0m\u001b[0;34m\u001b[0m\u001b[0m\n\u001b[1;32m    312\u001b[0m     \u001b[0;32mdef\u001b[0m \u001b[0mprocess_one\u001b[0m\u001b[0;34m(\u001b[0m\u001b[0mself\u001b[0m\u001b[0;34m,\u001b[0m\u001b[0mitem\u001b[0m\u001b[0;34m)\u001b[0m\u001b[0;34m:\u001b[0m\u001b[0;34m\u001b[0m\u001b[0;34m\u001b[0m\u001b[0m\n\u001b[0;32m--> 313\u001b[0;31m         \u001b[0;32mreturn\u001b[0m \u001b[0mopen_text\u001b[0m\u001b[0;34m(\u001b[0m\u001b[0mitem\u001b[0m\u001b[0;34m)\u001b[0m \u001b[0;32mif\u001b[0m \u001b[0misinstance\u001b[0m\u001b[0;34m(\u001b[0m\u001b[0mitem\u001b[0m\u001b[0;34m,\u001b[0m \u001b[0mPath\u001b[0m\u001b[0;34m)\u001b[0m \u001b[0;32melse\u001b[0m \u001b[0mitem\u001b[0m\u001b[0;34m\u001b[0m\u001b[0;34m\u001b[0m\u001b[0m\n\u001b[0m\u001b[1;32m    314\u001b[0m \u001b[0;34m\u001b[0m\u001b[0m\n\u001b[1;32m    315\u001b[0m \u001b[0;32mclass\u001b[0m \u001b[0mTextList\u001b[0m\u001b[0;34m(\u001b[0m\u001b[0mItemList\u001b[0m\u001b[0;34m)\u001b[0m\u001b[0;34m:\u001b[0m\u001b[0;34m\u001b[0m\u001b[0;34m\u001b[0m\u001b[0m\n",
            "\u001b[0;32m/usr/local/lib/python3.6/dist-packages/fastai/text/data.py\u001b[0m in \u001b[0;36mopen_text\u001b[0;34m(fn, enc)\u001b[0m\n\u001b[1;32m    272\u001b[0m \u001b[0;32mdef\u001b[0m \u001b[0mopen_text\u001b[0m\u001b[0;34m(\u001b[0m\u001b[0mfn\u001b[0m\u001b[0;34m:\u001b[0m\u001b[0mPathOrStr\u001b[0m\u001b[0;34m,\u001b[0m \u001b[0menc\u001b[0m\u001b[0;34m=\u001b[0m\u001b[0;34m'utf-8'\u001b[0m\u001b[0;34m)\u001b[0m\u001b[0;34m:\u001b[0m\u001b[0;34m\u001b[0m\u001b[0;34m\u001b[0m\u001b[0m\n\u001b[1;32m    273\u001b[0m     \u001b[0;34m\"Read the text in `fn`.\"\u001b[0m\u001b[0;34m\u001b[0m\u001b[0;34m\u001b[0m\u001b[0m\n\u001b[0;32m--> 274\u001b[0;31m     \u001b[0;32mwith\u001b[0m \u001b[0mopen\u001b[0m\u001b[0;34m(\u001b[0m\u001b[0mfn\u001b[0m\u001b[0;34m,\u001b[0m\u001b[0;34m'r'\u001b[0m\u001b[0;34m,\u001b[0m \u001b[0mencoding\u001b[0m \u001b[0;34m=\u001b[0m \u001b[0menc\u001b[0m\u001b[0;34m)\u001b[0m \u001b[0;32mas\u001b[0m \u001b[0mf\u001b[0m\u001b[0;34m:\u001b[0m \u001b[0;32mreturn\u001b[0m \u001b[0;34m''\u001b[0m\u001b[0;34m.\u001b[0m\u001b[0mjoin\u001b[0m\u001b[0;34m(\u001b[0m\u001b[0mf\u001b[0m\u001b[0;34m.\u001b[0m\u001b[0mreadlines\u001b[0m\u001b[0;34m(\u001b[0m\u001b[0;34m)\u001b[0m\u001b[0;34m)\u001b[0m\u001b[0;34m\u001b[0m\u001b[0;34m\u001b[0m\u001b[0m\n\u001b[0m\u001b[1;32m    275\u001b[0m \u001b[0;34m\u001b[0m\u001b[0m\n\u001b[1;32m    276\u001b[0m \u001b[0;32mclass\u001b[0m \u001b[0mText\u001b[0m\u001b[0;34m(\u001b[0m\u001b[0mItemBase\u001b[0m\u001b[0;34m)\u001b[0m\u001b[0;34m:\u001b[0m\u001b[0;34m\u001b[0m\u001b[0;34m\u001b[0m\u001b[0m\n",
            "\u001b[0;32m/usr/lib/python3.6/codecs.py\u001b[0m in \u001b[0;36mdecode\u001b[0;34m(self, input, final)\u001b[0m\n\u001b[1;32m    316\u001b[0m         \u001b[0;32mraise\u001b[0m \u001b[0mNotImplementedError\u001b[0m\u001b[0;34m\u001b[0m\u001b[0;34m\u001b[0m\u001b[0m\n\u001b[1;32m    317\u001b[0m \u001b[0;34m\u001b[0m\u001b[0m\n\u001b[0;32m--> 318\u001b[0;31m     \u001b[0;32mdef\u001b[0m \u001b[0mdecode\u001b[0m\u001b[0;34m(\u001b[0m\u001b[0mself\u001b[0m\u001b[0;34m,\u001b[0m \u001b[0minput\u001b[0m\u001b[0;34m,\u001b[0m \u001b[0mfinal\u001b[0m\u001b[0;34m=\u001b[0m\u001b[0;32mFalse\u001b[0m\u001b[0;34m)\u001b[0m\u001b[0;34m:\u001b[0m\u001b[0;34m\u001b[0m\u001b[0;34m\u001b[0m\u001b[0m\n\u001b[0m\u001b[1;32m    319\u001b[0m         \u001b[0;31m# decode input (taking the buffer into account)\u001b[0m\u001b[0;34m\u001b[0m\u001b[0;34m\u001b[0m\u001b[0;34m\u001b[0m\u001b[0m\n\u001b[1;32m    320\u001b[0m         \u001b[0mdata\u001b[0m \u001b[0;34m=\u001b[0m \u001b[0mself\u001b[0m\u001b[0;34m.\u001b[0m\u001b[0mbuffer\u001b[0m \u001b[0;34m+\u001b[0m \u001b[0minput\u001b[0m\u001b[0;34m\u001b[0m\u001b[0;34m\u001b[0m\u001b[0m\n",
            "\u001b[0;31mKeyboardInterrupt\u001b[0m: "
          ]
        }
      ]
    },
    {
      "cell_type": "code",
      "metadata": {
        "id": "i37MTjZd5SXn",
        "colab_type": "code",
        "colab": {}
      },
      "source": [
        "data_clas = load_data(path, 'data_clas.pkl', bs=bs)"
      ],
      "execution_count": 0,
      "outputs": []
    },
    {
      "cell_type": "code",
      "metadata": {
        "id": "FvDKAkOv5dKW",
        "colab_type": "code",
        "outputId": "85200a68-54f1-44db-c97d-fadb342a0e7d",
        "colab": {
          "base_uri": "https://localhost:8080/",
          "height": 536
        }
      },
      "source": [
        "data_clas.show_batch()"
      ],
      "execution_count": 0,
      "outputs": [
        {
          "output_type": "display_data",
          "data": {
            "text/html": [
              "<table border=\"1\" class=\"dataframe\">\n",
              "  <thead>\n",
              "    <tr style=\"text-align: right;\">\n",
              "      <th>text</th>\n",
              "      <th>target</th>\n",
              "    </tr>\n",
              "  </thead>\n",
              "  <tbody>\n",
              "    <tr>\n",
              "      <td>xxbos * * * xxmaj warning - this review contains \" plot spoilers , \" though nothing could \" spoil \" this movie any more than it already is . xxmaj it really xxup is that bad . * * * \\n \\n  xxmaj before i begin , i 'd like to let everyone know that this definitely is one of those so - incredibly - bad - that</td>\n",
              "      <td>neg</td>\n",
              "    </tr>\n",
              "    <tr>\n",
              "      <td>xxbos xxmaj this movie was recently released on xxup dvd in the xxup us and i finally got the chance to see this hard - to - find gem . xxmaj it even came with original theatrical previews of other xxmaj italian horror classics like \" xxup xxunk \" and \" xxup beyond xxup the xxup darkness \" . xxmaj unfortunately , the previews were the best thing about this</td>\n",
              "      <td>neg</td>\n",
              "    </tr>\n",
              "    <tr>\n",
              "      <td>xxbos xxmaj heavy - handed xxunk . xxmaj writers using characters as xxunk to speak for themselves . xxmaj predictable , plodding plot points ( say that five times fast ) . a child 's imitation of xxmaj britney xxmaj spears . xxmaj this film has all the earmarks of a xxmaj lifetime xxmaj special reject . \\n \\n  i honestly believe that xxmaj jesus xxmaj xxunk and xxmaj</td>\n",
              "      <td>neg</td>\n",
              "    </tr>\n",
              "    <tr>\n",
              "      <td>xxbos i have never seen any of xxmaj spike xxmaj lee 's prior films , as their trailers never caught my interest . i have seen , and admire xxmaj denzel xxmaj washington , and xxmaj jodie xxmaj foster 's work , and have several of their dvds . i was , however , entirely disappointed with this movie . xxmaj if this film is any indication of xxmaj spike</td>\n",
              "      <td>neg</td>\n",
              "    </tr>\n",
              "    <tr>\n",
              "      <td>xxbos xxmaj pier xxmaj paolo xxmaj pasolini , or xxmaj pee - pee - pee as i prefer to call him ( due to his love of showing male genitals ) , is perhaps xxup the most overrated xxmaj european xxmaj marxist director - and they are thick on the ground . xxmaj how anyone can see \" art \" in this messy , cheap sex - romp concoction is</td>\n",
              "      <td>neg</td>\n",
              "    </tr>\n",
              "  </tbody>\n",
              "</table>"
            ],
            "text/plain": [
              "<IPython.core.display.HTML object>"
            ]
          },
          "metadata": {
            "tags": []
          }
        }
      ]
    },
    {
      "cell_type": "code",
      "metadata": {
        "id": "njhSxDXR5hYp",
        "colab_type": "code",
        "colab": {}
      },
      "source": [
        "learn = text_classifier_learner(data_clas, AWD_LSTM, drop_mult=0.5)\n",
        "learn.load_encoder('fine_tuned_enc')"
      ],
      "execution_count": 0,
      "outputs": []
    },
    {
      "cell_type": "code",
      "metadata": {
        "id": "7yvlEo6y55zf",
        "colab_type": "code",
        "outputId": "4142a5f4-fe44-4110-a256-de7928636af8",
        "colab": {
          "base_uri": "https://localhost:8080/",
          "height": 36
        }
      },
      "source": [
        "learn.lr_find()"
      ],
      "execution_count": 0,
      "outputs": [
        {
          "output_type": "display_data",
          "data": {
            "text/html": [
              ""
            ],
            "text/plain": [
              "<IPython.core.display.HTML object>"
            ]
          },
          "metadata": {
            "tags": []
          }
        },
        {
          "output_type": "stream",
          "text": [
            "LR Finder is complete, type {learner_name}.recorder.plot() to see the graph.\n"
          ],
          "name": "stdout"
        }
      ]
    },
    {
      "cell_type": "code",
      "metadata": {
        "id": "cZref2WD6Nr7",
        "colab_type": "code",
        "outputId": "6a769c2d-2dc4-418a-bc80-15d674e819de",
        "colab": {
          "base_uri": "https://localhost:8080/",
          "height": 283
        }
      },
      "source": [
        "learn.recorder.plot()"
      ],
      "execution_count": 0,
      "outputs": [
        {
          "output_type": "display_data",
          "data": {
            "image/png": "[encoded data removed]",
            "text/plain": [
              "<Figure size 432x288 with 1 Axes>"
            ]
          },
          "metadata": {
            "tags": []
          }
        }
      ]
    },
    {
      "cell_type": "code",
      "metadata": {
        "id": "bv9QktIk6TQ1",
        "colab_type": "code",
        "outputId": "edf162da-9759-4da9-ec4a-68d424f9c3f0",
        "colab": {
          "base_uri": "https://localhost:8080/",
          "height": 80
        }
      },
      "source": [
        "learn.fit_one_cycle(1, 2e-2, moms=(0.8,0.7))"
      ],
      "execution_count": 0,
      "outputs": [
        {
          "output_type": "display_data",
          "data": {
            "text/html": [
              "<table border=\"1\" class=\"dataframe\">\n",
              "  <thead>\n",
              "    <tr style=\"text-align: left;\">\n",
              "      <th>epoch</th>\n",
              "      <th>train_loss</th>\n",
              "      <th>valid_loss</th>\n",
              "      <th>accuracy</th>\n",
              "      <th>time</th>\n",
              "    </tr>\n",
              "  </thead>\n",
              "  <tbody>\n",
              "    <tr>\n",
              "      <td>0</td>\n",
              "      <td>0.000009</td>\n",
              "      <td>#na#</td>\n",
              "      <td>00:42</td>\n",
              "    </tr>\n",
              "  </tbody>\n",
              "</table>"
            ],
            "text/plain": [
              "<IPython.core.display.HTML object>"
            ]
          },
          "metadata": {
            "tags": []
          }
        }
      ]
    },
    {
      "cell_type": "code",
      "metadata": {
        "id": "Xxum4J7m6nwq",
        "colab_type": "code",
        "colab": {}
      },
      "source": [
        "learn.save('first')"
      ],
      "execution_count": 0,
      "outputs": []
    },
    {
      "cell_type": "code",
      "metadata": {
        "id": "Abe387Ra7Z0X",
        "colab_type": "code",
        "outputId": "1c0462b5-39fb-41d7-f21b-9cb34d4f36ec",
        "colab": {
          "base_uri": "https://localhost:8080/",
          "height": 3632
        }
      },
      "source": [
        "learn.load('first')"
      ],
      "execution_count": 0,
      "outputs": [
        {
          "output_type": "execute_result",
          "data": {
            "text/plain": [
              "RNNLearner(data=TextClasDataBunch;\n",
              "\n",
              "Train: LabelList (5504 items)\n",
              "x: TextList\n",
              "xxbos xxmaj horrible ending - and i ca n't believe xxmaj moore spent a year coming up with it . xxmaj smacks of xxup l. xxmaj ron xxmaj hubbard and xxmaj xxunk , which xxmaj hubbard claimed to pen in just three weeks . xxmaj this was actually disappointing enough for me to toss my discs from the first 3.5 years . xxmaj now , the first 1.5 hours were action packed , though absurd in the premise , and then it deteriorated into a slow , painful , sophomoric dissolution of the series . xxmaj unbelievable how slow and drawn out that last hour was . xxmaj were we to think more deeply ? xxmaj if i wanted a lesson in a - materialism , i would reread xxmaj daniel xxmaj quinn 's xxmaj ishmael . xxmaj absurd to think 38 k people would give up everything for a \" fresh start \" . xxmaj absurd to throw in a disappearing xxmaj kara , and a reappearing xxmaj xxunk and xxmaj six . xxmaj absurd to throw in the xxmaj xxunk xxmaj eve . xxmaj just absurd .,xxbos \" xxmaj ghost of xxmaj xxunk xxmaj hollow \" appears to take place in a spotless netherworld , an era long gone by , where the biggest sin a kid could commit would be in defying the law and getting a traffic ticket . xxmaj it opens with a young female auto fanatic getting the business from her arch rival , who pressures her into a car race . xxmaj that 's about it for the drag - racing -- this b - flick is mostly concerned with rock ' n roll , man ! xxmaj the folks at xxmaj american xxmaj international were obviously fond of decent , square teens who liked to party and yet did n't mind an adult xxunk . xxmaj there are a few amusing double entendres and fruity exchanges ( xxmaj necking xxmaj kid : \" xxmaj we thought we 'd come out for some fresh xxunk ... xxmaj dad : \" xxmaj where did you think you 'd find it , down her throat ? \" ) , but the ghost is a little late in arriving . xxmaj brief at 65 minutes , the movie cheats us with a climactic car race that actually takes place off - screen and a xxunk xxmaj doo \"- styled unmasking which makes no sense . xxmaj however , for nostalgia buffs , some mindless fun . * * from xxrep 4 *,xxbos xxmaj this is one of the worst films ever . i like cheesy movies but this is simply awful . xxmaj where are the images in the film that are on the box ? i think more money was spent on the xxup dvd box illustrations than on the entire film . \n",
              " \n",
              "  xxmaj why would a company release a xxup dvd that the cover is so misleading ? i feel like such an idiot for renting this movie based strictly on the box . xxmaj as much as i explore imdb i should have done a little research and made a list prior to visiting my local video rental store . i have no one to blame except myself . i want my money and time back . \n",
              " \n",
              "  xxup do xxup not xxup watch xxup this xxup movie . \n",
              " \n",
              "  xxmaj even if curiosity is motivating you , stick cocktail umbrellas in your eyes instead . xxmaj it will be much more enjoyable . xxmaj you have been warned !,xxbos i only hope that no xxunk / ancient historians saw \" xxmaj cleopatra \" , or , if they did , that they took it as a laugh . xxmaj the movie is horrendously inaccurate , more laughably , even , than \" xxmaj gladiator \" ( which is at least a well - written script whose historical errors are articulate and correspond well to the story ) . xxmaj most blatant is xxmaj xxunk , xxmaj caesar 's heir , in the xxmaj senate before xxmaj caesar 's assassination : at the ripe old age of 19 ! \n",
              " \n",
              "  xxmaj besides this , the acting is mediocre . xxmaj timothy xxmaj dalton has more than a hint of xxmaj james xxmaj bond in him when he says , \" xxmaj caesar . xxmaj julius xxmaj caesar . \" xxmaj billy xxmaj zane is a laughably dense xxmaj marc xxmaj antony . xxmaj and xxmaj leonor xxmaj xxunk tries her best to be the seductive xxmaj pharaoh ( who in real life was not good - looking at all ) but comes off as unbelievable . \n",
              " \n",
              "  xxmaj so this is a warning for all historians -- this movie is not true to life !,xxbos i just watched the 30th xxmaj anniversary edition of xxmaj blazing xxmaj saddles , one of my all time xxmaj favorites ! ! xxmaj the xxup tv xxmaj pilot for xxmaj black xxmaj bart stunk . xxmaj the plot was non - existent and the acting was not good . xxmaj it was obviously an attempt to profit off of the success of xxmaj blazing xxmaj saddles and there have been xxup tv shows that have succeeded in doing take - offs of big movies , but this one would never have worked . xxmaj considering that for so many years xxup tv would not even play the farting noises when they televised the movie , it is inconceivable that they thought they could put a show on xxup tv with the \" n \" word thrown around . xxmaj on the other hand , i enjoyed seeing a lot of familiar faces ! ! ! xxmaj there were quite a few actors / actresses that i recognized from other shows over the years . i had to write down all the names and do a few searches . xxmaj that was fun . i was arguing with my mother if xxmaj steve xxmaj xxunk was from xxmaj barney xxmaj miller or xxmaj mash . i won ! :)\n",
              "y: CategoryList\n",
              "neg,neg,neg,neg,neg\n",
              "Path: /content/gdrive/My Drive/fastai-v3/l3-imdb/imdb;\n",
              "\n",
              "Valid: LabelList (0 items)\n",
              "x: TextList\n",
              "\n",
              "y: CategoryList\n",
              "\n",
              "Path: /content/gdrive/My Drive/fastai-v3/l3-imdb/imdb;\n",
              "\n",
              "Test: None, model=SequentialRNN(\n",
              "  (0): MultiBatchEncoder(\n",
              "    (module): AWD_LSTM(\n",
              "      (encoder): Embedding(39619, 400, padding_idx=1)\n",
              "      (encoder_dp): EmbeddingDropout(\n",
              "        (emb): Embedding(39619, 400, padding_idx=1)\n",
              "      )\n",
              "      (rnns): ModuleList(\n",
              "        (0): WeightDropout(\n",
              "          (module): LSTM(400, 1150, batch_first=True)\n",
              "        )\n",
              "        (1): WeightDropout(\n",
              "          (module): LSTM(1150, 1150, batch_first=True)\n",
              "        )\n",
              "        (2): WeightDropout(\n",
              "          (module): LSTM(1150, 400, batch_first=True)\n",
              "        )\n",
              "      )\n",
              "      (input_dp): RNNDropout()\n",
              "      (hidden_dps): ModuleList(\n",
              "        (0): RNNDropout()\n",
              "        (1): RNNDropout()\n",
              "        (2): RNNDropout()\n",
              "      )\n",
              "    )\n",
              "  )\n",
              "  (1): PoolingLinearClassifier(\n",
              "    (layers): Sequential(\n",
              "      (0): BatchNorm1d(1200, eps=1e-05, momentum=0.1, affine=True, track_running_stats=True)\n",
              "      (1): Dropout(p=0.2)\n",
              "      (2): Linear(in_features=1200, out_features=50, bias=True)\n",
              "      (3): ReLU(inplace)\n",
              "      (4): BatchNorm1d(50, eps=1e-05, momentum=0.1, affine=True, track_running_stats=True)\n",
              "      (5): Dropout(p=0.1)\n",
              "      (6): Linear(in_features=50, out_features=2, bias=True)\n",
              "    )\n",
              "  )\n",
              "), opt_func=functools.partial(<class 'torch.optim.adam.Adam'>, betas=(0.9, 0.99)), loss_func=FlattenedLoss of CrossEntropyLoss(), metrics=[<function accuracy at 0x7fe619fdbd90>], true_wd=True, bn_wd=True, wd=0.01, train_bn=True, path=PosixPath('/content/gdrive/My Drive/fastai-v3/l3-imdb/imdb'), model_dir='models', callback_fns=[functools.partial(<class 'fastai.basic_train.Recorder'>, add_time=True, silent=False)], callbacks=[RNNTrainer\n",
              "learn: RNNLearner(data=TextClasDataBunch;\n",
              "\n",
              "Train: LabelList (5504 items)\n",
              "x: TextList\n",
              "xxbos xxmaj horrible ending - and i ca n't believe xxmaj moore spent a year coming up with it . xxmaj smacks of xxup l. xxmaj ron xxmaj hubbard and xxmaj xxunk , which xxmaj hubbard claimed to pen in just three weeks . xxmaj this was actually disappointing enough for me to toss my discs from the first 3.5 years . xxmaj now , the first 1.5 hours were action packed , though absurd in the premise , and then it deteriorated into a slow , painful , sophomoric dissolution of the series . xxmaj unbelievable how slow and drawn out that last hour was . xxmaj were we to think more deeply ? xxmaj if i wanted a lesson in a - materialism , i would reread xxmaj daniel xxmaj quinn 's xxmaj ishmael . xxmaj absurd to think 38 k people would give up everything for a \" fresh start \" . xxmaj absurd to throw in a disappearing xxmaj kara , and a reappearing xxmaj xxunk and xxmaj six . xxmaj absurd to throw in the xxmaj xxunk xxmaj eve . xxmaj just absurd .,xxbos \" xxmaj ghost of xxmaj xxunk xxmaj hollow \" appears to take place in a spotless netherworld , an era long gone by , where the biggest sin a kid could commit would be in defying the law and getting a traffic ticket . xxmaj it opens with a young female auto fanatic getting the business from her arch rival , who pressures her into a car race . xxmaj that 's about it for the drag - racing -- this b - flick is mostly concerned with rock ' n roll , man ! xxmaj the folks at xxmaj american xxmaj international were obviously fond of decent , square teens who liked to party and yet did n't mind an adult xxunk . xxmaj there are a few amusing double entendres and fruity exchanges ( xxmaj necking xxmaj kid : \" xxmaj we thought we 'd come out for some fresh xxunk ... xxmaj dad : \" xxmaj where did you think you 'd find it , down her throat ? \" ) , but the ghost is a little late in arriving . xxmaj brief at 65 minutes , the movie cheats us with a climactic car race that actually takes place off - screen and a xxunk xxmaj doo \"- styled unmasking which makes no sense . xxmaj however , for nostalgia buffs , some mindless fun . * * from xxrep 4 *,xxbos xxmaj this is one of the worst films ever . i like cheesy movies but this is simply awful . xxmaj where are the images in the film that are on the box ? i think more money was spent on the xxup dvd box illustrations than on the entire film . \n",
              " \n",
              "  xxmaj why would a company release a xxup dvd that the cover is so misleading ? i feel like such an idiot for renting this movie based strictly on the box . xxmaj as much as i explore imdb i should have done a little research and made a list prior to visiting my local video rental store . i have no one to blame except myself . i want my money and time back . \n",
              " \n",
              "  xxup do xxup not xxup watch xxup this xxup movie . \n",
              " \n",
              "  xxmaj even if curiosity is motivating you , stick cocktail umbrellas in your eyes instead . xxmaj it will be much more enjoyable . xxmaj you have been warned !,xxbos i only hope that no xxunk / ancient historians saw \" xxmaj cleopatra \" , or , if they did , that they took it as a laugh . xxmaj the movie is horrendously inaccurate , more laughably , even , than \" xxmaj gladiator \" ( which is at least a well - written script whose historical errors are articulate and correspond well to the story ) . xxmaj most blatant is xxmaj xxunk , xxmaj caesar 's heir , in the xxmaj senate before xxmaj caesar 's assassination : at the ripe old age of 19 ! \n",
              " \n",
              "  xxmaj besides this , the acting is mediocre . xxmaj timothy xxmaj dalton has more than a hint of xxmaj james xxmaj bond in him when he says , \" xxmaj caesar . xxmaj julius xxmaj caesar . \" xxmaj billy xxmaj zane is a laughably dense xxmaj marc xxmaj antony . xxmaj and xxmaj leonor xxmaj xxunk tries her best to be the seductive xxmaj pharaoh ( who in real life was not good - looking at all ) but comes off as unbelievable . \n",
              " \n",
              "  xxmaj so this is a warning for all historians -- this movie is not true to life !,xxbos i just watched the 30th xxmaj anniversary edition of xxmaj blazing xxmaj saddles , one of my all time xxmaj favorites ! ! xxmaj the xxup tv xxmaj pilot for xxmaj black xxmaj bart stunk . xxmaj the plot was non - existent and the acting was not good . xxmaj it was obviously an attempt to profit off of the success of xxmaj blazing xxmaj saddles and there have been xxup tv shows that have succeeded in doing take - offs of big movies , but this one would never have worked . xxmaj considering that for so many years xxup tv would not even play the farting noises when they televised the movie , it is inconceivable that they thought they could put a show on xxup tv with the \" n \" word thrown around . xxmaj on the other hand , i enjoyed seeing a lot of familiar faces ! ! ! xxmaj there were quite a few actors / actresses that i recognized from other shows over the years . i had to write down all the names and do a few searches . xxmaj that was fun . i was arguing with my mother if xxmaj steve xxmaj xxunk was from xxmaj barney xxmaj miller or xxmaj mash . i won ! :)\n",
              "y: CategoryList\n",
              "neg,neg,neg,neg,neg\n",
              "Path: /content/gdrive/My Drive/fastai-v3/l3-imdb/imdb;\n",
              "\n",
              "Valid: LabelList (0 items)\n",
              "x: TextList\n",
              "\n",
              "y: CategoryList\n",
              "\n",
              "Path: /content/gdrive/My Drive/fastai-v3/l3-imdb/imdb;\n",
              "\n",
              "Test: None, model=SequentialRNN(\n",
              "  (0): MultiBatchEncoder(\n",
              "    (module): AWD_LSTM(\n",
              "      (encoder): Embedding(39619, 400, padding_idx=1)\n",
              "      (encoder_dp): EmbeddingDropout(\n",
              "        (emb): Embedding(39619, 400, padding_idx=1)\n",
              "      )\n",
              "      (rnns): ModuleList(\n",
              "        (0): WeightDropout(\n",
              "          (module): LSTM(400, 1150, batch_first=True)\n",
              "        )\n",
              "        (1): WeightDropout(\n",
              "          (module): LSTM(1150, 1150, batch_first=True)\n",
              "        )\n",
              "        (2): WeightDropout(\n",
              "          (module): LSTM(1150, 400, batch_first=True)\n",
              "        )\n",
              "      )\n",
              "      (input_dp): RNNDropout()\n",
              "      (hidden_dps): ModuleList(\n",
              "        (0): RNNDropout()\n",
              "        (1): RNNDropout()\n",
              "        (2): RNNDropout()\n",
              "      )\n",
              "    )\n",
              "  )\n",
              "  (1): PoolingLinearClassifier(\n",
              "    (layers): Sequential(\n",
              "      (0): BatchNorm1d(1200, eps=1e-05, momentum=0.1, affine=True, track_running_stats=True)\n",
              "      (1): Dropout(p=0.2)\n",
              "      (2): Linear(in_features=1200, out_features=50, bias=True)\n",
              "      (3): ReLU(inplace)\n",
              "      (4): BatchNorm1d(50, eps=1e-05, momentum=0.1, affine=True, track_running_stats=True)\n",
              "      (5): Dropout(p=0.1)\n",
              "      (6): Linear(in_features=50, out_features=2, bias=True)\n",
              "    )\n",
              "  )\n",
              "), opt_func=functools.partial(<class 'torch.optim.adam.Adam'>, betas=(0.9, 0.99)), loss_func=FlattenedLoss of CrossEntropyLoss(), metrics=[<function accuracy at 0x7fe619fdbd90>], true_wd=True, bn_wd=True, wd=0.01, train_bn=True, path=PosixPath('/content/gdrive/My Drive/fastai-v3/l3-imdb/imdb'), model_dir='models', callback_fns=[functools.partial(<class 'fastai.basic_train.Recorder'>, add_time=True, silent=False)], callbacks=[...], layer_groups=[Sequential(\n",
              "  (0): Embedding(39619, 400, padding_idx=1)\n",
              "  (1): EmbeddingDropout(\n",
              "    (emb): Embedding(39619, 400, padding_idx=1)\n",
              "  )\n",
              "), Sequential(\n",
              "  (0): WeightDropout(\n",
              "    (module): LSTM(400, 1150, batch_first=True)\n",
              "  )\n",
              "  (1): RNNDropout()\n",
              "), Sequential(\n",
              "  (0): WeightDropout(\n",
              "    (module): LSTM(1150, 1150, batch_first=True)\n",
              "  )\n",
              "  (1): RNNDropout()\n",
              "), Sequential(\n",
              "  (0): WeightDropout(\n",
              "    (module): LSTM(1150, 400, batch_first=True)\n",
              "  )\n",
              "  (1): RNNDropout()\n",
              "), Sequential(\n",
              "  (0): PoolingLinearClassifier(\n",
              "    (layers): Sequential(\n",
              "      (0): BatchNorm1d(1200, eps=1e-05, momentum=0.1, affine=True, track_running_stats=True)\n",
              "      (1): Dropout(p=0.2)\n",
              "      (2): Linear(in_features=1200, out_features=50, bias=True)\n",
              "      (3): ReLU(inplace)\n",
              "      (4): BatchNorm1d(50, eps=1e-05, momentum=0.1, affine=True, track_running_stats=True)\n",
              "      (5): Dropout(p=0.1)\n",
              "      (6): Linear(in_features=50, out_features=2, bias=True)\n",
              "    )\n",
              "  )\n",
              ")], add_time=True, silent=None)\n",
              "alpha: 2.0\n",
              "beta: 1.0], layer_groups=[Sequential(\n",
              "  (0): Embedding(39619, 400, padding_idx=1)\n",
              "  (1): EmbeddingDropout(\n",
              "    (emb): Embedding(39619, 400, padding_idx=1)\n",
              "  )\n",
              "), Sequential(\n",
              "  (0): WeightDropout(\n",
              "    (module): LSTM(400, 1150, batch_first=True)\n",
              "  )\n",
              "  (1): RNNDropout()\n",
              "), Sequential(\n",
              "  (0): WeightDropout(\n",
              "    (module): LSTM(1150, 1150, batch_first=True)\n",
              "  )\n",
              "  (1): RNNDropout()\n",
              "), Sequential(\n",
              "  (0): WeightDropout(\n",
              "    (module): LSTM(1150, 400, batch_first=True)\n",
              "  )\n",
              "  (1): RNNDropout()\n",
              "), Sequential(\n",
              "  (0): PoolingLinearClassifier(\n",
              "    (layers): Sequential(\n",
              "      (0): BatchNorm1d(1200, eps=1e-05, momentum=0.1, affine=True, track_running_stats=True)\n",
              "      (1): Dropout(p=0.2)\n",
              "      (2): Linear(in_features=1200, out_features=50, bias=True)\n",
              "      (3): ReLU(inplace)\n",
              "      (4): BatchNorm1d(50, eps=1e-05, momentum=0.1, affine=True, track_running_stats=True)\n",
              "      (5): Dropout(p=0.1)\n",
              "      (6): Linear(in_features=50, out_features=2, bias=True)\n",
              "    )\n",
              "  )\n",
              ")], add_time=True, silent=None)"
            ]
          },
          "metadata": {
            "tags": []
          },
          "execution_count": 48
        }
      ]
    },
    {
      "cell_type": "code",
      "metadata": {
        "id": "ZyR_241D7emf",
        "colab_type": "code",
        "outputId": "2e47bad1-e3e7-4ec2-ab8c-f0c95dcaa3ff",
        "colab": {
          "base_uri": "https://localhost:8080/",
          "height": 80
        }
      },
      "source": [
        "learn.freeze_to(-2)\n",
        "learn.fit_one_cycle(1, slice(1e-2/(2.6**4), 1e-2), moms=(0.8,0.7))"
      ],
      "execution_count": 0,
      "outputs": [
        {
          "output_type": "display_data",
          "data": {
            "text/html": [
              "<table border=\"1\" class=\"dataframe\">\n",
              "  <thead>\n",
              "    <tr style=\"text-align: left;\">\n",
              "      <th>epoch</th>\n",
              "      <th>train_loss</th>\n",
              "      <th>valid_loss</th>\n",
              "      <th>accuracy</th>\n",
              "      <th>time</th>\n",
              "    </tr>\n",
              "  </thead>\n",
              "  <tbody>\n",
              "    <tr>\n",
              "      <td>0</td>\n",
              "      <td>0.000002</td>\n",
              "      <td>#na#</td>\n",
              "      <td>00:48</td>\n",
              "    </tr>\n",
              "  </tbody>\n",
              "</table>"
            ],
            "text/plain": [
              "<IPython.core.display.HTML object>"
            ]
          },
          "metadata": {
            "tags": []
          }
        }
      ]
    }
  ]
}