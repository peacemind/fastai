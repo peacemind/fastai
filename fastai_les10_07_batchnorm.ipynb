{
  "nbformat": 4,
  "nbformat_minor": 0,
  "metadata": {
    "colab": {
      "name": "fastai-les10-07-batchnorm.ipynb",
      "provenance": [],
      "collapsed_sections": []
    },
    "kernelspec": {
      "name": "python3",
      "display_name": "Python 3"
    },
    "accelerator": "GPU"
  },
  "cells": [
    {
      "cell_type": "code",
      "metadata": {
        "id": "eZlPxjGHQFrA",
        "colab_type": "code",
        "outputId": "e8dc43f3-2c4a-4b0d-c8af-e9f66e566368",
        "colab": {
          "base_uri": "https://localhost:8080/",
          "height": 257
        }
      },
      "source": [
        "!pip install fire"
      ],
      "execution_count": 0,
      "outputs": [
        {
          "output_type": "stream",
          "text": [
            "Collecting fire\n",
            "\u001b[?25l  Downloading https://files.pythonhosted.org/packages/d9/69/faeaae8687f4de0f5973694d02e9d6c3eb827636a009157352d98de1129e/fire-0.2.1.tar.gz (76kB)\n",
            "\u001b[K     |████████████████████████████████| 81kB 3.2MB/s \n",
            "\u001b[?25hRequirement already satisfied: six in /usr/local/lib/python3.6/dist-packages (from fire) (1.12.0)\n",
            "Requirement already satisfied: termcolor in /usr/local/lib/python3.6/dist-packages (from fire) (1.1.0)\n",
            "Building wheels for collected packages: fire\n",
            "  Building wheel for fire (setup.py) ... \u001b[?25l\u001b[?25hdone\n",
            "  Created wheel for fire: filename=fire-0.2.1-py2.py3-none-any.whl size=103527 sha256=793e15d10caa83222c8872ebcc494dc05d62ee9a8d68ea39f049607a1c6cfb1d\n",
            "  Stored in directory: /root/.cache/pip/wheels/31/9c/c0/07b6dc7faf1844bb4688f46b569efe6cafaa2179c95db821da\n",
            "Successfully built fire\n",
            "Installing collected packages: fire\n",
            "Successfully installed fire-0.2.1\n"
          ],
          "name": "stdout"
        }
      ]
    },
    {
      "cell_type": "code",
      "metadata": {
        "id": "OV1iXV21QHgB",
        "colab_type": "code",
        "outputId": "e51c3930-140a-44a2-b5c4-7844d5a12c71",
        "colab": {
          "base_uri": "https://localhost:8080/",
          "height": 129
        }
      },
      "source": [
        "from google.colab import drive\n",
        "drive.mount('/content/gdrive', force_remount=True)\n",
        "root_dir = \"/content/gdrive/My\\ Drive/\"\n",
        "base_dir = root_dir + 'fastai-v3/les8'"
      ],
      "execution_count": 0,
      "outputs": [
        {
          "output_type": "stream",
          "text": [
            "Go to this URL in a browser: https://accounts.google.com/o/oauth2/auth?client_id=947318989803-6bn6qk8qdgf4n4g3pfee6491hc0brc4i.apps.googleusercontent.com&redirect_uri=urn%3Aietf%3Awg%3Aoauth%3A2.0%3Aoob&scope=email%20https%3A%2F%2Fwww.googleapis.com%2Fauth%2Fdocs.test%20https%3A%2F%2Fwww.googleapis.com%2Fauth%2Fdrive%20https%3A%2F%2Fwww.googleapis.com%2Fauth%2Fdrive.photos.readonly%20https%3A%2F%2Fwww.googleapis.com%2Fauth%2Fpeopleapi.readonly&response_type=code\n",
            "\n",
            "Enter your authorization code:\n",
            "··········\n",
            "Mounted at /content/gdrive\n"
          ],
          "name": "stdout"
        }
      ]
    },
    {
      "cell_type": "code",
      "metadata": {
        "id": "c0TAbUKJQTWm",
        "colab_type": "code",
        "outputId": "a917232f-16e1-4b70-e069-ae2cc34fd36f",
        "colab": {
          "base_uri": "https://localhost:8080/",
          "height": 35
        }
      },
      "source": [
        "cd /content/gdrive/My\\ Drive/fastai-v3/les8"
      ],
      "execution_count": 0,
      "outputs": [
        {
          "output_type": "stream",
          "text": [
            "/content/gdrive/My Drive/fastai-v3/les8\n"
          ],
          "name": "stdout"
        }
      ]
    },
    {
      "cell_type": "code",
      "metadata": {
        "id": "GR_2_fk9QaHl",
        "colab_type": "code",
        "outputId": "1d466eb8-2730-400d-9c29-dd3544388606",
        "colab": {
          "base_uri": "https://localhost:8080/",
          "height": 35
        }
      },
      "source": [
        "pwd"
      ],
      "execution_count": 0,
      "outputs": [
        {
          "output_type": "execute_result",
          "data": {
            "text/plain": [
              "'/content/gdrive/My Drive/fastai-v3/les8'"
            ]
          },
          "metadata": {
            "tags": []
          },
          "execution_count": 4
        }
      ]
    },
    {
      "cell_type": "code",
      "metadata": {
        "id": "CCFiaXLiQe73",
        "colab_type": "code",
        "colab": {}
      },
      "source": [
        "%reload_ext autoreload\n",
        "%autoreload 2\n",
        "%matplotlib inline"
      ],
      "execution_count": 0,
      "outputs": []
    },
    {
      "cell_type": "code",
      "metadata": {
        "id": "uoXaNSOqQoAF",
        "colab_type": "code",
        "colab": {}
      },
      "source": [
        "#export\n",
        "from exp.nb_06 import *"
      ],
      "execution_count": 0,
      "outputs": []
    },
    {
      "cell_type": "markdown",
      "metadata": {
        "id": "mo7AvP7-QviS",
        "colab_type": "text"
      },
      "source": [
        "\n",
        "ConvNet\n",
        "\n",
        "Let's get the data and training interface from where we left in the last notebook.\n"
      ]
    },
    {
      "cell_type": "code",
      "metadata": {
        "id": "ytYJndPVQxe2",
        "colab_type": "code",
        "colab": {}
      },
      "source": [
        "x_train,y_train,x_valid,y_valid = get_data()\n",
        "\n",
        "x_train,x_valid = normalize_to(x_train,x_valid)\n",
        "train_ds,valid_ds = Dataset(x_train, y_train), Dataset(x_valid, y_valid)\n",
        "\n",
        "nh,bs = 50,512\n",
        "c = y_train.max().item()+1\n",
        "loss_func = F.cross_entropy\n",
        "\n",
        "data = DataBunch(*get_dls(train_ds, valid_ds, bs), c)"
      ],
      "execution_count": 0,
      "outputs": []
    },
    {
      "cell_type": "code",
      "metadata": {
        "id": "vPywid4zRbsB",
        "colab_type": "code",
        "colab": {}
      },
      "source": [
        "mnist_view = view_tfm(1,28,28)\n",
        "cbfs = [Recorder, partial(AvgStatsCallback,accuracy), CudaCallback, partial(BatchTransformXCallback, mnist_view)]"
      ],
      "execution_count": 0,
      "outputs": []
    },
    {
      "cell_type": "code",
      "metadata": {
        "id": "ZysnhC7NR8bn",
        "colab_type": "code",
        "colab": {}
      },
      "source": [
        "nfs = [8,16,32,64,64]"
      ],
      "execution_count": 0,
      "outputs": []
    },
    {
      "cell_type": "code",
      "metadata": {
        "id": "Ur_mJM5jSB5n",
        "colab_type": "code",
        "colab": {}
      },
      "source": [
        "learn,run = get_learn_run(nfs, data, 0.4, conv_layer, cbs=cbfs)"
      ],
      "execution_count": 0,
      "outputs": []
    },
    {
      "cell_type": "code",
      "metadata": {
        "id": "FyZL-ZooSKVO",
        "colab_type": "code",
        "outputId": "d1a85bf9-67c9-4142-b739-84aa75ded570",
        "colab": {
          "base_uri": "https://localhost:8080/",
          "height": 127
        }
      },
      "source": [
        "%time run.fit(2, learn)"
      ],
      "execution_count": 0,
      "outputs": [
        {
          "output_type": "stream",
          "text": [
            "train: [1.4120246875, tensor(0.5456, device='cuda:0')]\n",
            "valid: [0.3750831787109375, tensor(0.8807, device='cuda:0')]\n",
            "train: [0.2170394921875, tensor(0.9323, device='cuda:0')]\n",
            "valid: [0.1358891845703125, tensor(0.9608, device='cuda:0')]\n",
            "CPU times: user 4.88 s, sys: 1.91 s, total: 6.8 s\n",
            "Wall time: 10.5 s\n"
          ],
          "name": "stdout"
        }
      ]
    },
    {
      "cell_type": "markdown",
      "metadata": {
        "id": "LV8F4bLmSRPJ",
        "colab_type": "text"
      },
      "source": [
        "\n",
        "Batchnorm\n",
        "Custom\n",
        "\n",
        "Let's start by building our own BatchNorm layer from scratch.\n"
      ]
    },
    {
      "cell_type": "code",
      "metadata": {
        "id": "ODNUX82oScyQ",
        "colab_type": "code",
        "colab": {}
      },
      "source": [
        "class BatchNorm(nn.Module):\n",
        "    def __init__(self, nf, mom=0.1, eps=1e-5):\n",
        "        super().__init__()\n",
        "        # NB: pytorch bn mom is opposite of what you'd expect\n",
        "        self.mom,self.eps = mom,eps\n",
        "        self.mults = nn.Parameter(torch.ones (nf,1,1))\n",
        "        self.adds  = nn.Parameter(torch.zeros(nf,1,1))\n",
        "        self.register_buffer('vars',  torch.ones(1,nf,1,1))\n",
        "        self.register_buffer('means', torch.zeros(1,nf,1,1))\n",
        "\n",
        "    def update_stats(self, x):\n",
        "        m = x.mean((0,2,3), keepdim=True)\n",
        "        v = x.var ((0,2,3), keepdim=True)\n",
        "        self.means.lerp_(m, self.mom)\n",
        "        self.vars.lerp_ (v, self.mom)\n",
        "        return m,v\n",
        "        \n",
        "    def forward(self, x):\n",
        "        if self.training:\n",
        "            with torch.no_grad(): m,v = self.update_stats(x)\n",
        "        else: m,v = self.means,self.vars\n",
        "        x = (x-m) / (v+self.eps).sqrt()\n",
        "        return x*self.mults + self.adds"
      ],
      "execution_count": 0,
      "outputs": []
    },
    {
      "cell_type": "code",
      "metadata": {
        "id": "9_KlptLSoNS7",
        "colab_type": "code",
        "colab": {}
      },
      "source": [
        "def conv_layer(ni, nf, ks=3, stride=2, bn=True, **kwargs):\n",
        "    # No bias needed if using bn\n",
        "    layers = [nn.Conv2d(ni, nf, ks, padding=ks//2, stride=stride, bias=not bn),\n",
        "              GeneralRelu(**kwargs)]\n",
        "    if bn: layers.append(BatchNorm(nf))\n",
        "    return nn.Sequential(*layers)"
      ],
      "execution_count": 0,
      "outputs": []
    },
    {
      "cell_type": "code",
      "metadata": {
        "id": "yozsxRbaoQaP",
        "colab_type": "code",
        "colab": {}
      },
      "source": [
        "#export\n",
        "def init_cnn_(m, f):\n",
        "    if isinstance(m, nn.Conv2d):\n",
        "        f(m.weight, a=0.1)\n",
        "        if getattr(m, 'bias', None) is not None: m.bias.data.zero_()\n",
        "    for l in m.children(): init_cnn_(l, f)\n",
        "\n",
        "def init_cnn(m, uniform=False):\n",
        "    f = init.kaiming_uniform_ if uniform else init.kaiming_normal_\n",
        "    init_cnn_(m, f)\n",
        "\n",
        "def get_learn_run(nfs, data, lr, layer, cbs=None, opt_func=None, uniform=False, **kwargs):\n",
        "    model = get_cnn_model(data, nfs, layer, **kwargs)\n",
        "    init_cnn(model, uniform=uniform)\n",
        "    return get_runner(model, data, lr=lr, cbs=cbs, opt_func=opt_func)"
      ],
      "execution_count": 0,
      "outputs": []
    },
    {
      "cell_type": "markdown",
      "metadata": {
        "id": "fU-6OQCloVIb",
        "colab_type": "text"
      },
      "source": [
        "We can then use it in training and see how it helps keep the activations means to 0 and the std to 1."
      ]
    },
    {
      "cell_type": "code",
      "metadata": {
        "id": "fJ-SrAzaoSVO",
        "colab_type": "code",
        "colab": {}
      },
      "source": [
        "learn,run = get_learn_run(nfs, data, 0.9, conv_layer, cbs=cbfs)"
      ],
      "execution_count": 0,
      "outputs": []
    },
    {
      "cell_type": "code",
      "metadata": {
        "id": "TgFVFAEFoYOH",
        "colab_type": "code",
        "outputId": "72823e31-6a96-4454-eca1-7e6afa0b780d",
        "colab": {
          "base_uri": "https://localhost:8080/",
          "height": 558
        }
      },
      "source": [
        "with Hooks(learn.model, append_stats) as hooks:\n",
        "    run.fit(1, learn)\n",
        "    fig,(ax0,ax1) = plt.subplots(1,2, figsize=(10,4))\n",
        "    for h in hooks[:-1]:\n",
        "        ms,ss = h.stats\n",
        "        ax0.plot(ms[:10])\n",
        "        ax1.plot(ss[:10])\n",
        "        h.remove()\n",
        "    plt.legend(range(6));\n",
        "    \n",
        "    fig,(ax0,ax1) = plt.subplots(1,2, figsize=(10,4))\n",
        "    for h in hooks[:-1]:\n",
        "        ms,ss = h.stats\n",
        "        ax0.plot(ms)\n",
        "        ax1.plot(ss)"
      ],
      "execution_count": 0,
      "outputs": [
        {
          "output_type": "stream",
          "text": [
            "train: [0.25542337890625, tensor(0.9212, device='cuda:0')]\n",
            "valid: [0.18606011962890626, tensor(0.9415, device='cuda:0')]\n"
          ],
          "name": "stdout"
        },
        {
          "output_type": "display_data",
          "data": {
            "image/png": "[encoded data removed]",
            "text/plain": [
              "<Figure size 720x288 with 2 Axes>"
            ]
          },
          "metadata": {
            "tags": []
          }
        },
        {
          "output_type": "display_data",
          "data": {
            "image/png": "[encoded data removed]",
            "text/plain": [
              "<Figure size 720x288 with 2 Axes>"
            ]
          },
          "metadata": {
            "tags": []
          }
        }
      ]
    },
    {
      "cell_type": "code",
      "metadata": {
        "id": "eaF84yx3oegV",
        "colab_type": "code",
        "colab": {}
      },
      "source": [
        "learn,run = get_learn_run(nfs, data, 1.0, conv_layer, cbs=cbfs)"
      ],
      "execution_count": 0,
      "outputs": []
    },
    {
      "cell_type": "code",
      "metadata": {
        "id": "aDZ1QsYAohAX",
        "colab_type": "code",
        "outputId": "6b391734-6c28-47bc-d0b9-d3c01cded0ad",
        "colab": {
          "base_uri": "https://localhost:8080/",
          "height": 164
        }
      },
      "source": [
        "%time run.fit(3, learn)"
      ],
      "execution_count": 0,
      "outputs": [
        {
          "output_type": "stream",
          "text": [
            "train: [0.26678427734375, tensor(0.9168, device='cuda:0')]\n",
            "valid: [0.1331802734375, tensor(0.9570, device='cuda:0')]\n",
            "train: [0.089204091796875, tensor(0.9722, device='cuda:0')]\n",
            "valid: [0.12096942138671875, tensor(0.9615, device='cuda:0')]\n",
            "train: [0.0631670361328125, tensor(0.9799, device='cuda:0')]\n",
            "valid: [0.10577437744140625, tensor(0.9682, device='cuda:0')]\n",
            "CPU times: user 4.69 s, sys: 1.53 s, total: 6.22 s\n",
            "Wall time: 6.24 s\n"
          ],
          "name": "stdout"
        }
      ]
    },
    {
      "cell_type": "markdown",
      "metadata": {
        "id": "5RGgiEtaomR2",
        "colab_type": "text"
      },
      "source": [
        "Builtin batchnorm"
      ]
    },
    {
      "cell_type": "code",
      "metadata": {
        "id": "MWZIsPp6okkA",
        "colab_type": "code",
        "colab": {}
      },
      "source": [
        "#export\n",
        "def conv_layer(ni, nf, ks=3, stride=2, bn=True, **kwargs):\n",
        "    layers = [nn.Conv2d(ni, nf, ks, padding=ks//2, stride=stride, bias=not bn),\n",
        "              GeneralRelu(**kwargs)]\n",
        "    if bn: layers.append(nn.BatchNorm2d(nf, eps=1e-5, momentum=0.1))\n",
        "    return nn.Sequential(*layers)"
      ],
      "execution_count": 0,
      "outputs": []
    },
    {
      "cell_type": "code",
      "metadata": {
        "id": "UQfFANEkorbr",
        "colab_type": "code",
        "colab": {}
      },
      "source": [
        "learn,run = get_learn_run(nfs, data, 1., conv_layer, cbs=cbfs)"
      ],
      "execution_count": 0,
      "outputs": []
    },
    {
      "cell_type": "code",
      "metadata": {
        "id": "rteqsJ0mosZf",
        "colab_type": "code",
        "outputId": "a36bd25c-1c35-42f8-c6ee-029b9cf56f5c",
        "colab": {
          "base_uri": "https://localhost:8080/",
          "height": 164
        }
      },
      "source": [
        "%time run.fit(3, learn)"
      ],
      "execution_count": 0,
      "outputs": [
        {
          "output_type": "stream",
          "text": [
            "train: [0.2561440234375, tensor(0.9234, device='cuda:0')]\n",
            "valid: [0.12283409423828125, tensor(0.9641, device='cuda:0')]\n",
            "train: [0.0753083154296875, tensor(0.9767, device='cuda:0')]\n",
            "valid: [0.086900732421875, tensor(0.9723, device='cuda:0')]\n",
            "train: [0.054573818359375, tensor(0.9829, device='cuda:0')]\n",
            "valid: [0.05533900146484375, tensor(0.9827, device='cuda:0')]\n",
            "CPU times: user 4.37 s, sys: 1.55 s, total: 5.92 s\n",
            "Wall time: 5.95 s\n"
          ],
          "name": "stdout"
        }
      ]
    },
    {
      "cell_type": "markdown",
      "metadata": {
        "id": "dQKiVhqLov4w",
        "colab_type": "text"
      },
      "source": [
        "\n",
        "With scheduler\n",
        "\n",
        "Now let's add the usual warm-up/annealing.\n"
      ]
    },
    {
      "cell_type": "code",
      "metadata": {
        "id": "9VFxdLyfoyHV",
        "colab_type": "code",
        "colab": {}
      },
      "source": [
        "sched = combine_scheds([0.3, 0.7], [sched_lin(0.6, 2.), sched_lin(2., 0.1)])"
      ],
      "execution_count": 0,
      "outputs": []
    },
    {
      "cell_type": "code",
      "metadata": {
        "id": "qGhstBuBo0jX",
        "colab_type": "code",
        "colab": {}
      },
      "source": [
        "learn,run = get_learn_run(nfs, data, 0.9, conv_layer, cbs=cbfs\n",
        "                          +[partial(ParamScheduler,'lr', sched)])"
      ],
      "execution_count": 0,
      "outputs": []
    },
    {
      "cell_type": "code",
      "metadata": {
        "id": "Ghs0h-F6o240",
        "colab_type": "code",
        "outputId": "9c672ade-3d81-495d-c3c5-c8f32ce8d2d1",
        "colab": {
          "base_uri": "https://localhost:8080/",
          "height": 311
        }
      },
      "source": [
        "run.fit(8, learn)"
      ],
      "execution_count": 0,
      "outputs": [
        {
          "output_type": "stream",
          "text": [
            "train: [0.31784291015625, tensor(0.9073, device='cuda:0')]\n",
            "valid: [0.17389613037109375, tensor(0.9437, device='cuda:0')]\n",
            "train: [0.096655654296875, tensor(0.9707, device='cuda:0')]\n",
            "valid: [0.09641539916992188, tensor(0.9702, device='cuda:0')]\n",
            "train: [0.0683004541015625, tensor(0.9774, device='cuda:0')]\n",
            "valid: [0.0747609130859375, tensor(0.9771, device='cuda:0')]\n",
            "train: [0.0429230322265625, tensor(0.9863, device='cuda:0')]\n",
            "valid: [0.06158056640625, tensor(0.9806, device='cuda:0')]\n",
            "train: [0.02910196533203125, tensor(0.9906, device='cuda:0')]\n",
            "valid: [0.05078104248046875, tensor(0.9850, device='cuda:0')]\n",
            "train: [0.01780181640625, tensor(0.9948, device='cuda:0')]\n",
            "valid: [0.04820652160644531, tensor(0.9854, device='cuda:0')]\n",
            "train: [0.0109301123046875, tensor(0.9974, device='cuda:0')]\n",
            "valid: [0.040732470703125, tensor(0.9866, device='cuda:0')]\n",
            "train: [0.007570065307617188, tensor(0.9987, device='cuda:0')]\n",
            "valid: [0.0410082275390625, tensor(0.9874, device='cuda:0')]\n"
          ],
          "name": "stdout"
        }
      ]
    },
    {
      "cell_type": "markdown",
      "metadata": {
        "id": "eIT5TqFCo-8D",
        "colab_type": "text"
      },
      "source": [
        "\n",
        "More norms\n",
        "Layer norm\n",
        "\n",
        "From the paper: \"batch normalization cannot be applied to online learning tasks or to extremely large distributed models where the minibatches have to be small\".\n",
        "\n",
        "General equation for a norm layer with learnable affine:\n",
        "$$y = \\frac{x - \\mathrm{E}[x]}{ \\sqrt{\\mathrm{Var}[x] + \\epsilon}} * \\gamma + \\beta$$\n",
        "\n",
        "The difference with BatchNorm is\n",
        "\n",
        "    we don't keep a moving average\n",
        "    we don't average over the batches dimension but over the hidden dimension, so it's independent of the batch size\n",
        "\n"
      ]
    },
    {
      "cell_type": "code",
      "metadata": {
        "id": "h0ZF5KM-o_uj",
        "colab_type": "code",
        "colab": {}
      },
      "source": [
        "class LayerNorm(nn.Module):\n",
        "    __constants__ = ['eps']\n",
        "    def __init__(self, eps=1e-5):\n",
        "        super().__init__()\n",
        "        self.eps = eps\n",
        "        self.mult = nn.Parameter(tensor(1.))\n",
        "        self.add  = nn.Parameter(tensor(0.))\n",
        "\n",
        "    def forward(self, x):\n",
        "        m = x.mean((1,2,3), keepdim=True)\n",
        "        v = x.var ((1,2,3), keepdim=True)\n",
        "        x = (x-m) / ((v+self.eps).sqrt())\n",
        "        return x*self.mult + self.add"
      ],
      "execution_count": 0,
      "outputs": []
    },
    {
      "cell_type": "code",
      "metadata": {
        "id": "RS0XiNMNpc4P",
        "colab_type": "code",
        "colab": {}
      },
      "source": [
        "def conv_ln(ni, nf, ks=3, stride=2, bn=True, **kwargs):\n",
        "    layers = [nn.Conv2d(ni, nf, ks, padding=ks//2, stride=stride, bias=True),\n",
        "              GeneralRelu(**kwargs)]\n",
        "    if bn: layers.append(LayerNorm())\n",
        "    return nn.Sequential(*layers)"
      ],
      "execution_count": 0,
      "outputs": []
    },
    {
      "cell_type": "code",
      "metadata": {
        "id": "7SxgpJHQpnKv",
        "colab_type": "code",
        "colab": {}
      },
      "source": [
        "learn,run = get_learn_run(nfs, data, 0.8, conv_ln, cbs=cbfs)"
      ],
      "execution_count": 0,
      "outputs": []
    },
    {
      "cell_type": "code",
      "metadata": {
        "id": "L0TiIHpzpqoY",
        "colab_type": "code",
        "outputId": "3cbd710c-1442-477b-c445-9a9271411333",
        "colab": {
          "base_uri": "https://localhost:8080/",
          "height": 164
        }
      },
      "source": [
        "%time run.fit(3, learn)"
      ],
      "execution_count": 0,
      "outputs": [
        {
          "output_type": "stream",
          "text": [
            "train: [nan, tensor(0.1217, device='cuda:0')]\n",
            "valid: [nan, tensor(0.0991, device='cuda:0')]\n",
            "train: [nan, tensor(0.0986, device='cuda:0')]\n",
            "valid: [nan, tensor(0.0991, device='cuda:0')]\n",
            "train: [nan, tensor(0.0986, device='cuda:0')]\n",
            "valid: [nan, tensor(0.0991, device='cuda:0')]\n",
            "CPU times: user 5.58 s, sys: 1.73 s, total: 7.31 s\n",
            "Wall time: 7.34 s\n"
          ],
          "name": "stdout"
        }
      ]
    },
    {
      "cell_type": "markdown",
      "metadata": {
        "id": "TmH8aIK8puy2",
        "colab_type": "text"
      },
      "source": [
        "\n",
        "\n",
        "Thought experiment: can this distinguish foggy days from sunny days (assuming you're using it before the first conv)?\n",
        "Instance norm\n",
        "\n",
        "From the paper:\n",
        "\n",
        "The key difference between contrast and batch normalization is that the latter applies the normalization to a whole batch of images instead for single ones:\n",
        "$$\\label{eq:bnorm} y_{tijk} = \\frac{x_{tijk} - \\mu_{i}}{\\sqrt{\\sigma_i^2 + \\epsilon}}, \\quad \\mu_i = \\frac{1}{HWT}\\sum_{t=1}^T\\sum_{l=1}^W \\sum_{m=1}^H x_{tilm}, \\quad \\sigma_i^2 = \\frac{1}{HWT}\\sum_{t=1}^T\\sum_{l=1}^W \\sum_{m=1}^H (x_{tilm} - mu_i)^2. $$\n",
        "\n",
        "In order to combine the effects of instance-specific normalization and batch normalization, we propose to replace the latter by the instance normalization (also known as contrast normalization) layer:\n",
        "$$\\label{eq:inorm} y_{tijk} = \\frac{x_{tijk} - \\mu_{ti}}{\\sqrt{\\sigma_{ti}^2 + \\epsilon}}, \\quad \\mu_{ti} = \\frac{1}{HW}\\sum_{l=1}^W \\sum_{m=1}^H x_{tilm}, \\quad \\sigma_{ti}^2 = \\frac{1}{HW}\\sum_{l=1}^W \\sum_{m=1}^H (x_{tilm} - mu_{ti})^2. $$\n"
      ]
    },
    {
      "cell_type": "code",
      "metadata": {
        "id": "LbbTzpMtpx4S",
        "colab_type": "code",
        "colab": {}
      },
      "source": [
        "class InstanceNorm(nn.Module):\n",
        "    __constants__ = ['eps']\n",
        "    def __init__(self, nf, eps=1e-0):\n",
        "        super().__init__()\n",
        "        self.eps = eps\n",
        "        self.mults = nn.Parameter(torch.ones (nf,1,1))\n",
        "        self.adds  = nn.Parameter(torch.zeros(nf,1,1))\n",
        "\n",
        "    def forward(self, x):\n",
        "        m = x.mean((2,3), keepdim=True)\n",
        "        v = x.var ((2,3), keepdim=True)\n",
        "        res = (x-m) / ((v+self.eps).sqrt())\n",
        "        return res*self.mults + self.adds"
      ],
      "execution_count": 0,
      "outputs": []
    },
    {
      "cell_type": "code",
      "metadata": {
        "id": "WUcLbIrnqGGr",
        "colab_type": "code",
        "colab": {}
      },
      "source": [
        "def conv_in(ni, nf, ks=3, stride=2, bn=True, **kwargs):\n",
        "    layers = [nn.Conv2d(ni, nf, ks, padding=ks//2, stride=stride, bias=True),\n",
        "              GeneralRelu(**kwargs)]\n",
        "    if bn: layers.append(InstanceNorm(nf))\n",
        "    return nn.Sequential(*layers)"
      ],
      "execution_count": 0,
      "outputs": []
    },
    {
      "cell_type": "code",
      "metadata": {
        "id": "9_9dN24qqJcB",
        "colab_type": "code",
        "colab": {}
      },
      "source": [
        "learn,run = get_learn_run(nfs, data, 0.1, conv_in, cbs=cbfs)"
      ],
      "execution_count": 0,
      "outputs": []
    },
    {
      "cell_type": "code",
      "metadata": {
        "id": "oDgCj9O0qLca",
        "colab_type": "code",
        "outputId": "a5c05fd1-da63-4797-bb93-67c7064a41f9",
        "colab": {
          "base_uri": "https://localhost:8080/",
          "height": 164
        }
      },
      "source": [
        "%time run.fit(3, learn)"
      ],
      "execution_count": 0,
      "outputs": [
        {
          "output_type": "stream",
          "text": [
            "train: [nan, tensor(0.0986, device='cuda:0')]\n",
            "valid: [nan, tensor(0.0991, device='cuda:0')]\n",
            "train: [nan, tensor(0.0986, device='cuda:0')]\n",
            "valid: [nan, tensor(0.0991, device='cuda:0')]\n",
            "train: [nan, tensor(0.0986, device='cuda:0')]\n",
            "valid: [nan, tensor(0.0991, device='cuda:0')]\n",
            "CPU times: user 5.75 s, sys: 1.86 s, total: 7.61 s\n",
            "Wall time: 7.64 s\n"
          ],
          "name": "stdout"
        }
      ]
    },
    {
      "cell_type": "markdown",
      "metadata": {
        "id": "BcvRSH97qQl7",
        "colab_type": "text"
      },
      "source": [
        "\n",
        "\n",
        "Question: why can't this classify anything?\n",
        "\n",
        "Lost in all those norms? The authors from the group norm paper have you covered:"
      ]
    },
    {
      "cell_type": "markdown",
      "metadata": {
        "id": "HYdlVSa9qnt4",
        "colab_type": "text"
      },
      "source": [
        "\n",
        "Group norm\n",
        "\n",
        "Jump_to lesson 10 video\n",
        "\n",
        "From the PyTorch docs:\n",
        "\n",
        "GroupNorm(num_groups, num_channels, eps=1e-5, affine=True)\n",
        "\n",
        "The input channels are separated into num_groups groups, each containing num_channels / num_groups channels. The mean and standard-deviation are calculated separately over the each group. $\\gamma$ and $\\beta$ are learnable per-channel affine transform parameter vectorss of size num_channels if affine is True.\n",
        "\n",
        "This layer uses statistics computed from input data in both training and evaluation modes.\n",
        "\n",
        "Args:\n",
        "\n",
        "    num_groups (int): number of groups to separate the channels into\n",
        "    num_channels (int): number of channels expected in input\n",
        "    eps: a value added to the denominator for numerical stability. Default: 1e-5\n",
        "    affine: a boolean value that when set to True, this module has learnable per-channel affine parameters initialized to ones (for weights) and zeros (for biases). Default: True.\n",
        "\n",
        "Shape:\n",
        "\n",
        "    Input: (N, num_channels, *)\n",
        "    Output: (N, num_channels, *) (same shape as input)\n",
        "\n",
        "Examples::\n",
        "\n",
        ">>> input = torch.randn(20, 6, 10, 10)\n",
        ">>> # Separate 6 channels into 3 groups\n",
        ">>> m = nn.GroupNorm(3, 6)\n",
        ">>> # Separate 6 channels into 6 groups (equivalent with InstanceNorm)\n",
        ">>> m = nn.GroupNorm(6, 6)\n",
        ">>> # Put all 6 channels into a single group (equivalent with LayerNorm)\n",
        ">>> m = nn.GroupNorm(1, 6)\n",
        ">>> # Activating the module\n",
        ">>> output = m(input)\n",
        "\n",
        "Fix small batch sizes\n",
        "What's the problem?\n",
        "\n",
        "When we compute the statistics (mean and std) for a BatchNorm Layer on a small batch, it is possible that we get a standard deviation very close to 0. because there aren't many samples (the variance of one thing is 0. since it's equal to its mean).\n"
      ]
    },
    {
      "cell_type": "code",
      "metadata": {
        "id": "qH8KIysmqTYL",
        "colab_type": "code",
        "colab": {}
      },
      "source": [
        "data = DataBunch(*get_dls(train_ds, valid_ds, 2), c)"
      ],
      "execution_count": 0,
      "outputs": []
    },
    {
      "cell_type": "code",
      "metadata": {
        "id": "EZAmu9Dhq3-W",
        "colab_type": "code",
        "colab": {}
      },
      "source": [
        "def conv_layer(ni, nf, ks=3, stride=2, bn=True, **kwargs):\n",
        "    layers = [nn.Conv2d(ni, nf, ks, padding=ks//2, stride=stride, bias=not bn),\n",
        "              GeneralRelu(**kwargs)]\n",
        "    if bn: layers.append(nn.BatchNorm2d(nf, eps=1e-5, momentum=0.1))\n",
        "    return nn.Sequential(*layers)"
      ],
      "execution_count": 0,
      "outputs": []
    },
    {
      "cell_type": "code",
      "metadata": {
        "id": "BKOPzoSPq7FE",
        "colab_type": "code",
        "colab": {}
      },
      "source": [
        "learn,run = get_learn_run(nfs, data, 0.4, conv_layer, cbs=cbfs)"
      ],
      "execution_count": 0,
      "outputs": []
    },
    {
      "cell_type": "code",
      "metadata": {
        "id": "_7cEERoFq9Ib",
        "colab_type": "code",
        "outputId": "3f1bf758-1b2e-4adf-b731-cd8343339612",
        "colab": {
          "base_uri": "https://localhost:8080/",
          "height": 90
        }
      },
      "source": [
        "%time run.fit(1, learn)"
      ],
      "execution_count": 0,
      "outputs": [
        {
          "output_type": "stream",
          "text": [
            "train: [2.31992296875, tensor(0.1708, device='cuda:0')]\n",
            "valid: [3453.7472, tensor(0.1682, device='cuda:0')]\n",
            "CPU times: user 1min 48s, sys: 2.63 s, total: 1min 50s\n",
            "Wall time: 1min 51s\n"
          ],
          "name": "stdout"
        }
      ]
    },
    {
      "cell_type": "markdown",
      "metadata": {
        "id": "0jMa5j4srDAy",
        "colab_type": "text"
      },
      "source": [
        "\n",
        "Running Batch Norm\n",
        "\n",
        "To solve this problem we introduce a Running BatchNorm that uses smoother running mean and variance for the mean and std.\n"
      ]
    },
    {
      "cell_type": "code",
      "metadata": {
        "id": "MRITnCY5rFIf",
        "colab_type": "code",
        "colab": {}
      },
      "source": [
        "class RunningBatchNorm(nn.Module):\n",
        "    def __init__(self, nf, mom=0.1, eps=1e-5):\n",
        "        super().__init__()\n",
        "        self.mom,self.eps = mom,eps\n",
        "        self.mults = nn.Parameter(torch.ones (nf,1,1))\n",
        "        self.adds = nn.Parameter(torch.zeros(nf,1,1))\n",
        "        self.register_buffer('sums', torch.zeros(1,nf,1,1))\n",
        "        self.register_buffer('sqrs', torch.zeros(1,nf,1,1))\n",
        "        self.register_buffer('batch', tensor(0.))\n",
        "        self.register_buffer('count', tensor(0.))\n",
        "        self.register_buffer('step', tensor(0.))\n",
        "        self.register_buffer('dbias', tensor(0.))\n",
        "\n",
        "    def update_stats(self, x):\n",
        "        bs,nc,*_ = x.shape\n",
        "        self.sums.detach_()\n",
        "        self.sqrs.detach_()\n",
        "        dims = (0,2,3)\n",
        "        s = x.sum(dims, keepdim=True)\n",
        "        ss = (x*x).sum(dims, keepdim=True)\n",
        "        c = self.count.new_tensor(x.numel()/nc)\n",
        "        mom1 = 1 - (1-self.mom)/math.sqrt(bs-1)\n",
        "        self.mom1 = self.dbias.new_tensor(mom1)\n",
        "        self.sums.lerp_(s, self.mom1)\n",
        "        self.sqrs.lerp_(ss, self.mom1)\n",
        "        self.count.lerp_(c, self.mom1)\n",
        "        self.dbias = self.dbias*(1-self.mom1) + self.mom1\n",
        "        self.batch += bs\n",
        "        self.step += 1\n",
        "\n",
        "    def forward(self, x):\n",
        "        if self.training: self.update_stats(x)\n",
        "        sums = self.sums\n",
        "        sqrs = self.sqrs\n",
        "        c = self.count\n",
        "        if self.step<100:\n",
        "            sums = sums / self.dbias\n",
        "            sqrs = sqrs / self.dbias\n",
        "            c    = c    / self.dbias\n",
        "        means = sums/c\n",
        "        vars = (sqrs/c).sub_(means*means)\n",
        "        if bool(self.batch < 20): vars.clamp_min_(0.01)\n",
        "        x = (x-means).div_((vars.add_(self.eps)).sqrt())\n",
        "        return x.mul_(self.mults).add_(self.adds)"
      ],
      "execution_count": 0,
      "outputs": []
    },
    {
      "cell_type": "code",
      "metadata": {
        "id": "8PsHsgSjr0wg",
        "colab_type": "code",
        "colab": {}
      },
      "source": [
        "def conv_rbn(ni, nf, ks=3, stride=2, bn=True, **kwargs):\n",
        "    layers = [nn.Conv2d(ni, nf, ks, padding=ks//2, stride=stride, bias=not bn),\n",
        "              GeneralRelu(**kwargs)]\n",
        "    if bn: layers.append(RunningBatchNorm(nf))\n",
        "    return nn.Sequential(*layers)"
      ],
      "execution_count": 0,
      "outputs": []
    },
    {
      "cell_type": "code",
      "metadata": {
        "id": "xeBf_ugNtHbf",
        "colab_type": "code",
        "colab": {}
      },
      "source": [
        "learn,run = get_learn_run(nfs, data, 0.4, conv_rbn, cbs=cbfs)"
      ],
      "execution_count": 0,
      "outputs": []
    },
    {
      "cell_type": "code",
      "metadata": {
        "id": "V3nyj3m-tKNw",
        "colab_type": "code",
        "outputId": "258de089-20ad-42a6-d4d6-5667d5fcd931",
        "colab": {
          "base_uri": "https://localhost:8080/",
          "height": 90
        }
      },
      "source": [
        "%time run.fit(1, learn)"
      ],
      "execution_count": 0,
      "outputs": [
        {
          "output_type": "stream",
          "text": [
            "train: [0.19463990234375, tensor(0.9535, device='cuda:0')]\n",
            "valid: [0.13099288330078124, tensor(0.9711, device='cuda:0')]\n",
            "CPU times: user 4min 28s, sys: 6.68 s, total: 4min 35s\n",
            "Wall time: 4min 36s\n"
          ],
          "name": "stdout"
        }
      ]
    },
    {
      "cell_type": "markdown",
      "metadata": {
        "id": "S6w_TUwGtNJ0",
        "colab_type": "text"
      },
      "source": [
        "\n",
        "What can we do in a single epoch?\n",
        "\n",
        "Now let's see with a decent batch size what result we can get.\n"
      ]
    },
    {
      "cell_type": "code",
      "metadata": {
        "id": "hsyUV-kytQPv",
        "colab_type": "code",
        "colab": {}
      },
      "source": [
        "data = DataBunch(*get_dls(train_ds, valid_ds, 32), c)"
      ],
      "execution_count": 0,
      "outputs": []
    },
    {
      "cell_type": "code",
      "metadata": {
        "id": "Q29LBxjJtSj7",
        "colab_type": "code",
        "colab": {}
      },
      "source": [
        "learn,run = get_learn_run(nfs, data, 0.9, conv_rbn, cbs=cbfs\n",
        "                          +[partial(ParamScheduler,'lr', sched_lin(1., 0.2))])"
      ],
      "execution_count": 0,
      "outputs": []
    },
    {
      "cell_type": "code",
      "metadata": {
        "id": "7oJG93thtUOn",
        "colab_type": "code",
        "outputId": "7f34f6f7-f1a2-46ac-9595-3dd1d6b7a508",
        "colab": {
          "base_uri": "https://localhost:8080/",
          "height": 90
        }
      },
      "source": [
        "%time run.fit(1, learn)"
      ],
      "execution_count": 0,
      "outputs": [
        {
          "output_type": "stream",
          "text": [
            "train: [0.1631427734375, tensor(0.9479, device='cuda:0')]\n",
            "valid: [0.15727579345703124, tensor(0.9756, device='cuda:0')]\n",
            "CPU times: user 17.5 s, sys: 497 ms, total: 18 s\n",
            "Wall time: 18.1 s\n"
          ],
          "name": "stdout"
        }
      ]
    },
    {
      "cell_type": "markdown",
      "metadata": {
        "id": "A2P7qaMAtWsO",
        "colab_type": "text"
      },
      "source": [
        "Export"
      ]
    },
    {
      "cell_type": "code",
      "metadata": {
        "id": "L0XSTYJMwAZE",
        "colab_type": "code",
        "outputId": "a27c6797-b4c1-4bbc-de9a-3d5637bf6dca",
        "colab": {
          "base_uri": "https://localhost:8080/",
          "height": 35
        }
      },
      "source": [
        "!python notebook2script.py 07_batchnorm.ipynb"
      ],
      "execution_count": 0,
      "outputs": [
        {
          "output_type": "stream",
          "text": [
            "Converted 07_batchnorm.ipynb to exp/nb_07.py\n"
          ],
          "name": "stdout"
        }
      ]
    },
    {
      "cell_type": "code",
      "metadata": {
        "id": "MZ0FgXxytYue",
        "colab_type": "code",
        "colab": {}
      },
      "source": [
        "nb_auto_export()"
      ],
      "execution_count": 0,
      "outputs": []
    }
  ]
}