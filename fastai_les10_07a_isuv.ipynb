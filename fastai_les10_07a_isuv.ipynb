{
  "nbformat": 4,
  "nbformat_minor": 0,
  "metadata": {
    "colab": {
      "name": "fastai-les10-07a-isuv.ipynb",
      "provenance": [],
      "collapsed_sections": []
    },
    "kernelspec": {
      "name": "python3",
      "display_name": "Python 3"
    },
    "accelerator": "GPU"
  },
  "cells": [
    {
      "cell_type": "code",
      "metadata": {
        "id": "lJ31MQOmn4o5",
        "colab_type": "code",
        "outputId": "09949ff2-2300-4bb1-b888-e5763875f4a3",
        "colab": {
          "base_uri": "https://localhost:8080/",
          "height": 257
        }
      },
      "source": [
        "!pip install fire"
      ],
      "execution_count": 0,
      "outputs": [
        {
          "output_type": "stream",
          "text": [
            "Collecting fire\n",
            "\u001b[?25l  Downloading https://files.pythonhosted.org/packages/d9/69/faeaae8687f4de0f5973694d02e9d6c3eb827636a009157352d98de1129e/fire-0.2.1.tar.gz (76kB)\n",
            "\u001b[K     |████████████████████████████████| 81kB 2.9MB/s \n",
            "\u001b[?25hRequirement already satisfied: six in /usr/local/lib/python3.6/dist-packages (from fire) (1.12.0)\n",
            "Requirement already satisfied: termcolor in /usr/local/lib/python3.6/dist-packages (from fire) (1.1.0)\n",
            "Building wheels for collected packages: fire\n",
            "  Building wheel for fire (setup.py) ... \u001b[?25l\u001b[?25hdone\n",
            "  Created wheel for fire: filename=fire-0.2.1-py2.py3-none-any.whl size=103527 sha256=f51d518052a40b1572a5063ea47323c627ac99362bb4172509871275c47d51e3\n",
            "  Stored in directory: /root/.cache/pip/wheels/31/9c/c0/07b6dc7faf1844bb4688f46b569efe6cafaa2179c95db821da\n",
            "Successfully built fire\n",
            "Installing collected packages: fire\n",
            "Successfully installed fire-0.2.1\n"
          ],
          "name": "stdout"
        }
      ]
    },
    {
      "cell_type": "code",
      "metadata": {
        "id": "9rgVtB-NoG6C",
        "colab_type": "code",
        "outputId": "95f963c4-43ac-4f62-b379-38b83b9cb715",
        "colab": {
          "base_uri": "https://localhost:8080/",
          "height": 129
        }
      },
      "source": [
        "from google.colab import drive\n",
        "drive.mount('/content/gdrive', force_remount=True)\n",
        "root_dir = \"/content/gdrive/My\\ Drive/\"\n",
        "base_dir = root_dir + 'fastai-v3/les8'"
      ],
      "execution_count": 0,
      "outputs": [
        {
          "output_type": "stream",
          "text": [
            "Go to this URL in a browser: https://accounts.google.com/o/oauth2/auth?client_id=947318989803-6bn6qk8qdgf4n4g3pfee6491hc0brc4i.apps.googleusercontent.com&redirect_uri=urn%3Aietf%3Awg%3Aoauth%3A2.0%3Aoob&scope=email%20https%3A%2F%2Fwww.googleapis.com%2Fauth%2Fdocs.test%20https%3A%2F%2Fwww.googleapis.com%2Fauth%2Fdrive%20https%3A%2F%2Fwww.googleapis.com%2Fauth%2Fdrive.photos.readonly%20https%3A%2F%2Fwww.googleapis.com%2Fauth%2Fpeopleapi.readonly&response_type=code\n",
            "\n",
            "Enter your authorization code:\n",
            "··········\n",
            "Mounted at /content/gdrive\n"
          ],
          "name": "stdout"
        }
      ]
    },
    {
      "cell_type": "code",
      "metadata": {
        "id": "zAzLesQeoOZe",
        "colab_type": "code",
        "outputId": "ffb6d669-20ee-4504-9c96-8a3e8b6f390f",
        "colab": {
          "base_uri": "https://localhost:8080/",
          "height": 35
        }
      },
      "source": [
        "cd /content/gdrive/My\\ Drive/fastai-v3/les8"
      ],
      "execution_count": 0,
      "outputs": [
        {
          "output_type": "stream",
          "text": [
            "/content/gdrive/My Drive/fastai-v3/les8\n"
          ],
          "name": "stdout"
        }
      ]
    },
    {
      "cell_type": "code",
      "metadata": {
        "id": "4iO3bgepoW8y",
        "colab_type": "code",
        "outputId": "426adca9-331f-4fd5-cdbd-67148d936ae5",
        "colab": {
          "base_uri": "https://localhost:8080/",
          "height": 35
        }
      },
      "source": [
        "pwd"
      ],
      "execution_count": 0,
      "outputs": [
        {
          "output_type": "execute_result",
          "data": {
            "text/plain": [
              "'/content/gdrive/My Drive/fastai-v3/les8'"
            ]
          },
          "metadata": {
            "tags": []
          },
          "execution_count": 4
        }
      ]
    },
    {
      "cell_type": "code",
      "metadata": {
        "id": "Bmr1SejlogDW",
        "colab_type": "code",
        "colab": {}
      },
      "source": [
        "#export\n",
        "from exp.nb_07 import *"
      ],
      "execution_count": 0,
      "outputs": []
    },
    {
      "cell_type": "code",
      "metadata": {
        "id": "NeCCswlYosMi",
        "colab_type": "code",
        "colab": {}
      },
      "source": [
        "%reload_ext autoreload\n",
        "%autoreload 2\n",
        "%matplotlib inline"
      ],
      "execution_count": 0,
      "outputs": []
    },
    {
      "cell_type": "markdown",
      "metadata": {
        "id": "pFJKFlePpC8s",
        "colab_type": "text"
      },
      "source": [
        "\n",
        "Layerwise Sequential Unit Variance (LSUV)\n",
        "\n",
        "Getting the MNIST data and a CNN\n"
      ]
    },
    {
      "cell_type": "code",
      "metadata": {
        "id": "TV2vO8b1pEX4",
        "colab_type": "code",
        "colab": {}
      },
      "source": [
        "x_train,y_train,x_valid,y_valid = get_data()\n",
        "\n",
        "x_train,x_valid = normalize_to(x_train,x_valid)\n",
        "train_ds,valid_ds = Dataset(x_train, y_train),Dataset(x_valid, y_valid)\n",
        "\n",
        "nh,bs = 50,512\n",
        "c = y_train.max().item()+1\n",
        "loss_func = F.cross_entropy\n",
        "\n",
        "data = DataBunch(*get_dls(train_ds, valid_ds, bs), c)"
      ],
      "execution_count": 0,
      "outputs": []
    },
    {
      "cell_type": "code",
      "metadata": {
        "id": "8l8tLU4rpNhe",
        "colab_type": "code",
        "colab": {}
      },
      "source": [
        "mnist_view = view_tfm(1,28,28)\n",
        "cbfs = [Recorder,\n",
        "        partial(AvgStatsCallback,accuracy),\n",
        "        CudaCallback,\n",
        "        partial(BatchTransformXCallback, mnist_view)]"
      ],
      "execution_count": 0,
      "outputs": []
    },
    {
      "cell_type": "code",
      "metadata": {
        "id": "x8xopp_3pS1i",
        "colab_type": "code",
        "colab": {}
      },
      "source": [
        "nfs = [8,16,32,64,64]"
      ],
      "execution_count": 0,
      "outputs": []
    },
    {
      "cell_type": "code",
      "metadata": {
        "id": "l-rgknWcpUEJ",
        "colab_type": "code",
        "colab": {}
      },
      "source": [
        "class ConvLayer(nn.Module):\n",
        "    def __init__(self, ni, nf, ks=3, stride=2, sub=0., **kwargs):\n",
        "        super().__init__()\n",
        "        self.conv = nn.Conv2d(ni, nf, ks, padding=ks//2, stride=stride, bias=True)\n",
        "        self.relu = GeneralRelu(sub=sub, **kwargs)\n",
        "    \n",
        "    def forward(self, x): return self.relu(self.conv(x))\n",
        "    \n",
        "    @property\n",
        "    def bias(self): return -self.relu.sub\n",
        "    @bias.setter\n",
        "    def bias(self,v): self.relu.sub = -v\n",
        "    @property\n",
        "    def weight(self): return self.conv.weight"
      ],
      "execution_count": 0,
      "outputs": []
    },
    {
      "cell_type": "code",
      "metadata": {
        "id": "BdbEgrAwpbVx",
        "colab_type": "code",
        "colab": {}
      },
      "source": [
        "learn,run = get_learn_run(nfs, data, 0.6, ConvLayer, cbs=cbfs)"
      ],
      "execution_count": 0,
      "outputs": []
    },
    {
      "cell_type": "markdown",
      "metadata": {
        "id": "hBu5NTYspeE8",
        "colab_type": "text"
      },
      "source": [
        "\n",
        "\n",
        "Now we're going to look at the paper All You Need is a Good Init, which introduces Layer-wise Sequential Unit-Variance (LSUV). We initialize our neural net with the usual technique, then we pass a batch through the model and check the outputs of the linear and convolutional layers. We can then rescale the weights according to the actual variance we observe on the activations, and subtract the mean we observe from the initial bias. That way we will have activations that stay normalized.\n",
        "\n",
        "We repeat this process until we are satisfied with the mean/variance we observe.\n",
        "\n",
        "Let's start by looking at a baseline:\n"
      ]
    },
    {
      "cell_type": "code",
      "metadata": {
        "id": "Sim5LK7Ppe2Z",
        "colab_type": "code",
        "outputId": "a04dd536-1631-4410-b0fa-384eb1b0073b",
        "colab": {
          "base_uri": "https://localhost:8080/",
          "height": 90
        }
      },
      "source": [
        "run.fit(2, learn)"
      ],
      "execution_count": 0,
      "outputs": [
        {
          "output_type": "stream",
          "text": [
            "train: [1.95383890625, tensor(0.3068, device='cuda:0')]\n",
            "valid: [0.720376416015625, tensor(0.7577, device='cuda:0')]\n",
            "train: [0.3832821484375, tensor(0.8783, device='cuda:0')]\n",
            "valid: [0.1469978759765625, tensor(0.9549, device='cuda:0')]\n"
          ],
          "name": "stdout"
        }
      ]
    },
    {
      "cell_type": "markdown",
      "metadata": {
        "id": "jipc-pUwpz_X",
        "colab_type": "text"
      },
      "source": [
        "Now we recreate our model and we'll try again with LSUV. Hopefully, we'll get better results!"
      ]
    },
    {
      "cell_type": "code",
      "metadata": {
        "id": "BvYprJbAp0qF",
        "colab_type": "code",
        "colab": {}
      },
      "source": [
        "learn,run = get_learn_run(nfs, data, 0.6, ConvLayer, cbs=cbfs)"
      ],
      "execution_count": 0,
      "outputs": []
    },
    {
      "cell_type": "markdown",
      "metadata": {
        "id": "HZvcRivAp4dk",
        "colab_type": "text"
      },
      "source": [
        "Helper function to get one batch of a given dataloader, with the callbacks called to preprocess it."
      ]
    },
    {
      "cell_type": "code",
      "metadata": {
        "id": "4jzQIPT5p5Pw",
        "colab_type": "code",
        "colab": {}
      },
      "source": [
        "#export\n",
        "def get_batch(dl, run):\n",
        "    run.xb,run.yb = next(iter(dl))\n",
        "    for cb in run.cbs: cb.set_runner(run)\n",
        "    run('begin_batch')\n",
        "    return run.xb,run.yb"
      ],
      "execution_count": 0,
      "outputs": []
    },
    {
      "cell_type": "code",
      "metadata": {
        "id": "XDKk0ubFp88Q",
        "colab_type": "code",
        "colab": {}
      },
      "source": [
        "xb,yb = get_batch(data.train_dl, run)"
      ],
      "execution_count": 0,
      "outputs": []
    },
    {
      "cell_type": "markdown",
      "metadata": {
        "id": "PLlu23VFqBH-",
        "colab_type": "text"
      },
      "source": [
        "We only want the outputs of convolutional or linear layers. To find them, we need a recursive function. We can use sum(list, []) to concatenate the lists the function finds (sum applies the + operate between the elements of the list you pass it, beginning with the initial state in the second argument)."
      ]
    },
    {
      "cell_type": "code",
      "metadata": {
        "id": "mzEyYQ2rqB8u",
        "colab_type": "code",
        "colab": {}
      },
      "source": [
        "#export\n",
        "def find_modules(m, cond):\n",
        "    if cond(m): return [m]\n",
        "    return sum([find_modules(o,cond) for o in m.children()], [])\n",
        "\n",
        "def is_lin_layer(l):\n",
        "    lin_layers = (nn.Conv1d, nn.Conv2d, nn.Conv3d, nn.Linear, nn.ReLU)\n",
        "    return isinstance(l, lin_layers)"
      ],
      "execution_count": 0,
      "outputs": []
    },
    {
      "cell_type": "code",
      "metadata": {
        "id": "_rdnC8U8qI1N",
        "colab_type": "code",
        "colab": {}
      },
      "source": [
        "mods = find_modules(learn.model, lambda o: isinstance(o,ConvLayer))"
      ],
      "execution_count": 0,
      "outputs": []
    },
    {
      "cell_type": "code",
      "metadata": {
        "id": "9zKhRaGYqLUV",
        "colab_type": "code",
        "outputId": "afd4fab6-db5c-4bf5-c04d-fd9fbfecd5a8",
        "colab": {
          "base_uri": "https://localhost:8080/",
          "height": 311
        }
      },
      "source": [
        "mods"
      ],
      "execution_count": 0,
      "outputs": [
        {
          "output_type": "execute_result",
          "data": {
            "text/plain": [
              "[ConvLayer(\n",
              "   (conv): Conv2d(1, 8, kernel_size=(5, 5), stride=(2, 2), padding=(2, 2))\n",
              "   (relu): GeneralRelu()\n",
              " ), ConvLayer(\n",
              "   (conv): Conv2d(8, 16, kernel_size=(3, 3), stride=(2, 2), padding=(1, 1))\n",
              "   (relu): GeneralRelu()\n",
              " ), ConvLayer(\n",
              "   (conv): Conv2d(16, 32, kernel_size=(3, 3), stride=(2, 2), padding=(1, 1))\n",
              "   (relu): GeneralRelu()\n",
              " ), ConvLayer(\n",
              "   (conv): Conv2d(32, 64, kernel_size=(3, 3), stride=(2, 2), padding=(1, 1))\n",
              "   (relu): GeneralRelu()\n",
              " ), ConvLayer(\n",
              "   (conv): Conv2d(64, 64, kernel_size=(3, 3), stride=(2, 2), padding=(1, 1))\n",
              "   (relu): GeneralRelu()\n",
              " )]"
            ]
          },
          "metadata": {
            "tags": []
          },
          "execution_count": 18
        }
      ]
    },
    {
      "cell_type": "markdown",
      "metadata": {
        "id": "whoL3NhzqPAB",
        "colab_type": "text"
      },
      "source": [
        "This is a helper function to grab the mean and std of the output of a hooked layer."
      ]
    },
    {
      "cell_type": "code",
      "metadata": {
        "id": "Bk1K5-plqPrW",
        "colab_type": "code",
        "colab": {}
      },
      "source": [
        "def append_stat(hook, mod, inp, outp):\n",
        "    d = outp.data\n",
        "    hook.mean,hook.std = d.mean().item(),d.std().item()"
      ],
      "execution_count": 0,
      "outputs": []
    },
    {
      "cell_type": "code",
      "metadata": {
        "id": "yJdMm7PYqTGK",
        "colab_type": "code",
        "colab": {}
      },
      "source": [
        "mdl = learn.model.cuda()"
      ],
      "execution_count": 0,
      "outputs": []
    },
    {
      "cell_type": "markdown",
      "metadata": {
        "id": "ctf16wRMqWGe",
        "colab_type": "text"
      },
      "source": [
        "So now we can look at the mean and std of the conv layers of our model."
      ]
    },
    {
      "cell_type": "code",
      "metadata": {
        "id": "4svwey9aqYE1",
        "colab_type": "code",
        "outputId": "f2466819-443d-46b8-f4f1-af219b9ee39f",
        "colab": {
          "base_uri": "https://localhost:8080/",
          "height": 109
        }
      },
      "source": [
        "with Hooks(mods, append_stat) as hooks:\n",
        "    mdl(xb)\n",
        "    for hook in hooks: print(hook.mean,hook.std)"
      ],
      "execution_count": 0,
      "outputs": [
        {
          "output_type": "stream",
          "text": [
            "0.3893089294433594 0.7792686223983765\n",
            "0.3996789753437042 0.6620614528656006\n",
            "0.4108506143093109 0.643345057964325\n",
            "0.3801940083503723 0.5647823214530945\n",
            "0.24098142981529236 0.38366857171058655\n"
          ],
          "name": "stdout"
        }
      ]
    },
    {
      "cell_type": "markdown",
      "metadata": {
        "id": "JK2KjAGAqbU5",
        "colab_type": "text"
      },
      "source": [
        "We first adjust the bias terms to make the means 0, then we adjust the standard deviations to make the stds 1 (with a threshold of 1e-3). The mdl(xb) is not None clause is just there to pass xb through mdl and compute all the activations so that the hooks get updated."
      ]
    },
    {
      "cell_type": "code",
      "metadata": {
        "id": "tlFnBsWYqeIu",
        "colab_type": "code",
        "colab": {}
      },
      "source": [
        "#export\n",
        "def lsuv_module(m, xb):\n",
        "    h = Hook(m, append_stat)\n",
        "\n",
        "    while mdl(xb) is not None and abs(h.mean)  > 1e-3: m.bias -= h.mean\n",
        "    while mdl(xb) is not None and abs(h.std-1) > 1e-3: m.weight.data /= h.std\n",
        "\n",
        "    h.remove()\n",
        "    return h.mean,h.std"
      ],
      "execution_count": 0,
      "outputs": []
    },
    {
      "cell_type": "markdown",
      "metadata": {
        "id": "MAoMAM_Wrye6",
        "colab_type": "text"
      },
      "source": [
        "We execute that initialization on all the conv layers in order:"
      ]
    },
    {
      "cell_type": "code",
      "metadata": {
        "id": "HHBffxM6r0KB",
        "colab_type": "code",
        "outputId": "45e88030-af5f-4978-950e-ffa190284ddb",
        "colab": {
          "base_uri": "https://localhost:8080/",
          "height": 109
        }
      },
      "source": [
        "for m in mods: print(lsuv_module(m, xb))"
      ],
      "execution_count": 0,
      "outputs": [
        {
          "output_type": "stream",
          "text": [
            "(0.11027354747056961, 1.0)\n",
            "(0.1490212231874466, 1.0)\n",
            "(0.10891561210155487, 1.0000001192092896)\n",
            "(0.16913190484046936, 0.9999999403953552)\n",
            "(0.27742981910705566, 1.000000238418579)\n"
          ],
          "name": "stdout"
        }
      ]
    },
    {
      "cell_type": "markdown",
      "metadata": {
        "id": "42gBj1fWr3ho",
        "colab_type": "text"
      },
      "source": [
        "\n",
        "\n",
        "Note that the mean doesn't exactly stay at 0. since we change the standard deviation after by scaling the weight.\n",
        "\n",
        "Then training is beginning on better grounds.\n"
      ]
    },
    {
      "cell_type": "code",
      "metadata": {
        "id": "oKSJFjCar6mr",
        "colab_type": "code",
        "outputId": "f150e35e-ca00-4174-825d-ed62e418a1de",
        "colab": {
          "base_uri": "https://localhost:8080/",
          "height": 127
        }
      },
      "source": [
        "%time run.fit(2, learn)"
      ],
      "execution_count": 0,
      "outputs": [
        {
          "output_type": "stream",
          "text": [
            "train: [0.499746171875, tensor(0.8388, device='cuda:0')]\n",
            "valid: [0.12449700927734375, tensor(0.9637, device='cuda:0')]\n",
            "train: [0.102100068359375, tensor(0.9678, device='cuda:0')]\n",
            "valid: [0.1132468505859375, tensor(0.9658, device='cuda:0')]\n",
            "CPU times: user 3 s, sys: 1.17 s, total: 4.16 s\n",
            "Wall time: 4.19 s\n"
          ],
          "name": "stdout"
        }
      ]
    },
    {
      "cell_type": "markdown",
      "metadata": {
        "id": "Vlv8Slp5sBUT",
        "colab_type": "text"
      },
      "source": [
        "LSUV is particularly useful for more complex and deeper architectures that are hard to initialize to get unit variance at the last layer."
      ]
    },
    {
      "cell_type": "code",
      "metadata": {
        "id": "IQs7VNUzsASm",
        "colab_type": "code",
        "outputId": "0725632e-d542-4661-af8e-8148d7288ce7",
        "colab": {
          "base_uri": "https://localhost:8080/",
          "height": 35
        }
      },
      "source": [
        "!python notebook2script.py 07a_lsuv.ipynb"
      ],
      "execution_count": 0,
      "outputs": [
        {
          "output_type": "stream",
          "text": [
            "Converted 07a_lsuv.ipynb to exp/nb_07a.py\n"
          ],
          "name": "stdout"
        }
      ]
    }
  ]
}