{
  "nbformat": 4,
  "nbformat_minor": 0,
  "metadata": {
    "colab": {
      "name": "fastai-les11-09b-learner.ipynb",
      "provenance": [],
      "collapsed_sections": []
    },
    "kernelspec": {
      "name": "python3",
      "display_name": "Python 3"
    },
    "accelerator": "GPU"
  },
  "cells": [
    {
      "cell_type": "code",
      "metadata": {
        "id": "DRMJr2jz0bUn",
        "colab_type": "code",
        "outputId": "2b285b53-feb9-42d5-fd56-d61710d3487f",
        "colab": {
          "base_uri": "https://localhost:8080/",
          "height": 257
        }
      },
      "source": [
        "!pip install fire"
      ],
      "execution_count": 0,
      "outputs": [
        {
          "output_type": "stream",
          "text": [
            "Collecting fire\n",
            "\u001b[?25l  Downloading https://files.pythonhosted.org/packages/d9/69/faeaae8687f4de0f5973694d02e9d6c3eb827636a009157352d98de1129e/fire-0.2.1.tar.gz (76kB)\n",
            "\u001b[K     |████████████████████████████████| 81kB 6.6MB/s \n",
            "\u001b[?25hRequirement already satisfied: six in /usr/local/lib/python3.6/dist-packages (from fire) (1.12.0)\n",
            "Requirement already satisfied: termcolor in /usr/local/lib/python3.6/dist-packages (from fire) (1.1.0)\n",
            "Building wheels for collected packages: fire\n",
            "  Building wheel for fire (setup.py) ... \u001b[?25l\u001b[?25hdone\n",
            "  Created wheel for fire: filename=fire-0.2.1-py2.py3-none-any.whl size=103527 sha256=33228429e64446e729b91adebf88b149029fa247dc0922de557ac8059557fa87\n",
            "  Stored in directory: /root/.cache/pip/wheels/31/9c/c0/07b6dc7faf1844bb4688f46b569efe6cafaa2179c95db821da\n",
            "Successfully built fire\n",
            "Installing collected packages: fire\n",
            "Successfully installed fire-0.2.1\n"
          ],
          "name": "stdout"
        }
      ]
    },
    {
      "cell_type": "code",
      "metadata": {
        "id": "KY_8qZ8N0glM",
        "colab_type": "code",
        "outputId": "21a1602c-01f6-4cc0-d966-54856ea138d3",
        "colab": {
          "base_uri": "https://localhost:8080/",
          "height": 129
        }
      },
      "source": [
        "from google.colab import drive\n",
        "drive.mount('/content/gdrive', force_remount=True)\n",
        "root_dir = \"/content/gdrive/My\\ Drive/\"\n",
        "base_dir = root_dir + 'fastai-v3/les8'"
      ],
      "execution_count": 0,
      "outputs": [
        {
          "output_type": "stream",
          "text": [
            "Go to this URL in a browser: https://accounts.google.com/o/oauth2/auth?client_id=947318989803-6bn6qk8qdgf4n4g3pfee6491hc0brc4i.apps.googleusercontent.com&redirect_uri=urn%3Aietf%3Awg%3Aoauth%3A2.0%3Aoob&scope=email%20https%3A%2F%2Fwww.googleapis.com%2Fauth%2Fdocs.test%20https%3A%2F%2Fwww.googleapis.com%2Fauth%2Fdrive%20https%3A%2F%2Fwww.googleapis.com%2Fauth%2Fdrive.photos.readonly%20https%3A%2F%2Fwww.googleapis.com%2Fauth%2Fpeopleapi.readonly&response_type=code\n",
            "\n",
            "Enter your authorization code:\n",
            "··········\n",
            "Mounted at /content/gdrive\n"
          ],
          "name": "stdout"
        }
      ]
    },
    {
      "cell_type": "code",
      "metadata": {
        "id": "28O8NFLg0lG9",
        "colab_type": "code",
        "outputId": "414687f5-8dc2-441e-f3de-b3bf213a87ab",
        "colab": {
          "base_uri": "https://localhost:8080/",
          "height": 35
        }
      },
      "source": [
        "cd /content/gdrive/My\\ Drive/fastai-v3/les8"
      ],
      "execution_count": 0,
      "outputs": [
        {
          "output_type": "stream",
          "text": [
            "/content/gdrive/My Drive/fastai-v3/les8\n"
          ],
          "name": "stdout"
        }
      ]
    },
    {
      "cell_type": "code",
      "metadata": {
        "id": "t9-iZ5Mb0vgL",
        "colab_type": "code",
        "outputId": "2322ce09-8718-4b30-9340-56d92746ec3f",
        "colab": {
          "base_uri": "https://localhost:8080/",
          "height": 35
        }
      },
      "source": [
        "pwd"
      ],
      "execution_count": 0,
      "outputs": [
        {
          "output_type": "execute_result",
          "data": {
            "text/plain": [
              "'/content/gdrive/My Drive/fastai-v3/les8'"
            ]
          },
          "metadata": {
            "tags": []
          },
          "execution_count": 4
        }
      ]
    },
    {
      "cell_type": "code",
      "metadata": {
        "id": "ysUTdT7Q0wor",
        "colab_type": "code",
        "colab": {}
      },
      "source": [
        "%reload_ext autoreload\n",
        "%autoreload 2\n",
        "%matplotlib inline"
      ],
      "execution_count": 0,
      "outputs": []
    },
    {
      "cell_type": "code",
      "metadata": {
        "id": "OrfMWTg20z5U",
        "colab_type": "code",
        "colab": {}
      },
      "source": [
        "#export\n",
        "from exp.nb_09 import *"
      ],
      "execution_count": 0,
      "outputs": []
    },
    {
      "cell_type": "code",
      "metadata": {
        "id": "h-PVbojk044M",
        "colab_type": "code",
        "outputId": "220b95e4-7f7c-410b-b14f-fe37a3820547",
        "colab": {
          "base_uri": "https://localhost:8080/",
          "height": 35
        }
      },
      "source": [
        "AvgStats"
      ],
      "execution_count": 0,
      "outputs": [
        {
          "output_type": "execute_result",
          "data": {
            "text/plain": [
              "exp.nb_04.AvgStats"
            ]
          },
          "metadata": {
            "tags": []
          },
          "execution_count": 7
        }
      ]
    },
    {
      "cell_type": "markdown",
      "metadata": {
        "id": "_r6tid_c1A5W",
        "colab_type": "text"
      },
      "source": [
        "Imagenette Data"
      ]
    },
    {
      "cell_type": "code",
      "metadata": {
        "id": "gN0FuH5y0-mK",
        "colab_type": "code",
        "colab": {}
      },
      "source": [
        "path = datasets.untar_data(datasets.URLs.IMAGENETTE_160)"
      ],
      "execution_count": 0,
      "outputs": []
    },
    {
      "cell_type": "code",
      "metadata": {
        "id": "-9sCOC7r1GOq",
        "colab_type": "code",
        "colab": {}
      },
      "source": [
        "tfms = [make_rgb, ResizeFixed(128), to_byte_tensor, to_float_tensor]\n",
        "bs=64\n",
        "\n",
        "il = ImageList.from_files(path, tfms=tfms)\n",
        "sd = SplitData.split_by_func(il, partial(grandparent_splitter, valid_name='val'))\n",
        "ll = label_by_func(sd, parent_labeler, proc_y=CategoryProcessor())\n",
        "data = ll.to_databunch(bs, c_in=3, c_out=10, num_workers=4)"
      ],
      "execution_count": 0,
      "outputs": []
    },
    {
      "cell_type": "code",
      "metadata": {
        "id": "l4GGAnp81MK5",
        "colab_type": "code",
        "colab": {}
      },
      "source": [
        "cbfs = [partial(AvgStatsCallback,accuracy),\n",
        "        CudaCallback,\n",
        "        partial(BatchTransformXCallback, norm_imagenette)]"
      ],
      "execution_count": 0,
      "outputs": []
    },
    {
      "cell_type": "code",
      "metadata": {
        "id": "I0JIpsC41UF7",
        "colab_type": "code",
        "colab": {}
      },
      "source": [
        "nfs = [32]*4"
      ],
      "execution_count": 0,
      "outputs": []
    },
    {
      "cell_type": "markdown",
      "metadata": {
        "id": "bVTMUbZf1ZZz",
        "colab_type": "text"
      },
      "source": [
        "\n",
        "\n",
        "Having a Runner is great but not essential when the Learner already has everything needed in its state. We implement everything inside it directly instead of building a second object.\n",
        "In Lesson 12 Jeremy Howard revisited material in the cell below Jump_to lesson 12 video¶\n"
      ]
    },
    {
      "cell_type": "code",
      "metadata": {
        "id": "lLOLeH3o1Y6F",
        "colab_type": "code",
        "colab": {}
      },
      "source": [
        "#export\n",
        "def param_getter(m): return m.parameters()\n",
        "\n",
        "class Learner():\n",
        "    def __init__(self, model, data, loss_func, opt_func=sgd_opt, lr=1e-2, splitter=param_getter,\n",
        "                 cbs=None, cb_funcs=None):\n",
        "        self.model,self.data,self.loss_func,self.opt_func,self.lr,self.splitter = model,data,loss_func,opt_func,lr,splitter\n",
        "        self.in_train,self.logger,self.opt = False,print,None\n",
        "        \n",
        "        # NB: Things marked \"NEW\" are covered in lesson 12\n",
        "        # NEW: avoid need for set_runner\n",
        "        self.cbs = []\n",
        "        self.add_cb(TrainEvalCallback())\n",
        "        self.add_cbs(cbs)\n",
        "        self.add_cbs(cbf() for cbf in listify(cb_funcs))\n",
        "\n",
        "    def add_cbs(self, cbs):\n",
        "        for cb in listify(cbs): self.add_cb(cb)\n",
        "            \n",
        "    def add_cb(self, cb):\n",
        "        cb.set_runner(self)\n",
        "        setattr(self, cb.name, cb)\n",
        "        self.cbs.append(cb)\n",
        "\n",
        "    def remove_cbs(self, cbs):\n",
        "        for cb in listify(cbs): self.cbs.remove(cb)\n",
        "            \n",
        "    def one_batch(self, i, xb, yb):\n",
        "        try:\n",
        "            self.iter = i\n",
        "            self.xb,self.yb = xb,yb;                        self('begin_batch')\n",
        "            self.pred = self.model(self.xb);                self('after_pred')\n",
        "            self.loss = self.loss_func(self.pred, self.yb); self('after_loss')\n",
        "            if not self.in_train: return\n",
        "            self.loss.backward();                           self('after_backward')\n",
        "            self.opt.step();                                self('after_step')\n",
        "            self.opt.zero_grad()\n",
        "        except CancelBatchException:                        self('after_cancel_batch')\n",
        "        finally:                                            self('after_batch')\n",
        "\n",
        "    def all_batches(self):\n",
        "        self.iters = len(self.dl)\n",
        "        try:\n",
        "            for i,(xb,yb) in enumerate(self.dl): self.one_batch(i, xb, yb)\n",
        "        except CancelEpochException: self('after_cancel_epoch')\n",
        "\n",
        "    def do_begin_fit(self, epochs):\n",
        "        self.epochs,self.loss = epochs,tensor(0.)\n",
        "        self('begin_fit')\n",
        "\n",
        "    def do_begin_epoch(self, epoch):\n",
        "        self.epoch,self.dl = epoch,self.data.train_dl\n",
        "        return self('begin_epoch')\n",
        "\n",
        "    def fit(self, epochs, cbs=None, reset_opt=False):\n",
        "        # NEW: pass callbacks to fit() and have them removed when done\n",
        "        self.add_cbs(cbs)\n",
        "        # NEW: create optimizer on fit(), optionally replacing existing\n",
        "        if reset_opt or not self.opt: self.opt = self.opt_func(self.splitter(self.model), lr=self.lr)\n",
        "            \n",
        "        try:\n",
        "            self.do_begin_fit(epochs)\n",
        "            for epoch in range(epochs):\n",
        "                self.do_begin_epoch(epoch)\n",
        "                if not self('begin_epoch'): self.all_batches()\n",
        "\n",
        "                with torch.no_grad(): \n",
        "                    self.dl = self.data.valid_dl\n",
        "                    if not self('begin_validate'): self.all_batches()\n",
        "                self('after_epoch')\n",
        "            \n",
        "        except CancelTrainException: self('after_cancel_train')\n",
        "        finally:\n",
        "            self('after_fit')\n",
        "            self.remove_cbs(cbs)\n",
        "\n",
        "    ALL_CBS = {'begin_batch', 'after_pred', 'after_loss', 'after_backward', 'after_step',\n",
        "        'after_cancel_batch', 'after_batch', 'after_cancel_epoch', 'begin_fit',\n",
        "        'begin_epoch', 'begin_validate', 'after_epoch',\n",
        "        'after_cancel_train', 'after_fit'}\n",
        "    \n",
        "    def __call__(self, cb_name):\n",
        "        res = False\n",
        "        assert cb_name in self.ALL_CBS\n",
        "        for cb in sorted(self.cbs, key=lambda x: x._order): res = cb(cb_name) and res\n",
        "        return res"
      ],
      "execution_count": 0,
      "outputs": []
    },
    {
      "cell_type": "code",
      "metadata": {
        "id": "RwMT-WXi1kB6",
        "colab_type": "code",
        "colab": {}
      },
      "source": [
        "#export\n",
        "class AvgStatsCallback(Callback):\n",
        "    def __init__(self, metrics):\n",
        "        self.train_stats,self.valid_stats = AvgStats(metrics,True),AvgStats(metrics,False)\n",
        "        \n",
        "    def begin_epoch(self):\n",
        "        self.train_stats.reset()\n",
        "        self.valid_stats.reset()\n",
        "        \n",
        "    def after_loss(self):\n",
        "        stats = self.train_stats if self.in_train else self.valid_stats\n",
        "        with torch.no_grad(): stats.accumulate(self.run)\n",
        "    \n",
        "    def after_epoch(self):\n",
        "        #We use the logger function of the `Learner` here, it can be customized to write in a file or in a progress bar\n",
        "        self.logger(self.train_stats)\n",
        "        self.logger(self.valid_stats)"
      ],
      "execution_count": 0,
      "outputs": []
    },
    {
      "cell_type": "code",
      "metadata": {
        "id": "7H9VAVSk1nTl",
        "colab_type": "code",
        "colab": {}
      },
      "source": [
        "cbfs = [partial(AvgStatsCallback,accuracy),\n",
        "        CudaCallback,\n",
        "        partial(BatchTransformXCallback, norm_imagenette)]"
      ],
      "execution_count": 0,
      "outputs": []
    },
    {
      "cell_type": "code",
      "metadata": {
        "id": "sM8rK8n91qyU",
        "colab_type": "code",
        "colab": {}
      },
      "source": [
        "#export\n",
        "def get_learner(nfs, data, lr, layer, loss_func=F.cross_entropy,\n",
        "                cb_funcs=None, opt_func=sgd_opt, **kwargs):\n",
        "    model = get_cnn_model(data, nfs, layer, **kwargs)\n",
        "    init_cnn(model)\n",
        "    return Learner(model, data, loss_func, lr=lr, cb_funcs=cb_funcs, opt_func=opt_func)"
      ],
      "execution_count": 0,
      "outputs": []
    },
    {
      "cell_type": "code",
      "metadata": {
        "id": "tStUkgkN1s3I",
        "colab_type": "code",
        "colab": {}
      },
      "source": [
        "learn = get_learner(nfs, data, 0.4, conv_layer, cb_funcs=cbfs)"
      ],
      "execution_count": 0,
      "outputs": []
    },
    {
      "cell_type": "code",
      "metadata": {
        "id": "cz8kpSYE1u_c",
        "colab_type": "code",
        "outputId": "28499616-fe83-4c02-c43d-96b4e9a35208",
        "colab": {
          "base_uri": "https://localhost:8080/",
          "height": 90
        }
      },
      "source": [
        "%time learn.fit(1)"
      ],
      "execution_count": 0,
      "outputs": [
        {
          "output_type": "stream",
          "text": [
            "train: [1.8292324373255002, tensor(0.3555, device='cuda:0')]\n",
            "valid: [1.6673209228515624, tensor(0.4580, device='cuda:0')]\n",
            "CPU times: user 3.45 s, sys: 1.43 s, total: 4.88 s\n",
            "Wall time: 20.3 s\n"
          ],
          "name": "stdout"
        }
      ]
    },
    {
      "cell_type": "markdown",
      "metadata": {
        "id": "FgiJPhsE1zVr",
        "colab_type": "text"
      },
      "source": [
        "\n",
        "Check everything works\n",
        "\n",
        "Let's check our previous callbacks still work.\n"
      ]
    },
    {
      "cell_type": "code",
      "metadata": {
        "id": "BwhKYEbr1xdL",
        "colab_type": "code",
        "colab": {}
      },
      "source": [
        "cbfs += [Recorder]"
      ],
      "execution_count": 0,
      "outputs": []
    },
    {
      "cell_type": "code",
      "metadata": {
        "id": "64madhm_16h5",
        "colab_type": "code",
        "colab": {}
      },
      "source": [
        "learn = get_learner(nfs, data, 0.4, conv_layer, cb_funcs=cbfs)"
      ],
      "execution_count": 0,
      "outputs": []
    },
    {
      "cell_type": "code",
      "metadata": {
        "id": "uUBSf18o2ASZ",
        "colab_type": "code",
        "colab": {}
      },
      "source": [
        "phases = combine_scheds([0.3, 0.7], cos_1cycle_anneal(0.2, 0.6, 0.2))\n",
        "sched = ParamScheduler('lr', phases)"
      ],
      "execution_count": 0,
      "outputs": []
    },
    {
      "cell_type": "code",
      "metadata": {
        "id": "sC-JraBr2Dhr",
        "colab_type": "code",
        "outputId": "bb996f02-b23a-45a7-875f-21f1bf1b5b56",
        "colab": {
          "base_uri": "https://localhost:8080/",
          "height": 54
        }
      },
      "source": [
        "learn.fit(1, sched)"
      ],
      "execution_count": 0,
      "outputs": [
        {
          "output_type": "stream",
          "text": [
            "train: [1.8523807706103614, tensor(0.3477, device='cuda:0')]\n",
            "valid: [1.5989140625, tensor(0.4440, device='cuda:0')]\n"
          ],
          "name": "stdout"
        }
      ]
    },
    {
      "cell_type": "code",
      "metadata": {
        "id": "zfbUe6qE2GJw",
        "colab_type": "code",
        "outputId": "ed3b4ec0-eab5-451b-d423-e7e66e5549e1",
        "colab": {
          "base_uri": "https://localhost:8080/",
          "height": 269
        }
      },
      "source": [
        "learn.recorder.plot_lr()"
      ],
      "execution_count": 0,
      "outputs": [
        {
          "output_type": "display_data",
          "data": {
            "image/png": "[encoded data removed]",
            "text/plain": [
              "<Figure size 432x288 with 1 Axes>"
            ]
          },
          "metadata": {
            "tags": []
          }
        }
      ]
    },
    {
      "cell_type": "code",
      "metadata": {
        "id": "lj1t7xUH2KZd",
        "colab_type": "code",
        "outputId": "0084cf85-6c19-4f06-8723-4e8b8dab5864",
        "colab": {
          "base_uri": "https://localhost:8080/",
          "height": 269
        }
      },
      "source": [
        "learn.recorder.plot_loss()"
      ],
      "execution_count": 0,
      "outputs": [
        {
          "output_type": "display_data",
          "data": {
            "image/png": "[encoded data removed]",
            "text/plain": [
              "<Figure size 432x288 with 1 Axes>"
            ]
          },
          "metadata": {
            "tags": []
          }
        }
      ]
    },
    {
      "cell_type": "markdown",
      "metadata": {
        "id": "hQs_H7sp2QPF",
        "colab_type": "text"
      },
      "source": [
        "Export"
      ]
    },
    {
      "cell_type": "code",
      "metadata": {
        "id": "phkgARG32Rs8",
        "colab_type": "code",
        "outputId": "b666102d-ae1d-48ab-816b-bcf7441960f7",
        "colab": {
          "base_uri": "https://localhost:8080/",
          "height": 35
        }
      },
      "source": [
        "!python notebook2script.py 09b_learner.ipynb"
      ],
      "execution_count": 0,
      "outputs": [
        {
          "output_type": "stream",
          "text": [
            "Converted 09b_learner.ipynb to exp/nb_09b.py\n"
          ],
          "name": "stdout"
        }
      ]
    },
    {
      "cell_type": "code",
      "metadata": {
        "id": "UIgBHUBn3P3_",
        "colab_type": "code",
        "outputId": "8c547229-efdd-4f4b-f57a-106e73c8e762",
        "colab": {
          "base_uri": "https://localhost:8080/",
          "height": 35
        }
      },
      "source": [
        "pwd"
      ],
      "execution_count": 0,
      "outputs": [
        {
          "output_type": "execute_result",
          "data": {
            "text/plain": [
              "'/content/gdrive/My Drive/fastai-v3/les8'"
            ]
          },
          "metadata": {
            "tags": []
          },
          "execution_count": 26
        }
      ]
    }
  ]
}