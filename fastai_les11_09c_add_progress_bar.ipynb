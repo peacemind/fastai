{
  "nbformat": 4,
  "nbformat_minor": 0,
  "metadata": {
    "colab": {
      "name": "fastai-les11-09c-add-progress-bar.ipynb",
      "provenance": [],
      "collapsed_sections": []
    },
    "kernelspec": {
      "name": "python3",
      "display_name": "Python 3"
    },
    "accelerator": "GPU"
  },
  "cells": [
    {
      "cell_type": "markdown",
      "metadata": {
        "id": "7YeDDBaQ4k1p",
        "colab_type": "text"
      },
      "source": [
        "Adding progress bars to Learner"
      ]
    },
    {
      "cell_type": "code",
      "metadata": {
        "id": "36gQXOv_4LDY",
        "colab_type": "code",
        "outputId": "57eae595-d3ba-4dda-96f3-7b758211928b",
        "colab": {
          "base_uri": "https://localhost:8080/",
          "height": 92
        }
      },
      "source": [
        "!pip install fire"
      ],
      "execution_count": 0,
      "outputs": [
        {
          "output_type": "stream",
          "text": [
            "Requirement already satisfied: fire in /usr/local/lib/python3.6/dist-packages (0.2.1)\n",
            "Requirement already satisfied: termcolor in /usr/local/lib/python3.6/dist-packages (from fire) (1.1.0)\n",
            "Requirement already satisfied: six in /usr/local/lib/python3.6/dist-packages (from fire) (1.12.0)\n"
          ],
          "name": "stdout"
        }
      ]
    },
    {
      "cell_type": "code",
      "metadata": {
        "id": "oTL0jzCR4QGz",
        "colab_type": "code",
        "outputId": "292a815b-7325-472c-a363-2a2dd5590c69",
        "colab": {
          "base_uri": "https://localhost:8080/",
          "height": 35
        }
      },
      "source": [
        "from google.colab import drive\n",
        "drive.mount('/content/gdrive', force_remount=True)\n",
        "root_dir = \"/content/gdrive/My\\ Drive/\"\n",
        "base_dir = root_dir + 'fastai-v3/les8'"
      ],
      "execution_count": 0,
      "outputs": [
        {
          "output_type": "stream",
          "text": [
            "Mounted at /content/gdrive\n"
          ],
          "name": "stdout"
        }
      ]
    },
    {
      "cell_type": "code",
      "metadata": {
        "id": "cb2vtEub4T28",
        "colab_type": "code",
        "outputId": "67c1731a-59cb-4981-8963-3333d7d8c1ea",
        "colab": {
          "base_uri": "https://localhost:8080/",
          "height": 35
        }
      },
      "source": [
        "cd /content/gdrive/My\\ Drive/fastai-v3/les8"
      ],
      "execution_count": 0,
      "outputs": [
        {
          "output_type": "stream",
          "text": [
            "/content/gdrive/My Drive/fastai-v3/les8\n"
          ],
          "name": "stdout"
        }
      ]
    },
    {
      "cell_type": "code",
      "metadata": {
        "id": "f7eN4sl84cya",
        "colab_type": "code",
        "outputId": "750e41b3-adca-457d-f2f8-41e80a77f388",
        "colab": {
          "base_uri": "https://localhost:8080/",
          "height": 35
        }
      },
      "source": [
        "pwd"
      ],
      "execution_count": 0,
      "outputs": [
        {
          "output_type": "execute_result",
          "data": {
            "text/plain": [
              "'/content/gdrive/My Drive/fastai-v3/les8'"
            ]
          },
          "metadata": {
            "tags": []
          },
          "execution_count": 4
        }
      ]
    },
    {
      "cell_type": "code",
      "metadata": {
        "id": "3BTti10D4dma",
        "colab_type": "code",
        "colab": {}
      },
      "source": [
        "%reload_ext autoreload\n",
        "%autoreload 2\n",
        "%matplotlib inline"
      ],
      "execution_count": 0,
      "outputs": []
    },
    {
      "cell_type": "code",
      "metadata": {
        "id": "VXZ3_9uv4pZJ",
        "colab_type": "code",
        "colab": {}
      },
      "source": [
        "#export\n",
        "from exp.nb_09b import *\n",
        "import time\n",
        "from fastprogress import master_bar, progress_bar\n",
        "from fastprogress.fastprogress import format_time"
      ],
      "execution_count": 0,
      "outputs": []
    },
    {
      "cell_type": "markdown",
      "metadata": {
        "id": "Vy4xOjB84v5c",
        "colab_type": "text"
      },
      "source": [
        "\n",
        "\n",
        "One thing has been missing all this time, and as fun as it is to stare at a blank screen waiting for the results, it's nicer to have some tool to track progress.\n",
        "Imagenette data\n"
      ]
    },
    {
      "cell_type": "code",
      "metadata": {
        "id": "173UR_qO4sPk",
        "colab_type": "code",
        "colab": {}
      },
      "source": [
        "path = datasets.untar_data(datasets.URLs.IMAGENETTE_160)"
      ],
      "execution_count": 0,
      "outputs": []
    },
    {
      "cell_type": "code",
      "metadata": {
        "id": "eziILs3L40YC",
        "colab_type": "code",
        "colab": {}
      },
      "source": [
        "tfms = [make_rgb, ResizeFixed(128), to_byte_tensor, to_float_tensor]\n",
        "bs = 64\n",
        "\n",
        "il = ImageList.from_files(path, tfms=tfms)\n",
        "sd = SplitData.split_by_func(il, partial(grandparent_splitter, valid_name='val'))\n",
        "ll = label_by_func(sd, parent_labeler, proc_y=CategoryProcessor())\n",
        "data = ll.to_databunch(bs, c_in=3, c_out=10, num_workers=4)"
      ],
      "execution_count": 0,
      "outputs": []
    },
    {
      "cell_type": "code",
      "metadata": {
        "id": "FKlf3NQ-42pc",
        "colab_type": "code",
        "colab": {}
      },
      "source": [
        "nfs = [32]*4"
      ],
      "execution_count": 0,
      "outputs": []
    },
    {
      "cell_type": "markdown",
      "metadata": {
        "id": "HOegur3247Ai",
        "colab_type": "text"
      },
      "source": [
        "We rewrite the AvgStatsCallback to add a line with the names of the things measured and keep track of the time per epoch."
      ]
    },
    {
      "cell_type": "code",
      "metadata": {
        "id": "8mX9L5W945G5",
        "colab_type": "code",
        "colab": {}
      },
      "source": [
        "# export \n",
        "class AvgStatsCallback(Callback):\n",
        "    def __init__(self, metrics):\n",
        "        self.train_stats,self.valid_stats = AvgStats(metrics,True),AvgStats(metrics,False)\n",
        "    \n",
        "    def begin_fit(self):\n",
        "        met_names = ['loss'] + [m.__name__ for m in self.train_stats.metrics]\n",
        "        names = ['epoch'] + [f'train_{n}' for n in met_names] + [\n",
        "            f'valid_{n}' for n in met_names] + ['time']\n",
        "        self.logger(names)\n",
        "    \n",
        "    def begin_epoch(self):\n",
        "        self.train_stats.reset()\n",
        "        self.valid_stats.reset()\n",
        "        self.start_time = time.time()\n",
        "        \n",
        "    def after_loss(self):\n",
        "        stats = self.train_stats if self.in_train else self.valid_stats\n",
        "        with torch.no_grad(): stats.accumulate(self.run)\n",
        "    \n",
        "    def after_epoch(self):\n",
        "        stats = [str(self.epoch)] \n",
        "        for o in [self.train_stats, self.valid_stats]:\n",
        "            stats += [f'{v:.6f}' for v in o.avg_stats] \n",
        "        stats += [format_time(time.time() - self.start_time)]\n",
        "        self.logger(stats)"
      ],
      "execution_count": 0,
      "outputs": []
    },
    {
      "cell_type": "markdown",
      "metadata": {
        "id": "qGVFgjv_4_Fy",
        "colab_type": "text"
      },
      "source": [
        "\n",
        "\n",
        "Then we add the progress bars... with a Callback of course! master_bar handles the count over the epochs while its child progress_bar is looping over all the batches. We just create one at the beginning or each epoch/validation phase, and update it at the end of each batch. By changing the logger of the Learner to the write function of the master bar, everything is automatically written there.\n",
        "\n",
        "Note: this requires fastprogress v0.1.21 or later.\n"
      ]
    },
    {
      "cell_type": "code",
      "metadata": {
        "id": "AI1lixYf49ub",
        "colab_type": "code",
        "colab": {}
      },
      "source": [
        "# export \n",
        "class ProgressCallback(Callback):\n",
        "    _order=-1\n",
        "    def begin_fit(self):\n",
        "        self.mbar = master_bar(range(self.epochs))\n",
        "        self.mbar.on_iter_begin()\n",
        "        self.run.logger = partial(self.mbar.write, table=True)\n",
        "        \n",
        "    def after_fit(self): self.mbar.on_iter_end()\n",
        "    def after_batch(self): self.pb.update(self.iter)\n",
        "    def begin_epoch   (self): self.set_pb()\n",
        "    def begin_validate(self): self.set_pb()\n",
        "        \n",
        "    def set_pb(self):\n",
        "        self.pb = progress_bar(self.dl, parent=self.mbar, auto_update=False)\n",
        "        self.mbar.update(self.epoch)"
      ],
      "execution_count": 0,
      "outputs": []
    },
    {
      "cell_type": "markdown",
      "metadata": {
        "id": "W3XBDz7w5HDJ",
        "colab_type": "text"
      },
      "source": [
        "By making the progress bar a callback, you can easily choose if you want to have them shown or not."
      ]
    },
    {
      "cell_type": "code",
      "metadata": {
        "id": "1ry-bjBo5FEz",
        "colab_type": "code",
        "colab": {}
      },
      "source": [
        "cbfs = [partial(AvgStatsCallback,accuracy),\n",
        "        CudaCallback,\n",
        "        ProgressCallback,\n",
        "        partial(BatchTransformXCallback, norm_imagenette)]"
      ],
      "execution_count": 0,
      "outputs": []
    },
    {
      "cell_type": "code",
      "metadata": {
        "id": "x-QZUkv_5JXz",
        "colab_type": "code",
        "colab": {}
      },
      "source": [
        "learn = get_learner(nfs, data, 0.4, conv_layer, cb_funcs=cbfs)"
      ],
      "execution_count": 0,
      "outputs": []
    },
    {
      "cell_type": "code",
      "metadata": {
        "id": "VoEh08BJ5Llt",
        "colab_type": "code",
        "outputId": "df9ad8fa-cb2e-49c5-d807-34e1351b1c63",
        "colab": {
          "base_uri": "https://localhost:8080/",
          "height": 112
        }
      },
      "source": [
        "learn.fit(2)"
      ],
      "execution_count": 0,
      "outputs": [
        {
          "output_type": "display_data",
          "data": {
            "text/html": [
              "<table border=\"1\" class=\"dataframe\">\n",
              "  <thead>\n",
              "    <tr style=\"text-align: left;\">\n",
              "      <th>epoch</th>\n",
              "      <th>train_loss</th>\n",
              "      <th>train_accuracy</th>\n",
              "      <th>valid_loss</th>\n",
              "      <th>valid_accuracy</th>\n",
              "      <th>time</th>\n",
              "    </tr>\n",
              "  </thead>\n",
              "  <tbody>\n",
              "    <tr>\n",
              "      <td>0</td>\n",
              "      <td>1.817163</td>\n",
              "      <td>0.361951</td>\n",
              "      <td>1.588615</td>\n",
              "      <td>0.438000</td>\n",
              "      <td>00:21</td>\n",
              "    </tr>\n",
              "    <tr>\n",
              "      <td>1</td>\n",
              "      <td>1.401407</td>\n",
              "      <td>0.524430</td>\n",
              "      <td>1.205162</td>\n",
              "      <td>0.610000</td>\n",
              "      <td>00:22</td>\n",
              "    </tr>\n",
              "  </tbody>\n",
              "</table>"
            ],
            "text/plain": [
              "<IPython.core.display.HTML object>"
            ]
          },
          "metadata": {
            "tags": []
          }
        }
      ]
    },
    {
      "cell_type": "markdown",
      "metadata": {
        "id": "QLpIcNY75PrZ",
        "colab_type": "text"
      },
      "source": [
        "Export"
      ]
    },
    {
      "cell_type": "code",
      "metadata": {
        "id": "aQ4waqck5NdJ",
        "colab_type": "code",
        "outputId": "467f3197-07fe-4043-e66b-af7b76b86a6b",
        "colab": {
          "base_uri": "https://localhost:8080/",
          "height": 35
        }
      },
      "source": [
        "!python notebook2script.py 09c_add_progress_bar.ipynb"
      ],
      "execution_count": 0,
      "outputs": [
        {
          "output_type": "stream",
          "text": [
            "Converted 09c_add_progress_bar.ipynb to exp/nb_09c.py\n"
          ],
          "name": "stdout"
        }
      ]
    }
  ]
}