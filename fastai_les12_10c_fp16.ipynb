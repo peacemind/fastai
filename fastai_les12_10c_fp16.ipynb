{
  "nbformat": 4,
  "nbformat_minor": 0,
  "metadata": {
    "colab": {
      "name": "fastai-les12-10c-fp16.ipynb",
      "provenance": [],
      "collapsed_sections": []
    },
    "kernelspec": {
      "name": "python3",
      "display_name": "Python 3"
    },
    "accelerator": "GPU"
  },
  "cells": [
    {
      "cell_type": "markdown",
      "metadata": {
        "id": "NQMxTZkV2lTZ",
        "colab_type": "text"
      },
      "source": [
        "Training in mixed precision"
      ]
    },
    {
      "cell_type": "code",
      "metadata": {
        "id": "duIzMid75X3Q",
        "colab_type": "code",
        "outputId": "c67dd6fd-cd71-4a90-d8be-0905ecc09d33",
        "colab": {
          "base_uri": "https://localhost:8080/",
          "height": 54
        }
      },
      "source": [
        "!curl -s https://course.fast.ai/setup/colab | bash"
      ],
      "execution_count": 0,
      "outputs": [
        {
          "output_type": "stream",
          "text": [
            "Updating fastai...\n",
            "Done.\n"
          ],
          "name": "stdout"
        }
      ]
    },
    {
      "cell_type": "code",
      "metadata": {
        "id": "TguAFr9I2TFn",
        "colab_type": "code",
        "outputId": "4ed29a3a-587b-4214-8914-287db98ce030",
        "colab": {
          "base_uri": "https://localhost:8080/",
          "height": 92
        }
      },
      "source": [
        "!pip install fire"
      ],
      "execution_count": 0,
      "outputs": [
        {
          "output_type": "stream",
          "text": [
            "Requirement already satisfied: fire in /usr/local/lib/python3.6/dist-packages (0.2.1)\n",
            "Requirement already satisfied: termcolor in /usr/local/lib/python3.6/dist-packages (from fire) (1.1.0)\n",
            "Requirement already satisfied: six in /usr/local/lib/python3.6/dist-packages (from fire) (1.12.0)\n"
          ],
          "name": "stdout"
        }
      ]
    },
    {
      "cell_type": "code",
      "metadata": {
        "id": "u2Exza3n2YxP",
        "colab_type": "code",
        "outputId": "385317c3-fe39-41f7-9ea0-0a3848812b2d",
        "colab": {
          "base_uri": "https://localhost:8080/",
          "height": 35
        }
      },
      "source": [
        "from google.colab import drive\n",
        "drive.mount('/content/gdrive', force_remount=True)\n",
        "root_dir = \"/content/gdrive/My\\ Drive/\"\n",
        "base_dir = root_dir + 'fastai-v3/les8'"
      ],
      "execution_count": 0,
      "outputs": [
        {
          "output_type": "stream",
          "text": [
            "Mounted at /content/gdrive\n"
          ],
          "name": "stdout"
        }
      ]
    },
    {
      "cell_type": "code",
      "metadata": {
        "id": "p-GJ4fAr2dT4",
        "colab_type": "code",
        "outputId": "d896d4e2-8b92-45e6-dfe4-a34f9aa79cbe",
        "colab": {
          "base_uri": "https://localhost:8080/",
          "height": 35
        }
      },
      "source": [
        "cd /content/gdrive/My\\ Drive/fastai-v3/les8"
      ],
      "execution_count": 0,
      "outputs": [
        {
          "output_type": "stream",
          "text": [
            "/content/gdrive/My Drive/fastai-v3/les8\n"
          ],
          "name": "stdout"
        }
      ]
    },
    {
      "cell_type": "code",
      "metadata": {
        "id": "PNONMppH2ibI",
        "colab_type": "code",
        "outputId": "fba50dba-aed4-4987-e61b-d47c73528de0",
        "colab": {
          "base_uri": "https://localhost:8080/",
          "height": 35
        }
      },
      "source": [
        "pwd"
      ],
      "execution_count": 0,
      "outputs": [
        {
          "output_type": "execute_result",
          "data": {
            "text/plain": [
              "'/content/gdrive/My Drive/fastai-v3/les8'"
            ]
          },
          "metadata": {
            "tags": []
          },
          "execution_count": 5
        }
      ]
    },
    {
      "cell_type": "code",
      "metadata": {
        "id": "y--Q7O7K2jAe",
        "colab_type": "code",
        "colab": {}
      },
      "source": [
        "%reload_ext autoreload\n",
        "%autoreload 2\n",
        "%matplotlib inline"
      ],
      "execution_count": 0,
      "outputs": []
    },
    {
      "cell_type": "code",
      "metadata": {
        "id": "wsjQCkQI2p6m",
        "colab_type": "code",
        "colab": {}
      },
      "source": [
        "#export\n",
        "from exp.nb_10b import *"
      ],
      "execution_count": 0,
      "outputs": []
    },
    {
      "cell_type": "markdown",
      "metadata": {
        "id": "OFXqin3e7DPa",
        "colab_type": "text"
      },
      "source": [
        "A little bit of theory\n",
        "\n",
        "Jump_to lesson 12 video\n",
        "\n",
        "Continuing the documentation on the fastai_v1 development here is a brief piece about mixed precision training. A very nice and clear introduction to it is this video from NVIDIA.\n",
        "\n",
        "What's half precision?\n",
        "\n",
        "In neural nets, all the computations are usually done in single precision, which means all the floats in all the arrays that represent inputs, activations, weights... are 32-bit floats (FP32 in the rest of this post). An idea to reduce memory usage (and avoid those annoying cuda errors) has been to try and do the same thing in half-precision, which means using 16-bits floats (or FP16 in the rest of this post). By definition, they take half the space in RAM, and in theory could allow you to double the size of your model and double your batch size.\n",
        "\n",
        "Another very nice feature is that NVIDIA developed its latest GPUs (the Volta generation) to take fully advantage of half-precision tensors. Basically, if you give half-precision tensors to those, they'll stack them so that each core can do more operations at the same time, and theoretically gives an 8x speed-up (sadly, just in theory).\n",
        "\n",
        "So training at half precision is better for your memory usage, way faster if you have a Volta GPU (still a tiny bit faster if you don't since the computations are easiest). How do we do it? Super easily in pytorch, we just have to put .half() everywhere: on the inputs of our model and all the parameters. Problem is that you usually won't see the same accuracy in the end (so it happens sometimes) because half-precision is... well... not as precise ;).\n",
        "\n",
        "Problems with half-precision:\n",
        "\n",
        "To understand the problems with half precision, let's look briefly at what an FP16 looks like (more information here).\n",
        "\n",
        "half float\n",
        "\n",
        "The sign bit gives us +1 or -1, then we have 5 bits to code an exponent between -14 and 15, while the fraction part has the remaining 10 bits. Compared to FP32, we have a smaller range of possible values (2e-14 to 2e15 roughly, compared to 2e-126 to 2e127 for FP32) but also a smaller offset.\n",
        "\n",
        "For instance, between 1 and 2, the FP16 format only represents the number 1, 1+2e-10, 1+2*2e-10... which means that 1 + 0.0001 = 1 in half precision. That's what will cause a certain numbers of problems, specifically three that can occur and mess up your training.\n",
        "\n",
        "    The weight update is imprecise: inside your optimizer, you basically do w = w - lr w.grad for each weight of your network. The problem in performing this operation in half precision is that very often, w.grad is several orders of magnitude below w, and the learning rate is also small. The situation where w=1 and lrw.grad is 0.0001 (or lower) is therefore very common, but the update doesn't do anything in those cases.\n",
        "    Your gradients can underflow. In FP16, your gradients can easily be replaced by 0 because they are too low.\n",
        "    Your activations or loss can overflow. The opposite problem from the gradients: it's easier to hit nan (or infinity) in FP16 precision, and your training might more easily diverge.\n",
        "\n",
        "The solution: mixed precision training\n",
        "\n",
        "To address those three problems, we don't fully train in FP16 precision. As the name mixed training implies, some of the operations will be done in FP16, others in FP32. This is mainly to take care of the first problem listed above. For the next two there are additional tricks.\n",
        "\n",
        "The main idea is that we want to do the forward pass and the gradient computation in half precision (to go fast) but the update in single precision (to be more precise). It's okay if w and grad are both half floats, but when we do the operation w = w - lr * grad, we need to compute it in FP32. That way our 1 + 0.0001 is going to be 1.0001.\n",
        "\n",
        "This is why we keep a copy of the weights in FP32 (called master model). Then, our training loop will look like:\n",
        "\n",
        "    compute the output with the FP16 model, then the loss\n",
        "    back-propagate the gradients in half-precision.\n",
        "    copy the gradients in FP32 precision\n",
        "    do the update on the master model (in FP32 precision)\n",
        "    copy the master model in the FP16 model.\n",
        "\n",
        "Note that we lose precision during step 5, and that the 1.0001 in one of the weights will go back to 1. But if the next update corresponds to add 0.0001 again, since the optimizer step is done on the master model, the 1.0001 will become 1.0002 and if we eventually go like this up to 1.0005, the FP16 model will be able to tell the difference.\n",
        "\n",
        "That takes care of problem 1. For the second problem, we use something called gradient scaling: to avoid the gradients getting zeroed by the FP16 precision, we multiply the loss by a scale factor (scale=512 for instance). That way we can push the gradients to the right in the next figure, and have them not become zero.\n",
        "\n",
        "half float representation\n",
        "\n",
        "Of course we don't want those 512-scaled gradients to be in the weight update, so after converting them into FP32, we can divide them by this scale factor (once they have no risks of becoming 0). This changes the loop to:\n",
        "\n",
        "    compute the output with the FP16 model, then the loss.\n",
        "    multiply the loss by scale then back-propagate the gradients in half-precision.\n",
        "    copy the gradients in FP32 precision then divide them by scale.\n",
        "    do the update on the master model (in FP32 precision).\n",
        "    copy the master model in the FP16 model.\n",
        "\n",
        "For the last problem, the tricks offered by NVIDIA are to leave the batchnorm layers in single precision (they don't have many weights so it's not a big memory challenge) and compute the loss in single precision (which means converting the last output of the model in single precision before passing it to the loss).\n",
        "\n",
        "Mixed precision training\n",
        "\n",
        "Implementing all of this in the new callback system is surprisingly easy, let's dig into this!\n",
        "\n",
        "\n",
        "Util functions\n",
        "\n",
        "Before going in the main Callback we will need some helper functions. We will refactor using the APEX library util functions. The python-only build is enough for what we will use here if you don't manage to do the CUDA/C++ installation.\n"
      ]
    },
    {
      "cell_type": "markdown",
      "metadata": {
        "id": "nhNvdvaX2xVv",
        "colab_type": "text"
      },
      "source": [
        "A little bit of theory"
      ]
    },
    {
      "cell_type": "code",
      "metadata": {
        "id": "YtMa13RM4o-g",
        "colab_type": "code",
        "colab": {}
      },
      "source": [
        "# export \n",
        "import apex.fp16_utils as fp16"
      ],
      "execution_count": 0,
      "outputs": []
    },
    {
      "cell_type": "markdown",
      "metadata": {
        "id": "tTcHgofdkniL",
        "colab_type": "text"
      },
      "source": [
        "\n",
        "Converting the model to FP16\n",
        "\n",
        "Jump_to lesson 12 video\n",
        "\n",
        "We will need a function to convert all the layers of the model to FP16 precision except the BatchNorm-like layers (since those need to be done in FP32 precision to be stable). We do this in two steps: first we convert the model to FP16, then we loop over all the layers and put them back to FP32 if they are a BatchNorm layer.\n"
      ]
    },
    {
      "cell_type": "code",
      "metadata": {
        "id": "Hq953EHh4pty",
        "colab_type": "code",
        "colab": {}
      },
      "source": [
        "bn_types = (nn.BatchNorm1d, nn.BatchNorm2d, nn.BatchNorm3d)"
      ],
      "execution_count": 0,
      "outputs": []
    },
    {
      "cell_type": "code",
      "metadata": {
        "id": "vvHTg9NOksQz",
        "colab_type": "code",
        "colab": {}
      },
      "source": [
        "def bn_to_float(model):\n",
        "    if isinstance(model, bn_types): model.float()\n",
        "    for child in model.children():  bn_to_float(child)\n",
        "    return model"
      ],
      "execution_count": 0,
      "outputs": []
    },
    {
      "cell_type": "code",
      "metadata": {
        "id": "yIsdwFPckuXS",
        "colab_type": "code",
        "colab": {}
      },
      "source": [
        "def model_to_half(model):\n",
        "    model = model.half()\n",
        "    return bn_to_float(model)"
      ],
      "execution_count": 0,
      "outputs": []
    },
    {
      "cell_type": "markdown",
      "metadata": {
        "id": "z4IXIK3ikxM2",
        "colab_type": "text"
      },
      "source": [
        "Let's test this:"
      ]
    },
    {
      "cell_type": "code",
      "metadata": {
        "id": "rq9J-vQQkwMp",
        "colab_type": "code",
        "colab": {}
      },
      "source": [
        "model = nn.Sequential(nn.Linear(10,30), nn.BatchNorm1d(30), nn.Linear(30,2)).cuda()\n",
        "model = model_to_half(model)"
      ],
      "execution_count": 0,
      "outputs": []
    },
    {
      "cell_type": "code",
      "metadata": {
        "id": "1VhvVuutk6_y",
        "colab_type": "code",
        "colab": {}
      },
      "source": [
        "def check_weights(model):\n",
        "    for i,t in enumerate([torch.float16, torch.float32, torch.float16]):\n",
        "        assert model[i].weight.dtype == t\n",
        "        assert model[i].bias.dtype   == t"
      ],
      "execution_count": 0,
      "outputs": []
    },
    {
      "cell_type": "code",
      "metadata": {
        "id": "sxvQRDaYk1lA",
        "colab_type": "code",
        "colab": {}
      },
      "source": [
        "check_weights(model)"
      ],
      "execution_count": 0,
      "outputs": []
    },
    {
      "cell_type": "markdown",
      "metadata": {
        "id": "0YWf8c6qk-Ca",
        "colab_type": "text"
      },
      "source": [
        "In Apex, the function that does this for us is convert_network. We can use it to put the model in FP16 or back to FP32."
      ]
    },
    {
      "cell_type": "code",
      "metadata": {
        "id": "uoWInw5Rk3u6",
        "colab_type": "code",
        "colab": {}
      },
      "source": [
        "model = nn.Sequential(nn.Linear(10,30), nn.BatchNorm1d(30), nn.Linear(30,2)).cuda()\n",
        "model = fp16.convert_network(model, torch.float16)\n",
        "check_weights(model)"
      ],
      "execution_count": 0,
      "outputs": []
    },
    {
      "cell_type": "markdown",
      "metadata": {
        "id": "6fCCIOEAlBnF",
        "colab_type": "text"
      },
      "source": [
        "\n",
        "Creating the master copy of the parameters\n",
        "\n",
        "From our model parameters (mostly in FP16), we'll want to create a copy in FP32 (master parameters) that we will use for the step in the optimizer. Optionally, we concatenate all the parameters to do one flat big tensor, which can make that step a little bit faster.\n"
      ]
    },
    {
      "cell_type": "code",
      "metadata": {
        "id": "5yRH93gKlAjS",
        "colab_type": "code",
        "colab": {}
      },
      "source": [
        "from torch.nn.utils import parameters_to_vector\n",
        "\n",
        "def get_master(model, flat_master=False):\n",
        "    model_params = [param for param in model.parameters() if param.requires_grad]\n",
        "    if flat_master:\n",
        "        master_param = parameters_to_vector([param.data.float() for param in model_params])\n",
        "        master_param = torch.nn.Parameter(master_param, requires_grad=True)\n",
        "        if master_param.grad is None: master_param.grad = master_param.new(*master_param.size())\n",
        "        return model_params, [master_param]\n",
        "    else:\n",
        "        master_params = [param.clone().float().detach() for param in model_params]\n",
        "        for param in master_params: param.requires_grad_(True)\n",
        "        return model_params, master_params"
      ],
      "execution_count": 0,
      "outputs": []
    },
    {
      "cell_type": "markdown",
      "metadata": {
        "id": "5uYtNNTFlHU9",
        "colab_type": "text"
      },
      "source": [
        "The util function from Apex to do this is prep_param_lists."
      ]
    },
    {
      "cell_type": "code",
      "metadata": {
        "id": "iqzwcETGlGPg",
        "colab_type": "code",
        "colab": {}
      },
      "source": [
        "model_p,master_p = get_master(model)\n",
        "model_p1,master_p1 = fp16.prep_param_lists(model)"
      ],
      "execution_count": 0,
      "outputs": []
    },
    {
      "cell_type": "code",
      "metadata": {
        "id": "GzU0C0m8lKi6",
        "colab_type": "code",
        "colab": {}
      },
      "source": [
        "def same_lists(ps1, ps2):\n",
        "    assert len(ps1) == len(ps2)\n",
        "    for (p1,p2) in zip(ps1,ps2): \n",
        "        assert p1.requires_grad == p2.requires_grad\n",
        "        assert torch.allclose(p1.data.float(), p2.data.float())"
      ],
      "execution_count": 0,
      "outputs": []
    },
    {
      "cell_type": "code",
      "metadata": {
        "id": "JBhdNXRZlMF5",
        "colab_type": "code",
        "colab": {}
      },
      "source": [
        "same_lists(model_p,model_p1)\n",
        "same_lists(model_p,master_p)\n",
        "same_lists(master_p,master_p1)\n",
        "same_lists(model_p1,master_p1)"
      ],
      "execution_count": 0,
      "outputs": []
    },
    {
      "cell_type": "markdown",
      "metadata": {
        "id": "b3yUgo3SlO7c",
        "colab_type": "text"
      },
      "source": [
        "We can't use flat_master when there is a mix of FP32 and FP16 parameters (like batchnorm here)."
      ]
    },
    {
      "cell_type": "code",
      "metadata": {
        "id": "8spZDJCDlN-5",
        "colab_type": "code",
        "colab": {}
      },
      "source": [
        "model1 = nn.Sequential(nn.Linear(10,30), nn.Linear(30,2)).cuda()\n",
        "model1 = fp16.convert_network(model1, torch.float16)"
      ],
      "execution_count": 0,
      "outputs": []
    },
    {
      "cell_type": "code",
      "metadata": {
        "id": "G4_d3dc7lSLR",
        "colab_type": "code",
        "colab": {}
      },
      "source": [
        "model_p,master_p = get_master(model1, flat_master=True)\n",
        "model_p1,master_p1 = fp16.prep_param_lists(model1, flat_master=True)"
      ],
      "execution_count": 0,
      "outputs": []
    },
    {
      "cell_type": "code",
      "metadata": {
        "id": "dHbudsNZlTsp",
        "colab_type": "code",
        "colab": {}
      },
      "source": [
        "same_lists(model_p,model_p1)\n",
        "same_lists(master_p,master_p1)"
      ],
      "execution_count": 0,
      "outputs": []
    },
    {
      "cell_type": "code",
      "metadata": {
        "id": "EhIU27TXlVah",
        "colab_type": "code",
        "colab": {}
      },
      "source": [
        "assert len(master_p[0]) == 10*30 + 30 + 30*2 + 2\n",
        "assert len(master_p1[0]) == 10*30 + 30 + 30*2 + 2"
      ],
      "execution_count": 0,
      "outputs": []
    },
    {
      "cell_type": "markdown",
      "metadata": {
        "id": "lppRQOdslX4W",
        "colab_type": "text"
      },
      "source": [
        "\n",
        "\n",
        "The thing is that we don't always want all the parameters of our model in the same parameter group, because we might:\n",
        "\n",
        "    want to do transfer learning and freeze some layers\n",
        "    apply discriminative learning rates\n",
        "    don't apply weight decay to some layers (like BatchNorm) or the bias terms\n",
        "\n",
        "So we actually need a function that splits the parameters of an optimizer (and not a model) according to the right parameter groups.\n"
      ]
    },
    {
      "cell_type": "code",
      "metadata": {
        "id": "TKmW-HbDlXAB",
        "colab_type": "code",
        "colab": {}
      },
      "source": [
        "def get_master(opt, flat_master=False):\n",
        "    model_params = [[param for param in pg if param.requires_grad] for pg in opt.param_groups]\n",
        "    if flat_master:\n",
        "        master_params = []\n",
        "        for pg in model_params:\n",
        "            mp = parameters_to_vector([param.data.float() for param in pg])\n",
        "            mp = torch.nn.Parameter(mp, requires_grad=True)\n",
        "            if mp.grad is None: mp.grad = mp.new(*mp.size())\n",
        "            master_params.append(mp)\n",
        "    else:\n",
        "        master_params = [[param.clone().float().detach() for param in pg] for pg in model_params]\n",
        "        for pg in master_params:\n",
        "            for param in pg: param.requires_grad_(True)\n",
        "    return model_params, master_params"
      ],
      "execution_count": 0,
      "outputs": []
    },
    {
      "cell_type": "markdown",
      "metadata": {
        "id": "Wt38v7kblc5P",
        "colab_type": "text"
      },
      "source": [
        "\n",
        "Copy the gradients from model params to master params\n",
        "\n",
        "After the backward pass, all gradients must be copied to the master params before the optimizer step can be done in FP32. We need a function for that (with a bit of adjustement if we have flat master).\n"
      ]
    },
    {
      "cell_type": "code",
      "metadata": {
        "id": "GS-vffrolcF6",
        "colab_type": "code",
        "colab": {}
      },
      "source": [
        "def to_master_grads(model_params, master_params, flat_master:bool=False)->None:\n",
        "    if flat_master:\n",
        "        if master_params[0].grad is None: master_params[0].grad = master_params[0].data.new(*master_params[0].data.size())\n",
        "        master_params[0].grad.data.copy_(parameters_to_vector([p.grad.data.float() for p in model_params]))\n",
        "    else:\n",
        "        for model, master in zip(model_params, master_params):\n",
        "            if model.grad is not None:\n",
        "                if master.grad is None: master.grad = master.data.new(*master.data.size())\n",
        "                master.grad.data.copy_(model.grad.data)\n",
        "            else: master.grad = None"
      ],
      "execution_count": 0,
      "outputs": []
    },
    {
      "cell_type": "markdown",
      "metadata": {
        "id": "cFIovc4wlhY4",
        "colab_type": "text"
      },
      "source": [
        "The corresponding function in the Apex utils is model_grads_to_master_grads."
      ]
    },
    {
      "cell_type": "code",
      "metadata": {
        "id": "nhsrwtoxlgg7",
        "colab_type": "code",
        "colab": {}
      },
      "source": [
        "x = torch.randn(20,10).half().cuda()\n",
        "z = model(x)\n",
        "loss = F.cross_entropy(z, torch.randint(0, 2, (20,)).cuda())\n",
        "loss.backward()"
      ],
      "execution_count": 0,
      "outputs": []
    },
    {
      "cell_type": "code",
      "metadata": {
        "id": "0HDakNwWlkkp",
        "colab_type": "code",
        "colab": {}
      },
      "source": [
        "to_master_grads(model_p, master_p)"
      ],
      "execution_count": 0,
      "outputs": []
    },
    {
      "cell_type": "code",
      "metadata": {
        "id": "J4bb17k2lmBR",
        "colab_type": "code",
        "colab": {}
      },
      "source": [
        "def check_grads(m1, m2):\n",
        "    for p1,p2 in zip(m1,m2): \n",
        "        if p1.grad is None: assert p2.grad is None\n",
        "        else: assert torch.allclose(p1.grad.data, p2.grad.data)"
      ],
      "execution_count": 0,
      "outputs": []
    },
    {
      "cell_type": "code",
      "metadata": {
        "id": "nQX3XLdElodx",
        "colab_type": "code",
        "colab": {}
      },
      "source": [
        "check_grads(model_p, master_p)"
      ],
      "execution_count": 0,
      "outputs": []
    },
    {
      "cell_type": "code",
      "metadata": {
        "id": "_Xbhe9oDlrqo",
        "colab_type": "code",
        "colab": {}
      },
      "source": [
        "fp16.model_grads_to_master_grads(model_p, master_p)"
      ],
      "execution_count": 0,
      "outputs": []
    },
    {
      "cell_type": "code",
      "metadata": {
        "id": "FRXdMmMulxSX",
        "colab_type": "code",
        "colab": {}
      },
      "source": [
        "check_grads(model_p, master_p)"
      ],
      "execution_count": 0,
      "outputs": []
    },
    {
      "cell_type": "markdown",
      "metadata": {
        "id": "9_txgjPyl1ZP",
        "colab_type": "text"
      },
      "source": [
        "\n",
        "Copy the master params to the model params\n",
        "\n",
        "After the step, we need to copy back the master parameters to the model parameters for the next update.\n"
      ]
    },
    {
      "cell_type": "code",
      "metadata": {
        "id": "mQpo6Nk7l0TX",
        "colab_type": "code",
        "colab": {}
      },
      "source": [
        "from torch._utils import _unflatten_dense_tensors\n",
        "\n",
        "def to_model_params(model_params, master_params, flat_master:bool=False)->None:\n",
        "    if flat_master:\n",
        "        for model, master in zip(model_params, _unflatten_dense_tensors(master_params[0].data, model_params)):\n",
        "            model.data.copy_(master)\n",
        "    else:\n",
        "        for model, master in zip(model_params, master_params): model.data.copy_(master.data)"
      ],
      "execution_count": 0,
      "outputs": []
    },
    {
      "cell_type": "markdown",
      "metadata": {
        "id": "J_Cwcnp0l5tI",
        "colab_type": "text"
      },
      "source": [
        "\n",
        "\n",
        "The corresponding function in Apex is master_params_to_model_params.\n",
        "But we need to handle param groups\n",
        "\n",
        "The thing is that we don't always want all the parameters of our model in the same parameter group, because we might:\n",
        "\n",
        "    want to do transfer learning and freeze some layers\n",
        "    apply discriminative learning rates\n",
        "    don't apply weight decay to some layers (like BatchNorm) or the bias terms\n",
        "\n",
        "So we actually need a function that splits the parameters of an optimizer (and not a model) according to the right parameter groups and the following functions need to handle lists of lists of parameters (one list of each param group in model_pgs and master_pgs)\n"
      ]
    },
    {
      "cell_type": "code",
      "metadata": {
        "id": "QOECavC7l45M",
        "colab_type": "code",
        "colab": {}
      },
      "source": [
        "# export \n",
        "def get_master(opt, flat_master=False):\n",
        "    model_pgs = [[param for param in pg if param.requires_grad] for pg in opt.param_groups]\n",
        "    if flat_master:\n",
        "        master_pgs = []\n",
        "        for pg in model_pgs:\n",
        "            mp = parameters_to_vector([param.data.float() for param in pg])\n",
        "            mp = torch.nn.Parameter(mp, requires_grad=True)\n",
        "            if mp.grad is None: mp.grad = mp.new(*mp.size())\n",
        "            master_pgs.append([mp])\n",
        "    else:\n",
        "        master_pgs = [[param.clone().float().detach() for param in pg] for pg in model_pgs]\n",
        "        for pg in master_pgs:\n",
        "            for param in pg: param.requires_grad_(True)\n",
        "    return model_pgs, master_pgs"
      ],
      "execution_count": 0,
      "outputs": []
    },
    {
      "cell_type": "code",
      "metadata": {
        "id": "QP5W2Nssl-fn",
        "colab_type": "code",
        "colab": {}
      },
      "source": [
        "# export \n",
        "def to_master_grads(model_pgs, master_pgs, flat_master:bool=False)->None:\n",
        "    for (model_params,master_params) in zip(model_pgs,master_pgs):\n",
        "        fp16.model_grads_to_master_grads(model_params, master_params, flat_master=flat_master)"
      ],
      "execution_count": 0,
      "outputs": []
    },
    {
      "cell_type": "code",
      "metadata": {
        "id": "t-3lA-P8mAme",
        "colab_type": "code",
        "colab": {}
      },
      "source": [
        "# export \n",
        "def to_model_params(model_pgs, master_pgs, flat_master:bool=False)->None:\n",
        "    for (model_params,master_params) in zip(model_pgs,master_pgs):\n",
        "        fp16.master_params_to_model_params(model_params, master_params, flat_master=flat_master)"
      ],
      "execution_count": 0,
      "outputs": []
    },
    {
      "cell_type": "markdown",
      "metadata": {
        "id": "4-9sR6bwmDvN",
        "colab_type": "text"
      },
      "source": [
        "\n",
        "The main Callback"
      ]
    },
    {
      "cell_type": "code",
      "metadata": {
        "id": "HMvOwWPBmCxY",
        "colab_type": "code",
        "colab": {}
      },
      "source": [
        "class MixedPrecision(Callback):\n",
        "    _order = 99\n",
        "    def __init__(self, loss_scale=512, flat_master=False):\n",
        "        assert torch.backends.cudnn.enabled, \"Mixed precision training requires cudnn.\"\n",
        "        self.loss_scale,self.flat_master = loss_scale,flat_master\n",
        "\n",
        "    def begin_fit(self):\n",
        "        self.run.model = fp16.convert_network(self.model, dtype=torch.float16)\n",
        "        self.model_pgs, self.master_pgs = get_master(self.opt, self.flat_master)\n",
        "        #Changes the optimizer so that the optimization step is done in FP32.\n",
        "        self.run.opt.param_groups = self.master_pgs #Put those param groups inside our runner.\n",
        "        \n",
        "    def after_fit(self): self.model.float()\n",
        "\n",
        "    def begin_batch(self): self.run.xb = self.run.xb.half() #Put the inputs to half precision\n",
        "    def after_pred(self):  self.run.pred = self.run.pred.float() #Compute the loss in FP32\n",
        "    def after_loss(self):  self.run.loss *= self.loss_scale #Loss scaling to avoid gradient underflow\n",
        "\n",
        "    def after_backward(self):\n",
        "        #Copy the gradients to master and unscale\n",
        "        to_master_grads(self.model_pgs, self.master_pgs, self.flat_master)\n",
        "        for master_params in self.master_pgs:\n",
        "            for param in master_params:\n",
        "                if param.grad is not None: param.grad.div_(self.loss_scale)\n",
        "\n",
        "    def after_step(self):\n",
        "        #Zero the gradients of the model since the optimizer is disconnected.\n",
        "        self.model.zero_grad()\n",
        "        #Update the params from master to model.\n",
        "        to_model_params(self.model_pgs, self.master_pgs, self.flat_master)"
      ],
      "execution_count": 0,
      "outputs": []
    },
    {
      "cell_type": "markdown",
      "metadata": {
        "id": "arTxZiIFmJa9",
        "colab_type": "text"
      },
      "source": [
        "Now let's test this on Imagenette"
      ]
    },
    {
      "cell_type": "code",
      "metadata": {
        "id": "0iA4a7hKmIsA",
        "colab_type": "code",
        "colab": {}
      },
      "source": [
        "path = datasets.untar_data(datasets.URLs.IMAGENETTE_160)"
      ],
      "execution_count": 0,
      "outputs": []
    },
    {
      "cell_type": "code",
      "metadata": {
        "id": "uSlNqL7ymPDA",
        "colab_type": "code",
        "colab": {}
      },
      "source": [
        "tfms = [make_rgb, ResizeFixed(128), to_byte_tensor, to_float_tensor]\n",
        "bs = 64\n",
        "\n",
        "il = ImageList.from_files(path, tfms=tfms)\n",
        "sd = SplitData.split_by_func(il, partial(grandparent_splitter, valid_name='val'))\n",
        "ll = label_by_func(sd, parent_labeler, proc_y=CategoryProcessor())\n",
        "data = ll.to_databunch(bs, c_in=3, c_out=10, num_workers=4)"
      ],
      "execution_count": 0,
      "outputs": []
    },
    {
      "cell_type": "code",
      "metadata": {
        "id": "Oj-KaPBomRkf",
        "colab_type": "code",
        "colab": {}
      },
      "source": [
        "nfs = [32,64,128,356,512]"
      ],
      "execution_count": 0,
      "outputs": []
    },
    {
      "cell_type": "code",
      "metadata": {
        "id": "Whg2r6HBmVAJ",
        "colab_type": "code",
        "colab": {}
      },
      "source": [
        "def get_learner(nfs, data, lr, layer, loss_func=F.cross_entropy,\n",
        "                cb_funcs=None, opt_func=adam_opt(), **kwargs):\n",
        "    model = get_cnn_model(data, nfs, layer, **kwargs)\n",
        "    init_cnn(model)\n",
        "    return Learner(model, data, loss_func, lr=lr, cb_funcs=cb_funcs, opt_func=opt_func)"
      ],
      "execution_count": 0,
      "outputs": []
    },
    {
      "cell_type": "markdown",
      "metadata": {
        "id": "askL8vDImYMv",
        "colab_type": "text"
      },
      "source": [
        "Training without mixed precision"
      ]
    },
    {
      "cell_type": "code",
      "metadata": {
        "id": "RUukxlqbmXOe",
        "colab_type": "code",
        "colab": {}
      },
      "source": [
        "cbfs = [partial(AvgStatsCallback,accuracy),\n",
        "        ProgressCallback,\n",
        "        CudaCallback,\n",
        "        partial(BatchTransformXCallback, norm_imagenette)]"
      ],
      "execution_count": 0,
      "outputs": []
    },
    {
      "cell_type": "code",
      "metadata": {
        "id": "2L39SP1-mdPm",
        "colab_type": "code",
        "colab": {}
      },
      "source": [
        "learn = get_learner(nfs, data, 1e-2, conv_layer, cb_funcs=cbfs)"
      ],
      "execution_count": 0,
      "outputs": []
    },
    {
      "cell_type": "code",
      "metadata": {
        "id": "M7eDf3LGmfc1",
        "colab_type": "code",
        "outputId": "cb200c79-88ac-458c-ead8-3f81ab37af0e",
        "colab": {
          "base_uri": "https://localhost:8080/",
          "height": 80
        }
      },
      "source": [
        "learn.fit(1)"
      ],
      "execution_count": 0,
      "outputs": [
        {
          "output_type": "display_data",
          "data": {
            "text/html": [
              "<table border=\"1\" class=\"dataframe\">\n",
              "  <thead>\n",
              "    <tr style=\"text-align: left;\">\n",
              "      <th>epoch</th>\n",
              "      <th>train_loss</th>\n",
              "      <th>train_accuracy</th>\n",
              "      <th>valid_loss</th>\n",
              "      <th>valid_accuracy</th>\n",
              "      <th>time</th>\n",
              "    </tr>\n",
              "  </thead>\n",
              "  <tbody>\n",
              "    <tr>\n",
              "      <td>0</td>\n",
              "      <td>1.709412</td>\n",
              "      <td>0.422600</td>\n",
              "      <td>1.516989</td>\n",
              "      <td>0.480000</td>\n",
              "      <td>00:22</td>\n",
              "    </tr>\n",
              "  </tbody>\n",
              "</table>"
            ],
            "text/plain": [
              "<IPython.core.display.HTML object>"
            ]
          },
          "metadata": {
            "tags": []
          }
        }
      ]
    },
    {
      "cell_type": "markdown",
      "metadata": {
        "id": "B3ylwG5umiGN",
        "colab_type": "text"
      },
      "source": [
        "Training with mixed preision"
      ]
    },
    {
      "cell_type": "code",
      "metadata": {
        "id": "u3jhUoYRmhC1",
        "colab_type": "code",
        "colab": {}
      },
      "source": [
        "cbfs = [partial(AvgStatsCallback,accuracy),\n",
        "        CudaCallback,\n",
        "        ProgressCallback,\n",
        "        partial(BatchTransformXCallback, norm_imagenette),\n",
        "        MixedPrecision]"
      ],
      "execution_count": 0,
      "outputs": []
    },
    {
      "cell_type": "code",
      "metadata": {
        "id": "GC_-edbImoVX",
        "colab_type": "code",
        "colab": {}
      },
      "source": [
        "learn = get_learner(nfs, data, 1e-2, conv_layer, cb_funcs=cbfs)"
      ],
      "execution_count": 0,
      "outputs": []
    },
    {
      "cell_type": "code",
      "metadata": {
        "id": "W9WPzTdLmqYH",
        "colab_type": "code",
        "outputId": "1b27339a-e0be-4563-ec0e-6da163565c33",
        "colab": {
          "base_uri": "https://localhost:8080/",
          "height": 80
        }
      },
      "source": [
        "learn.fit(1)"
      ],
      "execution_count": 0,
      "outputs": [
        {
          "output_type": "display_data",
          "data": {
            "text/html": [
              "<table border=\"1\" class=\"dataframe\">\n",
              "  <thead>\n",
              "    <tr style=\"text-align: left;\">\n",
              "      <th>epoch</th>\n",
              "      <th>train_loss</th>\n",
              "      <th>train_accuracy</th>\n",
              "      <th>valid_loss</th>\n",
              "      <th>valid_accuracy</th>\n",
              "      <th>time</th>\n",
              "    </tr>\n",
              "  </thead>\n",
              "  <tbody>\n",
              "    <tr>\n",
              "      <td>0</td>\n",
              "      <td>1.670414</td>\n",
              "      <td>0.435939</td>\n",
              "      <td>1.323003</td>\n",
              "      <td>0.534000</td>\n",
              "      <td>00:23</td>\n",
              "    </tr>\n",
              "  </tbody>\n",
              "</table>"
            ],
            "text/plain": [
              "<IPython.core.display.HTML object>"
            ]
          },
          "metadata": {
            "tags": []
          }
        }
      ]
    },
    {
      "cell_type": "code",
      "metadata": {
        "id": "4zrvSmIImsOl",
        "colab_type": "code",
        "colab": {}
      },
      "source": [
        "test_eq(next(learn.model.parameters()).type(), 'torch.cuda.FloatTensor')"
      ],
      "execution_count": 0,
      "outputs": []
    },
    {
      "cell_type": "markdown",
      "metadata": {
        "id": "TKR1oWr0m2e2",
        "colab_type": "text"
      },
      "source": [
        "\n",
        "Dynamic loss scaling\n",
        "\n",
        "The only annoying thing with the previous implementation of mixed precision training is that it introduces one new hyper-parameter to tune, the value of the loss scaling. Fortunately for us, there is a way around this. We want the loss scaling to be as high as possible so that our gradients can use the whole range of representation, so let's first try a really high value. In all likelihood, this will cause our gradients or our loss to overflow, and we will try again with half that big value, and again, until we get to the largest loss scale possible that doesn't make our gradients overflow.\n",
        "\n",
        "This value will be perfectly fitted to our model and can continue to be dynamically adjusted as the training goes, if it's still too high, by just halving it each time we overflow. After a while though, training will converge and gradients will start to get smaller, so we also need a mechanism to get this dynamic loss scale larger if it's safe to do so. The strategy used in the Apex library is to multiply the loss scale by 2 each time we had a given number of iterations without overflowing.\n",
        "\n",
        "To check if the gradients have overflowed, we check their sum (computed in FP32). If one term is nan, the sum will be nan. Interestingly, on the GPU, it's faster than checking torch.isnan:\n"
      ]
    },
    {
      "cell_type": "code",
      "metadata": {
        "id": "1lReABmKm1WQ",
        "colab_type": "code",
        "colab": {}
      },
      "source": [
        "# export \n",
        "def test_overflow(x):\n",
        "    s = float(x.float().sum())\n",
        "    return (s == float('inf') or s == float('-inf') or s != s)"
      ],
      "execution_count": 0,
      "outputs": []
    },
    {
      "cell_type": "code",
      "metadata": {
        "id": "vnXalkJDm7AG",
        "colab_type": "code",
        "colab": {}
      },
      "source": [
        "x = torch.randn(512,1024).cuda()"
      ],
      "execution_count": 0,
      "outputs": []
    },
    {
      "cell_type": "code",
      "metadata": {
        "id": "OwoAaGuPm8mt",
        "colab_type": "code",
        "outputId": "d3b10131-5c98-4963-928a-d56a94c6ed8f",
        "colab": {
          "base_uri": "https://localhost:8080/",
          "height": 35
        }
      },
      "source": [
        "test_overflow(x)"
      ],
      "execution_count": 0,
      "outputs": [
        {
          "output_type": "execute_result",
          "data": {
            "text/plain": [
              "False"
            ]
          },
          "metadata": {
            "tags": []
          },
          "execution_count": 56
        }
      ]
    },
    {
      "cell_type": "code",
      "metadata": {
        "id": "Cpj5WHvdm-MM",
        "colab_type": "code",
        "outputId": "9b605183-7ba4-46aa-e49f-1f734ff323c0",
        "colab": {
          "base_uri": "https://localhost:8080/",
          "height": 35
        }
      },
      "source": [
        "x[123,145] = float('inf')\n",
        "test_overflow(x)"
      ],
      "execution_count": 0,
      "outputs": [
        {
          "output_type": "execute_result",
          "data": {
            "text/plain": [
              "True"
            ]
          },
          "metadata": {
            "tags": []
          },
          "execution_count": 57
        }
      ]
    },
    {
      "cell_type": "code",
      "metadata": {
        "id": "U7X1wmZ-nB1e",
        "colab_type": "code",
        "outputId": "82012e0a-c148-440e-b118-77f3bfde92d0",
        "colab": {
          "base_uri": "https://localhost:8080/",
          "height": 74
        }
      },
      "source": [
        "%timeit test_overflow(x)"
      ],
      "execution_count": 0,
      "outputs": [
        {
          "output_type": "stream",
          "text": [
            "The slowest run took 4.09 times longer than the fastest. This could mean that an intermediate result is being cached.\n",
            "10000 loops, best of 3: 86.6 µs per loop\n"
          ],
          "name": "stdout"
        }
      ]
    },
    {
      "cell_type": "code",
      "metadata": {
        "id": "P2NmjTGdnDr9",
        "colab_type": "code",
        "outputId": "4525408b-1e9e-4f7c-f61a-0ca3b36970d9",
        "colab": {
          "base_uri": "https://localhost:8080/",
          "height": 74
        }
      },
      "source": [
        "%timeit torch.isnan(x).any().item()"
      ],
      "execution_count": 0,
      "outputs": [
        {
          "output_type": "stream",
          "text": [
            "The slowest run took 51.81 times longer than the fastest. This could mean that an intermediate result is being cached.\n",
            "10000 loops, best of 3: 113 µs per loop\n"
          ],
          "name": "stdout"
        }
      ]
    },
    {
      "cell_type": "markdown",
      "metadata": {
        "id": "POUKLIsznLMQ",
        "colab_type": "text"
      },
      "source": [
        "So we can use it in the following function that checks for gradient overflow:"
      ]
    },
    {
      "cell_type": "code",
      "metadata": {
        "id": "rzkev8t8nIH1",
        "colab_type": "code",
        "colab": {}
      },
      "source": [
        "# export \n",
        "def grad_overflow(param_groups):\n",
        "    for group in param_groups:\n",
        "        for p in group:\n",
        "            if p.grad is not None:\n",
        "                s = float(p.grad.data.float().sum())\n",
        "                if s == float('inf') or s == float('-inf') or s != s: return True\n",
        "    return False"
      ],
      "execution_count": 0,
      "outputs": []
    },
    {
      "cell_type": "markdown",
      "metadata": {
        "id": "Zf7NK9DXnQS7",
        "colab_type": "text"
      },
      "source": [
        "And now we can write a new version of the Callback that handles dynamic loss scaling."
      ]
    },
    {
      "cell_type": "code",
      "metadata": {
        "id": "vzdBp8LqnPfM",
        "colab_type": "code",
        "colab": {}
      },
      "source": [
        "# export \n",
        "class MixedPrecision(Callback):\n",
        "    _order = 99\n",
        "    def __init__(self, loss_scale=512, flat_master=False, dynamic=True, max_loss_scale=2.**24, div_factor=2.,\n",
        "                 scale_wait=500):\n",
        "        assert torch.backends.cudnn.enabled, \"Mixed precision training requires cudnn.\"\n",
        "        self.flat_master,self.dynamic,self.max_loss_scale = flat_master,dynamic,max_loss_scale\n",
        "        self.div_factor,self.scale_wait = div_factor,scale_wait\n",
        "        self.loss_scale = max_loss_scale if dynamic else loss_scale\n",
        "\n",
        "    def begin_fit(self):\n",
        "        self.run.model = fp16.convert_network(self.model, dtype=torch.float16)\n",
        "        self.model_pgs, self.master_pgs = get_master(self.opt, self.flat_master)\n",
        "        #Changes the optimizer so that the optimization step is done in FP32.\n",
        "        self.run.opt.param_groups = self.master_pgs #Put those param groups inside our runner.\n",
        "        if self.dynamic: self.count = 0\n",
        "\n",
        "    def begin_batch(self): self.run.xb = self.run.xb.half() #Put the inputs to half precision\n",
        "    def after_pred(self):  self.run.pred = self.run.pred.float() #Compute the loss in FP32\n",
        "    def after_loss(self):  \n",
        "        if self.in_train: self.run.loss *= self.loss_scale #Loss scaling to avoid gradient underflow\n",
        "\n",
        "    def after_backward(self):\n",
        "        #First, check for an overflow\n",
        "        if self.dynamic and grad_overflow(self.model_pgs):\n",
        "            #Divide the loss scale by div_factor, zero the grad (after_step will be skipped)\n",
        "            self.loss_scale /= self.div_factor\n",
        "            self.model.zero_grad()\n",
        "            return True #skip step and zero_grad\n",
        "        #Copy the gradients to master and unscale\n",
        "        to_master_grads(self.model_pgs, self.master_pgs, self.flat_master)\n",
        "        for master_params in self.master_pgs:\n",
        "            for param in master_params:\n",
        "                if param.grad is not None: param.grad.div_(self.loss_scale)\n",
        "        #Check if it's been long enough without overflow\n",
        "        if self.dynamic:\n",
        "            self.count += 1\n",
        "            if self.count == self.scale_wait:\n",
        "                self.count = 0\n",
        "                self.loss_scale *= self.div_factor\n",
        "\n",
        "    def after_step(self):\n",
        "        #Zero the gradients of the model since the optimizer is disconnected.\n",
        "        self.model.zero_grad()\n",
        "        #Update the params from master to model.\n",
        "        to_model_params(self.model_pgs, self.master_pgs, self.flat_master)"
      ],
      "execution_count": 0,
      "outputs": []
    },
    {
      "cell_type": "code",
      "metadata": {
        "id": "AyKmlqjJnVOO",
        "colab_type": "code",
        "colab": {}
      },
      "source": [
        "cbfs = [partial(AvgStatsCallback,accuracy),\n",
        "        CudaCallback,\n",
        "        ProgressCallback,\n",
        "        partial(BatchTransformXCallback, norm_imagenette),\n",
        "        MixedPrecision]"
      ],
      "execution_count": 0,
      "outputs": []
    },
    {
      "cell_type": "code",
      "metadata": {
        "id": "qTUzqh12nXYO",
        "colab_type": "code",
        "colab": {}
      },
      "source": [
        "learn = get_learner(nfs, data, 1e-2, conv_layer, cb_funcs=cbfs)"
      ],
      "execution_count": 0,
      "outputs": []
    },
    {
      "cell_type": "code",
      "metadata": {
        "id": "_WMPEnf8nZew",
        "colab_type": "code",
        "outputId": "48f5eb94-22e5-46b2-88d2-4162a0b333cb",
        "colab": {
          "base_uri": "https://localhost:8080/",
          "height": 80
        }
      },
      "source": [
        "learn.fit(1)"
      ],
      "execution_count": 0,
      "outputs": [
        {
          "output_type": "display_data",
          "data": {
            "text/html": [
              "<table border=\"1\" class=\"dataframe\">\n",
              "  <thead>\n",
              "    <tr style=\"text-align: left;\">\n",
              "      <th>epoch</th>\n",
              "      <th>train_loss</th>\n",
              "      <th>train_accuracy</th>\n",
              "      <th>valid_loss</th>\n",
              "      <th>valid_accuracy</th>\n",
              "      <th>time</th>\n",
              "    </tr>\n",
              "  </thead>\n",
              "  <tbody>\n",
              "    <tr>\n",
              "      <td>0</td>\n",
              "      <td>1.799361</td>\n",
              "      <td>0.386304</td>\n",
              "      <td>1.598671</td>\n",
              "      <td>0.482000</td>\n",
              "      <td>00:27</td>\n",
              "    </tr>\n",
              "  </tbody>\n",
              "</table>"
            ],
            "text/plain": [
              "<IPython.core.display.HTML object>"
            ]
          },
          "metadata": {
            "tags": []
          }
        }
      ]
    },
    {
      "cell_type": "markdown",
      "metadata": {
        "id": "VwVIASg0ndGq",
        "colab_type": "text"
      },
      "source": [
        "The loss scale used is way higher than our previous number:"
      ]
    },
    {
      "cell_type": "code",
      "metadata": {
        "id": "RZqMtnH4nax0",
        "colab_type": "code",
        "outputId": "507d7a05-5118-4b44-dd68-512b1ac25053",
        "colab": {
          "base_uri": "https://localhost:8080/",
          "height": 35
        }
      },
      "source": [
        "learn.cbs[-1].loss_scale"
      ],
      "execution_count": 0,
      "outputs": [
        {
          "output_type": "execute_result",
          "data": {
            "text/plain": [
              "131072.0"
            ]
          },
          "metadata": {
            "tags": []
          },
          "execution_count": 65
        }
      ]
    },
    {
      "cell_type": "markdown",
      "metadata": {
        "id": "7eubSLvhnkaV",
        "colab_type": "text"
      },
      "source": [
        "Export"
      ]
    },
    {
      "cell_type": "code",
      "metadata": {
        "id": "kNOpxU04njCA",
        "colab_type": "code",
        "outputId": "9b468bdb-bb96-49bb-934f-cb14ac2255bf",
        "colab": {
          "base_uri": "https://localhost:8080/",
          "height": 35
        }
      },
      "source": [
        "!python notebook2script.py 10c_fp16.ipynb"
      ],
      "execution_count": 0,
      "outputs": [
        {
          "output_type": "stream",
          "text": [
            "Converted 10c_fp16.ipynb to exp/nb_10c.py\n"
          ],
          "name": "stdout"
        }
      ]
    }
  ]
}