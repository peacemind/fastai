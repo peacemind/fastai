{
  "nbformat": 4,
  "nbformat_minor": 0,
  "metadata": {
    "colab": {
      "name": "fastai-les12-11a-transferlearning.ipynb",
      "provenance": [],
      "collapsed_sections": []
    },
    "kernelspec": {
      "name": "python3",
      "display_name": "Python 3"
    },
    "accelerator": "GPU"
  },
  "cells": [
    {
      "cell_type": "code",
      "metadata": {
        "id": "5-o5siMVub64",
        "colab_type": "code",
        "outputId": "82f29f53-28e6-406b-979f-3454779a15c0",
        "colab": {
          "base_uri": "https://localhost:8080/",
          "height": 54
        }
      },
      "source": [
        "!curl -s https://course.fast.ai/setup/colab | bash"
      ],
      "execution_count": 0,
      "outputs": [
        {
          "output_type": "stream",
          "text": [
            "Updating fastai...\n",
            "Done.\n"
          ],
          "name": "stdout"
        }
      ]
    },
    {
      "cell_type": "code",
      "metadata": {
        "id": "ZUa1LmH0ujTH",
        "colab_type": "code",
        "outputId": "94dba641-2863-4fc4-e8ae-2865a9c0af8e",
        "colab": {
          "base_uri": "https://localhost:8080/",
          "height": 72
        }
      },
      "source": [
        "!pip install fire"
      ],
      "execution_count": 0,
      "outputs": [
        {
          "output_type": "stream",
          "text": [
            "Requirement already satisfied: fire in /usr/local/lib/python3.6/dist-packages (0.2.1)\n",
            "Requirement already satisfied: termcolor in /usr/local/lib/python3.6/dist-packages (from fire) (1.1.0)\n",
            "Requirement already satisfied: six in /usr/local/lib/python3.6/dist-packages (from fire) (1.12.0)\n"
          ],
          "name": "stdout"
        }
      ]
    },
    {
      "cell_type": "code",
      "metadata": {
        "id": "6Bf1jKQ0uo8r",
        "colab_type": "code",
        "outputId": "ef81a010-3cd0-4057-94cb-96d13e67077f",
        "colab": {
          "base_uri": "https://localhost:8080/",
          "height": 35
        }
      },
      "source": [
        "from google.colab import drive\n",
        "drive.mount('/content/gdrive', force_remount=True)\n",
        "root_dir = \"/content/gdrive/My\\ Drive/\"\n",
        "base_dir = root_dir + 'fastai-v3/les8'"
      ],
      "execution_count": 0,
      "outputs": [
        {
          "output_type": "stream",
          "text": [
            "Mounted at /content/gdrive\n"
          ],
          "name": "stdout"
        }
      ]
    },
    {
      "cell_type": "code",
      "metadata": {
        "id": "jGZaA5l0uqeL",
        "colab_type": "code",
        "outputId": "30b58b36-1a5e-4b40-9ec6-b20a90e57deb",
        "colab": {
          "base_uri": "https://localhost:8080/",
          "height": 35
        }
      },
      "source": [
        "cd /content/gdrive/My\\ Drive/fastai-v3/les8"
      ],
      "execution_count": 0,
      "outputs": [
        {
          "output_type": "stream",
          "text": [
            "/content/gdrive/My Drive/fastai-v3/les8\n"
          ],
          "name": "stdout"
        }
      ]
    },
    {
      "cell_type": "code",
      "metadata": {
        "id": "E_85yn9AuwmK",
        "colab_type": "code",
        "outputId": "7c51c976-ec04-4062-d2a2-c8196eb3f6d7",
        "colab": {
          "base_uri": "https://localhost:8080/",
          "height": 35
        }
      },
      "source": [
        "pwd"
      ],
      "execution_count": 0,
      "outputs": [
        {
          "output_type": "execute_result",
          "data": {
            "text/plain": [
              "'/content/gdrive/My Drive/fastai-v3/les8'"
            ]
          },
          "metadata": {
            "tags": []
          },
          "execution_count": 5
        }
      ]
    },
    {
      "cell_type": "code",
      "metadata": {
        "id": "kZZdYr0RuxQ6",
        "colab_type": "code",
        "colab": {}
      },
      "source": [
        "%reload_ext autoreload\n",
        "%autoreload 2\n",
        "%matplotlib inline"
      ],
      "execution_count": 0,
      "outputs": []
    },
    {
      "cell_type": "code",
      "metadata": {
        "id": "Q2S9o5sRu0S7",
        "colab_type": "code",
        "colab": {}
      },
      "source": [
        "#export\n",
        "from exp.nb_11 import *"
      ],
      "execution_count": 0,
      "outputs": []
    },
    {
      "cell_type": "markdown",
      "metadata": {
        "id": "DYyP8_3du4k0",
        "colab_type": "text"
      },
      "source": [
        "Serializing the model"
      ]
    },
    {
      "cell_type": "code",
      "metadata": {
        "id": "N-hKFpf6u3tS",
        "colab_type": "code",
        "colab": {}
      },
      "source": [
        "path = datasets.untar_data(datasets.URLs.IMAGEWOOF_160)"
      ],
      "execution_count": 0,
      "outputs": []
    },
    {
      "cell_type": "code",
      "metadata": {
        "id": "LK6rFNbju88q",
        "colab_type": "code",
        "colab": {}
      },
      "source": [
        "size = 128\n",
        "bs = 64\n",
        "\n",
        "tfms = [make_rgb, RandomResizedCrop(size, scale=(0.35,1)), np_to_float, PilRandomFlip()]\n",
        "val_tfms = [make_rgb, CenterCrop(size), np_to_float]\n",
        "il = ImageList.from_files(path, tfms=tfms)\n",
        "sd = SplitData.split_by_func(il, partial(grandparent_splitter, valid_name='val'))\n",
        "ll = label_by_func(sd, parent_labeler, proc_y=CategoryProcessor())\n",
        "ll.valid.x.tfms = val_tfms\n",
        "data = ll.to_databunch(bs, c_in=3, c_out=10, num_workers=8)"
      ],
      "execution_count": 0,
      "outputs": []
    },
    {
      "cell_type": "code",
      "metadata": {
        "id": "boIc_ebMu_kj",
        "colab_type": "code",
        "outputId": "6d0d24cb-ca6d-4c94-a033-8bf4d2132b08",
        "colab": {
          "base_uri": "https://localhost:8080/",
          "height": 35
        }
      },
      "source": [
        "len(il)"
      ],
      "execution_count": 0,
      "outputs": [
        {
          "output_type": "execute_result",
          "data": {
            "text/plain": [
              "12954"
            ]
          },
          "metadata": {
            "tags": []
          },
          "execution_count": 10
        }
      ]
    },
    {
      "cell_type": "code",
      "metadata": {
        "id": "x-PiNAGcvAnz",
        "colab_type": "code",
        "colab": {}
      },
      "source": [
        "loss_func = LabelSmoothingCrossEntropy()\n",
        "opt_func = adam_opt(mom=0.9, mom_sqr=0.99, eps=1e-6, wd=1e-2)"
      ],
      "execution_count": 0,
      "outputs": []
    },
    {
      "cell_type": "code",
      "metadata": {
        "id": "QaDEH4AgvC-z",
        "colab_type": "code",
        "colab": {}
      },
      "source": [
        "learn = cnn_learner(xresnet18, data, loss_func, opt_func, norm=norm_imagenette)"
      ],
      "execution_count": 0,
      "outputs": []
    },
    {
      "cell_type": "code",
      "metadata": {
        "id": "laq3oS5OvFQS",
        "colab_type": "code",
        "colab": {}
      },
      "source": [
        "def sched_1cycle(lr, pct_start=0.3, mom_start=0.95, mom_mid=0.85, mom_end=0.95):\n",
        "    phases = create_phases(pct_start)\n",
        "    sched_lr  = combine_scheds(phases, cos_1cycle_anneal(lr/10., lr, lr/1e5))\n",
        "    sched_mom = combine_scheds(phases, cos_1cycle_anneal(mom_start, mom_mid, mom_end))\n",
        "    return [ParamScheduler('lr', sched_lr),\n",
        "            ParamScheduler('mom', sched_mom)]"
      ],
      "execution_count": 0,
      "outputs": []
    },
    {
      "cell_type": "code",
      "metadata": {
        "id": "smCoSQcZvHi1",
        "colab_type": "code",
        "colab": {}
      },
      "source": [
        "lr = 3e-3\n",
        "pct_start = 0.5\n",
        "cbsched = sched_1cycle(lr, pct_start)"
      ],
      "execution_count": 0,
      "outputs": []
    },
    {
      "cell_type": "code",
      "metadata": {
        "id": "sdcsaAIWvJPz",
        "colab_type": "code",
        "outputId": "8ce0b8f9-38e8-4e2b-930d-3f0f659a7788",
        "colab": {
          "base_uri": "https://localhost:8080/",
          "height": 1000
        }
      },
      "source": [
        "learn.fit(40, cbsched)"
      ],
      "execution_count": 0,
      "outputs": [
        {
          "output_type": "display_data",
          "data": {
            "text/html": [
              "<table border=\"1\" class=\"dataframe\">\n",
              "  <thead>\n",
              "    <tr style=\"text-align: left;\">\n",
              "      <th>epoch</th>\n",
              "      <th>train_loss</th>\n",
              "      <th>train_accuracy</th>\n",
              "      <th>valid_loss</th>\n",
              "      <th>valid_accuracy</th>\n",
              "      <th>time</th>\n",
              "    </tr>\n",
              "  </thead>\n",
              "  <tbody>\n",
              "    <tr>\n",
              "      <td>0</td>\n",
              "      <td>2.093581</td>\n",
              "      <td>0.266581</td>\n",
              "      <td>2.040565</td>\n",
              "      <td>0.298000</td>\n",
              "      <td>00:41</td>\n",
              "    </tr>\n",
              "    <tr>\n",
              "      <td>1</td>\n",
              "      <td>1.905417</td>\n",
              "      <td>0.364702</td>\n",
              "      <td>1.912667</td>\n",
              "      <td>0.358000</td>\n",
              "      <td>00:41</td>\n",
              "    </tr>\n",
              "    <tr>\n",
              "      <td>2</td>\n",
              "      <td>1.788388</td>\n",
              "      <td>0.422836</td>\n",
              "      <td>1.811056</td>\n",
              "      <td>0.394000</td>\n",
              "      <td>00:41</td>\n",
              "    </tr>\n",
              "    <tr>\n",
              "      <td>3</td>\n",
              "      <td>1.691867</td>\n",
              "      <td>0.466597</td>\n",
              "      <td>1.778573</td>\n",
              "      <td>0.444000</td>\n",
              "      <td>00:41</td>\n",
              "    </tr>\n",
              "    <tr>\n",
              "      <td>4</td>\n",
              "      <td>1.622469</td>\n",
              "      <td>0.497993</td>\n",
              "      <td>1.716102</td>\n",
              "      <td>0.440000</td>\n",
              "      <td>00:41</td>\n",
              "    </tr>\n",
              "    <tr>\n",
              "      <td>5</td>\n",
              "      <td>1.587610</td>\n",
              "      <td>0.518709</td>\n",
              "      <td>1.779425</td>\n",
              "      <td>0.410000</td>\n",
              "      <td>00:41</td>\n",
              "    </tr>\n",
              "    <tr>\n",
              "      <td>6</td>\n",
              "      <td>1.535733</td>\n",
              "      <td>0.542476</td>\n",
              "      <td>1.652970</td>\n",
              "      <td>0.470000</td>\n",
              "      <td>00:41</td>\n",
              "    </tr>\n",
              "    <tr>\n",
              "      <td>7</td>\n",
              "      <td>1.485398</td>\n",
              "      <td>0.566806</td>\n",
              "      <td>1.617192</td>\n",
              "      <td>0.518000</td>\n",
              "      <td>00:41</td>\n",
              "    </tr>\n",
              "    <tr>\n",
              "      <td>8</td>\n",
              "      <td>1.441484</td>\n",
              "      <td>0.585515</td>\n",
              "      <td>1.520658</td>\n",
              "      <td>0.532000</td>\n",
              "      <td>00:41</td>\n",
              "    </tr>\n",
              "    <tr>\n",
              "      <td>9</td>\n",
              "      <td>1.395870</td>\n",
              "      <td>0.610647</td>\n",
              "      <td>2.078566</td>\n",
              "      <td>0.394000</td>\n",
              "      <td>00:41</td>\n",
              "    </tr>\n",
              "    <tr>\n",
              "      <td>10</td>\n",
              "      <td>1.342138</td>\n",
              "      <td>0.641882</td>\n",
              "      <td>1.752506</td>\n",
              "      <td>0.458000</td>\n",
              "      <td>00:41</td>\n",
              "    </tr>\n",
              "    <tr>\n",
              "      <td>11</td>\n",
              "      <td>1.290945</td>\n",
              "      <td>0.659627</td>\n",
              "      <td>1.706286</td>\n",
              "      <td>0.492000</td>\n",
              "      <td>00:41</td>\n",
              "    </tr>\n",
              "    <tr>\n",
              "      <td>12</td>\n",
              "      <td>1.256689</td>\n",
              "      <td>0.676329</td>\n",
              "      <td>1.662363</td>\n",
              "      <td>0.512000</td>\n",
              "      <td>00:41</td>\n",
              "    </tr>\n",
              "    <tr>\n",
              "      <td>13</td>\n",
              "      <td>1.220005</td>\n",
              "      <td>0.691585</td>\n",
              "      <td>1.325913</td>\n",
              "      <td>0.642000</td>\n",
              "      <td>00:41</td>\n",
              "    </tr>\n",
              "    <tr>\n",
              "      <td>14</td>\n",
              "      <td>1.185359</td>\n",
              "      <td>0.709571</td>\n",
              "      <td>1.284086</td>\n",
              "      <td>0.656000</td>\n",
              "      <td>00:41</td>\n",
              "    </tr>\n",
              "    <tr>\n",
              "      <td>15</td>\n",
              "      <td>1.160401</td>\n",
              "      <td>0.720572</td>\n",
              "      <td>1.483502</td>\n",
              "      <td>0.574000</td>\n",
              "      <td>00:41</td>\n",
              "    </tr>\n",
              "    <tr>\n",
              "      <td>16</td>\n",
              "      <td>1.115523</td>\n",
              "      <td>0.740565</td>\n",
              "      <td>1.323671</td>\n",
              "      <td>0.654000</td>\n",
              "      <td>00:41</td>\n",
              "    </tr>\n",
              "    <tr>\n",
              "      <td>17</td>\n",
              "      <td>1.094754</td>\n",
              "      <td>0.752851</td>\n",
              "      <td>1.324320</td>\n",
              "      <td>0.650000</td>\n",
              "      <td>00:41</td>\n",
              "    </tr>\n",
              "    <tr>\n",
              "      <td>18</td>\n",
              "      <td>1.057521</td>\n",
              "      <td>0.764252</td>\n",
              "      <td>1.226762</td>\n",
              "      <td>0.698000</td>\n",
              "      <td>00:41</td>\n",
              "    </tr>\n",
              "    <tr>\n",
              "      <td>19</td>\n",
              "      <td>1.033958</td>\n",
              "      <td>0.776698</td>\n",
              "      <td>1.157289</td>\n",
              "      <td>0.722000</td>\n",
              "      <td>00:41</td>\n",
              "    </tr>\n",
              "    <tr>\n",
              "      <td>20</td>\n",
              "      <td>1.011617</td>\n",
              "      <td>0.783845</td>\n",
              "      <td>1.189215</td>\n",
              "      <td>0.724000</td>\n",
              "      <td>00:41</td>\n",
              "    </tr>\n",
              "    <tr>\n",
              "      <td>21</td>\n",
              "      <td>0.976407</td>\n",
              "      <td>0.799181</td>\n",
              "      <td>1.064344</td>\n",
              "      <td>0.762000</td>\n",
              "      <td>00:41</td>\n",
              "    </tr>\n",
              "    <tr>\n",
              "      <td>22</td>\n",
              "      <td>0.967033</td>\n",
              "      <td>0.805846</td>\n",
              "      <td>1.170918</td>\n",
              "      <td>0.716000</td>\n",
              "      <td>00:41</td>\n",
              "    </tr>\n",
              "    <tr>\n",
              "      <td>23</td>\n",
              "      <td>0.934831</td>\n",
              "      <td>0.814839</td>\n",
              "      <td>1.038706</td>\n",
              "      <td>0.762000</td>\n",
              "      <td>00:41</td>\n",
              "    </tr>\n",
              "    <tr>\n",
              "      <td>24</td>\n",
              "      <td>0.897283</td>\n",
              "      <td>0.833869</td>\n",
              "      <td>1.110007</td>\n",
              "      <td>0.744000</td>\n",
              "      <td>00:40</td>\n",
              "    </tr>\n",
              "    <tr>\n",
              "      <td>25</td>\n",
              "      <td>0.876343</td>\n",
              "      <td>0.843745</td>\n",
              "      <td>1.195250</td>\n",
              "      <td>0.742000</td>\n",
              "      <td>00:40</td>\n",
              "    </tr>\n",
              "    <tr>\n",
              "      <td>26</td>\n",
              "      <td>0.849663</td>\n",
              "      <td>0.856191</td>\n",
              "      <td>1.009078</td>\n",
              "      <td>0.786000</td>\n",
              "      <td>00:40</td>\n",
              "    </tr>\n",
              "    <tr>\n",
              "      <td>27</td>\n",
              "      <td>0.812050</td>\n",
              "      <td>0.874900</td>\n",
              "      <td>1.028902</td>\n",
              "      <td>0.784000</td>\n",
              "      <td>00:41</td>\n",
              "    </tr>\n",
              "    <tr>\n",
              "      <td>28</td>\n",
              "      <td>0.788436</td>\n",
              "      <td>0.884374</td>\n",
              "      <td>1.026024</td>\n",
              "      <td>0.776000</td>\n",
              "      <td>00:41</td>\n",
              "    </tr>\n",
              "    <tr>\n",
              "      <td>29</td>\n",
              "      <td>0.764775</td>\n",
              "      <td>0.894090</td>\n",
              "      <td>0.986463</td>\n",
              "      <td>0.800000</td>\n",
              "      <td>00:41</td>\n",
              "    </tr>\n",
              "    <tr>\n",
              "      <td>30</td>\n",
              "      <td>0.740203</td>\n",
              "      <td>0.905091</td>\n",
              "      <td>1.017741</td>\n",
              "      <td>0.802000</td>\n",
              "      <td>00:41</td>\n",
              "    </tr>\n",
              "    <tr>\n",
              "      <td>31</td>\n",
              "      <td>0.711589</td>\n",
              "      <td>0.918018</td>\n",
              "      <td>1.023670</td>\n",
              "      <td>0.782000</td>\n",
              "      <td>00:41</td>\n",
              "    </tr>\n",
              "    <tr>\n",
              "      <td>32</td>\n",
              "      <td>0.693972</td>\n",
              "      <td>0.927252</td>\n",
              "      <td>1.026466</td>\n",
              "      <td>0.800000</td>\n",
              "      <td>00:41</td>\n",
              "    </tr>\n",
              "    <tr>\n",
              "      <td>33</td>\n",
              "      <td>0.669806</td>\n",
              "      <td>0.939216</td>\n",
              "      <td>0.975407</td>\n",
              "      <td>0.828000</td>\n",
              "      <td>00:41</td>\n",
              "    </tr>\n",
              "    <tr>\n",
              "      <td>34</td>\n",
              "      <td>0.654457</td>\n",
              "      <td>0.943954</td>\n",
              "      <td>0.999614</td>\n",
              "      <td>0.806000</td>\n",
              "      <td>00:41</td>\n",
              "    </tr>\n",
              "    <tr>\n",
              "      <td>35</td>\n",
              "      <td>0.646031</td>\n",
              "      <td>0.948611</td>\n",
              "      <td>0.960717</td>\n",
              "      <td>0.828000</td>\n",
              "      <td>00:41</td>\n",
              "    </tr>\n",
              "    <tr>\n",
              "      <td>36</td>\n",
              "      <td>0.634962</td>\n",
              "      <td>0.952304</td>\n",
              "      <td>0.958425</td>\n",
              "      <td>0.824000</td>\n",
              "      <td>00:41</td>\n",
              "    </tr>\n",
              "    <tr>\n",
              "      <td>37</td>\n",
              "      <td>0.625598</td>\n",
              "      <td>0.955998</td>\n",
              "      <td>0.963738</td>\n",
              "      <td>0.822000</td>\n",
              "      <td>00:41</td>\n",
              "    </tr>\n",
              "    <tr>\n",
              "      <td>38</td>\n",
              "      <td>0.624695</td>\n",
              "      <td>0.957122</td>\n",
              "      <td>0.967339</td>\n",
              "      <td>0.824000</td>\n",
              "      <td>00:41</td>\n",
              "    </tr>\n",
              "    <tr>\n",
              "      <td>39</td>\n",
              "      <td>0.620993</td>\n",
              "      <td>0.958648</td>\n",
              "      <td>0.959909</td>\n",
              "      <td>0.836000</td>\n",
              "      <td>00:41</td>\n",
              "    </tr>\n",
              "  </tbody>\n",
              "</table>"
            ],
            "text/plain": [
              "<IPython.core.display.HTML object>"
            ]
          },
          "metadata": {
            "tags": []
          }
        }
      ]
    },
    {
      "cell_type": "code",
      "metadata": {
        "id": "WBEoy-gRvLpp",
        "colab_type": "code",
        "colab": {}
      },
      "source": [
        "st = learn.model.state_dict()"
      ],
      "execution_count": 0,
      "outputs": []
    },
    {
      "cell_type": "code",
      "metadata": {
        "id": "lR58zK8J2RiN",
        "colab_type": "code",
        "outputId": "9eabd19c-0836-4a99-dbf7-c457dfbed127",
        "colab": {
          "base_uri": "https://localhost:8080/",
          "height": 35
        }
      },
      "source": [
        "type(st)"
      ],
      "execution_count": 0,
      "outputs": [
        {
          "output_type": "execute_result",
          "data": {
            "text/plain": [
              "collections.OrderedDict"
            ]
          },
          "metadata": {
            "tags": []
          },
          "execution_count": 16
        }
      ]
    },
    {
      "cell_type": "code",
      "metadata": {
        "id": "Yqs1gVaw2TqU",
        "colab_type": "code",
        "outputId": "a2ddb92d-221e-4866-cb2e-1eefc937629d",
        "colab": {
          "base_uri": "https://localhost:8080/",
          "height": 55
        }
      },
      "source": [
        "', '.join(st.keys())"
      ],
      "execution_count": 0,
      "outputs": [
        {
          "output_type": "execute_result",
          "data": {
            "text/plain": [
              "'0.0.weight, 0.1.weight, 0.1.bias, 0.1.running_mean, 0.1.running_var, 0.1.num_batches_tracked, 1.0.weight, 1.1.weight, 1.1.bias, 1.1.running_mean, 1.1.running_var, 1.1.num_batches_tracked, 2.0.weight, 2.1.weight, 2.1.bias, 2.1.running_mean, 2.1.running_var, 2.1.num_batches_tracked, 4.0.convs.0.0.weight, 4.0.convs.0.1.weight, 4.0.convs.0.1.bias, 4.0.convs.0.1.running_mean, 4.0.convs.0.1.running_var, 4.0.convs.0.1.num_batches_tracked, 4.0.convs.1.0.weight, 4.0.convs.1.1.weight, 4.0.convs.1.1.bias, 4.0.convs.1.1.running_mean, 4.0.convs.1.1.running_var, 4.0.convs.1.1.num_batches_tracked, 4.1.convs.0.0.weight, 4.1.convs.0.1.weight, 4.1.convs.0.1.bias, 4.1.convs.0.1.running_mean, 4.1.convs.0.1.running_var, 4.1.convs.0.1.num_batches_tracked, 4.1.convs.1.0.weight, 4.1.convs.1.1.weight, 4.1.convs.1.1.bias, 4.1.convs.1.1.running_mean, 4.1.convs.1.1.running_var, 4.1.convs.1.1.num_batches_tracked, 5.0.convs.0.0.weight, 5.0.convs.0.1.weight, 5.0.convs.0.1.bias, 5.0.convs.0.1.running_mean, 5.0.convs.0.1.running_var, 5.0.convs.0.1.num_batches_tracked, 5.0.convs.1.0.weight, 5.0.convs.1.1.weight, 5.0.convs.1.1.bias, 5.0.convs.1.1.running_mean, 5.0.convs.1.1.running_var, 5.0.convs.1.1.num_batches_tracked, 5.0.idconv.0.weight, 5.0.idconv.1.weight, 5.0.idconv.1.bias, 5.0.idconv.1.running_mean, 5.0.idconv.1.running_var, 5.0.idconv.1.num_batches_tracked, 5.1.convs.0.0.weight, 5.1.convs.0.1.weight, 5.1.convs.0.1.bias, 5.1.convs.0.1.running_mean, 5.1.convs.0.1.running_var, 5.1.convs.0.1.num_batches_tracked, 5.1.convs.1.0.weight, 5.1.convs.1.1.weight, 5.1.convs.1.1.bias, 5.1.convs.1.1.running_mean, 5.1.convs.1.1.running_var, 5.1.convs.1.1.num_batches_tracked, 6.0.convs.0.0.weight, 6.0.convs.0.1.weight, 6.0.convs.0.1.bias, 6.0.convs.0.1.running_mean, 6.0.convs.0.1.running_var, 6.0.convs.0.1.num_batches_tracked, 6.0.convs.1.0.weight, 6.0.convs.1.1.weight, 6.0.convs.1.1.bias, 6.0.convs.1.1.running_mean, 6.0.convs.1.1.running_var, 6.0.convs.1.1.num_batches_tracked, 6.0.idconv.0.weight, 6.0.idconv.1.weight, 6.0.idconv.1.bias, 6.0.idconv.1.running_mean, 6.0.idconv.1.running_var, 6.0.idconv.1.num_batches_tracked, 6.1.convs.0.0.weight, 6.1.convs.0.1.weight, 6.1.convs.0.1.bias, 6.1.convs.0.1.running_mean, 6.1.convs.0.1.running_var, 6.1.convs.0.1.num_batches_tracked, 6.1.convs.1.0.weight, 6.1.convs.1.1.weight, 6.1.convs.1.1.bias, 6.1.convs.1.1.running_mean, 6.1.convs.1.1.running_var, 6.1.convs.1.1.num_batches_tracked, 7.0.convs.0.0.weight, 7.0.convs.0.1.weight, 7.0.convs.0.1.bias, 7.0.convs.0.1.running_mean, 7.0.convs.0.1.running_var, 7.0.convs.0.1.num_batches_tracked, 7.0.convs.1.0.weight, 7.0.convs.1.1.weight, 7.0.convs.1.1.bias, 7.0.convs.1.1.running_mean, 7.0.convs.1.1.running_var, 7.0.convs.1.1.num_batches_tracked, 7.0.idconv.0.weight, 7.0.idconv.1.weight, 7.0.idconv.1.bias, 7.0.idconv.1.running_mean, 7.0.idconv.1.running_var, 7.0.idconv.1.num_batches_tracked, 7.1.convs.0.0.weight, 7.1.convs.0.1.weight, 7.1.convs.0.1.bias, 7.1.convs.0.1.running_mean, 7.1.convs.0.1.running_var, 7.1.convs.0.1.num_batches_tracked, 7.1.convs.1.0.weight, 7.1.convs.1.1.weight, 7.1.convs.1.1.bias, 7.1.convs.1.1.running_mean, 7.1.convs.1.1.running_var, 7.1.convs.1.1.num_batches_tracked, 10.weight, 10.bias'"
            ]
          },
          "metadata": {
            "tags": []
          },
          "execution_count": 17
        }
      ]
    },
    {
      "cell_type": "code",
      "metadata": {
        "id": "QV3smufs2Vjj",
        "colab_type": "code",
        "outputId": "50d0f388-dc47-4ae2-d365-744bb99b74dd",
        "colab": {
          "base_uri": "https://localhost:8080/",
          "height": 35
        }
      },
      "source": [
        "st['10.bias']"
      ],
      "execution_count": 0,
      "outputs": [
        {
          "output_type": "execute_result",
          "data": {
            "text/plain": [
              "tensor([0., 0., 0., 0., 0., 0., 0., 0., 0., 0.])"
            ]
          },
          "metadata": {
            "tags": []
          },
          "execution_count": 18
        }
      ]
    },
    {
      "cell_type": "code",
      "metadata": {
        "id": "oT7oH-3U2Xqr",
        "colab_type": "code",
        "colab": {}
      },
      "source": [
        "mdl_path = path/'models'\n",
        "mdl_path.mkdir(exist_ok=True)"
      ],
      "execution_count": 0,
      "outputs": []
    },
    {
      "cell_type": "markdown",
      "metadata": {
        "id": "XQr9QUTC2Zz3",
        "colab_type": "text"
      },
      "source": [
        "It's also possible to save the whole model, including the architecture, but it gets quite fiddly and we don't recommend it. Instead, just save the parameters, and recreate the model directly."
      ]
    },
    {
      "cell_type": "code",
      "metadata": {
        "id": "1RLlodpD2ZAz",
        "colab_type": "code",
        "colab": {}
      },
      "source": [
        "torch.save(st, mdl_path/'iw5')"
      ],
      "execution_count": 0,
      "outputs": []
    },
    {
      "cell_type": "markdown",
      "metadata": {
        "id": "vQzuj6lV2eln",
        "colab_type": "text"
      },
      "source": [
        "Pet"
      ]
    },
    {
      "cell_type": "code",
      "metadata": {
        "id": "rgdOe-LZ2deq",
        "colab_type": "code",
        "colab": {}
      },
      "source": [
        "pets = datasets.untar_data(datasets.URLs.PETS)"
      ],
      "execution_count": 0,
      "outputs": []
    },
    {
      "cell_type": "code",
      "metadata": {
        "id": "tSu2GYyD2g5J",
        "colab_type": "code",
        "outputId": "1f45c62e-c141-4771-9b0c-846e7790ed43",
        "colab": {
          "base_uri": "https://localhost:8080/",
          "height": 54
        }
      },
      "source": [
        "pets.ls()"
      ],
      "execution_count": 0,
      "outputs": [
        {
          "output_type": "execute_result",
          "data": {
            "text/plain": [
              "[PosixPath('/root/.fastai/data/oxford-iiit-pet/images'),\n",
              " PosixPath('/root/.fastai/data/oxford-iiit-pet/annotations')]"
            ]
          },
          "metadata": {
            "tags": []
          },
          "execution_count": 21
        }
      ]
    },
    {
      "cell_type": "code",
      "metadata": {
        "id": "lzRlXMbl2noL",
        "colab_type": "code",
        "colab": {}
      },
      "source": [
        "pets_path = pets/'images'"
      ],
      "execution_count": 0,
      "outputs": []
    },
    {
      "cell_type": "code",
      "metadata": {
        "id": "eWZg4yAJ2rK9",
        "colab_type": "code",
        "colab": {}
      },
      "source": [
        "il = ImageList.from_files(pets_path, tfms=tfms)"
      ],
      "execution_count": 0,
      "outputs": []
    },
    {
      "cell_type": "code",
      "metadata": {
        "id": "eKGmEtI42tw5",
        "colab_type": "code",
        "outputId": "4849702f-8cac-43c9-dbae-0573af987923",
        "colab": {
          "base_uri": "https://localhost:8080/",
          "height": 92
        }
      },
      "source": [
        "il"
      ],
      "execution_count": 0,
      "outputs": [
        {
          "output_type": "execute_result",
          "data": {
            "text/plain": [
              "ImageList (7390 items)\n",
              "[PosixPath('/root/.fastai/data/oxford-iiit-pet/images/newfoundland_169.jpg'), PosixPath('/root/.fastai/data/oxford-iiit-pet/images/miniature_pinscher_112.jpg'), PosixPath('/root/.fastai/data/oxford-iiit-pet/images/saint_bernard_57.jpg'), PosixPath('/root/.fastai/data/oxford-iiit-pet/images/British_Shorthair_168.jpg'), PosixPath('/root/.fastai/data/oxford-iiit-pet/images/Bombay_208.jpg'), PosixPath('/root/.fastai/data/oxford-iiit-pet/images/newfoundland_62.jpg'), PosixPath('/root/.fastai/data/oxford-iiit-pet/images/pug_195.jpg'), PosixPath('/root/.fastai/data/oxford-iiit-pet/images/english_cocker_spaniel_86.jpg'), PosixPath('/root/.fastai/data/oxford-iiit-pet/images/Maine_Coon_106.jpg'), PosixPath('/root/.fastai/data/oxford-iiit-pet/images/Siamese_93.jpg')...]\n",
              "Path: /root/.fastai/data/oxford-iiit-pet/images"
            ]
          },
          "metadata": {
            "tags": []
          },
          "execution_count": 24
        }
      ]
    },
    {
      "cell_type": "code",
      "metadata": {
        "id": "dZa4ftPO2uTB",
        "colab_type": "code",
        "colab": {}
      },
      "source": [
        "#export\n",
        "def random_splitter(fn, p_valid): return random.random() < p_valid"
      ],
      "execution_count": 0,
      "outputs": []
    },
    {
      "cell_type": "code",
      "metadata": {
        "id": "CgXsywql2wf7",
        "colab_type": "code",
        "colab": {}
      },
      "source": [
        "random.seed(42)"
      ],
      "execution_count": 0,
      "outputs": []
    },
    {
      "cell_type": "code",
      "metadata": {
        "id": "zD713paF2zNZ",
        "colab_type": "code",
        "colab": {}
      },
      "source": [
        "sd = SplitData.split_by_func(il, partial(random_splitter, p_valid=0.1))"
      ],
      "execution_count": 0,
      "outputs": []
    },
    {
      "cell_type": "code",
      "metadata": {
        "id": "pL9w9f9q200U",
        "colab_type": "code",
        "outputId": "5ce4038e-e1f1-4130-e1d8-b1910b59142e",
        "colab": {
          "base_uri": "https://localhost:8080/",
          "height": 166
        }
      },
      "source": [
        "sd"
      ],
      "execution_count": 0,
      "outputs": [
        {
          "output_type": "execute_result",
          "data": {
            "text/plain": [
              "SplitData\n",
              "Train: ImageList (6667 items)\n",
              "[PosixPath('/root/.fastai/data/oxford-iiit-pet/images/newfoundland_169.jpg'), PosixPath('/root/.fastai/data/oxford-iiit-pet/images/saint_bernard_57.jpg'), PosixPath('/root/.fastai/data/oxford-iiit-pet/images/British_Shorthair_168.jpg'), PosixPath('/root/.fastai/data/oxford-iiit-pet/images/Bombay_208.jpg'), PosixPath('/root/.fastai/data/oxford-iiit-pet/images/newfoundland_62.jpg'), PosixPath('/root/.fastai/data/oxford-iiit-pet/images/pug_195.jpg'), PosixPath('/root/.fastai/data/oxford-iiit-pet/images/Maine_Coon_106.jpg'), PosixPath('/root/.fastai/data/oxford-iiit-pet/images/american_pit_bull_terrier_63.jpg'), PosixPath('/root/.fastai/data/oxford-iiit-pet/images/beagle_75.jpg'), PosixPath('/root/.fastai/data/oxford-iiit-pet/images/Egyptian_Mau_171.jpg')...]\n",
              "Path: /root/.fastai/data/oxford-iiit-pet/images\n",
              "Valid: ImageList (723 items)\n",
              "[PosixPath('/root/.fastai/data/oxford-iiit-pet/images/miniature_pinscher_112.jpg'), PosixPath('/root/.fastai/data/oxford-iiit-pet/images/english_cocker_spaniel_86.jpg'), PosixPath('/root/.fastai/data/oxford-iiit-pet/images/Siamese_93.jpg'), PosixPath('/root/.fastai/data/oxford-iiit-pet/images/great_pyrenees_119.jpg'), PosixPath('/root/.fastai/data/oxford-iiit-pet/images/english_cocker_spaniel_21.jpg'), PosixPath('/root/.fastai/data/oxford-iiit-pet/images/newfoundland_101.jpg'), PosixPath('/root/.fastai/data/oxford-iiit-pet/images/Ragdoll_205.jpg'), PosixPath('/root/.fastai/data/oxford-iiit-pet/images/yorkshire_terrier_67.jpg'), PosixPath('/root/.fastai/data/oxford-iiit-pet/images/Persian_27.jpg'), PosixPath('/root/.fastai/data/oxford-iiit-pet/images/german_shorthaired_82.jpg')...]\n",
              "Path: /root/.fastai/data/oxford-iiit-pet/images"
            ]
          },
          "metadata": {
            "tags": []
          },
          "execution_count": 28
        }
      ]
    },
    {
      "cell_type": "code",
      "metadata": {
        "id": "cLoJdw5T21Xy",
        "colab_type": "code",
        "outputId": "0f7362fb-3393-4f1c-b3e8-b765921aca36",
        "colab": {
          "base_uri": "https://localhost:8080/",
          "height": 35
        }
      },
      "source": [
        "n = il.items[0].name; n"
      ],
      "execution_count": 0,
      "outputs": [
        {
          "output_type": "execute_result",
          "data": {
            "text/plain": [
              "'newfoundland_169.jpg'"
            ]
          },
          "metadata": {
            "tags": []
          },
          "execution_count": 29
        }
      ]
    },
    {
      "cell_type": "code",
      "metadata": {
        "id": "YM_z7l0I22_i",
        "colab_type": "code",
        "outputId": "bc24d446-ad00-45e5-ae99-e965579c220b",
        "colab": {
          "base_uri": "https://localhost:8080/",
          "height": 35
        }
      },
      "source": [
        "re.findall(r'^(.*)_\\d+.jpg$', n)[0]"
      ],
      "execution_count": 0,
      "outputs": [
        {
          "output_type": "execute_result",
          "data": {
            "text/plain": [
              "'newfoundland'"
            ]
          },
          "metadata": {
            "tags": []
          },
          "execution_count": 30
        }
      ]
    },
    {
      "cell_type": "code",
      "metadata": {
        "id": "IicaOM3_25Ei",
        "colab_type": "code",
        "colab": {}
      },
      "source": [
        "def pet_labeler(fn): return re.findall(r'^(.*)_\\d+.jpg$', fn.name)[0]"
      ],
      "execution_count": 0,
      "outputs": []
    },
    {
      "cell_type": "code",
      "metadata": {
        "id": "5672nhQS263b",
        "colab_type": "code",
        "colab": {}
      },
      "source": [
        "proc = CategoryProcessor()"
      ],
      "execution_count": 0,
      "outputs": []
    },
    {
      "cell_type": "code",
      "metadata": {
        "id": "_yBpEXIW2-m5",
        "colab_type": "code",
        "colab": {}
      },
      "source": [
        "ll = label_by_func(sd, pet_labeler, proc_y=proc)"
      ],
      "execution_count": 0,
      "outputs": []
    },
    {
      "cell_type": "code",
      "metadata": {
        "id": "NOk2k0Cw3A_Q",
        "colab_type": "code",
        "outputId": "96e0aec1-ac3b-4a2f-dc8d-c52f93ee7fb5",
        "colab": {
          "base_uri": "https://localhost:8080/",
          "height": 55
        }
      },
      "source": [
        "', '.join(proc.vocab)"
      ],
      "execution_count": 0,
      "outputs": [
        {
          "output_type": "execute_result",
          "data": {
            "text/plain": [
              "'newfoundland, saint_bernard, British_Shorthair, Bombay, pug, Maine_Coon, american_pit_bull_terrier, beagle, Egyptian_Mau, Siamese, Persian, leonberger, Abyssinian, Bengal, scottish_terrier, Ragdoll, japanese_chin, wheaten_terrier, staffordshire_bull_terrier, miniature_pinscher, english_setter, chihuahua, basset_hound, havanese, american_bulldog, samoyed, keeshond, boxer, english_cocker_spaniel, great_pyrenees, shiba_inu, Russian_Blue, german_shorthaired, yorkshire_terrier, Birman, Sphynx, pomeranian'"
            ]
          },
          "metadata": {
            "tags": []
          },
          "execution_count": 34
        }
      ]
    },
    {
      "cell_type": "code",
      "metadata": {
        "id": "qDgn0cl-3CtK",
        "colab_type": "code",
        "colab": {}
      },
      "source": [
        "ll.valid.x.tfms = val_tfms"
      ],
      "execution_count": 0,
      "outputs": []
    },
    {
      "cell_type": "code",
      "metadata": {
        "id": "8aG7it4b3EVB",
        "colab_type": "code",
        "colab": {}
      },
      "source": [
        "c_out = len(proc.vocab)"
      ],
      "execution_count": 0,
      "outputs": []
    },
    {
      "cell_type": "code",
      "metadata": {
        "id": "lv4YHgrD3HFY",
        "colab_type": "code",
        "colab": {}
      },
      "source": [
        "data = ll.to_databunch(bs, c_in=3, c_out=c_out, num_workers=8)"
      ],
      "execution_count": 0,
      "outputs": []
    },
    {
      "cell_type": "code",
      "metadata": {
        "id": "Eo7Oz07N3I6X",
        "colab_type": "code",
        "colab": {}
      },
      "source": [
        "learn = cnn_learner(xresnet18, data, loss_func, opt_func, norm=norm_imagenette)"
      ],
      "execution_count": 0,
      "outputs": []
    },
    {
      "cell_type": "code",
      "metadata": {
        "id": "NamETB723K6i",
        "colab_type": "code",
        "outputId": "ee62bc31-7fa7-4d3d-c235-2ddc5ba263ec",
        "colab": {
          "base_uri": "https://localhost:8080/",
          "height": 206
        }
      },
      "source": [
        "learn.fit(5, cbsched)"
      ],
      "execution_count": 0,
      "outputs": [
        {
          "output_type": "display_data",
          "data": {
            "text/html": [
              "<table border=\"1\" class=\"dataframe\">\n",
              "  <thead>\n",
              "    <tr style=\"text-align: left;\">\n",
              "      <th>epoch</th>\n",
              "      <th>train_loss</th>\n",
              "      <th>train_accuracy</th>\n",
              "      <th>valid_loss</th>\n",
              "      <th>valid_accuracy</th>\n",
              "      <th>time</th>\n",
              "    </tr>\n",
              "  </thead>\n",
              "  <tbody>\n",
              "    <tr>\n",
              "      <td>0</td>\n",
              "      <td>3.468664</td>\n",
              "      <td>0.088496</td>\n",
              "      <td>3.460747</td>\n",
              "      <td>0.099585</td>\n",
              "      <td>00:41</td>\n",
              "    </tr>\n",
              "    <tr>\n",
              "      <td>1</td>\n",
              "      <td>3.268115</td>\n",
              "      <td>0.140243</td>\n",
              "      <td>4.135175</td>\n",
              "      <td>0.114799</td>\n",
              "      <td>00:41</td>\n",
              "    </tr>\n",
              "    <tr>\n",
              "      <td>2</td>\n",
              "      <td>3.039031</td>\n",
              "      <td>0.202640</td>\n",
              "      <td>3.542480</td>\n",
              "      <td>0.116183</td>\n",
              "      <td>00:41</td>\n",
              "    </tr>\n",
              "    <tr>\n",
              "      <td>3</td>\n",
              "      <td>2.742356</td>\n",
              "      <td>0.283336</td>\n",
              "      <td>2.937413</td>\n",
              "      <td>0.273859</td>\n",
              "      <td>00:41</td>\n",
              "    </tr>\n",
              "    <tr>\n",
              "      <td>4</td>\n",
              "      <td>2.409667</td>\n",
              "      <td>0.403480</td>\n",
              "      <td>2.529680</td>\n",
              "      <td>0.354080</td>\n",
              "      <td>00:41</td>\n",
              "    </tr>\n",
              "  </tbody>\n",
              "</table>"
            ],
            "text/plain": [
              "<IPython.core.display.HTML object>"
            ]
          },
          "metadata": {
            "tags": []
          }
        }
      ]
    },
    {
      "cell_type": "markdown",
      "metadata": {
        "id": "vGXLy2qu3O7O",
        "colab_type": "text"
      },
      "source": [
        "Custom head"
      ]
    },
    {
      "cell_type": "code",
      "metadata": {
        "id": "DFrC7v903ODJ",
        "colab_type": "code",
        "colab": {}
      },
      "source": [
        "learn = cnn_learner(xresnet18, data, loss_func, opt_func, c_out=10, norm=norm_imagenette)"
      ],
      "execution_count": 0,
      "outputs": []
    },
    {
      "cell_type": "code",
      "metadata": {
        "id": "5CNqcpUp3TU3",
        "colab_type": "code",
        "colab": {}
      },
      "source": [
        "st = torch.load(mdl_path/'iw5')"
      ],
      "execution_count": 0,
      "outputs": []
    },
    {
      "cell_type": "code",
      "metadata": {
        "id": "HjM3mgIJ3V6O",
        "colab_type": "code",
        "colab": {}
      },
      "source": [
        "m = learn.model"
      ],
      "execution_count": 0,
      "outputs": []
    },
    {
      "cell_type": "code",
      "metadata": {
        "id": "IBa48xUh3YW2",
        "colab_type": "code",
        "outputId": "5f6d9432-e89a-4414-f2df-424d0fe2aa79",
        "colab": {
          "base_uri": "https://localhost:8080/",
          "height": 35
        }
      },
      "source": [
        "m.load_state_dict(st)"
      ],
      "execution_count": 0,
      "outputs": [
        {
          "output_type": "execute_result",
          "data": {
            "text/plain": [
              "IncompatibleKeys(missing_keys=[], unexpected_keys=[])"
            ]
          },
          "metadata": {
            "tags": []
          },
          "execution_count": 43
        }
      ]
    },
    {
      "cell_type": "code",
      "metadata": {
        "id": "6XYxrTK03bwo",
        "colab_type": "code",
        "colab": {}
      },
      "source": [
        "cut = next(i for i,o in enumerate(m.children()) if isinstance(o,nn.AdaptiveAvgPool2d))\n",
        "m_cut = m[:cut]"
      ],
      "execution_count": 0,
      "outputs": []
    },
    {
      "cell_type": "code",
      "metadata": {
        "id": "kVkKwSKN3eTm",
        "colab_type": "code",
        "outputId": "b59e6909-2fcd-4875-9a95-5b56d58a39e6",
        "colab": {
          "base_uri": "https://localhost:8080/",
          "height": 49
        }
      },
      "source": [
        "xb,yb = get_batch(data.valid_dl, learn)"
      ],
      "execution_count": 0,
      "outputs": [
        {
          "output_type": "display_data",
          "data": {
            "text/html": [
              "<table border=\"1\" class=\"dataframe\">\n",
              "  <thead>\n",
              "    <tr style=\"text-align: left;\">\n",
              "      <th>epoch</th>\n",
              "      <th>train_loss</th>\n",
              "      <th>train_accuracy</th>\n",
              "      <th>valid_loss</th>\n",
              "      <th>valid_accuracy</th>\n",
              "      <th>time</th>\n",
              "    </tr>\n",
              "  </thead>\n",
              "  <tbody>\n",
              "  </tbody>\n",
              "</table>"
            ],
            "text/plain": [
              "<IPython.core.display.HTML object>"
            ]
          },
          "metadata": {
            "tags": []
          }
        }
      ]
    },
    {
      "cell_type": "code",
      "metadata": {
        "id": "fRU2MNXq40Mq",
        "colab_type": "code",
        "colab": {}
      },
      "source": [
        "pred = m_cut(xb)"
      ],
      "execution_count": 0,
      "outputs": []
    },
    {
      "cell_type": "code",
      "metadata": {
        "id": "yv2SaA0J42zL",
        "colab_type": "code",
        "outputId": "a5aca745-20f3-4c48-e10d-e7403b4fe699",
        "colab": {
          "base_uri": "https://localhost:8080/",
          "height": 35
        }
      },
      "source": [
        "pred.shape"
      ],
      "execution_count": 0,
      "outputs": [
        {
          "output_type": "execute_result",
          "data": {
            "text/plain": [
              "torch.Size([128, 512, 4, 4])"
            ]
          },
          "metadata": {
            "tags": []
          },
          "execution_count": 47
        }
      ]
    },
    {
      "cell_type": "code",
      "metadata": {
        "id": "HWBNZZ6H458O",
        "colab_type": "code",
        "colab": {}
      },
      "source": [
        "ni = pred.shape[1]"
      ],
      "execution_count": 0,
      "outputs": []
    },
    {
      "cell_type": "code",
      "metadata": {
        "id": "u-m145tQ48d8",
        "colab_type": "code",
        "colab": {}
      },
      "source": [
        "#export\n",
        "class AdaptiveConcatPool2d(nn.Module):\n",
        "    def __init__(self, sz=1):\n",
        "        super().__init__()\n",
        "        self.output_size = sz\n",
        "        self.ap = nn.AdaptiveAvgPool2d(sz)\n",
        "        self.mp = nn.AdaptiveMaxPool2d(sz)\n",
        "    def forward(self, x): return torch.cat([self.mp(x), self.ap(x)], 1)"
      ],
      "execution_count": 0,
      "outputs": []
    },
    {
      "cell_type": "code",
      "metadata": {
        "id": "LXVdMubZ4-2W",
        "colab_type": "code",
        "colab": {}
      },
      "source": [
        "nh = 40\n",
        "\n",
        "m_new = nn.Sequential(\n",
        "    m_cut, AdaptiveConcatPool2d(), Flatten(),\n",
        "    nn.Linear(ni*2, data.c_out))"
      ],
      "execution_count": 0,
      "outputs": []
    },
    {
      "cell_type": "code",
      "metadata": {
        "id": "6Klyo5k95Avu",
        "colab_type": "code",
        "colab": {}
      },
      "source": [
        "learn.model = m_new"
      ],
      "execution_count": 0,
      "outputs": []
    },
    {
      "cell_type": "code",
      "metadata": {
        "id": "RbcnxR7l5C18",
        "colab_type": "code",
        "outputId": "f34848ff-138a-470a-ae60-c8bd6b3cf4d8",
        "colab": {
          "base_uri": "https://localhost:8080/",
          "height": 206
        }
      },
      "source": [
        "learn.fit(5, cbsched)"
      ],
      "execution_count": 0,
      "outputs": [
        {
          "output_type": "display_data",
          "data": {
            "text/html": [
              "<table border=\"1\" class=\"dataframe\">\n",
              "  <thead>\n",
              "    <tr style=\"text-align: left;\">\n",
              "      <th>epoch</th>\n",
              "      <th>train_loss</th>\n",
              "      <th>train_accuracy</th>\n",
              "      <th>valid_loss</th>\n",
              "      <th>valid_accuracy</th>\n",
              "      <th>time</th>\n",
              "    </tr>\n",
              "  </thead>\n",
              "  <tbody>\n",
              "    <tr>\n",
              "      <td>0</td>\n",
              "      <td>2.908016</td>\n",
              "      <td>0.274036</td>\n",
              "      <td>2.210784</td>\n",
              "      <td>0.446750</td>\n",
              "      <td>00:43</td>\n",
              "    </tr>\n",
              "    <tr>\n",
              "      <td>1</td>\n",
              "      <td>1.963488</td>\n",
              "      <td>0.549423</td>\n",
              "      <td>2.067179</td>\n",
              "      <td>0.515906</td>\n",
              "      <td>00:43</td>\n",
              "    </tr>\n",
              "    <tr>\n",
              "      <td>2</td>\n",
              "      <td>1.727471</td>\n",
              "      <td>0.624419</td>\n",
              "      <td>1.916107</td>\n",
              "      <td>0.557400</td>\n",
              "      <td>00:43</td>\n",
              "    </tr>\n",
              "    <tr>\n",
              "      <td>3</td>\n",
              "      <td>1.479843</td>\n",
              "      <td>0.725514</td>\n",
              "      <td>1.564007</td>\n",
              "      <td>0.692946</td>\n",
              "      <td>00:42</td>\n",
              "    </tr>\n",
              "    <tr>\n",
              "      <td>4</td>\n",
              "      <td>1.298832</td>\n",
              "      <td>0.801110</td>\n",
              "      <td>1.491068</td>\n",
              "      <td>0.712310</td>\n",
              "      <td>00:42</td>\n",
              "    </tr>\n",
              "  </tbody>\n",
              "</table>"
            ],
            "text/plain": [
              "<IPython.core.display.HTML object>"
            ]
          },
          "metadata": {
            "tags": []
          }
        }
      ]
    },
    {
      "cell_type": "markdown",
      "metadata": {
        "id": "v2RY9_yE5tLd",
        "colab_type": "text"
      },
      "source": [
        "adapt_model and gradual unfreezing"
      ]
    },
    {
      "cell_type": "code",
      "metadata": {
        "id": "EJxGvJTq5Fh0",
        "colab_type": "code",
        "colab": {}
      },
      "source": [
        "def adapt_model(learn, data):\n",
        "    cut = next(i for i,o in enumerate(learn.model.children())\n",
        "               if isinstance(o,nn.AdaptiveAvgPool2d))\n",
        "    m_cut = learn.model[:cut]\n",
        "    xb,yb = get_batch(data.valid_dl, learn)\n",
        "    pred = m_cut(xb)\n",
        "    ni = pred.shape[1]\n",
        "    m_new = nn.Sequential(\n",
        "        m_cut, AdaptiveConcatPool2d(), Flatten(),\n",
        "        nn.Linear(ni*2, data.c_out))\n",
        "    learn.model = m_new"
      ],
      "execution_count": 0,
      "outputs": []
    },
    {
      "cell_type": "code",
      "metadata": {
        "id": "K76RSi-z5wyS",
        "colab_type": "code",
        "outputId": "d4e690d0-cdca-42d3-b336-09db94f0f440",
        "colab": {
          "base_uri": "https://localhost:8080/",
          "height": 35
        }
      },
      "source": [
        "learn = cnn_learner(xresnet18, data, loss_func, opt_func, c_out=10, norm=norm_imagenette)\n",
        "learn.model.load_state_dict(torch.load(mdl_path/'iw5'))"
      ],
      "execution_count": 0,
      "outputs": [
        {
          "output_type": "execute_result",
          "data": {
            "text/plain": [
              "IncompatibleKeys(missing_keys=[], unexpected_keys=[])"
            ]
          },
          "metadata": {
            "tags": []
          },
          "execution_count": 54
        }
      ]
    },
    {
      "cell_type": "code",
      "metadata": {
        "id": "-0dH_hFg5yoz",
        "colab_type": "code",
        "outputId": "ced62763-6861-4889-90b6-f51f7e1dc88b",
        "colab": {
          "base_uri": "https://localhost:8080/",
          "height": 49
        }
      },
      "source": [
        "adapt_model(learn, data)"
      ],
      "execution_count": 0,
      "outputs": [
        {
          "output_type": "display_data",
          "data": {
            "text/html": [
              "<table border=\"1\" class=\"dataframe\">\n",
              "  <thead>\n",
              "    <tr style=\"text-align: left;\">\n",
              "      <th>epoch</th>\n",
              "      <th>train_loss</th>\n",
              "      <th>train_accuracy</th>\n",
              "      <th>valid_loss</th>\n",
              "      <th>valid_accuracy</th>\n",
              "      <th>time</th>\n",
              "    </tr>\n",
              "  </thead>\n",
              "  <tbody>\n",
              "  </tbody>\n",
              "</table>"
            ],
            "text/plain": [
              "<IPython.core.display.HTML object>"
            ]
          },
          "metadata": {
            "tags": []
          }
        }
      ]
    },
    {
      "cell_type": "code",
      "metadata": {
        "id": "FbPN5f8KIga0",
        "colab_type": "code",
        "colab": {}
      },
      "source": [
        "for p in learn.model[0].parameters(): p.requires_grad_(False)"
      ],
      "execution_count": 0,
      "outputs": []
    },
    {
      "cell_type": "code",
      "metadata": {
        "id": "cfbZl2ThIjjM",
        "colab_type": "code",
        "outputId": "7d7c2fcb-07c9-47af-ec9e-cd24129b1efd",
        "colab": {
          "base_uri": "https://localhost:8080/",
          "height": 143
        }
      },
      "source": [
        "learn.fit(3, sched_1cycle(1e-2, 0.5))"
      ],
      "execution_count": 0,
      "outputs": [
        {
          "output_type": "display_data",
          "data": {
            "text/html": [
              "<table border=\"1\" class=\"dataframe\">\n",
              "  <thead>\n",
              "    <tr style=\"text-align: left;\">\n",
              "      <th>epoch</th>\n",
              "      <th>train_loss</th>\n",
              "      <th>train_accuracy</th>\n",
              "      <th>valid_loss</th>\n",
              "      <th>valid_accuracy</th>\n",
              "      <th>time</th>\n",
              "    </tr>\n",
              "  </thead>\n",
              "  <tbody>\n",
              "    <tr>\n",
              "      <td>0</td>\n",
              "      <td>2.781728</td>\n",
              "      <td>0.295935</td>\n",
              "      <td>2.395727</td>\n",
              "      <td>0.420470</td>\n",
              "      <td>00:38</td>\n",
              "    </tr>\n",
              "    <tr>\n",
              "      <td>1</td>\n",
              "      <td>2.379545</td>\n",
              "      <td>0.430178</td>\n",
              "      <td>2.333800</td>\n",
              "      <td>0.448133</td>\n",
              "      <td>00:38</td>\n",
              "    </tr>\n",
              "    <tr>\n",
              "      <td>2</td>\n",
              "      <td>2.019339</td>\n",
              "      <td>0.536523</td>\n",
              "      <td>2.103325</td>\n",
              "      <td>0.522822</td>\n",
              "      <td>00:38</td>\n",
              "    </tr>\n",
              "  </tbody>\n",
              "</table>"
            ],
            "text/plain": [
              "<IPython.core.display.HTML object>"
            ]
          },
          "metadata": {
            "tags": []
          }
        }
      ]
    },
    {
      "cell_type": "code",
      "metadata": {
        "id": "2KvRsIcoIllc",
        "colab_type": "code",
        "colab": {}
      },
      "source": [
        "for p in learn.model[0].parameters(): p.requires_grad_(True)"
      ],
      "execution_count": 0,
      "outputs": []
    },
    {
      "cell_type": "code",
      "metadata": {
        "id": "wx1yW-EYJFIp",
        "colab_type": "code",
        "outputId": "b29ae426-68d1-4a92-a2b8-0ace344e97a6",
        "colab": {
          "base_uri": "https://localhost:8080/",
          "height": 206
        }
      },
      "source": [
        "learn.fit(5, cbsched, reset_opt=True)"
      ],
      "execution_count": 0,
      "outputs": [
        {
          "output_type": "display_data",
          "data": {
            "text/html": [
              "<table border=\"1\" class=\"dataframe\">\n",
              "  <thead>\n",
              "    <tr style=\"text-align: left;\">\n",
              "      <th>epoch</th>\n",
              "      <th>train_loss</th>\n",
              "      <th>train_accuracy</th>\n",
              "      <th>valid_loss</th>\n",
              "      <th>valid_accuracy</th>\n",
              "      <th>time</th>\n",
              "    </tr>\n",
              "  </thead>\n",
              "  <tbody>\n",
              "    <tr>\n",
              "      <td>0</td>\n",
              "      <td>1.843378</td>\n",
              "      <td>0.599520</td>\n",
              "      <td>1.983186</td>\n",
              "      <td>0.550484</td>\n",
              "      <td>00:42</td>\n",
              "    </tr>\n",
              "    <tr>\n",
              "      <td>1</td>\n",
              "      <td>1.740428</td>\n",
              "      <td>0.636418</td>\n",
              "      <td>1.928875</td>\n",
              "      <td>0.556017</td>\n",
              "      <td>00:41</td>\n",
              "    </tr>\n",
              "    <tr>\n",
              "      <td>2</td>\n",
              "      <td>1.640212</td>\n",
              "      <td>0.670766</td>\n",
              "      <td>1.810069</td>\n",
              "      <td>0.612725</td>\n",
              "      <td>00:41</td>\n",
              "    </tr>\n",
              "    <tr>\n",
              "      <td>3</td>\n",
              "      <td>1.465630</td>\n",
              "      <td>0.744263</td>\n",
              "      <td>1.658422</td>\n",
              "      <td>0.651452</td>\n",
              "      <td>00:41</td>\n",
              "    </tr>\n",
              "    <tr>\n",
              "      <td>4</td>\n",
              "      <td>1.275518</td>\n",
              "      <td>0.815659</td>\n",
              "      <td>1.556656</td>\n",
              "      <td>0.690180</td>\n",
              "      <td>00:42</td>\n",
              "    </tr>\n",
              "  </tbody>\n",
              "</table>"
            ],
            "text/plain": [
              "<IPython.core.display.HTML object>"
            ]
          },
          "metadata": {
            "tags": []
          }
        }
      ]
    },
    {
      "cell_type": "markdown",
      "metadata": {
        "id": "5-vbuCNoJ_1f",
        "colab_type": "text"
      },
      "source": [
        "Batch norm transfer"
      ]
    },
    {
      "cell_type": "code",
      "metadata": {
        "id": "16GcqNspJHNc",
        "colab_type": "code",
        "outputId": "cc2f1fc7-d0fc-4fd5-dfc7-07af9e7917b9",
        "colab": {
          "base_uri": "https://localhost:8080/",
          "height": 49
        }
      },
      "source": [
        "learn = cnn_learner(xresnet18, data, loss_func, opt_func, c_out=10, norm=norm_imagenette)\n",
        "learn.model.load_state_dict(torch.load(mdl_path/'iw5'))\n",
        "adapt_model(learn, data)"
      ],
      "execution_count": 0,
      "outputs": [
        {
          "output_type": "display_data",
          "data": {
            "text/html": [
              "<table border=\"1\" class=\"dataframe\">\n",
              "  <thead>\n",
              "    <tr style=\"text-align: left;\">\n",
              "      <th>epoch</th>\n",
              "      <th>train_loss</th>\n",
              "      <th>train_accuracy</th>\n",
              "      <th>valid_loss</th>\n",
              "      <th>valid_accuracy</th>\n",
              "      <th>time</th>\n",
              "    </tr>\n",
              "  </thead>\n",
              "  <tbody>\n",
              "  </tbody>\n",
              "</table>"
            ],
            "text/plain": [
              "<IPython.core.display.HTML object>"
            ]
          },
          "metadata": {
            "tags": []
          }
        }
      ]
    },
    {
      "cell_type": "code",
      "metadata": {
        "id": "pcQAstRrKB9n",
        "colab_type": "code",
        "colab": {}
      },
      "source": [
        "def apply_mod(m, f):\n",
        "    f(m)\n",
        "    for l in m.children(): apply_mod(l, f)\n",
        "\n",
        "def set_grad(m, b):\n",
        "    if isinstance(m, (nn.Linear,nn.BatchNorm2d)): return\n",
        "    if hasattr(m, 'weight'):\n",
        "        for p in m.parameters(): p.requires_grad_(b)"
      ],
      "execution_count": 0,
      "outputs": []
    },
    {
      "cell_type": "code",
      "metadata": {
        "id": "w56DuO_ZKEwB",
        "colab_type": "code",
        "colab": {}
      },
      "source": [
        "apply_mod(learn.model, partial(set_grad, b=False))"
      ],
      "execution_count": 0,
      "outputs": []
    },
    {
      "cell_type": "code",
      "metadata": {
        "id": "wBS-Ae50KI4B",
        "colab_type": "code",
        "outputId": "4cdea8e0-faaf-4b44-f5f2-b58dd1c62155",
        "colab": {
          "base_uri": "https://localhost:8080/",
          "height": 143
        }
      },
      "source": [
        "learn.fit(3, sched_1cycle(1e-2, 0.5))"
      ],
      "execution_count": 0,
      "outputs": [
        {
          "output_type": "display_data",
          "data": {
            "text/html": [
              "<table border=\"1\" class=\"dataframe\">\n",
              "  <thead>\n",
              "    <tr style=\"text-align: left;\">\n",
              "      <th>epoch</th>\n",
              "      <th>train_loss</th>\n",
              "      <th>train_accuracy</th>\n",
              "      <th>valid_loss</th>\n",
              "      <th>valid_accuracy</th>\n",
              "      <th>time</th>\n",
              "    </tr>\n",
              "  </thead>\n",
              "  <tbody>\n",
              "    <tr>\n",
              "      <td>0</td>\n",
              "      <td>2.651133</td>\n",
              "      <td>0.328634</td>\n",
              "      <td>2.285615</td>\n",
              "      <td>0.437068</td>\n",
              "      <td>00:40</td>\n",
              "    </tr>\n",
              "    <tr>\n",
              "      <td>1</td>\n",
              "      <td>2.048548</td>\n",
              "      <td>0.520324</td>\n",
              "      <td>2.117810</td>\n",
              "      <td>0.500692</td>\n",
              "      <td>00:41</td>\n",
              "    </tr>\n",
              "    <tr>\n",
              "      <td>2</td>\n",
              "      <td>1.816630</td>\n",
              "      <td>0.604170</td>\n",
              "      <td>1.870621</td>\n",
              "      <td>0.578147</td>\n",
              "      <td>00:41</td>\n",
              "    </tr>\n",
              "  </tbody>\n",
              "</table>"
            ],
            "text/plain": [
              "<IPython.core.display.HTML object>"
            ]
          },
          "metadata": {
            "tags": []
          }
        }
      ]
    },
    {
      "cell_type": "code",
      "metadata": {
        "id": "MIEZaznhKKSv",
        "colab_type": "code",
        "colab": {}
      },
      "source": [
        "apply_mod(learn.model, partial(set_grad, b=True))"
      ],
      "execution_count": 0,
      "outputs": []
    },
    {
      "cell_type": "code",
      "metadata": {
        "id": "bAeOQ4HuKM73",
        "colab_type": "code",
        "outputId": "ab5b8d88-daa4-4e50-8951-da3d2a62b1f2",
        "colab": {
          "base_uri": "https://localhost:8080/",
          "height": 206
        }
      },
      "source": [
        "learn.fit(5, cbsched, reset_opt=True)"
      ],
      "execution_count": 0,
      "outputs": [
        {
          "output_type": "display_data",
          "data": {
            "text/html": [
              "<table border=\"1\" class=\"dataframe\">\n",
              "  <thead>\n",
              "    <tr style=\"text-align: left;\">\n",
              "      <th>epoch</th>\n",
              "      <th>train_loss</th>\n",
              "      <th>train_accuracy</th>\n",
              "      <th>valid_loss</th>\n",
              "      <th>valid_accuracy</th>\n",
              "      <th>time</th>\n",
              "    </tr>\n",
              "  </thead>\n",
              "  <tbody>\n",
              "    <tr>\n",
              "      <td>0</td>\n",
              "      <td>1.702141</td>\n",
              "      <td>0.652167</td>\n",
              "      <td>1.845060</td>\n",
              "      <td>0.598894</td>\n",
              "      <td>00:42</td>\n",
              "    </tr>\n",
              "    <tr>\n",
              "      <td>1</td>\n",
              "      <td>1.660370</td>\n",
              "      <td>0.667767</td>\n",
              "      <td>1.827351</td>\n",
              "      <td>0.578147</td>\n",
              "      <td>00:41</td>\n",
              "    </tr>\n",
              "    <tr>\n",
              "      <td>2</td>\n",
              "      <td>1.589956</td>\n",
              "      <td>0.687566</td>\n",
              "      <td>1.855688</td>\n",
              "      <td>0.597510</td>\n",
              "      <td>00:42</td>\n",
              "    </tr>\n",
              "    <tr>\n",
              "      <td>3</td>\n",
              "      <td>1.424469</td>\n",
              "      <td>0.747263</td>\n",
              "      <td>1.581046</td>\n",
              "      <td>0.692946</td>\n",
              "      <td>00:43</td>\n",
              "    </tr>\n",
              "    <tr>\n",
              "      <td>4</td>\n",
              "      <td>1.266691</td>\n",
              "      <td>0.821509</td>\n",
              "      <td>1.524528</td>\n",
              "      <td>0.694329</td>\n",
              "      <td>00:43</td>\n",
              "    </tr>\n",
              "  </tbody>\n",
              "</table>"
            ],
            "text/plain": [
              "<IPython.core.display.HTML object>"
            ]
          },
          "metadata": {
            "tags": []
          }
        }
      ]
    },
    {
      "cell_type": "markdown",
      "metadata": {
        "id": "4d_mTzwTKOov",
        "colab_type": "text"
      },
      "source": [
        "Pytorch already has an apply method we can use:"
      ]
    },
    {
      "cell_type": "code",
      "metadata": {
        "id": "Pi__c-wxKQqe",
        "colab_type": "code",
        "colab": {}
      },
      "source": [
        "learn.model.apply(partial(set_grad, b=False));"
      ],
      "execution_count": 0,
      "outputs": []
    },
    {
      "cell_type": "markdown",
      "metadata": {
        "id": "pHfbfvJ0KSfU",
        "colab_type": "text"
      },
      "source": [
        "Discriminative LR and param groups"
      ]
    },
    {
      "cell_type": "code",
      "metadata": {
        "id": "u02JDd_KKVnQ",
        "colab_type": "code",
        "colab": {}
      },
      "source": [
        "learn = cnn_learner(xresnet18, data, loss_func, opt_func, c_out=10, norm=norm_imagenette)"
      ],
      "execution_count": 0,
      "outputs": []
    },
    {
      "cell_type": "code",
      "metadata": {
        "id": "zRCLN8nILtQM",
        "colab_type": "code",
        "outputId": "863b0545-7ba7-46ed-b436-31faf6f5a2f2",
        "colab": {
          "base_uri": "https://localhost:8080/",
          "height": 49
        }
      },
      "source": [
        "learn.model.load_state_dict(torch.load(mdl_path/'iw5'))\n",
        "adapt_model(learn, data)"
      ],
      "execution_count": 0,
      "outputs": [
        {
          "output_type": "display_data",
          "data": {
            "text/html": [
              "<table border=\"1\" class=\"dataframe\">\n",
              "  <thead>\n",
              "    <tr style=\"text-align: left;\">\n",
              "      <th>epoch</th>\n",
              "      <th>train_loss</th>\n",
              "      <th>train_accuracy</th>\n",
              "      <th>valid_loss</th>\n",
              "      <th>valid_accuracy</th>\n",
              "      <th>time</th>\n",
              "    </tr>\n",
              "  </thead>\n",
              "  <tbody>\n",
              "  </tbody>\n",
              "</table>"
            ],
            "text/plain": [
              "<IPython.core.display.HTML object>"
            ]
          },
          "metadata": {
            "tags": []
          }
        }
      ]
    },
    {
      "cell_type": "code",
      "metadata": {
        "id": "_jHT-fUeLu2r",
        "colab_type": "code",
        "colab": {}
      },
      "source": [
        "def bn_splitter(m):\n",
        "    def _bn_splitter(l, g1, g2):\n",
        "        if isinstance(l, nn.BatchNorm2d): g2 += l.parameters()\n",
        "        elif hasattr(l, 'weight'): g1 += l.parameters()\n",
        "        for ll in l.children(): _bn_splitter(ll, g1, g2)\n",
        "        \n",
        "    g1,g2 = [],[]\n",
        "    _bn_splitter(m[0], g1, g2)\n",
        "    \n",
        "    g2 += m[1:].parameters()\n",
        "    return g1,g2"
      ],
      "execution_count": 0,
      "outputs": []
    },
    {
      "cell_type": "code",
      "metadata": {
        "id": "8xloOkCJLxKw",
        "colab_type": "code",
        "colab": {}
      },
      "source": [
        "a,b = bn_splitter(learn.model)"
      ],
      "execution_count": 0,
      "outputs": []
    },
    {
      "cell_type": "code",
      "metadata": {
        "id": "uDzP5C6BLyqh",
        "colab_type": "code",
        "colab": {}
      },
      "source": [
        "test_eq(len(a)+len(b), len(list(m.parameters())))"
      ],
      "execution_count": 0,
      "outputs": []
    },
    {
      "cell_type": "code",
      "metadata": {
        "id": "F9R5eXk8L0kK",
        "colab_type": "code",
        "colab": {}
      },
      "source": [
        "#export\n",
        "from types import SimpleNamespace\n",
        "cb_types = SimpleNamespace(**{o:o for o in Learner.ALL_CBS})"
      ],
      "execution_count": 0,
      "outputs": []
    },
    {
      "cell_type": "code",
      "metadata": {
        "id": "Ww46iwMNL2cU",
        "colab_type": "code",
        "outputId": "d6a02006-1853-442f-d0e5-d72e037184e6",
        "colab": {
          "base_uri": "https://localhost:8080/",
          "height": 35
        }
      },
      "source": [
        "cb_types.after_backward"
      ],
      "execution_count": 0,
      "outputs": [
        {
          "output_type": "execute_result",
          "data": {
            "text/plain": [
              "'after_backward'"
            ]
          },
          "metadata": {
            "tags": []
          },
          "execution_count": 73
        }
      ]
    },
    {
      "cell_type": "code",
      "metadata": {
        "id": "851ioZuxL37K",
        "colab_type": "code",
        "colab": {}
      },
      "source": [
        "#export\n",
        "class DebugCallback(Callback):\n",
        "    _order = 999\n",
        "    def __init__(self, cb_name, f=None): self.cb_name,self.f = cb_name,f\n",
        "    def __call__(self, cb_name):\n",
        "        if cb_name==self.cb_name:\n",
        "            if self.f: self.f(self.run)\n",
        "            else:      set_trace()"
      ],
      "execution_count": 0,
      "outputs": []
    },
    {
      "cell_type": "code",
      "metadata": {
        "id": "YHegb_P9L5lr",
        "colab_type": "code",
        "colab": {}
      },
      "source": [
        "#export\n",
        "def sched_1cycle(lrs, pct_start=0.3, mom_start=0.95, mom_mid=0.85, mom_end=0.95):\n",
        "    phases = create_phases(pct_start)\n",
        "    sched_lr  = [combine_scheds(phases, cos_1cycle_anneal(lr/10., lr, lr/1e5))\n",
        "                 for lr in lrs]\n",
        "    sched_mom = combine_scheds(phases, cos_1cycle_anneal(mom_start, mom_mid, mom_end))\n",
        "    return [ParamScheduler('lr', sched_lr),\n",
        "            ParamScheduler('mom', sched_mom)]"
      ],
      "execution_count": 0,
      "outputs": []
    },
    {
      "cell_type": "code",
      "metadata": {
        "id": "bwyvA-yRL71c",
        "colab_type": "code",
        "colab": {}
      },
      "source": [
        "disc_lr_sched = sched_1cycle([0,3e-2], 0.5)"
      ],
      "execution_count": 0,
      "outputs": []
    },
    {
      "cell_type": "code",
      "metadata": {
        "id": "BrPYbVYrL9hI",
        "colab_type": "code",
        "outputId": "7a015ec6-5c5a-425c-cf39-af7b497c3574",
        "colab": {
          "base_uri": "https://localhost:8080/",
          "height": 49
        }
      },
      "source": [
        "learn = cnn_learner(xresnet18, data, loss_func, opt_func,\n",
        "                    c_out=10, norm=norm_imagenette, splitter=bn_splitter)\n",
        "\n",
        "learn.model.load_state_dict(torch.load(mdl_path/'iw5'))\n",
        "adapt_model(learn, data)"
      ],
      "execution_count": 0,
      "outputs": [
        {
          "output_type": "display_data",
          "data": {
            "text/html": [
              "<table border=\"1\" class=\"dataframe\">\n",
              "  <thead>\n",
              "    <tr style=\"text-align: left;\">\n",
              "      <th>epoch</th>\n",
              "      <th>train_loss</th>\n",
              "      <th>train_accuracy</th>\n",
              "      <th>valid_loss</th>\n",
              "      <th>valid_accuracy</th>\n",
              "      <th>time</th>\n",
              "    </tr>\n",
              "  </thead>\n",
              "  <tbody>\n",
              "  </tbody>\n",
              "</table>"
            ],
            "text/plain": [
              "<IPython.core.display.HTML object>"
            ]
          },
          "metadata": {
            "tags": []
          }
        }
      ]
    },
    {
      "cell_type": "code",
      "metadata": {
        "id": "dQ3Rt3wTL_St",
        "colab_type": "code",
        "outputId": "b740b272-e59b-48c3-df6f-db2cb883f274",
        "colab": {
          "base_uri": "https://localhost:8080/",
          "height": 87
        }
      },
      "source": [
        "def _print_det(o): \n",
        "    print (len(o.opt.param_groups), o.opt.hypers)\n",
        "    raise CancelTrainException()\n",
        "\n",
        "learn.fit(1, disc_lr_sched + [DebugCallback(cb_types.after_batch, _print_det)])"
      ],
      "execution_count": 0,
      "outputs": [
        {
          "output_type": "display_data",
          "data": {
            "text/html": [
              "<table border=\"1\" class=\"dataframe\">\n",
              "  <thead>\n",
              "    <tr style=\"text-align: left;\">\n",
              "      <th>epoch</th>\n",
              "      <th>train_loss</th>\n",
              "      <th>train_accuracy</th>\n",
              "      <th>valid_loss</th>\n",
              "      <th>valid_accuracy</th>\n",
              "      <th>time</th>\n",
              "    </tr>\n",
              "  </thead>\n",
              "  <tbody>\n",
              "  </tbody>\n",
              "</table>"
            ],
            "text/plain": [
              "<IPython.core.display.HTML object>"
            ]
          },
          "metadata": {
            "tags": []
          }
        },
        {
          "output_type": "stream",
          "text": [
            "2 [{'mom': 0.9499999999999997, 'mom_sqr': 0.99, 'eps': 1e-06, 'wd': 0.01, 'lr': 0.0, 'sqr_mom': 0.99}, {'mom': 0.9499999999999997, 'mom_sqr': 0.99, 'eps': 1e-06, 'wd': 0.01, 'lr': 0.0030000000000000512, 'sqr_mom': 0.99}]\n"
          ],
          "name": "stdout"
        }
      ]
    },
    {
      "cell_type": "code",
      "metadata": {
        "id": "A_-RD5vIMCGm",
        "colab_type": "code",
        "outputId": "1afe5b8a-c239-4ed0-f7c4-6f3e0e21dad5",
        "colab": {
          "base_uri": "https://localhost:8080/",
          "height": 143
        }
      },
      "source": [
        "learn.fit(3, disc_lr_sched)"
      ],
      "execution_count": 0,
      "outputs": [
        {
          "output_type": "display_data",
          "data": {
            "text/html": [
              "<table border=\"1\" class=\"dataframe\">\n",
              "  <thead>\n",
              "    <tr style=\"text-align: left;\">\n",
              "      <th>epoch</th>\n",
              "      <th>train_loss</th>\n",
              "      <th>train_accuracy</th>\n",
              "      <th>valid_loss</th>\n",
              "      <th>valid_accuracy</th>\n",
              "      <th>time</th>\n",
              "    </tr>\n",
              "  </thead>\n",
              "  <tbody>\n",
              "    <tr>\n",
              "      <td>0</td>\n",
              "      <td>2.498148</td>\n",
              "      <td>0.376181</td>\n",
              "      <td>2.286370</td>\n",
              "      <td>0.439834</td>\n",
              "      <td>00:42</td>\n",
              "    </tr>\n",
              "    <tr>\n",
              "      <td>1</td>\n",
              "      <td>2.201760</td>\n",
              "      <td>0.471276</td>\n",
              "      <td>2.231653</td>\n",
              "      <td>0.438451</td>\n",
              "      <td>00:42</td>\n",
              "    </tr>\n",
              "    <tr>\n",
              "      <td>2</td>\n",
              "      <td>1.925105</td>\n",
              "      <td>0.566372</td>\n",
              "      <td>1.923331</td>\n",
              "      <td>0.561549</td>\n",
              "      <td>00:43</td>\n",
              "    </tr>\n",
              "  </tbody>\n",
              "</table>"
            ],
            "text/plain": [
              "<IPython.core.display.HTML object>"
            ]
          },
          "metadata": {
            "tags": []
          }
        }
      ]
    },
    {
      "cell_type": "code",
      "metadata": {
        "id": "dN9tcIq8MFA-",
        "colab_type": "code",
        "colab": {}
      },
      "source": [
        "disc_lr_sched = sched_1cycle([1e-3,1e-2], 0.3)"
      ],
      "execution_count": 0,
      "outputs": []
    },
    {
      "cell_type": "code",
      "metadata": {
        "id": "_shGWqJsMHZ1",
        "colab_type": "code",
        "outputId": "9399ee87-a867-4138-ae16-fece270f0f49",
        "colab": {
          "base_uri": "https://localhost:8080/",
          "height": 206
        }
      },
      "source": [
        "learn.fit(5, disc_lr_sched)"
      ],
      "execution_count": 0,
      "outputs": [
        {
          "output_type": "display_data",
          "data": {
            "text/html": [
              "<table border=\"1\" class=\"dataframe\">\n",
              "  <thead>\n",
              "    <tr style=\"text-align: left;\">\n",
              "      <th>epoch</th>\n",
              "      <th>train_loss</th>\n",
              "      <th>train_accuracy</th>\n",
              "      <th>valid_loss</th>\n",
              "      <th>valid_accuracy</th>\n",
              "      <th>time</th>\n",
              "    </tr>\n",
              "  </thead>\n",
              "  <tbody>\n",
              "    <tr>\n",
              "      <td>0</td>\n",
              "      <td>1.772800</td>\n",
              "      <td>0.624569</td>\n",
              "      <td>2.000865</td>\n",
              "      <td>0.535270</td>\n",
              "      <td>00:42</td>\n",
              "    </tr>\n",
              "    <tr>\n",
              "      <td>1</td>\n",
              "      <td>1.797345</td>\n",
              "      <td>0.605070</td>\n",
              "      <td>1.926381</td>\n",
              "      <td>0.558783</td>\n",
              "      <td>00:43</td>\n",
              "    </tr>\n",
              "    <tr>\n",
              "      <td>2</td>\n",
              "      <td>1.667963</td>\n",
              "      <td>0.655017</td>\n",
              "      <td>1.796210</td>\n",
              "      <td>0.614108</td>\n",
              "      <td>00:43</td>\n",
              "    </tr>\n",
              "    <tr>\n",
              "      <td>3</td>\n",
              "      <td>1.519491</td>\n",
              "      <td>0.711564</td>\n",
              "      <td>1.711256</td>\n",
              "      <td>0.630705</td>\n",
              "      <td>00:43</td>\n",
              "    </tr>\n",
              "    <tr>\n",
              "      <td>4</td>\n",
              "      <td>1.405331</td>\n",
              "      <td>0.752062</td>\n",
              "      <td>1.655521</td>\n",
              "      <td>0.655602</td>\n",
              "      <td>00:43</td>\n",
              "    </tr>\n",
              "  </tbody>\n",
              "</table>"
            ],
            "text/plain": [
              "<IPython.core.display.HTML object>"
            ]
          },
          "metadata": {
            "tags": []
          }
        }
      ]
    },
    {
      "cell_type": "markdown",
      "metadata": {
        "id": "NGy3JuwoMJB7",
        "colab_type": "text"
      },
      "source": [
        "Export"
      ]
    },
    {
      "cell_type": "code",
      "metadata": {
        "id": "SEDbW_RfMLAh",
        "colab_type": "code",
        "outputId": "7c6f5a4d-ed6d-4c25-d32d-26495e2b1384",
        "colab": {
          "base_uri": "https://localhost:8080/",
          "height": 35
        }
      },
      "source": [
        "!python notebook2script.py 11a_transfer_learning.ipynb"
      ],
      "execution_count": 0,
      "outputs": [
        {
          "output_type": "stream",
          "text": [
            "Converted 11a_transfer_learning.ipynb to exp/nb_11a.py\n"
          ],
          "name": "stdout"
        }
      ]
    }
  ]
}