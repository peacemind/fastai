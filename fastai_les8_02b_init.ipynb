{
  "nbformat": 4,
  "nbformat_minor": 0,
  "metadata": {
    "colab": {
      "name": "fastai-les8-02b-init.ipynb",
      "provenance": [],
      "collapsed_sections": []
    },
    "kernelspec": {
      "name": "python3",
      "display_name": "Python 3"
    },
    "accelerator": "GPU"
  },
  "cells": [
    {
      "cell_type": "code",
      "metadata": {
        "id": "eZtjg_yMVwoL",
        "colab_type": "code",
        "outputId": "975f9ecc-42dd-4ad7-f86f-9ddd815fb93e",
        "colab": {
          "base_uri": "https://localhost:8080/",
          "height": 93
        }
      },
      "source": [
        "!pip install fire"
      ],
      "execution_count": 0,
      "outputs": [
        {
          "output_type": "stream",
          "text": [
            "Requirement already satisfied: fire in /usr/local/lib/python3.6/dist-packages (0.2.0)\n",
            "Requirement already satisfied: termcolor in /usr/local/lib/python3.6/dist-packages (from fire) (1.1.0)\n",
            "Requirement already satisfied: six in /usr/local/lib/python3.6/dist-packages (from fire) (1.12.0)\n"
          ],
          "name": "stdout"
        }
      ]
    },
    {
      "cell_type": "code",
      "metadata": {
        "id": "LfiEzooUWLFc",
        "colab_type": "code",
        "outputId": "9b820065-de52-4636-a21c-f9cd4756fb15",
        "colab": {
          "base_uri": "https://localhost:8080/",
          "height": 36
        }
      },
      "source": [
        "from google.colab import drive\n",
        "drive.mount('/content/gdrive', force_remount=True)\n",
        "root_dir = \"/content/gdrive/My Drive/\"\n",
        "base_dir = root_dir + 'fastai-v2/les8'"
      ],
      "execution_count": 0,
      "outputs": [
        {
          "output_type": "stream",
          "text": [
            "Mounted at /content/gdrive\n"
          ],
          "name": "stdout"
        }
      ]
    },
    {
      "cell_type": "code",
      "metadata": {
        "id": "RvlrT25AWnpF",
        "colab_type": "code",
        "outputId": "d778066b-f943-43bb-bb53-140a77e1ffe7",
        "colab": {
          "base_uri": "https://localhost:8080/",
          "height": 36
        }
      },
      "source": [
        "cd /content/gdrive/My\\ Drive/fastai-v3/les8"
      ],
      "execution_count": 0,
      "outputs": [
        {
          "output_type": "stream",
          "text": [
            "/content/gdrive/My Drive/fastai-v3/les8\n"
          ],
          "name": "stdout"
        }
      ]
    },
    {
      "cell_type": "code",
      "metadata": {
        "id": "rs1j5pWtWuWR",
        "colab_type": "code",
        "outputId": "3daf20a2-e2b5-41ad-9d8f-deb48e6019d2",
        "colab": {
          "base_uri": "https://localhost:8080/",
          "height": 36
        }
      },
      "source": [
        "pwd"
      ],
      "execution_count": 0,
      "outputs": [
        {
          "output_type": "execute_result",
          "data": {
            "text/plain": [
              "'/content/gdrive/My Drive/fastai-v3/les8'"
            ]
          },
          "metadata": {
            "tags": []
          },
          "execution_count": 4
        }
      ]
    },
    {
      "cell_type": "code",
      "metadata": {
        "id": "nK_-kS_4Ww6s",
        "colab_type": "code",
        "colab": {}
      },
      "source": [
        "import torch"
      ],
      "execution_count": 0,
      "outputs": []
    },
    {
      "cell_type": "markdown",
      "metadata": {
        "id": "evyKvpRmXCka",
        "colab_type": "text"
      },
      "source": [
        "\n",
        "Why you need a good init\n",
        "\n",
        "To understand why initialization is important in a neural net, we'll focus on the basic operation you have there: matrix multiplications. So let's just take a vector x, and a matrix a initiliazed randomly, then multiply them 100 times (as if we had 100 layers).\n"
      ]
    },
    {
      "cell_type": "code",
      "metadata": {
        "id": "80dfSqOIXExF",
        "colab_type": "code",
        "colab": {}
      },
      "source": [
        "x = torch.randn(512)\n",
        "a = torch.randn(512,512)"
      ],
      "execution_count": 0,
      "outputs": []
    },
    {
      "cell_type": "code",
      "metadata": {
        "id": "Tmg4i2_2XLEr",
        "colab_type": "code",
        "colab": {}
      },
      "source": [
        "for i in range(100): x = a @ x"
      ],
      "execution_count": 0,
      "outputs": []
    },
    {
      "cell_type": "code",
      "metadata": {
        "id": "kd1mWTWjXYVI",
        "colab_type": "code",
        "outputId": "feb30fce-b91a-4b01-b2ad-d13208c42eea",
        "colab": {
          "base_uri": "https://localhost:8080/",
          "height": 36
        }
      },
      "source": [
        "x.mean(),x.std()"
      ],
      "execution_count": 0,
      "outputs": [
        {
          "output_type": "execute_result",
          "data": {
            "text/plain": [
              "(tensor(nan), tensor(nan))"
            ]
          },
          "metadata": {
            "tags": []
          },
          "execution_count": 9
        }
      ]
    },
    {
      "cell_type": "markdown",
      "metadata": {
        "id": "y3j4qhL4XcTU",
        "colab_type": "text"
      },
      "source": [
        "The problem you'll get with that is activation explosion: very soon, your activations will go to nan. We can even ask the loop to break when that first happens:"
      ]
    },
    {
      "cell_type": "code",
      "metadata": {
        "id": "0qP1juklXedb",
        "colab_type": "code",
        "colab": {}
      },
      "source": [
        "x = torch.randn(512)\n",
        "a = torch.randn(512,512)"
      ],
      "execution_count": 0,
      "outputs": []
    },
    {
      "cell_type": "code",
      "metadata": {
        "id": "Bj7TjEmvXq0h",
        "colab_type": "code",
        "colab": {}
      },
      "source": [
        "for i in range(100):\n",
        "  x = a @ x\n",
        "  if x.std() != x.std(): break"
      ],
      "execution_count": 0,
      "outputs": []
    },
    {
      "cell_type": "code",
      "metadata": {
        "id": "MzkpVD7HX1nO",
        "colab_type": "code",
        "outputId": "c727bc07-07b4-4dc6-fddc-07e332ddce97",
        "colab": {
          "base_uri": "https://localhost:8080/",
          "height": 36
        }
      },
      "source": [
        "i"
      ],
      "execution_count": 0,
      "outputs": [
        {
          "output_type": "execute_result",
          "data": {
            "text/plain": [
              "28"
            ]
          },
          "metadata": {
            "tags": []
          },
          "execution_count": 12
        }
      ]
    },
    {
      "cell_type": "markdown",
      "metadata": {
        "id": "w-xt3xUQX61U",
        "colab_type": "text"
      },
      "source": [
        "It only takes 27 multiplications! On the other hand, if you initialize your activations with a scale that is too low, then you'll get another problem:"
      ]
    },
    {
      "cell_type": "code",
      "metadata": {
        "id": "pxBbDcMmX3Mh",
        "colab_type": "code",
        "colab": {}
      },
      "source": [
        "x = torch.randn(512)\n",
        "a = torch.randn(512,512) * 0.01"
      ],
      "execution_count": 0,
      "outputs": []
    },
    {
      "cell_type": "code",
      "metadata": {
        "id": "_OnBj-APYSF1",
        "colab_type": "code",
        "colab": {}
      },
      "source": [
        "for i in range(100): x = a @ x"
      ],
      "execution_count": 0,
      "outputs": []
    },
    {
      "cell_type": "code",
      "metadata": {
        "id": "8iudhiNtYVff",
        "colab_type": "code",
        "outputId": "ef4f9bf7-f139-4786-b4e6-0d5555125518",
        "colab": {
          "base_uri": "https://localhost:8080/",
          "height": 36
        }
      },
      "source": [
        "x.mean(),x.std()"
      ],
      "execution_count": 0,
      "outputs": [
        {
          "output_type": "execute_result",
          "data": {
            "text/plain": [
              "(tensor(0.), tensor(0.))"
            ]
          },
          "metadata": {
            "tags": []
          },
          "execution_count": 15
        }
      ]
    },
    {
      "cell_type": "markdown",
      "metadata": {
        "id": "OzdoiqibYaSZ",
        "colab_type": "text"
      },
      "source": [
        "\n",
        "\n",
        "Here, every activation vanished to 0. So to avoid that problem, people have come with several strategies to initialize their weight matices, such as:\n",
        "\n",
        "    use a standard deviation that will make sure x and Ax have exactly the same scale\n",
        "    use an orthogonal matrix to initialize the weight (orthogonal matrices have the special property that they preserve the L2 norm, so x and Ax would have the same sum of squares in that case)\n",
        "    use spectral normalization on the matrix A (the spectral norm of A is the least possible number M such that torch.norm(A@x) <= M*torch.norm(x) so dividing A by this M insures you don't overflow. You can still vanish with this)\n",
        "\n",
        "The magic number for scaling\n",
        "\n",
        "Here we will focus on the first one, which is the Xavier initialization. It tells us that we should use a scale equal to 1/math.sqrt(n_in) where n_in is the number of inputs of our matrix.\n"
      ]
    },
    {
      "cell_type": "code",
      "metadata": {
        "id": "vTFU8eYAYc7w",
        "colab_type": "code",
        "colab": {}
      },
      "source": [
        "import math"
      ],
      "execution_count": 0,
      "outputs": []
    },
    {
      "cell_type": "code",
      "metadata": {
        "id": "IPvAJmAsZ39b",
        "colab_type": "code",
        "colab": {}
      },
      "source": [
        "x = torch.randn(512)\n",
        "a = torch.randn(512,512) / math.sqrt(512)"
      ],
      "execution_count": 0,
      "outputs": []
    },
    {
      "cell_type": "code",
      "metadata": {
        "id": "gUz0TIVtZ_m6",
        "colab_type": "code",
        "colab": {}
      },
      "source": [
        "for i in range(100): x = a @ x"
      ],
      "execution_count": 0,
      "outputs": []
    },
    {
      "cell_type": "code",
      "metadata": {
        "id": "E7jNj8kPaErp",
        "colab_type": "code",
        "outputId": "d11f8ab4-d5b6-4fdb-8017-684488022b63",
        "colab": {
          "base_uri": "https://localhost:8080/",
          "height": 36
        }
      },
      "source": [
        "x.mean(),x.std()"
      ],
      "execution_count": 0,
      "outputs": [
        {
          "output_type": "execute_result",
          "data": {
            "text/plain": [
              "(tensor(-0.0451), tensor(1.5684))"
            ]
          },
          "metadata": {
            "tags": []
          },
          "execution_count": 20
        }
      ]
    },
    {
      "cell_type": "markdown",
      "metadata": {
        "id": "vJ6MAMl0aZ2F",
        "colab_type": "text"
      },
      "source": [
        "And indeed it works. Note that this magic number isn't very far from the 0.01 we had earlier."
      ]
    },
    {
      "cell_type": "code",
      "metadata": {
        "id": "XzXhiLyFadaJ",
        "colab_type": "code",
        "outputId": "e72de7a3-7ff4-4915-d55b-686de4a3b5e3",
        "colab": {
          "base_uri": "https://localhost:8080/",
          "height": 36
        }
      },
      "source": [
        "1/math.sqrt(512)"
      ],
      "execution_count": 0,
      "outputs": [
        {
          "output_type": "execute_result",
          "data": {
            "text/plain": [
              "0.044194173824159216"
            ]
          },
          "metadata": {
            "tags": []
          },
          "execution_count": 21
        }
      ]
    },
    {
      "cell_type": "markdown",
      "metadata": {
        "id": "vu-dr2QKaiDK",
        "colab_type": "text"
      },
      "source": [
        "\n",
        "\n",
        "But where does it come from? It's not that mysterious if you remember the definition of the matrix multiplication. When we do y = a @ x, the coefficients of y are defined by\n",
        "$$y_{i} = a_{i,0} x_{0} + a_{i,1} x_{1} + \\cdots + a_{i,n-1} x_{n-1} = \\sum_{k=0}^{n-1} a_{i,k} x_{k}$$\n",
        "\n",
        "or in code:\n",
        "\n",
        "y[i] = sum([c*d for c,d in zip(a[i], x)])\n",
        "\n",
        "Now at the very beginning, our x vector has a mean of roughly 0. and a standard deviation of roughly 1. (since we picked it that way).\n"
      ]
    },
    {
      "cell_type": "code",
      "metadata": {
        "id": "3c0WBcSKakMO",
        "colab_type": "code",
        "outputId": "f4a5b029-c66c-4b9e-b8cc-fd40bd043d25",
        "colab": {
          "base_uri": "https://localhost:8080/",
          "height": 36
        }
      },
      "source": [
        "x = torch.randn(512)\n",
        "x.mean(), x.std()"
      ],
      "execution_count": 0,
      "outputs": [
        {
          "output_type": "execute_result",
          "data": {
            "text/plain": [
              "(tensor(-0.0085), tensor(0.9747))"
            ]
          },
          "metadata": {
            "tags": []
          },
          "execution_count": 22
        }
      ]
    },
    {
      "cell_type": "markdown",
      "metadata": {
        "id": "7q5rM9_ka6z5",
        "colab_type": "text"
      },
      "source": [
        "\n",
        "\n",
        "NB: This is why it's extremely important to normalize your inputs in Deep Learning, the intialization rules have been designed with inputs that have a mean 0. and a standard deviation of 1.\n",
        "\n",
        "If you need a refresher from your statistics course, the mean is the sum of all the elements divided by the number of elements (a basic average). The standard deviation represents if the data stays close to the mean or on the contrary gets values that are far away. It's computed by the following formula:\n",
        "$$\\sigma = \\sqrt{\\frac{1}{n}\\left[(x_{0}-m)^{2} + (x_{1}-m)^{2} + \\cdots + (x_{n-1}-m)^{2}\\right]}$$\n",
        "\n",
        "where m is the mean and $\\sigma$ (the greek letter sigma) is the standard deviation. Here we have a mean of 0, so it's just the square root of the mean of x squared.\n",
        "\n",
        "If we go back to y = a @ x and assume that we chose weights for a that also have a mean of 0, we can compute the standard deviation of y quite easily. Since it's random, and we may fall on bad numbers, we repeat the operation 100 times.\n"
      ]
    },
    {
      "cell_type": "code",
      "metadata": {
        "id": "bRYDn95Va89U",
        "colab_type": "code",
        "outputId": "5df2575a-2dcc-4aea-bfa3-46ac64171ccd",
        "colab": {
          "base_uri": "https://localhost:8080/",
          "height": 36
        }
      },
      "source": [
        "mean,sqr = 0.,0.\n",
        "for i in range(100):\n",
        "  x = torch.randn(512)\n",
        "  a = torch.randn(512,512)\n",
        "  y = a @ x\n",
        "  mean += y.mean().item()\n",
        "  sqr += y.pow(2).mean().item()\n",
        "mean/100,sqr/100"
      ],
      "execution_count": 0,
      "outputs": [
        {
          "output_type": "execute_result",
          "data": {
            "text/plain": [
              "(-0.008878477811813355, 509.3704000854492)"
            ]
          },
          "metadata": {
            "tags": []
          },
          "execution_count": 23
        }
      ]
    },
    {
      "cell_type": "markdown",
      "metadata": {
        "id": "U3rCttrob7gV",
        "colab_type": "text"
      },
      "source": [
        "Now that looks very close to the dimension of our matrix 512. And that's no coincidence! When you compute y, you sum 512 product of one element of a by one element of x. So what's the mean and the standard deviation of such a product? We can show mathematically that as long as the elements in a and the elements in x are independent, the mean is 0 and the std is 1. This can also be seen experimentally:"
      ]
    },
    {
      "cell_type": "code",
      "metadata": {
        "id": "27UhOX-nb9gn",
        "colab_type": "code",
        "outputId": "90086e8b-0e74-4aa7-c566-65bda0651c4f",
        "colab": {
          "base_uri": "https://localhost:8080/",
          "height": 36
        }
      },
      "source": [
        "mean,sqr = 0.,0.\n",
        "for i in range(10000):\n",
        "  x = torch.randn(1)\n",
        "  a = torch.randn(1)\n",
        "  y = a*x\n",
        "  mean += y.item()\n",
        "  sqr += y.pow(2).item()\n",
        "mean/10000,sqr/10000"
      ],
      "execution_count": 0,
      "outputs": [
        {
          "output_type": "execute_result",
          "data": {
            "text/plain": [
              "(-0.007668698790609278, 1.0219362076928504)"
            ]
          },
          "metadata": {
            "tags": []
          },
          "execution_count": 24
        }
      ]
    },
    {
      "cell_type": "markdown",
      "metadata": {
        "id": "kqU4LVDbckgi",
        "colab_type": "text"
      },
      "source": [
        "\n",
        "\n",
        "Then we sum 512 of those things that have a mean of zero, and a mean of squares of 1, so we get something that has a mean of 0, and mean of square of 512, hence math.sqrt(512) being our magic number. If we scale the weights of the matrix a and divide them by this math.sqrt(512), it will give us a y of scale 1, and repeating the product has many times as we want won't overflow or vanish.\n",
        "Adding ReLU in the mix\n",
        "\n",
        "We can reproduce the previous experiment with a ReLU, to see that this time, the mean shifts and the standard deviation becomes 0.5. This time the magic number will be math.sqrt(2/512) to properly scale the weights of the matrix.\n"
      ]
    },
    {
      "cell_type": "code",
      "metadata": {
        "id": "NHtxzVqEcneW",
        "colab_type": "code",
        "outputId": "7c20c4fe-3b18-4d09-daf5-e212d25fef88",
        "colab": {
          "base_uri": "https://localhost:8080/",
          "height": 36
        }
      },
      "source": [
        "mean,sqr = 0.,0.\n",
        "for i in range(10000):\n",
        "  x = torch.randn(1)\n",
        "  y = torch.randn(1)\n",
        "  y = a*x\n",
        "  y = 0 if y < 0 else y.item()\n",
        "  mean += y\n",
        "  sqr += y ** 2\n",
        "mean/10000,sqr/10000"
      ],
      "execution_count": 0,
      "outputs": [
        {
          "output_type": "execute_result",
          "data": {
            "text/plain": [
              "(0.3253587220367679, 0.3308348412413332)"
            ]
          },
          "metadata": {
            "tags": []
          },
          "execution_count": 25
        }
      ]
    },
    {
      "cell_type": "markdown",
      "metadata": {
        "id": "l0lBlCCAdS7W",
        "colab_type": "text"
      },
      "source": [
        "We can double check by running the experiment on the whole matrix product."
      ]
    },
    {
      "cell_type": "code",
      "metadata": {
        "id": "2mjsoJOZdVJb",
        "colab_type": "code",
        "outputId": "7cc3f390-758f-44ec-8430-74508ad21c4c",
        "colab": {
          "base_uri": "https://localhost:8080/",
          "height": 36
        }
      },
      "source": [
        "mean,sqr = 0.,0.\n",
        "for i in range(100):\n",
        "  x = torch.randn(512)\n",
        "  a = torch.randn(512,512)\n",
        "  y = a @ x\n",
        "  y = y.clamp(min=0)\n",
        "  mean += y.mean().item()\n",
        "  sqr += y.pow(2).mean().item()\n",
        "mean/100,sqr/100"
      ],
      "execution_count": 0,
      "outputs": [
        {
          "output_type": "execute_result",
          "data": {
            "text/plain": [
              "(9.03063937664032, 256.9573277282715)"
            ]
          },
          "metadata": {
            "tags": []
          },
          "execution_count": 28
        }
      ]
    },
    {
      "cell_type": "markdown",
      "metadata": {
        "id": "acVIDiZReMrM",
        "colab_type": "text"
      },
      "source": [
        "Or that scaling the coefficient with the magic number gives us a scale of 1."
      ]
    },
    {
      "cell_type": "code",
      "metadata": {
        "id": "l7Hcdl8CeLTY",
        "colab_type": "code",
        "outputId": "76ca651b-1ff6-415f-bbf6-984322069c27",
        "colab": {
          "base_uri": "https://localhost:8080/",
          "height": 36
        }
      },
      "source": [
        "mean,sqr = 0.,0.\n",
        "for i in range(100):\n",
        "  x = torch.randn(512)\n",
        "  a = torch.randn(512,512) * math.sqrt(2/512)\n",
        "  y = a @ x\n",
        "  y = y.clamp(min=0)\n",
        "  mean += y.mean().item()\n",
        "  sqr += y.pow(2).mean().item()\n",
        "mean/100,sqr/100"
      ],
      "execution_count": 0,
      "outputs": [
        {
          "output_type": "execute_result",
          "data": {
            "text/plain": [
              "(0.5641352105140686, 1.002497864961624)"
            ]
          },
          "metadata": {
            "tags": []
          },
          "execution_count": 29
        }
      ]
    },
    {
      "cell_type": "markdown",
      "metadata": {
        "id": "hXeqMOI6erl0",
        "colab_type": "text"
      },
      "source": [
        "The math behind is a tiny bit more complex, and you can find everything in the Kaiming and the Xavier paper but this gives the intuition behing those results."
      ]
    }
  ]
}