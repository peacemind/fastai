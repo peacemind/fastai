{
  "nbformat": 4,
  "nbformat_minor": 0,
  "metadata": {
    "colab": {
      "name": "fastai-les9-05-anneal.ipynb",
      "provenance": [],
      "collapsed_sections": []
    },
    "kernelspec": {
      "name": "python3",
      "display_name": "Python 3"
    },
    "accelerator": "GPU"
  },
  "cells": [
    {
      "cell_type": "code",
      "metadata": {
        "id": "u_cla6HXxotj",
        "colab_type": "code",
        "outputId": "59a6f0cb-1839-440d-d0b3-8e4881ebdcf9",
        "colab": {
          "base_uri": "https://localhost:8080/",
          "height": 93
        }
      },
      "source": [
        "!pip install fire"
      ],
      "execution_count": 0,
      "outputs": [
        {
          "output_type": "stream",
          "text": [
            "Requirement already satisfied: fire in /usr/local/lib/python3.6/dist-packages (0.2.0)\n",
            "Requirement already satisfied: six in /usr/local/lib/python3.6/dist-packages (from fire) (1.12.0)\n",
            "Requirement already satisfied: termcolor in /usr/local/lib/python3.6/dist-packages (from fire) (1.1.0)\n"
          ],
          "name": "stdout"
        }
      ]
    },
    {
      "cell_type": "code",
      "metadata": {
        "id": "H5sFCNsYxzSE",
        "colab_type": "code",
        "outputId": "7aecc6eb-b876-4bff-e658-b1cd20e7a1ce",
        "colab": {
          "base_uri": "https://localhost:8080/",
          "height": 36
        }
      },
      "source": [
        "from google.colab import drive\n",
        "drive.mount('/content/gdrive', force_remount=True)\n",
        "root_dir = \"/content/gdrive/My\\ Drive/\"\n",
        "base_dir = root_dir + 'fastai-v3/les8'"
      ],
      "execution_count": 0,
      "outputs": [
        {
          "output_type": "stream",
          "text": [
            "Mounted at /content/gdrive\n"
          ],
          "name": "stdout"
        }
      ]
    },
    {
      "cell_type": "code",
      "metadata": {
        "id": "Rj_Cn78UyIbB",
        "colab_type": "code",
        "outputId": "faecc89f-cfa0-409d-ebc8-fcfde9850bee",
        "colab": {
          "base_uri": "https://localhost:8080/",
          "height": 36
        }
      },
      "source": [
        "cd /content/gdrive/My\\ Drive/fastai-v3/les8"
      ],
      "execution_count": 0,
      "outputs": [
        {
          "output_type": "stream",
          "text": [
            "/content/gdrive/My Drive/fastai-v3/les8\n"
          ],
          "name": "stdout"
        }
      ]
    },
    {
      "cell_type": "code",
      "metadata": {
        "id": "cIVPbHLwyW1h",
        "colab_type": "code",
        "outputId": "0da468a8-7989-4704-d363-40ad0bf335ae",
        "colab": {
          "base_uri": "https://localhost:8080/",
          "height": 36
        }
      },
      "source": [
        "pwd"
      ],
      "execution_count": 0,
      "outputs": [
        {
          "output_type": "execute_result",
          "data": {
            "text/plain": [
              "'/content/gdrive/My Drive/fastai-v3/les8'"
            ]
          },
          "metadata": {
            "tags": []
          },
          "execution_count": 4
        }
      ]
    },
    {
      "cell_type": "code",
      "metadata": {
        "id": "Hq7Fz0w8ybUj",
        "colab_type": "code",
        "colab": {}
      },
      "source": [
        "%reload_ext autoreload\n",
        "%autoreload 2\n",
        "%matplotlib inline"
      ],
      "execution_count": 0,
      "outputs": []
    },
    {
      "cell_type": "code",
      "metadata": {
        "id": "uvYed1q-ykU5",
        "colab_type": "code",
        "colab": {}
      },
      "source": [
        "#export\n",
        "from exp.nb_04 import *"
      ],
      "execution_count": 0,
      "outputs": []
    },
    {
      "cell_type": "markdown",
      "metadata": {
        "id": "HryF4h5myriH",
        "colab_type": "text"
      },
      "source": [
        "Initial setup"
      ]
    },
    {
      "cell_type": "code",
      "metadata": {
        "id": "zfYyN8b2yq1x",
        "colab_type": "code",
        "colab": {}
      },
      "source": [
        "x_train,y_train,x_valid,y_valid = get_data()\n",
        "train_ds,valid_ds = Dataset(x_train, y_train),Dataset(x_valid, y_valid)\n",
        "nh,bs = 50,512\n",
        "c = y_train.max().item()+1\n",
        "loss_func = F.cross_entropy"
      ],
      "execution_count": 0,
      "outputs": []
    },
    {
      "cell_type": "code",
      "metadata": {
        "id": "OKuz8V95zHiW",
        "colab_type": "code",
        "colab": {}
      },
      "source": [
        "data = DataBunch(*get_dls(train_ds, valid_ds, bs), c)"
      ],
      "execution_count": 0,
      "outputs": []
    },
    {
      "cell_type": "code",
      "metadata": {
        "id": "zcD-G5_OzQN_",
        "colab_type": "code",
        "colab": {}
      },
      "source": [
        "#export\n",
        "def create_learner(model_func, loss_func, data):\n",
        "    return Learner(*model_func(data), loss_func, data)"
      ],
      "execution_count": 0,
      "outputs": []
    },
    {
      "cell_type": "code",
      "metadata": {
        "id": "9pRZFasQzc6m",
        "colab_type": "code",
        "outputId": "0c6cb7ba-b7ab-4d19-a3ab-76a77db43669",
        "colab": {
          "base_uri": "https://localhost:8080/",
          "height": 128
        }
      },
      "source": [
        "learn = create_learner(get_model, loss_func, data)\n",
        "run = Runner([AvgStatsCallback([accuracy])])\n",
        "\n",
        "run.fit(3, learn)"
      ],
      "execution_count": 0,
      "outputs": [
        {
          "output_type": "stream",
          "text": [
            "train: [0.685778515625, tensor(0.7975)]\n",
            "valid: [0.2986402099609375, tensor(0.9170)]\n",
            "train: [0.30201603515625, tensor(0.9111)]\n",
            "valid: [0.2455181396484375, tensor(0.9294)]\n",
            "train: [0.24432490234375, tensor(0.9302)]\n",
            "valid: [0.2097004638671875, tensor(0.9423)]\n"
          ],
          "name": "stdout"
        }
      ]
    },
    {
      "cell_type": "code",
      "metadata": {
        "id": "mRbysaKF1-WM",
        "colab_type": "code",
        "outputId": "895b8f02-46dc-44ed-f45d-42d685270bb7",
        "colab": {
          "base_uri": "https://localhost:8080/",
          "height": 128
        }
      },
      "source": [
        "learn = create_learner(partial(get_model, lr=0.3), loss_func, data)\n",
        "run = Runner([AvgStatsCallback([accuracy])])\n",
        "\n",
        "run.fit(3, learn)"
      ],
      "execution_count": 0,
      "outputs": [
        {
          "output_type": "stream",
          "text": [
            "train: [0.751005546875, tensor(0.8063)]\n",
            "valid: [0.36214072265625, tensor(0.8906)]\n",
            "train: [0.3396665625, tensor(0.9030)]\n",
            "valid: [0.2874308349609375, tensor(0.9175)]\n",
            "train: [0.291134375, tensor(0.9158)]\n",
            "valid: [0.249326611328125, tensor(0.9295)]\n"
          ],
          "name": "stdout"
        }
      ]
    },
    {
      "cell_type": "code",
      "metadata": {
        "id": "Fpod3Rez2Pad",
        "colab_type": "code",
        "colab": {}
      },
      "source": [
        "#export\n",
        "def get_model_func(lr=0.5): return partial(get_model, lr=lr)"
      ],
      "execution_count": 0,
      "outputs": []
    },
    {
      "cell_type": "markdown",
      "metadata": {
        "id": "XEmO2BT92Zut",
        "colab_type": "text"
      },
      "source": [
        "\n",
        "Annealing\n",
        "\n",
        "We define two new callbacks: the Recorder to save track of the loss and our scheduled learning rate, and a ParamScheduler that can schedule any hyperparameter as long as it's registered in the state_dict of the optimizer.\n"
      ]
    },
    {
      "cell_type": "code",
      "metadata": {
        "id": "q9Rvz--32b92",
        "colab_type": "code",
        "colab": {}
      },
      "source": [
        "#export\n",
        "class Recorder(Callback):\n",
        "    def begin_fit(self): self.lrs,self.losses = [],[]\n",
        "\n",
        "    def after_batch(self):\n",
        "        if not self.in_train: return\n",
        "        self.lrs.append(self.opt.param_groups[-1]['lr'])\n",
        "        self.losses.append(self.loss.detach().cpu())        \n",
        "\n",
        "    def plot_lr  (self): plt.plot(self.lrs)\n",
        "    def plot_loss(self): plt.plot(self.losses)\n",
        "\n",
        "class ParamScheduler(Callback):\n",
        "    _order=1\n",
        "    def __init__(self, pname, sched_func): self.pname,self.sched_func = pname,sched_func\n",
        "\n",
        "    def set_param(self):\n",
        "        for pg in self.opt.param_groups:\n",
        "            pg[self.pname] = self.sched_func(self.n_epochs/self.epochs)\n",
        "            \n",
        "    def begin_batch(self): \n",
        "        if self.in_train: self.set_param()"
      ],
      "execution_count": 0,
      "outputs": []
    },
    {
      "cell_type": "markdown",
      "metadata": {
        "id": "-svCgR_f3uZv",
        "colab_type": "text"
      },
      "source": [
        "Let's start with a simple linear schedule going from start to end. It returns a function that takes a pos argument (going from 0 to 1) such that this function goes from start (at pos=0) to end (at pos=1) in a linear fashion."
      ]
    },
    {
      "cell_type": "code",
      "metadata": {
        "id": "4zXue_2y3waF",
        "colab_type": "code",
        "colab": {}
      },
      "source": [
        "def sched_lin(start, end):\n",
        "  def _inner(start, end, pos): return start + pos*(end-start)\n",
        "  return partial(_inner, start, end)"
      ],
      "execution_count": 0,
      "outputs": []
    },
    {
      "cell_type": "markdown",
      "metadata": {
        "id": "eDvSAdAH3_w6",
        "colab_type": "text"
      },
      "source": [
        "We can refactor this with a decorator."
      ]
    },
    {
      "cell_type": "code",
      "metadata": {
        "id": "eiKveyqu4BRv",
        "colab_type": "code",
        "colab": {}
      },
      "source": [
        "#export\n",
        "def annealer(f):\n",
        "  def _inner(start, end): return partial(f, start, end)\n",
        "  return _inner\n",
        "\n",
        "@annealer\n",
        "def sched_lin(start, end, pos): return start + pos*(end-start)"
      ],
      "execution_count": 0,
      "outputs": []
    },
    {
      "cell_type": "code",
      "metadata": {
        "id": "6ghHBf_m4Zgc",
        "colab_type": "code",
        "colab": {}
      },
      "source": [
        "# shift-tab works too, in Jupyter!\n",
        "# sched_lin()"
      ],
      "execution_count": 0,
      "outputs": []
    },
    {
      "cell_type": "code",
      "metadata": {
        "id": "u0xlaNTV4aRJ",
        "colab_type": "code",
        "outputId": "8fb5e88f-78b3-4af3-944f-d4362dacc720",
        "colab": {
          "base_uri": "https://localhost:8080/",
          "height": 36
        }
      },
      "source": [
        "f = sched_lin(1,2)\n",
        "f(0.3)"
      ],
      "execution_count": 0,
      "outputs": [
        {
          "output_type": "execute_result",
          "data": {
            "text/plain": [
              "1.3"
            ]
          },
          "metadata": {
            "tags": []
          },
          "execution_count": 37
        }
      ]
    },
    {
      "cell_type": "markdown",
      "metadata": {
        "id": "vVsTJQEB4e7Q",
        "colab_type": "text"
      },
      "source": [
        "And here are other scheduler functions:"
      ]
    },
    {
      "cell_type": "code",
      "metadata": {
        "id": "JuSj68ga4gpc",
        "colab_type": "code",
        "colab": {}
      },
      "source": [
        "#export\n",
        "@annealer\n",
        "def sched_cos(start, end, pos): return start + (1 + math.cos(math.pi*(1-pos))) * (end-start) / 2\n",
        "@annealer\n",
        "def sched_no(start, end, pos): return start\n",
        "@annealer\n",
        "def sched_exp(start, end, pos): return start * (end/start) ** pos\n",
        "@annealer\n",
        "def cos_1cycle_anneal(start, high, end):\n",
        "    return [sched_cos(start, high), sched_cos(high, end)]\n",
        "\n",
        "#This monkey-patch is there to be able to plot tensors\n",
        "torch.Tensor.ndim = property(lambda x: len(x.shape))"
      ],
      "execution_count": 0,
      "outputs": []
    },
    {
      "cell_type": "code",
      "metadata": {
        "id": "V2dUkZe-5HUq",
        "colab_type": "code",
        "outputId": "15100680-a034-49b3-d87b-7dc6e41a9807",
        "colab": {
          "base_uri": "https://localhost:8080/",
          "height": 269
        }
      },
      "source": [
        "annealings = \"NO LINEAR COS EXP\".split()\n",
        "\n",
        "a = torch.arange(0, 100)\n",
        "p = torch.linspace(0.01,1,100)\n",
        "\n",
        "fns = [sched_no, sched_lin, sched_cos, sched_exp]\n",
        "for fn, t in zip(fns, annealings):\n",
        "  f = fn(2, 1e-2)\n",
        "  plt.plot(a, [f(o) for o in p], label=t)\n",
        "  \n",
        "plt.legend();"
      ],
      "execution_count": 0,
      "outputs": [
        {
          "output_type": "display_data",
          "data": {
            "image/png": "[encoded data removed]",
            "text/plain": [
              "<Figure size 432x288 with 1 Axes>"
            ]
          },
          "metadata": {
            "tags": []
          }
        }
      ]
    },
    {
      "cell_type": "markdown",
      "metadata": {
        "id": "BEbatrsg5nD2",
        "colab_type": "text"
      },
      "source": [
        "In practice, we'll often want to combine different schedulers, the following function does that: it uses scheds[i] for pcts[i] of the training."
      ]
    },
    {
      "cell_type": "code",
      "metadata": {
        "id": "pWhUvy5w5pJI",
        "colab_type": "code",
        "colab": {}
      },
      "source": [
        "#export\n",
        "def combine_scheds(pcts, scheds):\n",
        "    assert sum(pcts) == 1.\n",
        "    pcts = tensor([0] + listify(pcts))\n",
        "    assert torch.all(pcts >= 0)\n",
        "    pcts = torch.cumsum(pcts, 0)\n",
        "    def _inner(pos):\n",
        "        idx = (pos >= pcts).nonzero().max()\n",
        "        actual_pos = (pos-pcts[idx]) / (pcts[idx+1]-pcts[idx])\n",
        "        return scheds[idx](actual_pos)\n",
        "    return _inner"
      ],
      "execution_count": 0,
      "outputs": []
    },
    {
      "cell_type": "markdown",
      "metadata": {
        "id": "IoGN_cqA5xsH",
        "colab_type": "text"
      },
      "source": [
        "Here is an example: use 30% of the budget to go from 0.3 to 0.6 following a cosine, then the last 70% of the budget to go from 0.6 to 0.2, still following a cosine."
      ]
    },
    {
      "cell_type": "code",
      "metadata": {
        "id": "XDiI5jWj50Ww",
        "colab_type": "code",
        "colab": {}
      },
      "source": [
        "sched = combine_scheds([0.3,0.7], [sched_cos(0.3, 0.6), sched_cos(0.6,0.2)])"
      ],
      "execution_count": 0,
      "outputs": []
    },
    {
      "cell_type": "code",
      "metadata": {
        "id": "KftUUK6V6HAc",
        "colab_type": "code",
        "outputId": "3285b31f-c08a-4547-9615-d66e30569d29",
        "colab": {
          "base_uri": "https://localhost:8080/",
          "height": 288
        }
      },
      "source": [
        "plt.plot(a, [sched(o) for o in p])"
      ],
      "execution_count": 0,
      "outputs": [
        {
          "output_type": "execute_result",
          "data": {
            "text/plain": [
              "[<matplotlib.lines.Line2D at 0x7f47a1469860>]"
            ]
          },
          "metadata": {
            "tags": []
          },
          "execution_count": 42
        },
        {
          "output_type": "display_data",
          "data": {
            "image/png": "[encoded data removed]",
            "text/plain": [
              "<Figure size 432x288 with 1 Axes>"
            ]
          },
          "metadata": {
            "tags": []
          }
        }
      ]
    },
    {
      "cell_type": "markdown",
      "metadata": {
        "id": "4ZHhbE3r6Qbw",
        "colab_type": "text"
      },
      "source": [
        "We can use it for training quite easily..."
      ]
    },
    {
      "cell_type": "code",
      "metadata": {
        "id": "Mwz_ON6N6Srd",
        "colab_type": "code",
        "colab": {}
      },
      "source": [
        "cbfs = [Recorder,\n",
        "        partial(AvgStatsCallback,accuracy),\n",
        "        partial(ParamScheduler, 'lr', sched)]"
      ],
      "execution_count": 0,
      "outputs": []
    },
    {
      "cell_type": "code",
      "metadata": {
        "id": "crtvG9su6Yxs",
        "colab_type": "code",
        "colab": {}
      },
      "source": [
        "learn = create_learner(get_model_func(0.3), loss_func, data)\n",
        "run = Runner(cb_funcs=cbfs)"
      ],
      "execution_count": 0,
      "outputs": []
    },
    {
      "cell_type": "code",
      "metadata": {
        "id": "CpQ-1Kq966iE",
        "colab_type": "code",
        "outputId": "5953efc3-f086-4641-d6d5-f87d79e393ac",
        "colab": {
          "base_uri": "https://localhost:8080/",
          "height": 128
        }
      },
      "source": [
        "run.fit(3, learn)"
      ],
      "execution_count": 0,
      "outputs": [
        {
          "output_type": "stream",
          "text": [
            "train: [0.771265625, tensor(0.7889)]\n",
            "valid: [0.31759697265625, tensor(0.9123)]\n",
            "train: [0.31083375, tensor(0.9100)]\n",
            "valid: [0.2412015869140625, tensor(0.9309)]\n",
            "train: [0.24228916015625, tensor(0.9302)]\n",
            "valid: [0.218611279296875, tensor(0.9390)]\n"
          ],
          "name": "stdout"
        }
      ]
    },
    {
      "cell_type": "markdown",
      "metadata": {
        "id": "ff0Fj4NK7vWc",
        "colab_type": "text"
      },
      "source": [
        "\n",
        "\n",
        "... then check with our recorder if the learning rate followed the right schedule.\n"
      ]
    },
    {
      "cell_type": "code",
      "metadata": {
        "id": "oUYFcCnb7w-R",
        "colab_type": "code",
        "outputId": "45593eaa-ac62-4c36-e8ce-71c1fe45057a",
        "colab": {
          "base_uri": "https://localhost:8080/",
          "height": 269
        }
      },
      "source": [
        "run.recorder.plot_lr()"
      ],
      "execution_count": 0,
      "outputs": [
        {
          "output_type": "display_data",
          "data": {
            "image/png": "[encoded data removed]",
            "text/plain": [
              "<Figure size 432x288 with 1 Axes>"
            ]
          },
          "metadata": {
            "tags": []
          }
        }
      ]
    },
    {
      "cell_type": "code",
      "metadata": {
        "id": "WqO7ByvU71uP",
        "colab_type": "code",
        "outputId": "93be6e56-29f1-48c0-e37d-dd6fafbb2ffa",
        "colab": {
          "base_uri": "https://localhost:8080/",
          "height": 269
        }
      },
      "source": [
        "run.recorder.plot_loss()"
      ],
      "execution_count": 0,
      "outputs": [
        {
          "output_type": "display_data",
          "data": {
            "image/png": "[encoded data removed]",
            "text/plain": [
              "<Figure size 432x288 with 1 Axes>"
            ]
          },
          "metadata": {
            "tags": []
          }
        }
      ]
    },
    {
      "cell_type": "markdown",
      "metadata": {
        "id": "nxwnq-Mt76F6",
        "colab_type": "text"
      },
      "source": [
        "Export"
      ]
    },
    {
      "cell_type": "code",
      "metadata": {
        "id": "LAczDiRm77sH",
        "colab_type": "code",
        "outputId": "5a2e7c65-1c3d-4d82-9046-c4c2784cebaf",
        "colab": {
          "base_uri": "https://localhost:8080/",
          "height": 36
        }
      },
      "source": [
        "!python notebook2script.py 05_anneal.ipynb"
      ],
      "execution_count": 0,
      "outputs": [
        {
          "output_type": "stream",
          "text": [
            "Converted 05_anneal.ipynb to exp/nb_05.py\n"
          ],
          "name": "stdout"
        }
      ]
    }
  ]
}